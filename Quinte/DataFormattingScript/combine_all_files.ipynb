{
 "cells": [
  {
   "cell_type": "code",
   "execution_count": 1,
   "id": "70b70211",
   "metadata": {},
   "outputs": [],
   "source": [
    "import pandas as pd\n",
    "import numpy as np\n",
    "import math"
   ]
  },
  {
   "cell_type": "code",
   "execution_count": 2,
   "id": "ff4d2161",
   "metadata": {},
   "outputs": [],
   "source": [
    "df1 = pd.read_csv(\n",
    "     '../FormattedData/formatted_edm_vitals.csv',\n",
    ")"
   ]
  },
  {
   "cell_type": "code",
   "execution_count": 3,
   "id": "f3c100a9",
   "metadata": {},
   "outputs": [
    {
     "output_type": "execute_result",
     "data": {
      "text/plain": [
       "       Unnamed: 0 pt_identifier      Date  Time    BP1    BP2  Pulse  Temp  \\\n",
       "0               0      H1000412  31/12/20  2359  116.0   84.0   88.0  36.9   \n",
       "1               1      H1000412  01/01/21   351  126.0   64.0   69.0  37.0   \n",
       "2               2      H1002797  08/12/20  1725  147.0   91.0   63.0   NaN   \n",
       "3               3      H1002797  11/01/21  1635  140.0   82.0   57.0  36.8   \n",
       "4               4      H1002797  11/01/21  1851  137.0   81.0   58.0  36.8   \n",
       "...           ...           ...       ...   ...    ...    ...    ...   ...   \n",
       "17678       17678        Z97963  16/02/21   939  127.0   72.0   81.0  37.0   \n",
       "17679       17679        Z98294  07/12/20   125  132.0  113.0   58.0   NaN   \n",
       "17680       17680        Z98294  07/12/20   255  177.0   81.0   79.0   NaN   \n",
       "17681       17681        Z98294  07/12/20   509  158.0   89.0   76.0   NaN   \n",
       "17682       17682        Z98294  07/12/20   813  143.0   86.0   72.0  36.4   \n",
       "\n",
       "         RR  O2Sat  \n",
       "0      17.0   97.0  \n",
       "1      10.0   94.0  \n",
       "2      18.0   97.0  \n",
       "3      18.0   98.0  \n",
       "4      17.0   97.0  \n",
       "...     ...    ...  \n",
       "17678  18.0   96.0  \n",
       "17679  22.0    NaN  \n",
       "17680   NaN    NaN  \n",
       "17681  16.0    NaN  \n",
       "17682  20.0    NaN  \n",
       "\n",
       "[17683 rows x 10 columns]"
      ],
      "text/html": "<div>\n<style scoped>\n    .dataframe tbody tr th:only-of-type {\n        vertical-align: middle;\n    }\n\n    .dataframe tbody tr th {\n        vertical-align: top;\n    }\n\n    .dataframe thead th {\n        text-align: right;\n    }\n</style>\n<table border=\"1\" class=\"dataframe\">\n  <thead>\n    <tr style=\"text-align: right;\">\n      <th></th>\n      <th>Unnamed: 0</th>\n      <th>pt_identifier</th>\n      <th>Date</th>\n      <th>Time</th>\n      <th>BP1</th>\n      <th>BP2</th>\n      <th>Pulse</th>\n      <th>Temp</th>\n      <th>RR</th>\n      <th>O2Sat</th>\n    </tr>\n  </thead>\n  <tbody>\n    <tr>\n      <th>0</th>\n      <td>0</td>\n      <td>H1000412</td>\n      <td>31/12/20</td>\n      <td>2359</td>\n      <td>116.0</td>\n      <td>84.0</td>\n      <td>88.0</td>\n      <td>36.9</td>\n      <td>17.0</td>\n      <td>97.0</td>\n    </tr>\n    <tr>\n      <th>1</th>\n      <td>1</td>\n      <td>H1000412</td>\n      <td>01/01/21</td>\n      <td>351</td>\n      <td>126.0</td>\n      <td>64.0</td>\n      <td>69.0</td>\n      <td>37.0</td>\n      <td>10.0</td>\n      <td>94.0</td>\n    </tr>\n    <tr>\n      <th>2</th>\n      <td>2</td>\n      <td>H1002797</td>\n      <td>08/12/20</td>\n      <td>1725</td>\n      <td>147.0</td>\n      <td>91.0</td>\n      <td>63.0</td>\n      <td>NaN</td>\n      <td>18.0</td>\n      <td>97.0</td>\n    </tr>\n    <tr>\n      <th>3</th>\n      <td>3</td>\n      <td>H1002797</td>\n      <td>11/01/21</td>\n      <td>1635</td>\n      <td>140.0</td>\n      <td>82.0</td>\n      <td>57.0</td>\n      <td>36.8</td>\n      <td>18.0</td>\n      <td>98.0</td>\n    </tr>\n    <tr>\n      <th>4</th>\n      <td>4</td>\n      <td>H1002797</td>\n      <td>11/01/21</td>\n      <td>1851</td>\n      <td>137.0</td>\n      <td>81.0</td>\n      <td>58.0</td>\n      <td>36.8</td>\n      <td>17.0</td>\n      <td>97.0</td>\n    </tr>\n    <tr>\n      <th>...</th>\n      <td>...</td>\n      <td>...</td>\n      <td>...</td>\n      <td>...</td>\n      <td>...</td>\n      <td>...</td>\n      <td>...</td>\n      <td>...</td>\n      <td>...</td>\n      <td>...</td>\n    </tr>\n    <tr>\n      <th>17678</th>\n      <td>17678</td>\n      <td>Z97963</td>\n      <td>16/02/21</td>\n      <td>939</td>\n      <td>127.0</td>\n      <td>72.0</td>\n      <td>81.0</td>\n      <td>37.0</td>\n      <td>18.0</td>\n      <td>96.0</td>\n    </tr>\n    <tr>\n      <th>17679</th>\n      <td>17679</td>\n      <td>Z98294</td>\n      <td>07/12/20</td>\n      <td>125</td>\n      <td>132.0</td>\n      <td>113.0</td>\n      <td>58.0</td>\n      <td>NaN</td>\n      <td>22.0</td>\n      <td>NaN</td>\n    </tr>\n    <tr>\n      <th>17680</th>\n      <td>17680</td>\n      <td>Z98294</td>\n      <td>07/12/20</td>\n      <td>255</td>\n      <td>177.0</td>\n      <td>81.0</td>\n      <td>79.0</td>\n      <td>NaN</td>\n      <td>NaN</td>\n      <td>NaN</td>\n    </tr>\n    <tr>\n      <th>17681</th>\n      <td>17681</td>\n      <td>Z98294</td>\n      <td>07/12/20</td>\n      <td>509</td>\n      <td>158.0</td>\n      <td>89.0</td>\n      <td>76.0</td>\n      <td>NaN</td>\n      <td>16.0</td>\n      <td>NaN</td>\n    </tr>\n    <tr>\n      <th>17682</th>\n      <td>17682</td>\n      <td>Z98294</td>\n      <td>07/12/20</td>\n      <td>813</td>\n      <td>143.0</td>\n      <td>86.0</td>\n      <td>72.0</td>\n      <td>36.4</td>\n      <td>20.0</td>\n      <td>NaN</td>\n    </tr>\n  </tbody>\n</table>\n<p>17683 rows × 10 columns</p>\n</div>"
     },
     "metadata": {},
     "execution_count": 3
    }
   ],
   "source": [
    "df1"
   ]
  },
  {
   "cell_type": "code",
   "execution_count": 4,
   "id": "5d2071ed",
   "metadata": {},
   "outputs": [],
   "source": [
    "del df1[\"Unnamed: 0\"]"
   ]
  },
  {
   "cell_type": "code",
   "execution_count": 5,
   "id": "6ec7ad73",
   "metadata": {},
   "outputs": [
    {
     "output_type": "execute_result",
     "data": {
      "text/plain": [
       "      pt_identifier      Date  Time    BP1    BP2  Pulse  Temp    RR  O2Sat\n",
       "0          H1000412  31/12/20  2359  116.0   84.0   88.0  36.9  17.0   97.0\n",
       "1          H1000412  01/01/21   351  126.0   64.0   69.0  37.0  10.0   94.0\n",
       "2          H1002797  08/12/20  1725  147.0   91.0   63.0   NaN  18.0   97.0\n",
       "3          H1002797  11/01/21  1635  140.0   82.0   57.0  36.8  18.0   98.0\n",
       "4          H1002797  11/01/21  1851  137.0   81.0   58.0  36.8  17.0   97.0\n",
       "...             ...       ...   ...    ...    ...    ...   ...   ...    ...\n",
       "17678        Z97963  16/02/21   939  127.0   72.0   81.0  37.0  18.0   96.0\n",
       "17679        Z98294  07/12/20   125  132.0  113.0   58.0   NaN  22.0    NaN\n",
       "17680        Z98294  07/12/20   255  177.0   81.0   79.0   NaN   NaN    NaN\n",
       "17681        Z98294  07/12/20   509  158.0   89.0   76.0   NaN  16.0    NaN\n",
       "17682        Z98294  07/12/20   813  143.0   86.0   72.0  36.4  20.0    NaN\n",
       "\n",
       "[17683 rows x 9 columns]"
      ],
      "text/html": "<div>\n<style scoped>\n    .dataframe tbody tr th:only-of-type {\n        vertical-align: middle;\n    }\n\n    .dataframe tbody tr th {\n        vertical-align: top;\n    }\n\n    .dataframe thead th {\n        text-align: right;\n    }\n</style>\n<table border=\"1\" class=\"dataframe\">\n  <thead>\n    <tr style=\"text-align: right;\">\n      <th></th>\n      <th>pt_identifier</th>\n      <th>Date</th>\n      <th>Time</th>\n      <th>BP1</th>\n      <th>BP2</th>\n      <th>Pulse</th>\n      <th>Temp</th>\n      <th>RR</th>\n      <th>O2Sat</th>\n    </tr>\n  </thead>\n  <tbody>\n    <tr>\n      <th>0</th>\n      <td>H1000412</td>\n      <td>31/12/20</td>\n      <td>2359</td>\n      <td>116.0</td>\n      <td>84.0</td>\n      <td>88.0</td>\n      <td>36.9</td>\n      <td>17.0</td>\n      <td>97.0</td>\n    </tr>\n    <tr>\n      <th>1</th>\n      <td>H1000412</td>\n      <td>01/01/21</td>\n      <td>351</td>\n      <td>126.0</td>\n      <td>64.0</td>\n      <td>69.0</td>\n      <td>37.0</td>\n      <td>10.0</td>\n      <td>94.0</td>\n    </tr>\n    <tr>\n      <th>2</th>\n      <td>H1002797</td>\n      <td>08/12/20</td>\n      <td>1725</td>\n      <td>147.0</td>\n      <td>91.0</td>\n      <td>63.0</td>\n      <td>NaN</td>\n      <td>18.0</td>\n      <td>97.0</td>\n    </tr>\n    <tr>\n      <th>3</th>\n      <td>H1002797</td>\n      <td>11/01/21</td>\n      <td>1635</td>\n      <td>140.0</td>\n      <td>82.0</td>\n      <td>57.0</td>\n      <td>36.8</td>\n      <td>18.0</td>\n      <td>98.0</td>\n    </tr>\n    <tr>\n      <th>4</th>\n      <td>H1002797</td>\n      <td>11/01/21</td>\n      <td>1851</td>\n      <td>137.0</td>\n      <td>81.0</td>\n      <td>58.0</td>\n      <td>36.8</td>\n      <td>17.0</td>\n      <td>97.0</td>\n    </tr>\n    <tr>\n      <th>...</th>\n      <td>...</td>\n      <td>...</td>\n      <td>...</td>\n      <td>...</td>\n      <td>...</td>\n      <td>...</td>\n      <td>...</td>\n      <td>...</td>\n      <td>...</td>\n    </tr>\n    <tr>\n      <th>17678</th>\n      <td>Z97963</td>\n      <td>16/02/21</td>\n      <td>939</td>\n      <td>127.0</td>\n      <td>72.0</td>\n      <td>81.0</td>\n      <td>37.0</td>\n      <td>18.0</td>\n      <td>96.0</td>\n    </tr>\n    <tr>\n      <th>17679</th>\n      <td>Z98294</td>\n      <td>07/12/20</td>\n      <td>125</td>\n      <td>132.0</td>\n      <td>113.0</td>\n      <td>58.0</td>\n      <td>NaN</td>\n      <td>22.0</td>\n      <td>NaN</td>\n    </tr>\n    <tr>\n      <th>17680</th>\n      <td>Z98294</td>\n      <td>07/12/20</td>\n      <td>255</td>\n      <td>177.0</td>\n      <td>81.0</td>\n      <td>79.0</td>\n      <td>NaN</td>\n      <td>NaN</td>\n      <td>NaN</td>\n    </tr>\n    <tr>\n      <th>17681</th>\n      <td>Z98294</td>\n      <td>07/12/20</td>\n      <td>509</td>\n      <td>158.0</td>\n      <td>89.0</td>\n      <td>76.0</td>\n      <td>NaN</td>\n      <td>16.0</td>\n      <td>NaN</td>\n    </tr>\n    <tr>\n      <th>17682</th>\n      <td>Z98294</td>\n      <td>07/12/20</td>\n      <td>813</td>\n      <td>143.0</td>\n      <td>86.0</td>\n      <td>72.0</td>\n      <td>36.4</td>\n      <td>20.0</td>\n      <td>NaN</td>\n    </tr>\n  </tbody>\n</table>\n<p>17683 rows × 9 columns</p>\n</div>"
     },
     "metadata": {},
     "execution_count": 5
    }
   ],
   "source": [
    "df1"
   ]
  },
  {
   "cell_type": "code",
   "execution_count": 6,
   "id": "2dc35749",
   "metadata": {},
   "outputs": [],
   "source": [
    "df2 = pd.read_csv(\n",
    "     '../FormattedData/formatted_good_nur_vitalsall.csv',\n",
    ")"
   ]
  },
  {
   "cell_type": "code",
   "execution_count": 7,
   "id": "1ff9de56",
   "metadata": {},
   "outputs": [
    {
     "output_type": "execute_result",
     "data": {
      "text/plain": [
       "        Unnamed: 0 pt_identifier      Date  Time    BP1   BP2  Pulse  Temp  \\\n",
       "0                0      H1002797  20/11/20    45  128.0  75.0   62.0  36.9   \n",
       "1                1      H1002797  19/11/20  1555  131.0  78.0   56.0  36.9   \n",
       "2                2      H1002797  19/11/20  1404  138.0  78.0   79.0  36.6   \n",
       "3                3      H1002797  20/11/20   415  140.0  82.0   59.0  36.9   \n",
       "4                4      H1002797  19/11/20   854  144.0  87.0   76.0  36.9   \n",
       "...            ...           ...       ...   ...    ...   ...    ...   ...   \n",
       "236840      236840       Z991743  02/02/21  1624  156.0  68.0   70.0  36.5   \n",
       "236841      236841       Z991743  01/02/21  1858  157.0  66.0   74.0  36.9   \n",
       "236842      236842       Z991743  03/02/21   933  159.0  65.0   63.0  36.5   \n",
       "236843      236843       Z991743  02/02/21  1234  171.0  74.0   70.0  36.4   \n",
       "236844      236844       Z991743  05/02/21   754  174.0  70.0   69.0  36.7   \n",
       "\n",
       "          RR  O2Sat  \n",
       "0       18.0   98.0  \n",
       "1       18.0   98.0  \n",
       "2       18.0   94.0  \n",
       "3       18.0   94.0  \n",
       "4       18.0   94.0  \n",
       "...      ...    ...  \n",
       "236840  16.0   94.0  \n",
       "236841  18.0   95.0  \n",
       "236842  16.0   95.0  \n",
       "236843  18.0   95.0  \n",
       "236844  16.0   92.0  \n",
       "\n",
       "[236845 rows x 10 columns]"
      ],
      "text/html": "<div>\n<style scoped>\n    .dataframe tbody tr th:only-of-type {\n        vertical-align: middle;\n    }\n\n    .dataframe tbody tr th {\n        vertical-align: top;\n    }\n\n    .dataframe thead th {\n        text-align: right;\n    }\n</style>\n<table border=\"1\" class=\"dataframe\">\n  <thead>\n    <tr style=\"text-align: right;\">\n      <th></th>\n      <th>Unnamed: 0</th>\n      <th>pt_identifier</th>\n      <th>Date</th>\n      <th>Time</th>\n      <th>BP1</th>\n      <th>BP2</th>\n      <th>Pulse</th>\n      <th>Temp</th>\n      <th>RR</th>\n      <th>O2Sat</th>\n    </tr>\n  </thead>\n  <tbody>\n    <tr>\n      <th>0</th>\n      <td>0</td>\n      <td>H1002797</td>\n      <td>20/11/20</td>\n      <td>45</td>\n      <td>128.0</td>\n      <td>75.0</td>\n      <td>62.0</td>\n      <td>36.9</td>\n      <td>18.0</td>\n      <td>98.0</td>\n    </tr>\n    <tr>\n      <th>1</th>\n      <td>1</td>\n      <td>H1002797</td>\n      <td>19/11/20</td>\n      <td>1555</td>\n      <td>131.0</td>\n      <td>78.0</td>\n      <td>56.0</td>\n      <td>36.9</td>\n      <td>18.0</td>\n      <td>98.0</td>\n    </tr>\n    <tr>\n      <th>2</th>\n      <td>2</td>\n      <td>H1002797</td>\n      <td>19/11/20</td>\n      <td>1404</td>\n      <td>138.0</td>\n      <td>78.0</td>\n      <td>79.0</td>\n      <td>36.6</td>\n      <td>18.0</td>\n      <td>94.0</td>\n    </tr>\n    <tr>\n      <th>3</th>\n      <td>3</td>\n      <td>H1002797</td>\n      <td>20/11/20</td>\n      <td>415</td>\n      <td>140.0</td>\n      <td>82.0</td>\n      <td>59.0</td>\n      <td>36.9</td>\n      <td>18.0</td>\n      <td>94.0</td>\n    </tr>\n    <tr>\n      <th>4</th>\n      <td>4</td>\n      <td>H1002797</td>\n      <td>19/11/20</td>\n      <td>854</td>\n      <td>144.0</td>\n      <td>87.0</td>\n      <td>76.0</td>\n      <td>36.9</td>\n      <td>18.0</td>\n      <td>94.0</td>\n    </tr>\n    <tr>\n      <th>...</th>\n      <td>...</td>\n      <td>...</td>\n      <td>...</td>\n      <td>...</td>\n      <td>...</td>\n      <td>...</td>\n      <td>...</td>\n      <td>...</td>\n      <td>...</td>\n      <td>...</td>\n    </tr>\n    <tr>\n      <th>236840</th>\n      <td>236840</td>\n      <td>Z991743</td>\n      <td>02/02/21</td>\n      <td>1624</td>\n      <td>156.0</td>\n      <td>68.0</td>\n      <td>70.0</td>\n      <td>36.5</td>\n      <td>16.0</td>\n      <td>94.0</td>\n    </tr>\n    <tr>\n      <th>236841</th>\n      <td>236841</td>\n      <td>Z991743</td>\n      <td>01/02/21</td>\n      <td>1858</td>\n      <td>157.0</td>\n      <td>66.0</td>\n      <td>74.0</td>\n      <td>36.9</td>\n      <td>18.0</td>\n      <td>95.0</td>\n    </tr>\n    <tr>\n      <th>236842</th>\n      <td>236842</td>\n      <td>Z991743</td>\n      <td>03/02/21</td>\n      <td>933</td>\n      <td>159.0</td>\n      <td>65.0</td>\n      <td>63.0</td>\n      <td>36.5</td>\n      <td>16.0</td>\n      <td>95.0</td>\n    </tr>\n    <tr>\n      <th>236843</th>\n      <td>236843</td>\n      <td>Z991743</td>\n      <td>02/02/21</td>\n      <td>1234</td>\n      <td>171.0</td>\n      <td>74.0</td>\n      <td>70.0</td>\n      <td>36.4</td>\n      <td>18.0</td>\n      <td>95.0</td>\n    </tr>\n    <tr>\n      <th>236844</th>\n      <td>236844</td>\n      <td>Z991743</td>\n      <td>05/02/21</td>\n      <td>754</td>\n      <td>174.0</td>\n      <td>70.0</td>\n      <td>69.0</td>\n      <td>36.7</td>\n      <td>16.0</td>\n      <td>92.0</td>\n    </tr>\n  </tbody>\n</table>\n<p>236845 rows × 10 columns</p>\n</div>"
     },
     "metadata": {},
     "execution_count": 7
    }
   ],
   "source": [
    "df2"
   ]
  },
  {
   "cell_type": "code",
   "execution_count": 8,
   "metadata": {},
   "outputs": [],
   "source": [
    "del df2[\"Unnamed: 0\"]"
   ]
  },
  {
   "cell_type": "code",
   "execution_count": 9,
   "metadata": {},
   "outputs": [
    {
     "output_type": "execute_result",
     "data": {
      "text/plain": [
       "       pt_identifier      Date  Time    BP1   BP2  Pulse  Temp    RR  O2Sat\n",
       "0           H1002797  20/11/20    45  128.0  75.0   62.0  36.9  18.0   98.0\n",
       "1           H1002797  19/11/20  1555  131.0  78.0   56.0  36.9  18.0   98.0\n",
       "2           H1002797  19/11/20  1404  138.0  78.0   79.0  36.6  18.0   94.0\n",
       "3           H1002797  20/11/20   415  140.0  82.0   59.0  36.9  18.0   94.0\n",
       "4           H1002797  19/11/20   854  144.0  87.0   76.0  36.9  18.0   94.0\n",
       "...              ...       ...   ...    ...   ...    ...   ...   ...    ...\n",
       "236840       Z991743  02/02/21  1624  156.0  68.0   70.0  36.5  16.0   94.0\n",
       "236841       Z991743  01/02/21  1858  157.0  66.0   74.0  36.9  18.0   95.0\n",
       "236842       Z991743  03/02/21   933  159.0  65.0   63.0  36.5  16.0   95.0\n",
       "236843       Z991743  02/02/21  1234  171.0  74.0   70.0  36.4  18.0   95.0\n",
       "236844       Z991743  05/02/21   754  174.0  70.0   69.0  36.7  16.0   92.0\n",
       "\n",
       "[236845 rows x 9 columns]"
      ],
      "text/html": "<div>\n<style scoped>\n    .dataframe tbody tr th:only-of-type {\n        vertical-align: middle;\n    }\n\n    .dataframe tbody tr th {\n        vertical-align: top;\n    }\n\n    .dataframe thead th {\n        text-align: right;\n    }\n</style>\n<table border=\"1\" class=\"dataframe\">\n  <thead>\n    <tr style=\"text-align: right;\">\n      <th></th>\n      <th>pt_identifier</th>\n      <th>Date</th>\n      <th>Time</th>\n      <th>BP1</th>\n      <th>BP2</th>\n      <th>Pulse</th>\n      <th>Temp</th>\n      <th>RR</th>\n      <th>O2Sat</th>\n    </tr>\n  </thead>\n  <tbody>\n    <tr>\n      <th>0</th>\n      <td>H1002797</td>\n      <td>20/11/20</td>\n      <td>45</td>\n      <td>128.0</td>\n      <td>75.0</td>\n      <td>62.0</td>\n      <td>36.9</td>\n      <td>18.0</td>\n      <td>98.0</td>\n    </tr>\n    <tr>\n      <th>1</th>\n      <td>H1002797</td>\n      <td>19/11/20</td>\n      <td>1555</td>\n      <td>131.0</td>\n      <td>78.0</td>\n      <td>56.0</td>\n      <td>36.9</td>\n      <td>18.0</td>\n      <td>98.0</td>\n    </tr>\n    <tr>\n      <th>2</th>\n      <td>H1002797</td>\n      <td>19/11/20</td>\n      <td>1404</td>\n      <td>138.0</td>\n      <td>78.0</td>\n      <td>79.0</td>\n      <td>36.6</td>\n      <td>18.0</td>\n      <td>94.0</td>\n    </tr>\n    <tr>\n      <th>3</th>\n      <td>H1002797</td>\n      <td>20/11/20</td>\n      <td>415</td>\n      <td>140.0</td>\n      <td>82.0</td>\n      <td>59.0</td>\n      <td>36.9</td>\n      <td>18.0</td>\n      <td>94.0</td>\n    </tr>\n    <tr>\n      <th>4</th>\n      <td>H1002797</td>\n      <td>19/11/20</td>\n      <td>854</td>\n      <td>144.0</td>\n      <td>87.0</td>\n      <td>76.0</td>\n      <td>36.9</td>\n      <td>18.0</td>\n      <td>94.0</td>\n    </tr>\n    <tr>\n      <th>...</th>\n      <td>...</td>\n      <td>...</td>\n      <td>...</td>\n      <td>...</td>\n      <td>...</td>\n      <td>...</td>\n      <td>...</td>\n      <td>...</td>\n      <td>...</td>\n    </tr>\n    <tr>\n      <th>236840</th>\n      <td>Z991743</td>\n      <td>02/02/21</td>\n      <td>1624</td>\n      <td>156.0</td>\n      <td>68.0</td>\n      <td>70.0</td>\n      <td>36.5</td>\n      <td>16.0</td>\n      <td>94.0</td>\n    </tr>\n    <tr>\n      <th>236841</th>\n      <td>Z991743</td>\n      <td>01/02/21</td>\n      <td>1858</td>\n      <td>157.0</td>\n      <td>66.0</td>\n      <td>74.0</td>\n      <td>36.9</td>\n      <td>18.0</td>\n      <td>95.0</td>\n    </tr>\n    <tr>\n      <th>236842</th>\n      <td>Z991743</td>\n      <td>03/02/21</td>\n      <td>933</td>\n      <td>159.0</td>\n      <td>65.0</td>\n      <td>63.0</td>\n      <td>36.5</td>\n      <td>16.0</td>\n      <td>95.0</td>\n    </tr>\n    <tr>\n      <th>236843</th>\n      <td>Z991743</td>\n      <td>02/02/21</td>\n      <td>1234</td>\n      <td>171.0</td>\n      <td>74.0</td>\n      <td>70.0</td>\n      <td>36.4</td>\n      <td>18.0</td>\n      <td>95.0</td>\n    </tr>\n    <tr>\n      <th>236844</th>\n      <td>Z991743</td>\n      <td>05/02/21</td>\n      <td>754</td>\n      <td>174.0</td>\n      <td>70.0</td>\n      <td>69.0</td>\n      <td>36.7</td>\n      <td>16.0</td>\n      <td>92.0</td>\n    </tr>\n  </tbody>\n</table>\n<p>236845 rows × 9 columns</p>\n</div>"
     },
     "metadata": {},
     "execution_count": 9
    }
   ],
   "source": [
    "df2"
   ]
  },
  {
   "cell_type": "code",
   "execution_count": 10,
   "metadata": {},
   "outputs": [],
   "source": [
    "df3 = pd.read_excel(\n",
    "     '../ectas_edm_vitals.xlsx',\n",
    "     engine='openpyxl', sheet_name = 'ectas_vitals'\n",
    ")"
   ]
  },
  {
   "cell_type": "code",
   "execution_count": 11,
   "metadata": {},
   "outputs": [
    {
     "output_type": "execute_result",
     "data": {
      "text/plain": [
       "      pt_identifier  Triage D     tTm   BP1    BP2  Pulse  Temp    RR  O2Sat  \\\n",
       "0          H1608589  12/01/21  2224.0  19.0   82.0  119.0  36.5  18.0   97.0   \n",
       "1          H3960627  28/11/20  1509.0  25.0   59.0   77.0  36.7  16.0  100.0   \n",
       "2          Z1600060  09/11/20   813.0  39.0   83.0   84.0  36.7  18.0   98.0   \n",
       "3           H321816  13/11/20   809.0  41.0   86.0   77.0  36.0  12.0   95.0   \n",
       "4          H2134707  21/02/21   107.0  52.0  108.0   80.0   NaN  16.0   99.0   \n",
       "...             ...       ...     ...   ...    ...    ...   ...   ...    ...   \n",
       "49840           NaN       NaN     NaN   NaN    NaN    NaN   NaN   NaN    NaN   \n",
       "49841           NaN       NaN     NaN   NaN    NaN    NaN   NaN   NaN    NaN   \n",
       "49842           NaN       NaN     NaN   NaN    NaN    NaN   NaN   NaN    NaN   \n",
       "49843           NaN       NaN     NaN   NaN    NaN    NaN   NaN   NaN    NaN   \n",
       "49844           NaN       NaN     NaN   NaN    NaN    NaN   NaN   NaN    NaN   \n",
       "\n",
       "       Unnamed: 9  \n",
       "0             NaN  \n",
       "1             NaN  \n",
       "2             NaN  \n",
       "3             NaN  \n",
       "4             NaN  \n",
       "...           ...  \n",
       "49840         NaN  \n",
       "49841         NaN  \n",
       "49842         NaN  \n",
       "49843         NaN  \n",
       "49844         NaN  \n",
       "\n",
       "[49845 rows x 10 columns]"
      ],
      "text/html": "<div>\n<style scoped>\n    .dataframe tbody tr th:only-of-type {\n        vertical-align: middle;\n    }\n\n    .dataframe tbody tr th {\n        vertical-align: top;\n    }\n\n    .dataframe thead th {\n        text-align: right;\n    }\n</style>\n<table border=\"1\" class=\"dataframe\">\n  <thead>\n    <tr style=\"text-align: right;\">\n      <th></th>\n      <th>pt_identifier</th>\n      <th>Triage D</th>\n      <th>tTm</th>\n      <th>BP1</th>\n      <th>BP2</th>\n      <th>Pulse</th>\n      <th>Temp</th>\n      <th>RR</th>\n      <th>O2Sat</th>\n      <th>Unnamed: 9</th>\n    </tr>\n  </thead>\n  <tbody>\n    <tr>\n      <th>0</th>\n      <td>H1608589</td>\n      <td>12/01/21</td>\n      <td>2224.0</td>\n      <td>19.0</td>\n      <td>82.0</td>\n      <td>119.0</td>\n      <td>36.5</td>\n      <td>18.0</td>\n      <td>97.0</td>\n      <td>NaN</td>\n    </tr>\n    <tr>\n      <th>1</th>\n      <td>H3960627</td>\n      <td>28/11/20</td>\n      <td>1509.0</td>\n      <td>25.0</td>\n      <td>59.0</td>\n      <td>77.0</td>\n      <td>36.7</td>\n      <td>16.0</td>\n      <td>100.0</td>\n      <td>NaN</td>\n    </tr>\n    <tr>\n      <th>2</th>\n      <td>Z1600060</td>\n      <td>09/11/20</td>\n      <td>813.0</td>\n      <td>39.0</td>\n      <td>83.0</td>\n      <td>84.0</td>\n      <td>36.7</td>\n      <td>18.0</td>\n      <td>98.0</td>\n      <td>NaN</td>\n    </tr>\n    <tr>\n      <th>3</th>\n      <td>H321816</td>\n      <td>13/11/20</td>\n      <td>809.0</td>\n      <td>41.0</td>\n      <td>86.0</td>\n      <td>77.0</td>\n      <td>36.0</td>\n      <td>12.0</td>\n      <td>95.0</td>\n      <td>NaN</td>\n    </tr>\n    <tr>\n      <th>4</th>\n      <td>H2134707</td>\n      <td>21/02/21</td>\n      <td>107.0</td>\n      <td>52.0</td>\n      <td>108.0</td>\n      <td>80.0</td>\n      <td>NaN</td>\n      <td>16.0</td>\n      <td>99.0</td>\n      <td>NaN</td>\n    </tr>\n    <tr>\n      <th>...</th>\n      <td>...</td>\n      <td>...</td>\n      <td>...</td>\n      <td>...</td>\n      <td>...</td>\n      <td>...</td>\n      <td>...</td>\n      <td>...</td>\n      <td>...</td>\n      <td>...</td>\n    </tr>\n    <tr>\n      <th>49840</th>\n      <td>NaN</td>\n      <td>NaN</td>\n      <td>NaN</td>\n      <td>NaN</td>\n      <td>NaN</td>\n      <td>NaN</td>\n      <td>NaN</td>\n      <td>NaN</td>\n      <td>NaN</td>\n      <td>NaN</td>\n    </tr>\n    <tr>\n      <th>49841</th>\n      <td>NaN</td>\n      <td>NaN</td>\n      <td>NaN</td>\n      <td>NaN</td>\n      <td>NaN</td>\n      <td>NaN</td>\n      <td>NaN</td>\n      <td>NaN</td>\n      <td>NaN</td>\n      <td>NaN</td>\n    </tr>\n    <tr>\n      <th>49842</th>\n      <td>NaN</td>\n      <td>NaN</td>\n      <td>NaN</td>\n      <td>NaN</td>\n      <td>NaN</td>\n      <td>NaN</td>\n      <td>NaN</td>\n      <td>NaN</td>\n      <td>NaN</td>\n      <td>NaN</td>\n    </tr>\n    <tr>\n      <th>49843</th>\n      <td>NaN</td>\n      <td>NaN</td>\n      <td>NaN</td>\n      <td>NaN</td>\n      <td>NaN</td>\n      <td>NaN</td>\n      <td>NaN</td>\n      <td>NaN</td>\n      <td>NaN</td>\n      <td>NaN</td>\n    </tr>\n    <tr>\n      <th>49844</th>\n      <td>NaN</td>\n      <td>NaN</td>\n      <td>NaN</td>\n      <td>NaN</td>\n      <td>NaN</td>\n      <td>NaN</td>\n      <td>NaN</td>\n      <td>NaN</td>\n      <td>NaN</td>\n      <td>NaN</td>\n    </tr>\n  </tbody>\n</table>\n<p>49845 rows × 10 columns</p>\n</div>"
     },
     "metadata": {},
     "execution_count": 11
    }
   ],
   "source": [
    "df3"
   ]
  },
  {
   "cell_type": "code",
   "execution_count": 12,
   "metadata": {},
   "outputs": [],
   "source": [
    "del df3[\"Unnamed: 9\"]"
   ]
  },
  {
   "cell_type": "code",
   "execution_count": 13,
   "metadata": {},
   "outputs": [
    {
     "output_type": "execute_result",
     "data": {
      "text/plain": [
       "      pt_identifier  Triage D     tTm   BP1    BP2  Pulse  Temp    RR  O2Sat\n",
       "0          H1608589  12/01/21  2224.0  19.0   82.0  119.0  36.5  18.0   97.0\n",
       "1          H3960627  28/11/20  1509.0  25.0   59.0   77.0  36.7  16.0  100.0\n",
       "2          Z1600060  09/11/20   813.0  39.0   83.0   84.0  36.7  18.0   98.0\n",
       "3           H321816  13/11/20   809.0  41.0   86.0   77.0  36.0  12.0   95.0\n",
       "4          H2134707  21/02/21   107.0  52.0  108.0   80.0   NaN  16.0   99.0\n",
       "...             ...       ...     ...   ...    ...    ...   ...   ...    ...\n",
       "49840           NaN       NaN     NaN   NaN    NaN    NaN   NaN   NaN    NaN\n",
       "49841           NaN       NaN     NaN   NaN    NaN    NaN   NaN   NaN    NaN\n",
       "49842           NaN       NaN     NaN   NaN    NaN    NaN   NaN   NaN    NaN\n",
       "49843           NaN       NaN     NaN   NaN    NaN    NaN   NaN   NaN    NaN\n",
       "49844           NaN       NaN     NaN   NaN    NaN    NaN   NaN   NaN    NaN\n",
       "\n",
       "[49845 rows x 9 columns]"
      ],
      "text/html": "<div>\n<style scoped>\n    .dataframe tbody tr th:only-of-type {\n        vertical-align: middle;\n    }\n\n    .dataframe tbody tr th {\n        vertical-align: top;\n    }\n\n    .dataframe thead th {\n        text-align: right;\n    }\n</style>\n<table border=\"1\" class=\"dataframe\">\n  <thead>\n    <tr style=\"text-align: right;\">\n      <th></th>\n      <th>pt_identifier</th>\n      <th>Triage D</th>\n      <th>tTm</th>\n      <th>BP1</th>\n      <th>BP2</th>\n      <th>Pulse</th>\n      <th>Temp</th>\n      <th>RR</th>\n      <th>O2Sat</th>\n    </tr>\n  </thead>\n  <tbody>\n    <tr>\n      <th>0</th>\n      <td>H1608589</td>\n      <td>12/01/21</td>\n      <td>2224.0</td>\n      <td>19.0</td>\n      <td>82.0</td>\n      <td>119.0</td>\n      <td>36.5</td>\n      <td>18.0</td>\n      <td>97.0</td>\n    </tr>\n    <tr>\n      <th>1</th>\n      <td>H3960627</td>\n      <td>28/11/20</td>\n      <td>1509.0</td>\n      <td>25.0</td>\n      <td>59.0</td>\n      <td>77.0</td>\n      <td>36.7</td>\n      <td>16.0</td>\n      <td>100.0</td>\n    </tr>\n    <tr>\n      <th>2</th>\n      <td>Z1600060</td>\n      <td>09/11/20</td>\n      <td>813.0</td>\n      <td>39.0</td>\n      <td>83.0</td>\n      <td>84.0</td>\n      <td>36.7</td>\n      <td>18.0</td>\n      <td>98.0</td>\n    </tr>\n    <tr>\n      <th>3</th>\n      <td>H321816</td>\n      <td>13/11/20</td>\n      <td>809.0</td>\n      <td>41.0</td>\n      <td>86.0</td>\n      <td>77.0</td>\n      <td>36.0</td>\n      <td>12.0</td>\n      <td>95.0</td>\n    </tr>\n    <tr>\n      <th>4</th>\n      <td>H2134707</td>\n      <td>21/02/21</td>\n      <td>107.0</td>\n      <td>52.0</td>\n      <td>108.0</td>\n      <td>80.0</td>\n      <td>NaN</td>\n      <td>16.0</td>\n      <td>99.0</td>\n    </tr>\n    <tr>\n      <th>...</th>\n      <td>...</td>\n      <td>...</td>\n      <td>...</td>\n      <td>...</td>\n      <td>...</td>\n      <td>...</td>\n      <td>...</td>\n      <td>...</td>\n      <td>...</td>\n    </tr>\n    <tr>\n      <th>49840</th>\n      <td>NaN</td>\n      <td>NaN</td>\n      <td>NaN</td>\n      <td>NaN</td>\n      <td>NaN</td>\n      <td>NaN</td>\n      <td>NaN</td>\n      <td>NaN</td>\n      <td>NaN</td>\n    </tr>\n    <tr>\n      <th>49841</th>\n      <td>NaN</td>\n      <td>NaN</td>\n      <td>NaN</td>\n      <td>NaN</td>\n      <td>NaN</td>\n      <td>NaN</td>\n      <td>NaN</td>\n      <td>NaN</td>\n      <td>NaN</td>\n    </tr>\n    <tr>\n      <th>49842</th>\n      <td>NaN</td>\n      <td>NaN</td>\n      <td>NaN</td>\n      <td>NaN</td>\n      <td>NaN</td>\n      <td>NaN</td>\n      <td>NaN</td>\n      <td>NaN</td>\n      <td>NaN</td>\n    </tr>\n    <tr>\n      <th>49843</th>\n      <td>NaN</td>\n      <td>NaN</td>\n      <td>NaN</td>\n      <td>NaN</td>\n      <td>NaN</td>\n      <td>NaN</td>\n      <td>NaN</td>\n      <td>NaN</td>\n      <td>NaN</td>\n    </tr>\n    <tr>\n      <th>49844</th>\n      <td>NaN</td>\n      <td>NaN</td>\n      <td>NaN</td>\n      <td>NaN</td>\n      <td>NaN</td>\n      <td>NaN</td>\n      <td>NaN</td>\n      <td>NaN</td>\n      <td>NaN</td>\n    </tr>\n  </tbody>\n</table>\n<p>49845 rows × 9 columns</p>\n</div>"
     },
     "metadata": {},
     "execution_count": 13
    }
   ],
   "source": [
    "df3"
   ]
  },
  {
   "cell_type": "code",
   "execution_count": 18,
   "metadata": {},
   "outputs": [],
   "source": [
    "df3 = df3.rename(columns={\"Triage D\": \"Date\"})\n"
   ]
  },
  {
   "cell_type": "code",
   "execution_count": 19,
   "metadata": {},
   "outputs": [],
   "source": [
    "df3 = df3.rename(columns={\"tTm\": \"Time\"})\n"
   ]
  },
  {
   "cell_type": "code",
   "execution_count": 20,
   "metadata": {},
   "outputs": [
    {
     "output_type": "execute_result",
     "data": {
      "text/plain": [
       "      pt_identifier      Date    Time   BP1    BP2  Pulse  Temp    RR  O2Sat\n",
       "0          H1608589  12/01/21  2224.0  19.0   82.0  119.0  36.5  18.0   97.0\n",
       "1          H3960627  28/11/20  1509.0  25.0   59.0   77.0  36.7  16.0  100.0\n",
       "2          Z1600060  09/11/20   813.0  39.0   83.0   84.0  36.7  18.0   98.0\n",
       "3           H321816  13/11/20   809.0  41.0   86.0   77.0  36.0  12.0   95.0\n",
       "4          H2134707  21/02/21   107.0  52.0  108.0   80.0   NaN  16.0   99.0\n",
       "...             ...       ...     ...   ...    ...    ...   ...   ...    ...\n",
       "49840           NaN       NaN     NaN   NaN    NaN    NaN   NaN   NaN    NaN\n",
       "49841           NaN       NaN     NaN   NaN    NaN    NaN   NaN   NaN    NaN\n",
       "49842           NaN       NaN     NaN   NaN    NaN    NaN   NaN   NaN    NaN\n",
       "49843           NaN       NaN     NaN   NaN    NaN    NaN   NaN   NaN    NaN\n",
       "49844           NaN       NaN     NaN   NaN    NaN    NaN   NaN   NaN    NaN\n",
       "\n",
       "[49845 rows x 9 columns]"
      ],
      "text/html": "<div>\n<style scoped>\n    .dataframe tbody tr th:only-of-type {\n        vertical-align: middle;\n    }\n\n    .dataframe tbody tr th {\n        vertical-align: top;\n    }\n\n    .dataframe thead th {\n        text-align: right;\n    }\n</style>\n<table border=\"1\" class=\"dataframe\">\n  <thead>\n    <tr style=\"text-align: right;\">\n      <th></th>\n      <th>pt_identifier</th>\n      <th>Date</th>\n      <th>Time</th>\n      <th>BP1</th>\n      <th>BP2</th>\n      <th>Pulse</th>\n      <th>Temp</th>\n      <th>RR</th>\n      <th>O2Sat</th>\n    </tr>\n  </thead>\n  <tbody>\n    <tr>\n      <th>0</th>\n      <td>H1608589</td>\n      <td>12/01/21</td>\n      <td>2224.0</td>\n      <td>19.0</td>\n      <td>82.0</td>\n      <td>119.0</td>\n      <td>36.5</td>\n      <td>18.0</td>\n      <td>97.0</td>\n    </tr>\n    <tr>\n      <th>1</th>\n      <td>H3960627</td>\n      <td>28/11/20</td>\n      <td>1509.0</td>\n      <td>25.0</td>\n      <td>59.0</td>\n      <td>77.0</td>\n      <td>36.7</td>\n      <td>16.0</td>\n      <td>100.0</td>\n    </tr>\n    <tr>\n      <th>2</th>\n      <td>Z1600060</td>\n      <td>09/11/20</td>\n      <td>813.0</td>\n      <td>39.0</td>\n      <td>83.0</td>\n      <td>84.0</td>\n      <td>36.7</td>\n      <td>18.0</td>\n      <td>98.0</td>\n    </tr>\n    <tr>\n      <th>3</th>\n      <td>H321816</td>\n      <td>13/11/20</td>\n      <td>809.0</td>\n      <td>41.0</td>\n      <td>86.0</td>\n      <td>77.0</td>\n      <td>36.0</td>\n      <td>12.0</td>\n      <td>95.0</td>\n    </tr>\n    <tr>\n      <th>4</th>\n      <td>H2134707</td>\n      <td>21/02/21</td>\n      <td>107.0</td>\n      <td>52.0</td>\n      <td>108.0</td>\n      <td>80.0</td>\n      <td>NaN</td>\n      <td>16.0</td>\n      <td>99.0</td>\n    </tr>\n    <tr>\n      <th>...</th>\n      <td>...</td>\n      <td>...</td>\n      <td>...</td>\n      <td>...</td>\n      <td>...</td>\n      <td>...</td>\n      <td>...</td>\n      <td>...</td>\n      <td>...</td>\n    </tr>\n    <tr>\n      <th>49840</th>\n      <td>NaN</td>\n      <td>NaN</td>\n      <td>NaN</td>\n      <td>NaN</td>\n      <td>NaN</td>\n      <td>NaN</td>\n      <td>NaN</td>\n      <td>NaN</td>\n      <td>NaN</td>\n    </tr>\n    <tr>\n      <th>49841</th>\n      <td>NaN</td>\n      <td>NaN</td>\n      <td>NaN</td>\n      <td>NaN</td>\n      <td>NaN</td>\n      <td>NaN</td>\n      <td>NaN</td>\n      <td>NaN</td>\n      <td>NaN</td>\n    </tr>\n    <tr>\n      <th>49842</th>\n      <td>NaN</td>\n      <td>NaN</td>\n      <td>NaN</td>\n      <td>NaN</td>\n      <td>NaN</td>\n      <td>NaN</td>\n      <td>NaN</td>\n      <td>NaN</td>\n      <td>NaN</td>\n    </tr>\n    <tr>\n      <th>49843</th>\n      <td>NaN</td>\n      <td>NaN</td>\n      <td>NaN</td>\n      <td>NaN</td>\n      <td>NaN</td>\n      <td>NaN</td>\n      <td>NaN</td>\n      <td>NaN</td>\n      <td>NaN</td>\n    </tr>\n    <tr>\n      <th>49844</th>\n      <td>NaN</td>\n      <td>NaN</td>\n      <td>NaN</td>\n      <td>NaN</td>\n      <td>NaN</td>\n      <td>NaN</td>\n      <td>NaN</td>\n      <td>NaN</td>\n      <td>NaN</td>\n    </tr>\n  </tbody>\n</table>\n<p>49845 rows × 9 columns</p>\n</div>"
     },
     "metadata": {},
     "execution_count": 20
    }
   ],
   "source": [
    "df3"
   ]
  },
  {
   "cell_type": "code",
   "execution_count": 21,
   "metadata": {},
   "outputs": [],
   "source": [
    "df3 = df3.drop(df3.index[8127:])"
   ]
  },
  {
   "cell_type": "code",
   "execution_count": 22,
   "metadata": {},
   "outputs": [
    {
     "output_type": "execute_result",
     "data": {
      "text/plain": [
       "     pt_identifier      Date    Time   BP1    BP2  Pulse  Temp    RR  O2Sat\n",
       "0         H1608589  12/01/21  2224.0  19.0   82.0  119.0  36.5  18.0   97.0\n",
       "1         H3960627  28/11/20  1509.0  25.0   59.0   77.0  36.7  16.0  100.0\n",
       "2         Z1600060  09/11/20   813.0  39.0   83.0   84.0  36.7  18.0   98.0\n",
       "3          H321816  13/11/20   809.0  41.0   86.0   77.0  36.0  12.0   95.0\n",
       "4         H2134707  21/02/21   107.0  52.0  108.0   80.0   NaN  16.0   99.0\n",
       "...            ...       ...     ...   ...    ...    ...   ...   ...    ...\n",
       "8122      H4049693  21/11/20  1832.0   NaN    NaN    NaN  36.2  40.0    NaN\n",
       "8123      H1778774  07/12/20  1650.0   NaN    NaN    NaN  36.7   NaN    NaN\n",
       "8124      H4073700  23/02/21  1324.0   NaN    NaN    NaN  36.7  28.0   99.0\n",
       "8125      H3705405  27/01/21  1804.0   NaN    NaN    NaN  37.2  22.0  100.0\n",
       "8126      Z1751922  19/02/21  1831.0   NaN    NaN    NaN  38.9   NaN    NaN\n",
       "\n",
       "[8127 rows x 9 columns]"
      ],
      "text/html": "<div>\n<style scoped>\n    .dataframe tbody tr th:only-of-type {\n        vertical-align: middle;\n    }\n\n    .dataframe tbody tr th {\n        vertical-align: top;\n    }\n\n    .dataframe thead th {\n        text-align: right;\n    }\n</style>\n<table border=\"1\" class=\"dataframe\">\n  <thead>\n    <tr style=\"text-align: right;\">\n      <th></th>\n      <th>pt_identifier</th>\n      <th>Date</th>\n      <th>Time</th>\n      <th>BP1</th>\n      <th>BP2</th>\n      <th>Pulse</th>\n      <th>Temp</th>\n      <th>RR</th>\n      <th>O2Sat</th>\n    </tr>\n  </thead>\n  <tbody>\n    <tr>\n      <th>0</th>\n      <td>H1608589</td>\n      <td>12/01/21</td>\n      <td>2224.0</td>\n      <td>19.0</td>\n      <td>82.0</td>\n      <td>119.0</td>\n      <td>36.5</td>\n      <td>18.0</td>\n      <td>97.0</td>\n    </tr>\n    <tr>\n      <th>1</th>\n      <td>H3960627</td>\n      <td>28/11/20</td>\n      <td>1509.0</td>\n      <td>25.0</td>\n      <td>59.0</td>\n      <td>77.0</td>\n      <td>36.7</td>\n      <td>16.0</td>\n      <td>100.0</td>\n    </tr>\n    <tr>\n      <th>2</th>\n      <td>Z1600060</td>\n      <td>09/11/20</td>\n      <td>813.0</td>\n      <td>39.0</td>\n      <td>83.0</td>\n      <td>84.0</td>\n      <td>36.7</td>\n      <td>18.0</td>\n      <td>98.0</td>\n    </tr>\n    <tr>\n      <th>3</th>\n      <td>H321816</td>\n      <td>13/11/20</td>\n      <td>809.0</td>\n      <td>41.0</td>\n      <td>86.0</td>\n      <td>77.0</td>\n      <td>36.0</td>\n      <td>12.0</td>\n      <td>95.0</td>\n    </tr>\n    <tr>\n      <th>4</th>\n      <td>H2134707</td>\n      <td>21/02/21</td>\n      <td>107.0</td>\n      <td>52.0</td>\n      <td>108.0</td>\n      <td>80.0</td>\n      <td>NaN</td>\n      <td>16.0</td>\n      <td>99.0</td>\n    </tr>\n    <tr>\n      <th>...</th>\n      <td>...</td>\n      <td>...</td>\n      <td>...</td>\n      <td>...</td>\n      <td>...</td>\n      <td>...</td>\n      <td>...</td>\n      <td>...</td>\n      <td>...</td>\n    </tr>\n    <tr>\n      <th>8122</th>\n      <td>H4049693</td>\n      <td>21/11/20</td>\n      <td>1832.0</td>\n      <td>NaN</td>\n      <td>NaN</td>\n      <td>NaN</td>\n      <td>36.2</td>\n      <td>40.0</td>\n      <td>NaN</td>\n    </tr>\n    <tr>\n      <th>8123</th>\n      <td>H1778774</td>\n      <td>07/12/20</td>\n      <td>1650.0</td>\n      <td>NaN</td>\n      <td>NaN</td>\n      <td>NaN</td>\n      <td>36.7</td>\n      <td>NaN</td>\n      <td>NaN</td>\n    </tr>\n    <tr>\n      <th>8124</th>\n      <td>H4073700</td>\n      <td>23/02/21</td>\n      <td>1324.0</td>\n      <td>NaN</td>\n      <td>NaN</td>\n      <td>NaN</td>\n      <td>36.7</td>\n      <td>28.0</td>\n      <td>99.0</td>\n    </tr>\n    <tr>\n      <th>8125</th>\n      <td>H3705405</td>\n      <td>27/01/21</td>\n      <td>1804.0</td>\n      <td>NaN</td>\n      <td>NaN</td>\n      <td>NaN</td>\n      <td>37.2</td>\n      <td>22.0</td>\n      <td>100.0</td>\n    </tr>\n    <tr>\n      <th>8126</th>\n      <td>Z1751922</td>\n      <td>19/02/21</td>\n      <td>1831.0</td>\n      <td>NaN</td>\n      <td>NaN</td>\n      <td>NaN</td>\n      <td>38.9</td>\n      <td>NaN</td>\n      <td>NaN</td>\n    </tr>\n  </tbody>\n</table>\n<p>8127 rows × 9 columns</p>\n</div>"
     },
     "metadata": {},
     "execution_count": 22
    }
   ],
   "source": [
    "df3"
   ]
  },
  {
   "cell_type": "code",
   "execution_count": 23,
   "metadata": {},
   "outputs": [],
   "source": [
    "frames = [df1, df2, df3]"
   ]
  },
  {
   "cell_type": "code",
   "execution_count": 24,
   "metadata": {},
   "outputs": [],
   "source": [
    "df4 = pd.concat(frames, ignore_index=True)"
   ]
  },
  {
   "cell_type": "code",
   "execution_count": 25,
   "metadata": {},
   "outputs": [
    {
     "output_type": "execute_result",
     "data": {
      "text/plain": [
       "       pt_identifier      Date    Time    BP1   BP2  Pulse  Temp    RR  O2Sat\n",
       "0           H1000412  31/12/20  2359.0  116.0  84.0   88.0  36.9  17.0   97.0\n",
       "1           H1000412  01/01/21   351.0  126.0  64.0   69.0  37.0  10.0   94.0\n",
       "2           H1002797  08/12/20  1725.0  147.0  91.0   63.0   NaN  18.0   97.0\n",
       "3           H1002797  11/01/21  1635.0  140.0  82.0   57.0  36.8  18.0   98.0\n",
       "4           H1002797  11/01/21  1851.0  137.0  81.0   58.0  36.8  17.0   97.0\n",
       "...              ...       ...     ...    ...   ...    ...   ...   ...    ...\n",
       "262650      H4049693  21/11/20  1832.0    NaN   NaN    NaN  36.2  40.0    NaN\n",
       "262651      H1778774  07/12/20  1650.0    NaN   NaN    NaN  36.7   NaN    NaN\n",
       "262652      H4073700  23/02/21  1324.0    NaN   NaN    NaN  36.7  28.0   99.0\n",
       "262653      H3705405  27/01/21  1804.0    NaN   NaN    NaN  37.2  22.0  100.0\n",
       "262654      Z1751922  19/02/21  1831.0    NaN   NaN    NaN  38.9   NaN    NaN\n",
       "\n",
       "[262655 rows x 9 columns]"
      ],
      "text/html": "<div>\n<style scoped>\n    .dataframe tbody tr th:only-of-type {\n        vertical-align: middle;\n    }\n\n    .dataframe tbody tr th {\n        vertical-align: top;\n    }\n\n    .dataframe thead th {\n        text-align: right;\n    }\n</style>\n<table border=\"1\" class=\"dataframe\">\n  <thead>\n    <tr style=\"text-align: right;\">\n      <th></th>\n      <th>pt_identifier</th>\n      <th>Date</th>\n      <th>Time</th>\n      <th>BP1</th>\n      <th>BP2</th>\n      <th>Pulse</th>\n      <th>Temp</th>\n      <th>RR</th>\n      <th>O2Sat</th>\n    </tr>\n  </thead>\n  <tbody>\n    <tr>\n      <th>0</th>\n      <td>H1000412</td>\n      <td>31/12/20</td>\n      <td>2359.0</td>\n      <td>116.0</td>\n      <td>84.0</td>\n      <td>88.0</td>\n      <td>36.9</td>\n      <td>17.0</td>\n      <td>97.0</td>\n    </tr>\n    <tr>\n      <th>1</th>\n      <td>H1000412</td>\n      <td>01/01/21</td>\n      <td>351.0</td>\n      <td>126.0</td>\n      <td>64.0</td>\n      <td>69.0</td>\n      <td>37.0</td>\n      <td>10.0</td>\n      <td>94.0</td>\n    </tr>\n    <tr>\n      <th>2</th>\n      <td>H1002797</td>\n      <td>08/12/20</td>\n      <td>1725.0</td>\n      <td>147.0</td>\n      <td>91.0</td>\n      <td>63.0</td>\n      <td>NaN</td>\n      <td>18.0</td>\n      <td>97.0</td>\n    </tr>\n    <tr>\n      <th>3</th>\n      <td>H1002797</td>\n      <td>11/01/21</td>\n      <td>1635.0</td>\n      <td>140.0</td>\n      <td>82.0</td>\n      <td>57.0</td>\n      <td>36.8</td>\n      <td>18.0</td>\n      <td>98.0</td>\n    </tr>\n    <tr>\n      <th>4</th>\n      <td>H1002797</td>\n      <td>11/01/21</td>\n      <td>1851.0</td>\n      <td>137.0</td>\n      <td>81.0</td>\n      <td>58.0</td>\n      <td>36.8</td>\n      <td>17.0</td>\n      <td>97.0</td>\n    </tr>\n    <tr>\n      <th>...</th>\n      <td>...</td>\n      <td>...</td>\n      <td>...</td>\n      <td>...</td>\n      <td>...</td>\n      <td>...</td>\n      <td>...</td>\n      <td>...</td>\n      <td>...</td>\n    </tr>\n    <tr>\n      <th>262650</th>\n      <td>H4049693</td>\n      <td>21/11/20</td>\n      <td>1832.0</td>\n      <td>NaN</td>\n      <td>NaN</td>\n      <td>NaN</td>\n      <td>36.2</td>\n      <td>40.0</td>\n      <td>NaN</td>\n    </tr>\n    <tr>\n      <th>262651</th>\n      <td>H1778774</td>\n      <td>07/12/20</td>\n      <td>1650.0</td>\n      <td>NaN</td>\n      <td>NaN</td>\n      <td>NaN</td>\n      <td>36.7</td>\n      <td>NaN</td>\n      <td>NaN</td>\n    </tr>\n    <tr>\n      <th>262652</th>\n      <td>H4073700</td>\n      <td>23/02/21</td>\n      <td>1324.0</td>\n      <td>NaN</td>\n      <td>NaN</td>\n      <td>NaN</td>\n      <td>36.7</td>\n      <td>28.0</td>\n      <td>99.0</td>\n    </tr>\n    <tr>\n      <th>262653</th>\n      <td>H3705405</td>\n      <td>27/01/21</td>\n      <td>1804.0</td>\n      <td>NaN</td>\n      <td>NaN</td>\n      <td>NaN</td>\n      <td>37.2</td>\n      <td>22.0</td>\n      <td>100.0</td>\n    </tr>\n    <tr>\n      <th>262654</th>\n      <td>Z1751922</td>\n      <td>19/02/21</td>\n      <td>1831.0</td>\n      <td>NaN</td>\n      <td>NaN</td>\n      <td>NaN</td>\n      <td>38.9</td>\n      <td>NaN</td>\n      <td>NaN</td>\n    </tr>\n  </tbody>\n</table>\n<p>262655 rows × 9 columns</p>\n</div>"
     },
     "metadata": {},
     "execution_count": 25
    }
   ],
   "source": [
    "df4"
   ]
  },
  {
   "cell_type": "code",
   "execution_count": 27,
   "metadata": {},
   "outputs": [],
   "source": [
    "df4.to_csv('master_without_labs.csv')"
   ]
  },
  {
   "cell_type": "code",
   "execution_count": 28,
   "metadata": {},
   "outputs": [],
   "source": [
    "df_master = pd.read_excel(\n",
    "     '../MF_lact_WC_Diag.xlsx',\n",
    "     engine='openpyxl', sheet_name = 'pt_master_file'\n",
    ")"
   ]
  },
  {
   "cell_type": "code",
   "execution_count": 29,
   "metadata": {},
   "outputs": [
    {
     "output_type": "execute_result",
     "data": {
      "text/plain": [
       "     de_identified Admission_Date Discharge_Date age_code age_code_desc  \\\n",
       "0         H1000412     2020-12-31     2021-01-01        Y         Years   \n",
       "1         H1002243     2021-02-06     2021-02-08        Y         Years   \n",
       "2         H1002797     2020-11-18     2020-11-20        Y         Years   \n",
       "3         H1003037     2021-01-11     2021-01-14        Y         Years   \n",
       "4         H1004096     2021-01-14     2021-01-22        Y         Years   \n",
       "...            ...            ...            ...      ...           ...   \n",
       "5845        Z97963     2021-02-16     2021-02-17        Y         Years   \n",
       "5846        Z98294     2020-12-07     2020-12-10        Y         Years   \n",
       "5847        Z98373     2020-11-06     2020-11-10        Y         Years   \n",
       "5848       Z991743     2021-02-01     2021-02-05        Y         Years   \n",
       "5849       Z992617     2021-03-13     2021-03-14        Y         Years   \n",
       "\n",
       "      age_number Gender  Wt in Kg     Wt_Date  \n",
       "0             81      F       NaN         NaN  \n",
       "1             32      F      73.0  20210206.0  \n",
       "2             66      F       NaN         NaN  \n",
       "3             65      M      88.0  20210112.0  \n",
       "4             57      M      51.0  20210118.0  \n",
       "...          ...    ...       ...         ...  \n",
       "5845          66      M     109.3  20210216.0  \n",
       "5846          70      M      61.8  20201210.0  \n",
       "5847          74      F      75.0  20201107.0  \n",
       "5848          92      F      63.0  20210205.0  \n",
       "5849          23      F     103.0  20210313.0  \n",
       "\n",
       "[5850 rows x 9 columns]"
      ],
      "text/html": "<div>\n<style scoped>\n    .dataframe tbody tr th:only-of-type {\n        vertical-align: middle;\n    }\n\n    .dataframe tbody tr th {\n        vertical-align: top;\n    }\n\n    .dataframe thead th {\n        text-align: right;\n    }\n</style>\n<table border=\"1\" class=\"dataframe\">\n  <thead>\n    <tr style=\"text-align: right;\">\n      <th></th>\n      <th>de_identified</th>\n      <th>Admission_Date</th>\n      <th>Discharge_Date</th>\n      <th>age_code</th>\n      <th>age_code_desc</th>\n      <th>age_number</th>\n      <th>Gender</th>\n      <th>Wt in Kg</th>\n      <th>Wt_Date</th>\n    </tr>\n  </thead>\n  <tbody>\n    <tr>\n      <th>0</th>\n      <td>H1000412</td>\n      <td>2020-12-31</td>\n      <td>2021-01-01</td>\n      <td>Y</td>\n      <td>Years</td>\n      <td>81</td>\n      <td>F</td>\n      <td>NaN</td>\n      <td>NaN</td>\n    </tr>\n    <tr>\n      <th>1</th>\n      <td>H1002243</td>\n      <td>2021-02-06</td>\n      <td>2021-02-08</td>\n      <td>Y</td>\n      <td>Years</td>\n      <td>32</td>\n      <td>F</td>\n      <td>73.0</td>\n      <td>20210206.0</td>\n    </tr>\n    <tr>\n      <th>2</th>\n      <td>H1002797</td>\n      <td>2020-11-18</td>\n      <td>2020-11-20</td>\n      <td>Y</td>\n      <td>Years</td>\n      <td>66</td>\n      <td>F</td>\n      <td>NaN</td>\n      <td>NaN</td>\n    </tr>\n    <tr>\n      <th>3</th>\n      <td>H1003037</td>\n      <td>2021-01-11</td>\n      <td>2021-01-14</td>\n      <td>Y</td>\n      <td>Years</td>\n      <td>65</td>\n      <td>M</td>\n      <td>88.0</td>\n      <td>20210112.0</td>\n    </tr>\n    <tr>\n      <th>4</th>\n      <td>H1004096</td>\n      <td>2021-01-14</td>\n      <td>2021-01-22</td>\n      <td>Y</td>\n      <td>Years</td>\n      <td>57</td>\n      <td>M</td>\n      <td>51.0</td>\n      <td>20210118.0</td>\n    </tr>\n    <tr>\n      <th>...</th>\n      <td>...</td>\n      <td>...</td>\n      <td>...</td>\n      <td>...</td>\n      <td>...</td>\n      <td>...</td>\n      <td>...</td>\n      <td>...</td>\n      <td>...</td>\n    </tr>\n    <tr>\n      <th>5845</th>\n      <td>Z97963</td>\n      <td>2021-02-16</td>\n      <td>2021-02-17</td>\n      <td>Y</td>\n      <td>Years</td>\n      <td>66</td>\n      <td>M</td>\n      <td>109.3</td>\n      <td>20210216.0</td>\n    </tr>\n    <tr>\n      <th>5846</th>\n      <td>Z98294</td>\n      <td>2020-12-07</td>\n      <td>2020-12-10</td>\n      <td>Y</td>\n      <td>Years</td>\n      <td>70</td>\n      <td>M</td>\n      <td>61.8</td>\n      <td>20201210.0</td>\n    </tr>\n    <tr>\n      <th>5847</th>\n      <td>Z98373</td>\n      <td>2020-11-06</td>\n      <td>2020-11-10</td>\n      <td>Y</td>\n      <td>Years</td>\n      <td>74</td>\n      <td>F</td>\n      <td>75.0</td>\n      <td>20201107.0</td>\n    </tr>\n    <tr>\n      <th>5848</th>\n      <td>Z991743</td>\n      <td>2021-02-01</td>\n      <td>2021-02-05</td>\n      <td>Y</td>\n      <td>Years</td>\n      <td>92</td>\n      <td>F</td>\n      <td>63.0</td>\n      <td>20210205.0</td>\n    </tr>\n    <tr>\n      <th>5849</th>\n      <td>Z992617</td>\n      <td>2021-03-13</td>\n      <td>2021-03-14</td>\n      <td>Y</td>\n      <td>Years</td>\n      <td>23</td>\n      <td>F</td>\n      <td>103.0</td>\n      <td>20210313.0</td>\n    </tr>\n  </tbody>\n</table>\n<p>5850 rows × 9 columns</p>\n</div>"
     },
     "metadata": {},
     "execution_count": 29
    }
   ],
   "source": [
    "df_master"
   ]
  },
  {
   "cell_type": "code",
   "execution_count": 30,
   "metadata": {},
   "outputs": [],
   "source": [
    "header_list = [\"pt_identifier\", \"Date\", \"Time\", \"BP1\", \"BP2\", \"Pulse\", \"Temp\", \"RR\", \"O2Sat\", \"Admission_Date\", \"Discharge_Date\", \"Age_Code\", \"Age_Number\", \"Gender\", \"Weight\", \"LDate\", \"LTime\", \"LResult\", \"LRange\", \"WDate\", \"WTime\", \"WResult\", \"Diag_Code\", \"Diag_desc\", \"Diag_prefix\", \"Diag_type\"]"
   ]
  },
  {
   "cell_type": "code",
   "execution_count": 31,
   "metadata": {},
   "outputs": [],
   "source": [
    "df4 = df4.reindex(columns = header_list)          "
   ]
  },
  {
   "cell_type": "code",
   "execution_count": 32,
   "metadata": {},
   "outputs": [
    {
     "output_type": "execute_result",
     "data": {
      "text/plain": [
       "       pt_identifier      Date    Time    BP1   BP2  Pulse  Temp    RR  O2Sat  \\\n",
       "0           H1000412  31/12/20  2359.0  116.0  84.0   88.0  36.9  17.0   97.0   \n",
       "1           H1000412  01/01/21   351.0  126.0  64.0   69.0  37.0  10.0   94.0   \n",
       "2           H1002797  08/12/20  1725.0  147.0  91.0   63.0   NaN  18.0   97.0   \n",
       "3           H1002797  11/01/21  1635.0  140.0  82.0   57.0  36.8  18.0   98.0   \n",
       "4           H1002797  11/01/21  1851.0  137.0  81.0   58.0  36.8  17.0   97.0   \n",
       "...              ...       ...     ...    ...   ...    ...   ...   ...    ...   \n",
       "262650      H4049693  21/11/20  1832.0    NaN   NaN    NaN  36.2  40.0    NaN   \n",
       "262651      H1778774  07/12/20  1650.0    NaN   NaN    NaN  36.7   NaN    NaN   \n",
       "262652      H4073700  23/02/21  1324.0    NaN   NaN    NaN  36.7  28.0   99.0   \n",
       "262653      H3705405  27/01/21  1804.0    NaN   NaN    NaN  37.2  22.0  100.0   \n",
       "262654      Z1751922  19/02/21  1831.0    NaN   NaN    NaN  38.9   NaN    NaN   \n",
       "\n",
       "        Admission_Date  ...  LTime  LResult  LRange  WDate  WTime  WResult  \\\n",
       "0                  NaN  ...    NaN      NaN     NaN    NaN    NaN      NaN   \n",
       "1                  NaN  ...    NaN      NaN     NaN    NaN    NaN      NaN   \n",
       "2                  NaN  ...    NaN      NaN     NaN    NaN    NaN      NaN   \n",
       "3                  NaN  ...    NaN      NaN     NaN    NaN    NaN      NaN   \n",
       "4                  NaN  ...    NaN      NaN     NaN    NaN    NaN      NaN   \n",
       "...                ...  ...    ...      ...     ...    ...    ...      ...   \n",
       "262650             NaN  ...    NaN      NaN     NaN    NaN    NaN      NaN   \n",
       "262651             NaN  ...    NaN      NaN     NaN    NaN    NaN      NaN   \n",
       "262652             NaN  ...    NaN      NaN     NaN    NaN    NaN      NaN   \n",
       "262653             NaN  ...    NaN      NaN     NaN    NaN    NaN      NaN   \n",
       "262654             NaN  ...    NaN      NaN     NaN    NaN    NaN      NaN   \n",
       "\n",
       "        Diag_Code  Diag_desc  Diag_prefix  Diag_type  \n",
       "0             NaN        NaN          NaN        NaN  \n",
       "1             NaN        NaN          NaN        NaN  \n",
       "2             NaN        NaN          NaN        NaN  \n",
       "3             NaN        NaN          NaN        NaN  \n",
       "4             NaN        NaN          NaN        NaN  \n",
       "...           ...        ...          ...        ...  \n",
       "262650        NaN        NaN          NaN        NaN  \n",
       "262651        NaN        NaN          NaN        NaN  \n",
       "262652        NaN        NaN          NaN        NaN  \n",
       "262653        NaN        NaN          NaN        NaN  \n",
       "262654        NaN        NaN          NaN        NaN  \n",
       "\n",
       "[262655 rows x 26 columns]"
      ],
      "text/html": "<div>\n<style scoped>\n    .dataframe tbody tr th:only-of-type {\n        vertical-align: middle;\n    }\n\n    .dataframe tbody tr th {\n        vertical-align: top;\n    }\n\n    .dataframe thead th {\n        text-align: right;\n    }\n</style>\n<table border=\"1\" class=\"dataframe\">\n  <thead>\n    <tr style=\"text-align: right;\">\n      <th></th>\n      <th>pt_identifier</th>\n      <th>Date</th>\n      <th>Time</th>\n      <th>BP1</th>\n      <th>BP2</th>\n      <th>Pulse</th>\n      <th>Temp</th>\n      <th>RR</th>\n      <th>O2Sat</th>\n      <th>Admission_Date</th>\n      <th>...</th>\n      <th>LTime</th>\n      <th>LResult</th>\n      <th>LRange</th>\n      <th>WDate</th>\n      <th>WTime</th>\n      <th>WResult</th>\n      <th>Diag_Code</th>\n      <th>Diag_desc</th>\n      <th>Diag_prefix</th>\n      <th>Diag_type</th>\n    </tr>\n  </thead>\n  <tbody>\n    <tr>\n      <th>0</th>\n      <td>H1000412</td>\n      <td>31/12/20</td>\n      <td>2359.0</td>\n      <td>116.0</td>\n      <td>84.0</td>\n      <td>88.0</td>\n      <td>36.9</td>\n      <td>17.0</td>\n      <td>97.0</td>\n      <td>NaN</td>\n      <td>...</td>\n      <td>NaN</td>\n      <td>NaN</td>\n      <td>NaN</td>\n      <td>NaN</td>\n      <td>NaN</td>\n      <td>NaN</td>\n      <td>NaN</td>\n      <td>NaN</td>\n      <td>NaN</td>\n      <td>NaN</td>\n    </tr>\n    <tr>\n      <th>1</th>\n      <td>H1000412</td>\n      <td>01/01/21</td>\n      <td>351.0</td>\n      <td>126.0</td>\n      <td>64.0</td>\n      <td>69.0</td>\n      <td>37.0</td>\n      <td>10.0</td>\n      <td>94.0</td>\n      <td>NaN</td>\n      <td>...</td>\n      <td>NaN</td>\n      <td>NaN</td>\n      <td>NaN</td>\n      <td>NaN</td>\n      <td>NaN</td>\n      <td>NaN</td>\n      <td>NaN</td>\n      <td>NaN</td>\n      <td>NaN</td>\n      <td>NaN</td>\n    </tr>\n    <tr>\n      <th>2</th>\n      <td>H1002797</td>\n      <td>08/12/20</td>\n      <td>1725.0</td>\n      <td>147.0</td>\n      <td>91.0</td>\n      <td>63.0</td>\n      <td>NaN</td>\n      <td>18.0</td>\n      <td>97.0</td>\n      <td>NaN</td>\n      <td>...</td>\n      <td>NaN</td>\n      <td>NaN</td>\n      <td>NaN</td>\n      <td>NaN</td>\n      <td>NaN</td>\n      <td>NaN</td>\n      <td>NaN</td>\n      <td>NaN</td>\n      <td>NaN</td>\n      <td>NaN</td>\n    </tr>\n    <tr>\n      <th>3</th>\n      <td>H1002797</td>\n      <td>11/01/21</td>\n      <td>1635.0</td>\n      <td>140.0</td>\n      <td>82.0</td>\n      <td>57.0</td>\n      <td>36.8</td>\n      <td>18.0</td>\n      <td>98.0</td>\n      <td>NaN</td>\n      <td>...</td>\n      <td>NaN</td>\n      <td>NaN</td>\n      <td>NaN</td>\n      <td>NaN</td>\n      <td>NaN</td>\n      <td>NaN</td>\n      <td>NaN</td>\n      <td>NaN</td>\n      <td>NaN</td>\n      <td>NaN</td>\n    </tr>\n    <tr>\n      <th>4</th>\n      <td>H1002797</td>\n      <td>11/01/21</td>\n      <td>1851.0</td>\n      <td>137.0</td>\n      <td>81.0</td>\n      <td>58.0</td>\n      <td>36.8</td>\n      <td>17.0</td>\n      <td>97.0</td>\n      <td>NaN</td>\n      <td>...</td>\n      <td>NaN</td>\n      <td>NaN</td>\n      <td>NaN</td>\n      <td>NaN</td>\n      <td>NaN</td>\n      <td>NaN</td>\n      <td>NaN</td>\n      <td>NaN</td>\n      <td>NaN</td>\n      <td>NaN</td>\n    </tr>\n    <tr>\n      <th>...</th>\n      <td>...</td>\n      <td>...</td>\n      <td>...</td>\n      <td>...</td>\n      <td>...</td>\n      <td>...</td>\n      <td>...</td>\n      <td>...</td>\n      <td>...</td>\n      <td>...</td>\n      <td>...</td>\n      <td>...</td>\n      <td>...</td>\n      <td>...</td>\n      <td>...</td>\n      <td>...</td>\n      <td>...</td>\n      <td>...</td>\n      <td>...</td>\n      <td>...</td>\n      <td>...</td>\n    </tr>\n    <tr>\n      <th>262650</th>\n      <td>H4049693</td>\n      <td>21/11/20</td>\n      <td>1832.0</td>\n      <td>NaN</td>\n      <td>NaN</td>\n      <td>NaN</td>\n      <td>36.2</td>\n      <td>40.0</td>\n      <td>NaN</td>\n      <td>NaN</td>\n      <td>...</td>\n      <td>NaN</td>\n      <td>NaN</td>\n      <td>NaN</td>\n      <td>NaN</td>\n      <td>NaN</td>\n      <td>NaN</td>\n      <td>NaN</td>\n      <td>NaN</td>\n      <td>NaN</td>\n      <td>NaN</td>\n    </tr>\n    <tr>\n      <th>262651</th>\n      <td>H1778774</td>\n      <td>07/12/20</td>\n      <td>1650.0</td>\n      <td>NaN</td>\n      <td>NaN</td>\n      <td>NaN</td>\n      <td>36.7</td>\n      <td>NaN</td>\n      <td>NaN</td>\n      <td>NaN</td>\n      <td>...</td>\n      <td>NaN</td>\n      <td>NaN</td>\n      <td>NaN</td>\n      <td>NaN</td>\n      <td>NaN</td>\n      <td>NaN</td>\n      <td>NaN</td>\n      <td>NaN</td>\n      <td>NaN</td>\n      <td>NaN</td>\n    </tr>\n    <tr>\n      <th>262652</th>\n      <td>H4073700</td>\n      <td>23/02/21</td>\n      <td>1324.0</td>\n      <td>NaN</td>\n      <td>NaN</td>\n      <td>NaN</td>\n      <td>36.7</td>\n      <td>28.0</td>\n      <td>99.0</td>\n      <td>NaN</td>\n      <td>...</td>\n      <td>NaN</td>\n      <td>NaN</td>\n      <td>NaN</td>\n      <td>NaN</td>\n      <td>NaN</td>\n      <td>NaN</td>\n      <td>NaN</td>\n      <td>NaN</td>\n      <td>NaN</td>\n      <td>NaN</td>\n    </tr>\n    <tr>\n      <th>262653</th>\n      <td>H3705405</td>\n      <td>27/01/21</td>\n      <td>1804.0</td>\n      <td>NaN</td>\n      <td>NaN</td>\n      <td>NaN</td>\n      <td>37.2</td>\n      <td>22.0</td>\n      <td>100.0</td>\n      <td>NaN</td>\n      <td>...</td>\n      <td>NaN</td>\n      <td>NaN</td>\n      <td>NaN</td>\n      <td>NaN</td>\n      <td>NaN</td>\n      <td>NaN</td>\n      <td>NaN</td>\n      <td>NaN</td>\n      <td>NaN</td>\n      <td>NaN</td>\n    </tr>\n    <tr>\n      <th>262654</th>\n      <td>Z1751922</td>\n      <td>19/02/21</td>\n      <td>1831.0</td>\n      <td>NaN</td>\n      <td>NaN</td>\n      <td>NaN</td>\n      <td>38.9</td>\n      <td>NaN</td>\n      <td>NaN</td>\n      <td>NaN</td>\n      <td>...</td>\n      <td>NaN</td>\n      <td>NaN</td>\n      <td>NaN</td>\n      <td>NaN</td>\n      <td>NaN</td>\n      <td>NaN</td>\n      <td>NaN</td>\n      <td>NaN</td>\n      <td>NaN</td>\n      <td>NaN</td>\n    </tr>\n  </tbody>\n</table>\n<p>262655 rows × 26 columns</p>\n</div>"
     },
     "metadata": {},
     "execution_count": 32
    }
   ],
   "source": [
    "df4"
   ]
  },
  {
   "cell_type": "code",
   "execution_count": 35,
   "id": "62687382",
   "metadata": {},
   "outputs": [],
   "source": [
    "big_pt = df4[\"pt_identifier\"].tolist()\n",
    "small_pt = df_master[\"de_identified\"].tolist()"
   ]
  },
  {
   "cell_type": "code",
   "execution_count": 45,
   "metadata": {},
   "outputs": [
    {
     "output_type": "stream",
     "name": "stderr",
     "text": [
      "<ipython-input-45-1905eeeb993f>:4: SettingWithCopyWarning: \nA value is trying to be set on a copy of a slice from a DataFrame\n\nSee the caveats in the documentation: https://pandas.pydata.org/pandas-docs/stable/user_guide/indexing.html#returning-a-view-versus-a-copy\n  df4[\"Admission_Date\"][i] = df_master.iloc[j][1]\n<ipython-input-45-1905eeeb993f>:5: SettingWithCopyWarning: \nA value is trying to be set on a copy of a slice from a DataFrame\n\nSee the caveats in the documentation: https://pandas.pydata.org/pandas-docs/stable/user_guide/indexing.html#returning-a-view-versus-a-copy\n  df4[\"Discharge_Date\"][i] = df_master.iloc[j][2]\n<ipython-input-45-1905eeeb993f>:6: SettingWithCopyWarning: \nA value is trying to be set on a copy of a slice from a DataFrame\n\nSee the caveats in the documentation: https://pandas.pydata.org/pandas-docs/stable/user_guide/indexing.html#returning-a-view-versus-a-copy\n  df4[\"Age_Code\"][i] = df_master.iloc[j][3]\n<ipython-input-45-1905eeeb993f>:7: SettingWithCopyWarning: \nA value is trying to be set on a copy of a slice from a DataFrame\n\nSee the caveats in the documentation: https://pandas.pydata.org/pandas-docs/stable/user_guide/indexing.html#returning-a-view-versus-a-copy\n  df4[\"Age_Number\"][i]= df_master.iloc[j][5]\n<ipython-input-45-1905eeeb993f>:8: SettingWithCopyWarning: \nA value is trying to be set on a copy of a slice from a DataFrame\n\nSee the caveats in the documentation: https://pandas.pydata.org/pandas-docs/stable/user_guide/indexing.html#returning-a-view-versus-a-copy\n  df4[\"Gender\"][i] = df_master.iloc[j][6]\n<ipython-input-45-1905eeeb993f>:9: SettingWithCopyWarning: \nA value is trying to be set on a copy of a slice from a DataFrame\n\nSee the caveats in the documentation: https://pandas.pydata.org/pandas-docs/stable/user_guide/indexing.html#returning-a-view-versus-a-copy\n  df4[\"Weight\"][i] = df_master.iloc[j][7]\n"
     ]
    }
   ],
   "source": [
    "for i in range(len(big_pt)):\n",
    "    for j in range(len(small_pt)):\n",
    "        if big_pt[i] == small_pt[j]:\n",
    "            df4[\"Admission_Date\"][i] = df_master.iloc[j][1]\n",
    "            df4[\"Discharge_Date\"][i] = df_master.iloc[j][2]\n",
    "            df4[\"Age_Code\"][i] = df_master.iloc[j][3]\n",
    "            df4[\"Age_Number\"][i]= df_master.iloc[j][5]\n",
    "            df4[\"Gender\"][i] = df_master.iloc[j][6]\n",
    "            df4[\"Weight\"][i] = df_master.iloc[j][7]\n",
    "            break"
   ]
  },
  {
   "cell_type": "code",
   "execution_count": 46,
   "metadata": {},
   "outputs": [
    {
     "output_type": "execute_result",
     "data": {
      "text/plain": [
       "       pt_identifier      Date    Time    BP1   BP2  Pulse  Temp    RR  O2Sat  \\\n",
       "0           H1000412  31/12/20  2359.0  116.0  84.0   88.0  36.9  17.0   97.0   \n",
       "1           H1000412  01/01/21   351.0  126.0  64.0   69.0  37.0  10.0   94.0   \n",
       "2           H1002797  08/12/20  1725.0  147.0  91.0   63.0   NaN  18.0   97.0   \n",
       "3           H1002797  11/01/21  1635.0  140.0  82.0   57.0  36.8  18.0   98.0   \n",
       "4           H1002797  11/01/21  1851.0  137.0  81.0   58.0  36.8  17.0   97.0   \n",
       "...              ...       ...     ...    ...   ...    ...   ...   ...    ...   \n",
       "262650      H4049693  21/11/20  1832.0    NaN   NaN    NaN  36.2  40.0    NaN   \n",
       "262651      H1778774  07/12/20  1650.0    NaN   NaN    NaN  36.7   NaN    NaN   \n",
       "262652      H4073700  23/02/21  1324.0    NaN   NaN    NaN  36.7  28.0   99.0   \n",
       "262653      H3705405  27/01/21  1804.0    NaN   NaN    NaN  37.2  22.0  100.0   \n",
       "262654      Z1751922  19/02/21  1831.0    NaN   NaN    NaN  38.9   NaN    NaN   \n",
       "\n",
       "             Admission_Date  ... LTime LResult  LRange WDate  WTime  WResult  \\\n",
       "0       2020-12-31 00:00:00  ...   NaN     NaN     NaN   NaN    NaN      NaN   \n",
       "1       2020-12-31 00:00:00  ...   NaN     NaN     NaN   NaN    NaN      NaN   \n",
       "2       2020-11-18 00:00:00  ...   NaN     NaN     NaN   NaN    NaN      NaN   \n",
       "3       2020-11-18 00:00:00  ...   NaN     NaN     NaN   NaN    NaN      NaN   \n",
       "4       2020-11-18 00:00:00  ...   NaN     NaN     NaN   NaN    NaN      NaN   \n",
       "...                     ...  ...   ...     ...     ...   ...    ...      ...   \n",
       "262650  2020-11-14 00:00:00  ...   NaN     NaN     NaN   NaN    NaN      NaN   \n",
       "262651  2020-10-23 00:00:00  ...   NaN     NaN     NaN   NaN    NaN      NaN   \n",
       "262652  2021-02-02 00:00:00  ...   NaN     NaN     NaN   NaN    NaN      NaN   \n",
       "262653  2021-02-03 00:00:00  ...   NaN     NaN     NaN   NaN    NaN      NaN   \n",
       "262654  2021-02-20 00:00:00  ...   NaN     NaN     NaN   NaN    NaN      NaN   \n",
       "\n",
       "        Diag_Code  Diag_desc  Diag_prefix  Diag_type  \n",
       "0             NaN        NaN          NaN        NaN  \n",
       "1             NaN        NaN          NaN        NaN  \n",
       "2             NaN        NaN          NaN        NaN  \n",
       "3             NaN        NaN          NaN        NaN  \n",
       "4             NaN        NaN          NaN        NaN  \n",
       "...           ...        ...          ...        ...  \n",
       "262650        NaN        NaN          NaN        NaN  \n",
       "262651        NaN        NaN          NaN        NaN  \n",
       "262652        NaN        NaN          NaN        NaN  \n",
       "262653        NaN        NaN          NaN        NaN  \n",
       "262654        NaN        NaN          NaN        NaN  \n",
       "\n",
       "[262655 rows x 26 columns]"
      ],
      "text/html": "<div>\n<style scoped>\n    .dataframe tbody tr th:only-of-type {\n        vertical-align: middle;\n    }\n\n    .dataframe tbody tr th {\n        vertical-align: top;\n    }\n\n    .dataframe thead th {\n        text-align: right;\n    }\n</style>\n<table border=\"1\" class=\"dataframe\">\n  <thead>\n    <tr style=\"text-align: right;\">\n      <th></th>\n      <th>pt_identifier</th>\n      <th>Date</th>\n      <th>Time</th>\n      <th>BP1</th>\n      <th>BP2</th>\n      <th>Pulse</th>\n      <th>Temp</th>\n      <th>RR</th>\n      <th>O2Sat</th>\n      <th>Admission_Date</th>\n      <th>...</th>\n      <th>LTime</th>\n      <th>LResult</th>\n      <th>LRange</th>\n      <th>WDate</th>\n      <th>WTime</th>\n      <th>WResult</th>\n      <th>Diag_Code</th>\n      <th>Diag_desc</th>\n      <th>Diag_prefix</th>\n      <th>Diag_type</th>\n    </tr>\n  </thead>\n  <tbody>\n    <tr>\n      <th>0</th>\n      <td>H1000412</td>\n      <td>31/12/20</td>\n      <td>2359.0</td>\n      <td>116.0</td>\n      <td>84.0</td>\n      <td>88.0</td>\n      <td>36.9</td>\n      <td>17.0</td>\n      <td>97.0</td>\n      <td>2020-12-31 00:00:00</td>\n      <td>...</td>\n      <td>NaN</td>\n      <td>NaN</td>\n      <td>NaN</td>\n      <td>NaN</td>\n      <td>NaN</td>\n      <td>NaN</td>\n      <td>NaN</td>\n      <td>NaN</td>\n      <td>NaN</td>\n      <td>NaN</td>\n    </tr>\n    <tr>\n      <th>1</th>\n      <td>H1000412</td>\n      <td>01/01/21</td>\n      <td>351.0</td>\n      <td>126.0</td>\n      <td>64.0</td>\n      <td>69.0</td>\n      <td>37.0</td>\n      <td>10.0</td>\n      <td>94.0</td>\n      <td>2020-12-31 00:00:00</td>\n      <td>...</td>\n      <td>NaN</td>\n      <td>NaN</td>\n      <td>NaN</td>\n      <td>NaN</td>\n      <td>NaN</td>\n      <td>NaN</td>\n      <td>NaN</td>\n      <td>NaN</td>\n      <td>NaN</td>\n      <td>NaN</td>\n    </tr>\n    <tr>\n      <th>2</th>\n      <td>H1002797</td>\n      <td>08/12/20</td>\n      <td>1725.0</td>\n      <td>147.0</td>\n      <td>91.0</td>\n      <td>63.0</td>\n      <td>NaN</td>\n      <td>18.0</td>\n      <td>97.0</td>\n      <td>2020-11-18 00:00:00</td>\n      <td>...</td>\n      <td>NaN</td>\n      <td>NaN</td>\n      <td>NaN</td>\n      <td>NaN</td>\n      <td>NaN</td>\n      <td>NaN</td>\n      <td>NaN</td>\n      <td>NaN</td>\n      <td>NaN</td>\n      <td>NaN</td>\n    </tr>\n    <tr>\n      <th>3</th>\n      <td>H1002797</td>\n      <td>11/01/21</td>\n      <td>1635.0</td>\n      <td>140.0</td>\n      <td>82.0</td>\n      <td>57.0</td>\n      <td>36.8</td>\n      <td>18.0</td>\n      <td>98.0</td>\n      <td>2020-11-18 00:00:00</td>\n      <td>...</td>\n      <td>NaN</td>\n      <td>NaN</td>\n      <td>NaN</td>\n      <td>NaN</td>\n      <td>NaN</td>\n      <td>NaN</td>\n      <td>NaN</td>\n      <td>NaN</td>\n      <td>NaN</td>\n      <td>NaN</td>\n    </tr>\n    <tr>\n      <th>4</th>\n      <td>H1002797</td>\n      <td>11/01/21</td>\n      <td>1851.0</td>\n      <td>137.0</td>\n      <td>81.0</td>\n      <td>58.0</td>\n      <td>36.8</td>\n      <td>17.0</td>\n      <td>97.0</td>\n      <td>2020-11-18 00:00:00</td>\n      <td>...</td>\n      <td>NaN</td>\n      <td>NaN</td>\n      <td>NaN</td>\n      <td>NaN</td>\n      <td>NaN</td>\n      <td>NaN</td>\n      <td>NaN</td>\n      <td>NaN</td>\n      <td>NaN</td>\n      <td>NaN</td>\n    </tr>\n    <tr>\n      <th>...</th>\n      <td>...</td>\n      <td>...</td>\n      <td>...</td>\n      <td>...</td>\n      <td>...</td>\n      <td>...</td>\n      <td>...</td>\n      <td>...</td>\n      <td>...</td>\n      <td>...</td>\n      <td>...</td>\n      <td>...</td>\n      <td>...</td>\n      <td>...</td>\n      <td>...</td>\n      <td>...</td>\n      <td>...</td>\n      <td>...</td>\n      <td>...</td>\n      <td>...</td>\n      <td>...</td>\n    </tr>\n    <tr>\n      <th>262650</th>\n      <td>H4049693</td>\n      <td>21/11/20</td>\n      <td>1832.0</td>\n      <td>NaN</td>\n      <td>NaN</td>\n      <td>NaN</td>\n      <td>36.2</td>\n      <td>40.0</td>\n      <td>NaN</td>\n      <td>2020-11-14 00:00:00</td>\n      <td>...</td>\n      <td>NaN</td>\n      <td>NaN</td>\n      <td>NaN</td>\n      <td>NaN</td>\n      <td>NaN</td>\n      <td>NaN</td>\n      <td>NaN</td>\n      <td>NaN</td>\n      <td>NaN</td>\n      <td>NaN</td>\n    </tr>\n    <tr>\n      <th>262651</th>\n      <td>H1778774</td>\n      <td>07/12/20</td>\n      <td>1650.0</td>\n      <td>NaN</td>\n      <td>NaN</td>\n      <td>NaN</td>\n      <td>36.7</td>\n      <td>NaN</td>\n      <td>NaN</td>\n      <td>2020-10-23 00:00:00</td>\n      <td>...</td>\n      <td>NaN</td>\n      <td>NaN</td>\n      <td>NaN</td>\n      <td>NaN</td>\n      <td>NaN</td>\n      <td>NaN</td>\n      <td>NaN</td>\n      <td>NaN</td>\n      <td>NaN</td>\n      <td>NaN</td>\n    </tr>\n    <tr>\n      <th>262652</th>\n      <td>H4073700</td>\n      <td>23/02/21</td>\n      <td>1324.0</td>\n      <td>NaN</td>\n      <td>NaN</td>\n      <td>NaN</td>\n      <td>36.7</td>\n      <td>28.0</td>\n      <td>99.0</td>\n      <td>2021-02-02 00:00:00</td>\n      <td>...</td>\n      <td>NaN</td>\n      <td>NaN</td>\n      <td>NaN</td>\n      <td>NaN</td>\n      <td>NaN</td>\n      <td>NaN</td>\n      <td>NaN</td>\n      <td>NaN</td>\n      <td>NaN</td>\n      <td>NaN</td>\n    </tr>\n    <tr>\n      <th>262653</th>\n      <td>H3705405</td>\n      <td>27/01/21</td>\n      <td>1804.0</td>\n      <td>NaN</td>\n      <td>NaN</td>\n      <td>NaN</td>\n      <td>37.2</td>\n      <td>22.0</td>\n      <td>100.0</td>\n      <td>2021-02-03 00:00:00</td>\n      <td>...</td>\n      <td>NaN</td>\n      <td>NaN</td>\n      <td>NaN</td>\n      <td>NaN</td>\n      <td>NaN</td>\n      <td>NaN</td>\n      <td>NaN</td>\n      <td>NaN</td>\n      <td>NaN</td>\n      <td>NaN</td>\n    </tr>\n    <tr>\n      <th>262654</th>\n      <td>Z1751922</td>\n      <td>19/02/21</td>\n      <td>1831.0</td>\n      <td>NaN</td>\n      <td>NaN</td>\n      <td>NaN</td>\n      <td>38.9</td>\n      <td>NaN</td>\n      <td>NaN</td>\n      <td>2021-02-20 00:00:00</td>\n      <td>...</td>\n      <td>NaN</td>\n      <td>NaN</td>\n      <td>NaN</td>\n      <td>NaN</td>\n      <td>NaN</td>\n      <td>NaN</td>\n      <td>NaN</td>\n      <td>NaN</td>\n      <td>NaN</td>\n      <td>NaN</td>\n    </tr>\n  </tbody>\n</table>\n<p>262655 rows × 26 columns</p>\n</div>"
     },
     "metadata": {},
     "execution_count": 46
    }
   ],
   "source": [
    "df4"
   ]
  },
  {
   "cell_type": "code",
   "execution_count": 50,
   "metadata": {},
   "outputs": [],
   "source": [
    "df_diag = pd.read_excel(\n",
    "     '../MF_lact_WC_Diag.xlsx',\n",
    "     engine='openpyxl', sheet_name = 'diagnoses'\n",
    ")"
   ]
  },
  {
   "cell_type": "code",
   "execution_count": 51,
   "metadata": {},
   "outputs": [
    {
     "output_type": "execute_result",
     "data": {
      "text/plain": [
       "    de_identified Admission_Date Discharge_Date Diagnosis_Code  \\\n",
       "0        H3566484     2020-05-08     2020-10-09        A41.9     \n",
       "1        H3566484     2020-05-08     2020-10-09          R57.2   \n",
       "2        H1378070     2020-09-29     2020-10-02        A41.9     \n",
       "3         H911067     2020-10-13     2020-10-30          R57.2   \n",
       "4        H2378600     2020-10-24     2020-11-13        A41.9     \n",
       "..            ...            ...            ...            ...   \n",
       "244      Z1020584     2021-01-13     2021-01-15          R57.2   \n",
       "245       H758311     2021-01-21     2021-01-23        A41.0     \n",
       "246      H3927091     2021-01-29     2021-01-29        A41.9     \n",
       "247      Z1629093     2021-03-05     2021-03-05        A41.9     \n",
       "248      H1839435     2021-03-05     2021-03-25        A41.9     \n",
       "\n",
       "                     Diagnosis_Code_Desc Diagnosis_Prefix  \\\n",
       "0                    Sepsis, unspecified              NaN   \n",
       "1                           Septic shock              NaN   \n",
       "2                    Sepsis, unspecified              NaN   \n",
       "3                           Septic shock              NaN   \n",
       "4                    Sepsis, unspecified              NaN   \n",
       "..                                   ...              ...   \n",
       "244                         Septic shock              NaN   \n",
       "245  Sepsis due to Staphylococcus aureus              NaN   \n",
       "246                  Sepsis, unspecified                Q   \n",
       "247                  Sepsis, unspecified              NaN   \n",
       "248                  Sepsis, unspecified              NaN   \n",
       "\n",
       "               Diagnosis_Prefix_Desc Diagnosis_Type    Diagnosis_Type_Desc  \n",
       "0                                NaN              1  Pre-Admit Comorbidity  \n",
       "1                                NaN              1  Pre-Admit Comorbidity  \n",
       "2                                NaN              1  Pre-Admit Comorbidity  \n",
       "3                                NaN              1  Pre-Admit Comorbidity  \n",
       "4                                NaN              1  Pre-Admit Comorbidity  \n",
       "..                               ...            ...                    ...  \n",
       "244                              NaN              M       Most Responsible  \n",
       "245                              NaN              M       Most Responsible  \n",
       "246  Questionable Or Query Diagnoses              M       Most Responsible  \n",
       "247                              NaN              M       Most Responsible  \n",
       "248                              NaN              M       Most Responsible  \n",
       "\n",
       "[249 rows x 9 columns]"
      ],
      "text/html": "<div>\n<style scoped>\n    .dataframe tbody tr th:only-of-type {\n        vertical-align: middle;\n    }\n\n    .dataframe tbody tr th {\n        vertical-align: top;\n    }\n\n    .dataframe thead th {\n        text-align: right;\n    }\n</style>\n<table border=\"1\" class=\"dataframe\">\n  <thead>\n    <tr style=\"text-align: right;\">\n      <th></th>\n      <th>de_identified</th>\n      <th>Admission_Date</th>\n      <th>Discharge_Date</th>\n      <th>Diagnosis_Code</th>\n      <th>Diagnosis_Code_Desc</th>\n      <th>Diagnosis_Prefix</th>\n      <th>Diagnosis_Prefix_Desc</th>\n      <th>Diagnosis_Type</th>\n      <th>Diagnosis_Type_Desc</th>\n    </tr>\n  </thead>\n  <tbody>\n    <tr>\n      <th>0</th>\n      <td>H3566484</td>\n      <td>2020-05-08</td>\n      <td>2020-10-09</td>\n      <td>A41.9</td>\n      <td>Sepsis, unspecified</td>\n      <td>NaN</td>\n      <td>NaN</td>\n      <td>1</td>\n      <td>Pre-Admit Comorbidity</td>\n    </tr>\n    <tr>\n      <th>1</th>\n      <td>H3566484</td>\n      <td>2020-05-08</td>\n      <td>2020-10-09</td>\n      <td>R57.2</td>\n      <td>Septic shock</td>\n      <td>NaN</td>\n      <td>NaN</td>\n      <td>1</td>\n      <td>Pre-Admit Comorbidity</td>\n    </tr>\n    <tr>\n      <th>2</th>\n      <td>H1378070</td>\n      <td>2020-09-29</td>\n      <td>2020-10-02</td>\n      <td>A41.9</td>\n      <td>Sepsis, unspecified</td>\n      <td>NaN</td>\n      <td>NaN</td>\n      <td>1</td>\n      <td>Pre-Admit Comorbidity</td>\n    </tr>\n    <tr>\n      <th>3</th>\n      <td>H911067</td>\n      <td>2020-10-13</td>\n      <td>2020-10-30</td>\n      <td>R57.2</td>\n      <td>Septic shock</td>\n      <td>NaN</td>\n      <td>NaN</td>\n      <td>1</td>\n      <td>Pre-Admit Comorbidity</td>\n    </tr>\n    <tr>\n      <th>4</th>\n      <td>H2378600</td>\n      <td>2020-10-24</td>\n      <td>2020-11-13</td>\n      <td>A41.9</td>\n      <td>Sepsis, unspecified</td>\n      <td>NaN</td>\n      <td>NaN</td>\n      <td>1</td>\n      <td>Pre-Admit Comorbidity</td>\n    </tr>\n    <tr>\n      <th>...</th>\n      <td>...</td>\n      <td>...</td>\n      <td>...</td>\n      <td>...</td>\n      <td>...</td>\n      <td>...</td>\n      <td>...</td>\n      <td>...</td>\n      <td>...</td>\n    </tr>\n    <tr>\n      <th>244</th>\n      <td>Z1020584</td>\n      <td>2021-01-13</td>\n      <td>2021-01-15</td>\n      <td>R57.2</td>\n      <td>Septic shock</td>\n      <td>NaN</td>\n      <td>NaN</td>\n      <td>M</td>\n      <td>Most Responsible</td>\n    </tr>\n    <tr>\n      <th>245</th>\n      <td>H758311</td>\n      <td>2021-01-21</td>\n      <td>2021-01-23</td>\n      <td>A41.0</td>\n      <td>Sepsis due to Staphylococcus aureus</td>\n      <td>NaN</td>\n      <td>NaN</td>\n      <td>M</td>\n      <td>Most Responsible</td>\n    </tr>\n    <tr>\n      <th>246</th>\n      <td>H3927091</td>\n      <td>2021-01-29</td>\n      <td>2021-01-29</td>\n      <td>A41.9</td>\n      <td>Sepsis, unspecified</td>\n      <td>Q</td>\n      <td>Questionable Or Query Diagnoses</td>\n      <td>M</td>\n      <td>Most Responsible</td>\n    </tr>\n    <tr>\n      <th>247</th>\n      <td>Z1629093</td>\n      <td>2021-03-05</td>\n      <td>2021-03-05</td>\n      <td>A41.9</td>\n      <td>Sepsis, unspecified</td>\n      <td>NaN</td>\n      <td>NaN</td>\n      <td>M</td>\n      <td>Most Responsible</td>\n    </tr>\n    <tr>\n      <th>248</th>\n      <td>H1839435</td>\n      <td>2021-03-05</td>\n      <td>2021-03-25</td>\n      <td>A41.9</td>\n      <td>Sepsis, unspecified</td>\n      <td>NaN</td>\n      <td>NaN</td>\n      <td>M</td>\n      <td>Most Responsible</td>\n    </tr>\n  </tbody>\n</table>\n<p>249 rows × 9 columns</p>\n</div>"
     },
     "metadata": {},
     "execution_count": 51
    }
   ],
   "source": [
    "df_diag"
   ]
  },
  {
   "cell_type": "code",
   "execution_count": 52,
   "metadata": {},
   "outputs": [],
   "source": [
    "diag_id = df_diag[\"de_identified\"].tolist()"
   ]
  },
  {
   "cell_type": "code",
   "execution_count": 53,
   "metadata": {},
   "outputs": [
    {
     "output_type": "stream",
     "name": "stderr",
     "text": [
      "<ipython-input-53-f06107caa839>:4: SettingWithCopyWarning: \nA value is trying to be set on a copy of a slice from a DataFrame\n\nSee the caveats in the documentation: https://pandas.pydata.org/pandas-docs/stable/user_guide/indexing.html#returning-a-view-versus-a-copy\n  df4[\"Diag_Code\"][i] = df_diag.iloc[j][3]\nC:\\Users\\Adam Lam\\AppData\\Local\\Programs\\Python\\Python38\\lib\\site-packages\\pandas\\core\\indexing.py:1636: SettingWithCopyWarning: \nA value is trying to be set on a copy of a slice from a DataFrame\n\nSee the caveats in the documentation: https://pandas.pydata.org/pandas-docs/stable/user_guide/indexing.html#returning-a-view-versus-a-copy\n  self._setitem_single_block(indexer, value, name)\n<ipython-input-53-f06107caa839>:5: SettingWithCopyWarning: \nA value is trying to be set on a copy of a slice from a DataFrame\n\nSee the caveats in the documentation: https://pandas.pydata.org/pandas-docs/stable/user_guide/indexing.html#returning-a-view-versus-a-copy\n  df4[\"Diag_desc\"][i] = df_diag.iloc[j][4]\n<ipython-input-53-f06107caa839>:6: SettingWithCopyWarning: \nA value is trying to be set on a copy of a slice from a DataFrame\n\nSee the caveats in the documentation: https://pandas.pydata.org/pandas-docs/stable/user_guide/indexing.html#returning-a-view-versus-a-copy\n  df4[\"Diag_prefix\"][i] = df_diag.iloc[j][5]\n<ipython-input-53-f06107caa839>:7: SettingWithCopyWarning: \nA value is trying to be set on a copy of a slice from a DataFrame\n\nSee the caveats in the documentation: https://pandas.pydata.org/pandas-docs/stable/user_guide/indexing.html#returning-a-view-versus-a-copy\n  df4[\"Diag_type\"][i]= df_diag.iloc[j][7]\n"
     ]
    }
   ],
   "source": [
    "for i in range(len(big_pt)):\n",
    "    for j in range(len(diag_id)):\n",
    "        if big_pt[i] == diag_id[j]:\n",
    "            df4[\"Diag_Code\"][i] = df_diag.iloc[j][3]\n",
    "            df4[\"Diag_desc\"][i] = df_diag.iloc[j][4]\n",
    "            df4[\"Diag_prefix\"][i] = df_diag.iloc[j][5]\n",
    "            df4[\"Diag_type\"][i]= df_diag.iloc[j][7]\n",
    "            break\n"
   ]
  },
  {
   "cell_type": "code",
   "execution_count": 54,
   "id": "e971e60e",
   "metadata": {
    "tags": []
   },
   "outputs": [],
   "source": [
    "header_list = [\"pt_identifier\", \"Date\", \"Time\", \"BP1\", \"BP2\", \"Pulse\", \"Temp\", \"RR\", \"O2Sat\", \"Admission_Date\", \"Discharge_Date\", \"Age_Code\", \"Age_Number\", \"Gender\", \"Weight\", \"Diag_Code\", \"Diag_desc\", \"Diag_prefix\", \"Diag_type\"]"
   ]
  },
  {
   "cell_type": "code",
   "execution_count": 55,
   "metadata": {},
   "outputs": [],
   "source": [
    "df4 = df4.reindex(columns = header_list)"
   ]
  },
  {
   "cell_type": "code",
   "execution_count": 56,
   "id": "ca9473b9",
   "metadata": {},
   "outputs": [],
   "source": [
    "df4.to_csv('all_vitals_info_diag.csv')\n"
   ]
  },
  {
   "cell_type": "code",
   "execution_count": 57,
   "id": "433e1ae3",
   "metadata": {},
   "outputs": [
    {
     "output_type": "execute_result",
     "data": {
      "text/plain": [
       "       pt_identifier      Date    Time    BP1   BP2  Pulse  Temp    RR  O2Sat  \\\n",
       "0           H1000412  31/12/20  2359.0  116.0  84.0   88.0  36.9  17.0   97.0   \n",
       "1           H1000412  01/01/21   351.0  126.0  64.0   69.0  37.0  10.0   94.0   \n",
       "2           H1002797  08/12/20  1725.0  147.0  91.0   63.0   NaN  18.0   97.0   \n",
       "3           H1002797  11/01/21  1635.0  140.0  82.0   57.0  36.8  18.0   98.0   \n",
       "4           H1002797  11/01/21  1851.0  137.0  81.0   58.0  36.8  17.0   97.0   \n",
       "...              ...       ...     ...    ...   ...    ...   ...   ...    ...   \n",
       "262650      H4049693  21/11/20  1832.0    NaN   NaN    NaN  36.2  40.0    NaN   \n",
       "262651      H1778774  07/12/20  1650.0    NaN   NaN    NaN  36.7   NaN    NaN   \n",
       "262652      H4073700  23/02/21  1324.0    NaN   NaN    NaN  36.7  28.0   99.0   \n",
       "262653      H3705405  27/01/21  1804.0    NaN   NaN    NaN  37.2  22.0  100.0   \n",
       "262654      Z1751922  19/02/21  1831.0    NaN   NaN    NaN  38.9   NaN    NaN   \n",
       "\n",
       "             Admission_Date       Discharge_Date Age_Code  Age_Number Gender  \\\n",
       "0       2020-12-31 00:00:00  2021-01-01 00:00:00        Y        81.0      F   \n",
       "1       2020-12-31 00:00:00  2021-01-01 00:00:00        Y        81.0      F   \n",
       "2       2020-11-18 00:00:00  2020-11-20 00:00:00        Y        66.0      F   \n",
       "3       2020-11-18 00:00:00  2020-11-20 00:00:00        Y        66.0      F   \n",
       "4       2020-11-18 00:00:00  2020-11-20 00:00:00        Y        66.0      F   \n",
       "...                     ...                  ...      ...         ...    ...   \n",
       "262650  2020-11-14 00:00:00  2020-11-15 00:00:00        D         0.0      M   \n",
       "262651  2020-10-23 00:00:00  2020-10-29 00:00:00        Y        48.0      F   \n",
       "262652  2021-02-02 00:00:00  2021-02-04 00:00:00        D         0.0      M   \n",
       "262653  2021-02-03 00:00:00  2021-02-04 00:00:00        Y         4.0      F   \n",
       "262654  2021-02-20 00:00:00  2021-02-23 00:00:00        Y         2.0      F   \n",
       "\n",
       "        Weight Diag_Code Diag_desc Diag_prefix Diag_type  \n",
       "0          NaN       NaN       NaN         NaN       NaN  \n",
       "1          NaN       NaN       NaN         NaN       NaN  \n",
       "2          NaN       NaN       NaN         NaN       NaN  \n",
       "3          NaN       NaN       NaN         NaN       NaN  \n",
       "4          NaN       NaN       NaN         NaN       NaN  \n",
       "...        ...       ...       ...         ...       ...  \n",
       "262650   4.235       NaN       NaN         NaN       NaN  \n",
       "262651  65.450       NaN       NaN         NaN       NaN  \n",
       "262652   3.190       NaN       NaN         NaN       NaN  \n",
       "262653  17.000       NaN       NaN         NaN       NaN  \n",
       "262654  18.000       NaN       NaN         NaN       NaN  \n",
       "\n",
       "[262655 rows x 19 columns]"
      ],
      "text/html": "<div>\n<style scoped>\n    .dataframe tbody tr th:only-of-type {\n        vertical-align: middle;\n    }\n\n    .dataframe tbody tr th {\n        vertical-align: top;\n    }\n\n    .dataframe thead th {\n        text-align: right;\n    }\n</style>\n<table border=\"1\" class=\"dataframe\">\n  <thead>\n    <tr style=\"text-align: right;\">\n      <th></th>\n      <th>pt_identifier</th>\n      <th>Date</th>\n      <th>Time</th>\n      <th>BP1</th>\n      <th>BP2</th>\n      <th>Pulse</th>\n      <th>Temp</th>\n      <th>RR</th>\n      <th>O2Sat</th>\n      <th>Admission_Date</th>\n      <th>Discharge_Date</th>\n      <th>Age_Code</th>\n      <th>Age_Number</th>\n      <th>Gender</th>\n      <th>Weight</th>\n      <th>Diag_Code</th>\n      <th>Diag_desc</th>\n      <th>Diag_prefix</th>\n      <th>Diag_type</th>\n    </tr>\n  </thead>\n  <tbody>\n    <tr>\n      <th>0</th>\n      <td>H1000412</td>\n      <td>31/12/20</td>\n      <td>2359.0</td>\n      <td>116.0</td>\n      <td>84.0</td>\n      <td>88.0</td>\n      <td>36.9</td>\n      <td>17.0</td>\n      <td>97.0</td>\n      <td>2020-12-31 00:00:00</td>\n      <td>2021-01-01 00:00:00</td>\n      <td>Y</td>\n      <td>81.0</td>\n      <td>F</td>\n      <td>NaN</td>\n      <td>NaN</td>\n      <td>NaN</td>\n      <td>NaN</td>\n      <td>NaN</td>\n    </tr>\n    <tr>\n      <th>1</th>\n      <td>H1000412</td>\n      <td>01/01/21</td>\n      <td>351.0</td>\n      <td>126.0</td>\n      <td>64.0</td>\n      <td>69.0</td>\n      <td>37.0</td>\n      <td>10.0</td>\n      <td>94.0</td>\n      <td>2020-12-31 00:00:00</td>\n      <td>2021-01-01 00:00:00</td>\n      <td>Y</td>\n      <td>81.0</td>\n      <td>F</td>\n      <td>NaN</td>\n      <td>NaN</td>\n      <td>NaN</td>\n      <td>NaN</td>\n      <td>NaN</td>\n    </tr>\n    <tr>\n      <th>2</th>\n      <td>H1002797</td>\n      <td>08/12/20</td>\n      <td>1725.0</td>\n      <td>147.0</td>\n      <td>91.0</td>\n      <td>63.0</td>\n      <td>NaN</td>\n      <td>18.0</td>\n      <td>97.0</td>\n      <td>2020-11-18 00:00:00</td>\n      <td>2020-11-20 00:00:00</td>\n      <td>Y</td>\n      <td>66.0</td>\n      <td>F</td>\n      <td>NaN</td>\n      <td>NaN</td>\n      <td>NaN</td>\n      <td>NaN</td>\n      <td>NaN</td>\n    </tr>\n    <tr>\n      <th>3</th>\n      <td>H1002797</td>\n      <td>11/01/21</td>\n      <td>1635.0</td>\n      <td>140.0</td>\n      <td>82.0</td>\n      <td>57.0</td>\n      <td>36.8</td>\n      <td>18.0</td>\n      <td>98.0</td>\n      <td>2020-11-18 00:00:00</td>\n      <td>2020-11-20 00:00:00</td>\n      <td>Y</td>\n      <td>66.0</td>\n      <td>F</td>\n      <td>NaN</td>\n      <td>NaN</td>\n      <td>NaN</td>\n      <td>NaN</td>\n      <td>NaN</td>\n    </tr>\n    <tr>\n      <th>4</th>\n      <td>H1002797</td>\n      <td>11/01/21</td>\n      <td>1851.0</td>\n      <td>137.0</td>\n      <td>81.0</td>\n      <td>58.0</td>\n      <td>36.8</td>\n      <td>17.0</td>\n      <td>97.0</td>\n      <td>2020-11-18 00:00:00</td>\n      <td>2020-11-20 00:00:00</td>\n      <td>Y</td>\n      <td>66.0</td>\n      <td>F</td>\n      <td>NaN</td>\n      <td>NaN</td>\n      <td>NaN</td>\n      <td>NaN</td>\n      <td>NaN</td>\n    </tr>\n    <tr>\n      <th>...</th>\n      <td>...</td>\n      <td>...</td>\n      <td>...</td>\n      <td>...</td>\n      <td>...</td>\n      <td>...</td>\n      <td>...</td>\n      <td>...</td>\n      <td>...</td>\n      <td>...</td>\n      <td>...</td>\n      <td>...</td>\n      <td>...</td>\n      <td>...</td>\n      <td>...</td>\n      <td>...</td>\n      <td>...</td>\n      <td>...</td>\n      <td>...</td>\n    </tr>\n    <tr>\n      <th>262650</th>\n      <td>H4049693</td>\n      <td>21/11/20</td>\n      <td>1832.0</td>\n      <td>NaN</td>\n      <td>NaN</td>\n      <td>NaN</td>\n      <td>36.2</td>\n      <td>40.0</td>\n      <td>NaN</td>\n      <td>2020-11-14 00:00:00</td>\n      <td>2020-11-15 00:00:00</td>\n      <td>D</td>\n      <td>0.0</td>\n      <td>M</td>\n      <td>4.235</td>\n      <td>NaN</td>\n      <td>NaN</td>\n      <td>NaN</td>\n      <td>NaN</td>\n    </tr>\n    <tr>\n      <th>262651</th>\n      <td>H1778774</td>\n      <td>07/12/20</td>\n      <td>1650.0</td>\n      <td>NaN</td>\n      <td>NaN</td>\n      <td>NaN</td>\n      <td>36.7</td>\n      <td>NaN</td>\n      <td>NaN</td>\n      <td>2020-10-23 00:00:00</td>\n      <td>2020-10-29 00:00:00</td>\n      <td>Y</td>\n      <td>48.0</td>\n      <td>F</td>\n      <td>65.450</td>\n      <td>NaN</td>\n      <td>NaN</td>\n      <td>NaN</td>\n      <td>NaN</td>\n    </tr>\n    <tr>\n      <th>262652</th>\n      <td>H4073700</td>\n      <td>23/02/21</td>\n      <td>1324.0</td>\n      <td>NaN</td>\n      <td>NaN</td>\n      <td>NaN</td>\n      <td>36.7</td>\n      <td>28.0</td>\n      <td>99.0</td>\n      <td>2021-02-02 00:00:00</td>\n      <td>2021-02-04 00:00:00</td>\n      <td>D</td>\n      <td>0.0</td>\n      <td>M</td>\n      <td>3.190</td>\n      <td>NaN</td>\n      <td>NaN</td>\n      <td>NaN</td>\n      <td>NaN</td>\n    </tr>\n    <tr>\n      <th>262653</th>\n      <td>H3705405</td>\n      <td>27/01/21</td>\n      <td>1804.0</td>\n      <td>NaN</td>\n      <td>NaN</td>\n      <td>NaN</td>\n      <td>37.2</td>\n      <td>22.0</td>\n      <td>100.0</td>\n      <td>2021-02-03 00:00:00</td>\n      <td>2021-02-04 00:00:00</td>\n      <td>Y</td>\n      <td>4.0</td>\n      <td>F</td>\n      <td>17.000</td>\n      <td>NaN</td>\n      <td>NaN</td>\n      <td>NaN</td>\n      <td>NaN</td>\n    </tr>\n    <tr>\n      <th>262654</th>\n      <td>Z1751922</td>\n      <td>19/02/21</td>\n      <td>1831.0</td>\n      <td>NaN</td>\n      <td>NaN</td>\n      <td>NaN</td>\n      <td>38.9</td>\n      <td>NaN</td>\n      <td>NaN</td>\n      <td>2021-02-20 00:00:00</td>\n      <td>2021-02-23 00:00:00</td>\n      <td>Y</td>\n      <td>2.0</td>\n      <td>F</td>\n      <td>18.000</td>\n      <td>NaN</td>\n      <td>NaN</td>\n      <td>NaN</td>\n      <td>NaN</td>\n    </tr>\n  </tbody>\n</table>\n<p>262655 rows × 19 columns</p>\n</div>"
     },
     "metadata": {},
     "execution_count": 57
    }
   ],
   "source": [
    "df4"
   ]
  },
  {
   "cell_type": "code",
   "execution_count": null,
   "id": "c123bf48",
   "metadata": {},
   "outputs": [],
   "source": []
  }
 ],
 "metadata": {
  "kernelspec": {
   "name": "python386jvsc74a57bd01cc4686def4f4686e288101491fcc64d903ee1a0c766a7a4df710ffbf4241b15",
   "display_name": "Python 3.8.6 64-bit"
  },
  "language_info": {
   "codemirror_mode": {
    "name": "ipython",
    "version": 3
   },
   "file_extension": ".py",
   "mimetype": "text/x-python",
   "name": "python",
   "nbconvert_exporter": "python",
   "pygments_lexer": "ipython3",
   "version": "3.8.6"
  },
  "metadata": {
   "interpreter": {
    "hash": "1cc4686def4f4686e288101491fcc64d903ee1a0c766a7a4df710ffbf4241b15"
   }
  }
 },
 "nbformat": 4,
 "nbformat_minor": 5
}