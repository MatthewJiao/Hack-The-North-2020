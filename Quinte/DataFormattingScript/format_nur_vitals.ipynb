{
 "cells": [
  {
   "cell_type": "code",
   "execution_count": 1,
   "id": "70b70211",
   "metadata": {},
   "outputs": [],
   "source": [
    "import pandas as pd\n",
    "import numpy as np\n",
    "import math"
   ]
  },
  {
   "cell_type": "code",
   "execution_count": 2,
   "id": "ff4d2161",
   "metadata": {},
   "outputs": [],
   "source": [
    "df1 = pd.read_excel(\n",
    "     '../nur_vitals.xlsx',\n",
    "     engine='openpyxl', sheet_name = 'NUR_vitals'\n",
    ")"
   ]
  },
  {
   "cell_type": "code",
   "execution_count": 3,
   "id": "f3c100a9",
   "metadata": {},
   "outputs": [
    {
     "output_type": "execute_result",
     "data": {
      "text/plain": [
       "       pt_identifier      Date  Time   Interv td.locat      BP  Pulse  Respir  \\\n",
       "0           H1002797  20/11/20    45  1001851   H.SURG  128/75   62.0    18.0   \n",
       "1           H1002797  19/11/20  1555  1001851   H.SURG  131/78   56.0    18.0   \n",
       "2           H1002797  19/11/20  1404  1001851   H.SURG  138/78   79.0    18.0   \n",
       "3           H1002797  20/11/20   415  1001851   H.SURG  140/82   59.0    18.0   \n",
       "4           H1002797  19/11/20   854  1001851   H.SURG  144/87   76.0    18.0   \n",
       "...              ...       ...   ...      ...      ...     ...    ...     ...   \n",
       "236840       Z991743  02/02/21  1624  1001851   H.MED3  156/68   70.0    16.0   \n",
       "236841       Z991743  01/02/21  1858  1001851   H.MED3  157/66   74.0    18.0   \n",
       "236842       Z991743  03/02/21   933  1001851   H.MED3  159/65   63.0    16.0   \n",
       "236843       Z991743  02/02/21  1234  1001851   H.MED3  171/74   70.0    18.0   \n",
       "236844       Z991743  05/02/21   754  1001851   H.MED3  174/70   69.0    16.0   \n",
       "\n",
       "        O2Sat  Temper Temp_Source  ABP_sys  ABP_Dis  \n",
       "0        98.0    36.9           O      NaN      NaN  \n",
       "1        98.0    36.9           O      NaN      NaN  \n",
       "2        94.0    36.6           O      NaN      NaN  \n",
       "3        94.0    36.9           O      NaN      NaN  \n",
       "4        94.0    36.9           O      NaN      NaN  \n",
       "...       ...     ...         ...      ...      ...  \n",
       "236840   94.0    36.5           O      NaN      NaN  \n",
       "236841   95.0    36.9           O      NaN      NaN  \n",
       "236842   95.0    36.5           O      NaN      NaN  \n",
       "236843   95.0    36.4           O      NaN      NaN  \n",
       "236844   92.0    36.7           O      NaN      NaN  \n",
       "\n",
       "[236845 rows x 13 columns]"
      ],
      "text/html": "<div>\n<style scoped>\n    .dataframe tbody tr th:only-of-type {\n        vertical-align: middle;\n    }\n\n    .dataframe tbody tr th {\n        vertical-align: top;\n    }\n\n    .dataframe thead th {\n        text-align: right;\n    }\n</style>\n<table border=\"1\" class=\"dataframe\">\n  <thead>\n    <tr style=\"text-align: right;\">\n      <th></th>\n      <th>pt_identifier</th>\n      <th>Date</th>\n      <th>Time</th>\n      <th>Interv</th>\n      <th>td.locat</th>\n      <th>BP</th>\n      <th>Pulse</th>\n      <th>Respir</th>\n      <th>O2Sat</th>\n      <th>Temper</th>\n      <th>Temp_Source</th>\n      <th>ABP_sys</th>\n      <th>ABP_Dis</th>\n    </tr>\n  </thead>\n  <tbody>\n    <tr>\n      <th>0</th>\n      <td>H1002797</td>\n      <td>20/11/20</td>\n      <td>45</td>\n      <td>1001851</td>\n      <td>H.SURG</td>\n      <td>128/75</td>\n      <td>62.0</td>\n      <td>18.0</td>\n      <td>98.0</td>\n      <td>36.9</td>\n      <td>O</td>\n      <td>NaN</td>\n      <td>NaN</td>\n    </tr>\n    <tr>\n      <th>1</th>\n      <td>H1002797</td>\n      <td>19/11/20</td>\n      <td>1555</td>\n      <td>1001851</td>\n      <td>H.SURG</td>\n      <td>131/78</td>\n      <td>56.0</td>\n      <td>18.0</td>\n      <td>98.0</td>\n      <td>36.9</td>\n      <td>O</td>\n      <td>NaN</td>\n      <td>NaN</td>\n    </tr>\n    <tr>\n      <th>2</th>\n      <td>H1002797</td>\n      <td>19/11/20</td>\n      <td>1404</td>\n      <td>1001851</td>\n      <td>H.SURG</td>\n      <td>138/78</td>\n      <td>79.0</td>\n      <td>18.0</td>\n      <td>94.0</td>\n      <td>36.6</td>\n      <td>O</td>\n      <td>NaN</td>\n      <td>NaN</td>\n    </tr>\n    <tr>\n      <th>3</th>\n      <td>H1002797</td>\n      <td>20/11/20</td>\n      <td>415</td>\n      <td>1001851</td>\n      <td>H.SURG</td>\n      <td>140/82</td>\n      <td>59.0</td>\n      <td>18.0</td>\n      <td>94.0</td>\n      <td>36.9</td>\n      <td>O</td>\n      <td>NaN</td>\n      <td>NaN</td>\n    </tr>\n    <tr>\n      <th>4</th>\n      <td>H1002797</td>\n      <td>19/11/20</td>\n      <td>854</td>\n      <td>1001851</td>\n      <td>H.SURG</td>\n      <td>144/87</td>\n      <td>76.0</td>\n      <td>18.0</td>\n      <td>94.0</td>\n      <td>36.9</td>\n      <td>O</td>\n      <td>NaN</td>\n      <td>NaN</td>\n    </tr>\n    <tr>\n      <th>...</th>\n      <td>...</td>\n      <td>...</td>\n      <td>...</td>\n      <td>...</td>\n      <td>...</td>\n      <td>...</td>\n      <td>...</td>\n      <td>...</td>\n      <td>...</td>\n      <td>...</td>\n      <td>...</td>\n      <td>...</td>\n      <td>...</td>\n    </tr>\n    <tr>\n      <th>236840</th>\n      <td>Z991743</td>\n      <td>02/02/21</td>\n      <td>1624</td>\n      <td>1001851</td>\n      <td>H.MED3</td>\n      <td>156/68</td>\n      <td>70.0</td>\n      <td>16.0</td>\n      <td>94.0</td>\n      <td>36.5</td>\n      <td>O</td>\n      <td>NaN</td>\n      <td>NaN</td>\n    </tr>\n    <tr>\n      <th>236841</th>\n      <td>Z991743</td>\n      <td>01/02/21</td>\n      <td>1858</td>\n      <td>1001851</td>\n      <td>H.MED3</td>\n      <td>157/66</td>\n      <td>74.0</td>\n      <td>18.0</td>\n      <td>95.0</td>\n      <td>36.9</td>\n      <td>O</td>\n      <td>NaN</td>\n      <td>NaN</td>\n    </tr>\n    <tr>\n      <th>236842</th>\n      <td>Z991743</td>\n      <td>03/02/21</td>\n      <td>933</td>\n      <td>1001851</td>\n      <td>H.MED3</td>\n      <td>159/65</td>\n      <td>63.0</td>\n      <td>16.0</td>\n      <td>95.0</td>\n      <td>36.5</td>\n      <td>O</td>\n      <td>NaN</td>\n      <td>NaN</td>\n    </tr>\n    <tr>\n      <th>236843</th>\n      <td>Z991743</td>\n      <td>02/02/21</td>\n      <td>1234</td>\n      <td>1001851</td>\n      <td>H.MED3</td>\n      <td>171/74</td>\n      <td>70.0</td>\n      <td>18.0</td>\n      <td>95.0</td>\n      <td>36.4</td>\n      <td>O</td>\n      <td>NaN</td>\n      <td>NaN</td>\n    </tr>\n    <tr>\n      <th>236844</th>\n      <td>Z991743</td>\n      <td>05/02/21</td>\n      <td>754</td>\n      <td>1001851</td>\n      <td>H.MED3</td>\n      <td>174/70</td>\n      <td>69.0</td>\n      <td>16.0</td>\n      <td>92.0</td>\n      <td>36.7</td>\n      <td>O</td>\n      <td>NaN</td>\n      <td>NaN</td>\n    </tr>\n  </tbody>\n</table>\n<p>236845 rows × 13 columns</p>\n</div>"
     },
     "metadata": {},
     "execution_count": 3
    }
   ],
   "source": [
    "df1"
   ]
  },
  {
   "cell_type": "code",
   "execution_count": 4,
   "id": "5d2071ed",
   "metadata": {},
   "outputs": [],
   "source": [
    "del df1['td.locat']\n",
    "del df1[\"Temp_Source\"]\n",
    "del df1[\"Interv\"]"
   ]
  },
  {
   "cell_type": "code",
   "execution_count": 5,
   "id": "6ec7ad73",
   "metadata": {},
   "outputs": [
    {
     "output_type": "execute_result",
     "data": {
      "text/plain": [
       "       pt_identifier      Date  Time      BP  Pulse  Respir  O2Sat  Temper  \\\n",
       "0           H1002797  20/11/20    45  128/75   62.0    18.0   98.0    36.9   \n",
       "1           H1002797  19/11/20  1555  131/78   56.0    18.0   98.0    36.9   \n",
       "2           H1002797  19/11/20  1404  138/78   79.0    18.0   94.0    36.6   \n",
       "3           H1002797  20/11/20   415  140/82   59.0    18.0   94.0    36.9   \n",
       "4           H1002797  19/11/20   854  144/87   76.0    18.0   94.0    36.9   \n",
       "...              ...       ...   ...     ...    ...     ...    ...     ...   \n",
       "236840       Z991743  02/02/21  1624  156/68   70.0    16.0   94.0    36.5   \n",
       "236841       Z991743  01/02/21  1858  157/66   74.0    18.0   95.0    36.9   \n",
       "236842       Z991743  03/02/21   933  159/65   63.0    16.0   95.0    36.5   \n",
       "236843       Z991743  02/02/21  1234  171/74   70.0    18.0   95.0    36.4   \n",
       "236844       Z991743  05/02/21   754  174/70   69.0    16.0   92.0    36.7   \n",
       "\n",
       "        ABP_sys  ABP_Dis  \n",
       "0           NaN      NaN  \n",
       "1           NaN      NaN  \n",
       "2           NaN      NaN  \n",
       "3           NaN      NaN  \n",
       "4           NaN      NaN  \n",
       "...         ...      ...  \n",
       "236840      NaN      NaN  \n",
       "236841      NaN      NaN  \n",
       "236842      NaN      NaN  \n",
       "236843      NaN      NaN  \n",
       "236844      NaN      NaN  \n",
       "\n",
       "[236845 rows x 10 columns]"
      ],
      "text/html": "<div>\n<style scoped>\n    .dataframe tbody tr th:only-of-type {\n        vertical-align: middle;\n    }\n\n    .dataframe tbody tr th {\n        vertical-align: top;\n    }\n\n    .dataframe thead th {\n        text-align: right;\n    }\n</style>\n<table border=\"1\" class=\"dataframe\">\n  <thead>\n    <tr style=\"text-align: right;\">\n      <th></th>\n      <th>pt_identifier</th>\n      <th>Date</th>\n      <th>Time</th>\n      <th>BP</th>\n      <th>Pulse</th>\n      <th>Respir</th>\n      <th>O2Sat</th>\n      <th>Temper</th>\n      <th>ABP_sys</th>\n      <th>ABP_Dis</th>\n    </tr>\n  </thead>\n  <tbody>\n    <tr>\n      <th>0</th>\n      <td>H1002797</td>\n      <td>20/11/20</td>\n      <td>45</td>\n      <td>128/75</td>\n      <td>62.0</td>\n      <td>18.0</td>\n      <td>98.0</td>\n      <td>36.9</td>\n      <td>NaN</td>\n      <td>NaN</td>\n    </tr>\n    <tr>\n      <th>1</th>\n      <td>H1002797</td>\n      <td>19/11/20</td>\n      <td>1555</td>\n      <td>131/78</td>\n      <td>56.0</td>\n      <td>18.0</td>\n      <td>98.0</td>\n      <td>36.9</td>\n      <td>NaN</td>\n      <td>NaN</td>\n    </tr>\n    <tr>\n      <th>2</th>\n      <td>H1002797</td>\n      <td>19/11/20</td>\n      <td>1404</td>\n      <td>138/78</td>\n      <td>79.0</td>\n      <td>18.0</td>\n      <td>94.0</td>\n      <td>36.6</td>\n      <td>NaN</td>\n      <td>NaN</td>\n    </tr>\n    <tr>\n      <th>3</th>\n      <td>H1002797</td>\n      <td>20/11/20</td>\n      <td>415</td>\n      <td>140/82</td>\n      <td>59.0</td>\n      <td>18.0</td>\n      <td>94.0</td>\n      <td>36.9</td>\n      <td>NaN</td>\n      <td>NaN</td>\n    </tr>\n    <tr>\n      <th>4</th>\n      <td>H1002797</td>\n      <td>19/11/20</td>\n      <td>854</td>\n      <td>144/87</td>\n      <td>76.0</td>\n      <td>18.0</td>\n      <td>94.0</td>\n      <td>36.9</td>\n      <td>NaN</td>\n      <td>NaN</td>\n    </tr>\n    <tr>\n      <th>...</th>\n      <td>...</td>\n      <td>...</td>\n      <td>...</td>\n      <td>...</td>\n      <td>...</td>\n      <td>...</td>\n      <td>...</td>\n      <td>...</td>\n      <td>...</td>\n      <td>...</td>\n    </tr>\n    <tr>\n      <th>236840</th>\n      <td>Z991743</td>\n      <td>02/02/21</td>\n      <td>1624</td>\n      <td>156/68</td>\n      <td>70.0</td>\n      <td>16.0</td>\n      <td>94.0</td>\n      <td>36.5</td>\n      <td>NaN</td>\n      <td>NaN</td>\n    </tr>\n    <tr>\n      <th>236841</th>\n      <td>Z991743</td>\n      <td>01/02/21</td>\n      <td>1858</td>\n      <td>157/66</td>\n      <td>74.0</td>\n      <td>18.0</td>\n      <td>95.0</td>\n      <td>36.9</td>\n      <td>NaN</td>\n      <td>NaN</td>\n    </tr>\n    <tr>\n      <th>236842</th>\n      <td>Z991743</td>\n      <td>03/02/21</td>\n      <td>933</td>\n      <td>159/65</td>\n      <td>63.0</td>\n      <td>16.0</td>\n      <td>95.0</td>\n      <td>36.5</td>\n      <td>NaN</td>\n      <td>NaN</td>\n    </tr>\n    <tr>\n      <th>236843</th>\n      <td>Z991743</td>\n      <td>02/02/21</td>\n      <td>1234</td>\n      <td>171/74</td>\n      <td>70.0</td>\n      <td>18.0</td>\n      <td>95.0</td>\n      <td>36.4</td>\n      <td>NaN</td>\n      <td>NaN</td>\n    </tr>\n    <tr>\n      <th>236844</th>\n      <td>Z991743</td>\n      <td>05/02/21</td>\n      <td>754</td>\n      <td>174/70</td>\n      <td>69.0</td>\n      <td>16.0</td>\n      <td>92.0</td>\n      <td>36.7</td>\n      <td>NaN</td>\n      <td>NaN</td>\n    </tr>\n  </tbody>\n</table>\n<p>236845 rows × 10 columns</p>\n</div>"
     },
     "metadata": {},
     "execution_count": 5
    }
   ],
   "source": [
    "rows = len(df1.index)\n",
    "df1"
   ]
  },
  {
   "cell_type": "code",
   "execution_count": 6,
   "id": "2dc35749",
   "metadata": {},
   "outputs": [],
   "source": [
    "df2 = pd.DataFrame(data=[], columns= ['pt_identifier', 'Date', 'Time', 'BP1', 'BP2', 'Pulse', 'Temp', 'RR', 'O2Sat'])"
   ]
  },
  {
   "cell_type": "code",
   "execution_count": 7,
   "id": "1ff9de56",
   "metadata": {},
   "outputs": [
    {
     "output_type": "execute_result",
     "data": {
      "text/plain": [
       "Empty DataFrame\n",
       "Columns: [pt_identifier, Date, Time, BP1, BP2, Pulse, Temp, RR, O2Sat]\n",
       "Index: []"
      ],
      "text/html": "<div>\n<style scoped>\n    .dataframe tbody tr th:only-of-type {\n        vertical-align: middle;\n    }\n\n    .dataframe tbody tr th {\n        vertical-align: top;\n    }\n\n    .dataframe thead th {\n        text-align: right;\n    }\n</style>\n<table border=\"1\" class=\"dataframe\">\n  <thead>\n    <tr style=\"text-align: right;\">\n      <th></th>\n      <th>pt_identifier</th>\n      <th>Date</th>\n      <th>Time</th>\n      <th>BP1</th>\n      <th>BP2</th>\n      <th>Pulse</th>\n      <th>Temp</th>\n      <th>RR</th>\n      <th>O2Sat</th>\n    </tr>\n  </thead>\n  <tbody>\n  </tbody>\n</table>\n</div>"
     },
     "metadata": {},
     "execution_count": 7
    }
   ],
   "source": [
    "df2"
   ]
  },
  {
   "cell_type": "code",
   "execution_count": 8,
   "metadata": {},
   "outputs": [
    {
     "output_type": "execute_result",
     "data": {
      "text/plain": [
       "236845"
      ]
     },
     "metadata": {},
     "execution_count": 8
    }
   ],
   "source": [
    "rows"
   ]
  },
  {
   "cell_type": "code",
   "execution_count": 9,
   "id": "62687382",
   "metadata": {},
   "outputs": [],
   "source": [
    "def extract_vitals(df1, i):\n",
    "    p_id = df1.iloc[i][0]\n",
    "    date = df1.iloc[i][1]\n",
    "    time = df1.iloc[i][2]\n",
    "    pulse = df1.iloc[i][4]\n",
    "    rr = df1.iloc[i][5]\n",
    "    o2sat = df1.iloc[i][6]\n",
    "    temp = df1.iloc[i][7]\n",
    "    \n",
    "    if df1.iloc[i][3]:\n",
    "        pre_bp = df1.iloc[i][3]\n",
    "        if type(pre_bp) == float and math.isnan(pre_bp)==False:\n",
    "            manual_bp = str(pre_bp)\n",
    "            x = manual_bp.split(\"/\")\n",
    "            if len(x)==2:\n",
    "                bp1 = float(x[0])\n",
    "                bp2 = float(x[1])\n",
    "            else:\n",
    "                bp1 = None\n",
    "                bp2 = None\n",
    "        elif type(pre_bp) == str:\n",
    "            manual_bp = str(pre_bp)\n",
    "            if \"E\" in manual_bp:\n",
    "                manual_bp = manual_bp.replace(\"E\", \"\")\n",
    "                manual_bp = manual_bp.strip()\n",
    "            x = manual_bp.split(\"/\")\n",
    "            if len(x)==2:\n",
    "                bp1 = float(x[0])\n",
    "                bp2 = float(x[1])\n",
    "            else:\n",
    "                bp1 = None\n",
    "                bp2 = None\n",
    "        else:\n",
    "            bp1 = None\n",
    "            bp2 = None\n",
    "\n",
    "    elif df1.iloc[i][8] and df1.iloc[i][9] and math.isnan(df1.iloc[i][8])==False and math.isnan(df1.iloc[i][9])==False:\n",
    "        bp1 = df1.iloc[i][8]\n",
    "        bp2 = df1.iloc[i][9]\n",
    "\n",
    "    else:\n",
    "        bp1 = None\n",
    "        bp2 = None\n",
    "    \n",
    "\n",
    "\n",
    "    \n",
    "    p_vitals = [p_id, date, time, bp1, bp2, pulse, temp, rr, o2sat]\n",
    "    return p_vitals"
   ]
  },
  {
   "cell_type": "code",
   "execution_count": 10,
   "id": "e971e60e",
   "metadata": {
    "tags": []
   },
   "outputs": [],
   "source": [
    "i = 0\n",
    "while i < rows:\n",
    "    p_vitals = extract_vitals(df1, i)\n",
    "    df2 = df2.append({'pt_identifier': p_vitals[0], 'Date': p_vitals[1],\n",
    "                      'Time': p_vitals[2], 'BP1': p_vitals[3], 'BP2': p_vitals[4],\n",
    "                      'Pulse': p_vitals[5], 'Temp': p_vitals[6], 'RR': p_vitals[7],\n",
    "                      'O2Sat': p_vitals[8]}, ignore_index=True)\n",
    "    i += 1\n",
    "  \n",
    "    \n"
   ]
  },
  {
   "cell_type": "code",
   "execution_count": null,
   "id": "b26e0610",
   "metadata": {
    "scrolled": true
   },
   "outputs": [],
   "source": [
    "df2.iloc[105500:105550]"
   ]
  },
  {
   "cell_type": "code",
   "execution_count": 11,
   "id": "ca9473b9",
   "metadata": {},
   "outputs": [],
   "source": [
    "df2.to_csv('formatted_good_nur_vitalsall.csv')\n"
   ]
  },
  {
   "cell_type": "code",
   "execution_count": null,
   "id": "433e1ae3",
   "metadata": {},
   "outputs": [],
   "source": [
    "# run time approx 5 minutes for 75,000 rows"
   ]
  },
  {
   "cell_type": "code",
   "execution_count": null,
   "id": "c123bf48",
   "metadata": {},
   "outputs": [],
   "source": []
  },
  {
   "cell_type": "code",
   "execution_count": null,
   "id": "3ca29217",
   "metadata": {},
   "outputs": [],
   "source": []
  },
  {
   "cell_type": "code",
   "execution_count": null,
   "id": "6795add9",
   "metadata": {},
   "outputs": [],
   "source": []
  },
  {
   "cell_type": "code",
   "execution_count": null,
   "id": "817d1fd6",
   "metadata": {},
   "outputs": [],
   "source": []
  }
 ],
 "metadata": {
  "kernelspec": {
   "name": "python386jvsc74a57bd01cc4686def4f4686e288101491fcc64d903ee1a0c766a7a4df710ffbf4241b15",
   "display_name": "Python 3.8.6 64-bit"
  },
  "language_info": {
   "codemirror_mode": {
    "name": "ipython",
    "version": 3
   },
   "file_extension": ".py",
   "mimetype": "text/x-python",
   "name": "python",
   "nbconvert_exporter": "python",
   "pygments_lexer": "ipython3",
   "version": "3.8.6"
  },
  "metadata": {
   "interpreter": {
    "hash": "1cc4686def4f4686e288101491fcc64d903ee1a0c766a7a4df710ffbf4241b15"
   }
  }
 },
 "nbformat": 4,
 "nbformat_minor": 5
}