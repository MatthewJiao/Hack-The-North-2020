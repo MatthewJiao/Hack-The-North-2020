{
 "cells": [
  {
   "cell_type": "code",
   "execution_count": 59,
   "source": [
    "#this file looks at the time and separates them if the value is over 10,000 minutes away (1 week)"
   ],
   "outputs": [],
   "metadata": {}
  },
  {
   "cell_type": "code",
   "execution_count": 60,
   "source": [
    "import pandas as pd\r\n",
    "import numpy as np\r\n",
    "import math"
   ],
   "outputs": [],
   "metadata": {}
  },
  {
   "cell_type": "code",
   "execution_count": 61,
   "source": [
    "df1 = pd.read_csv(\r\n",
    "     '../FormattedData/stage5_ba.csv)'\n",
    ")"
   ],
   "outputs": [],
   "metadata": {}
  },
  {
   "cell_type": "code",
   "execution_count": 62,
   "source": [
    "df1"
   ],
   "outputs": [
    {
     "output_type": "execute_result",
     "data": {
      "text/plain": [
       "        Unnamed: 0 pt_identifier  new_date    BP1   BP2  Pulse  Temp    RR  \\\n",
       "0                0      H1000412       0.0  125.0  79.0   96.0  37.4  13.0   \n",
       "1                1      H1000412      23.0    NaN   NaN    NaN   NaN   NaN   \n",
       "2                2      H1000412     450.0  138.0  76.0   98.0  36.8  16.0   \n",
       "3                3      H1000412     467.0    NaN   NaN    NaN   NaN   NaN   \n",
       "4                4      H1000412     531.0  116.0  84.0   88.0  36.9  17.0   \n",
       "...            ...           ...       ...    ...   ...    ...   ...   ...   \n",
       "312753      312753       Z991743  129228.0  153.0  64.0   58.0  36.5  16.0   \n",
       "312754      312754       Z991743  129238.0    NaN   NaN    NaN   NaN   NaN   \n",
       "312755      312755       Z991743  129966.0  152.0  65.0   63.0  36.6  18.0   \n",
       "312756      312756       Z991743  130680.0  174.0  70.0   69.0  36.7  16.0   \n",
       "312757      312757       Z992617       0.0    NaN   NaN    NaN   NaN   NaN   \n",
       "\n",
       "        O2Sat  Age_Number Gender  Weight  Diag_desc  Most_responsible  \\\n",
       "0        96.0        81.0      F     NaN          0                 0   \n",
       "1         NaN        81.0      F     NaN          0                 0   \n",
       "2        98.0        81.0      F     NaN          0                 0   \n",
       "3         NaN        81.0      F     NaN          0                 0   \n",
       "4        97.0        81.0      F     NaN          0                 0   \n",
       "...       ...         ...    ...     ...        ...               ...   \n",
       "312753   96.0        92.0      F    63.0          0                 0   \n",
       "312754    NaN        92.0      F    63.0          0                 0   \n",
       "312755   94.0        92.0      F    63.0          0                 0   \n",
       "312756   92.0        92.0      F    63.0          0                 0   \n",
       "312757    NaN         NaN    NaN     NaN          0                 0   \n",
       "\n",
       "        pre_admit  post_admit  secondary  Lactate_adjusted  WBC_adjusted  \n",
       "0               0           0          0               0.0      0.000000  \n",
       "1               0           0          0               0.0      0.945455  \n",
       "2               0           0          0               0.0      0.000000  \n",
       "3               0           0          0               0.0      1.090909  \n",
       "4               0           0          0               0.0      0.000000  \n",
       "...           ...         ...        ...               ...           ...  \n",
       "312753          0           0          0               0.0      0.000000  \n",
       "312754          0           0          0               0.0      0.800000  \n",
       "312755          0           0          0               0.0      0.000000  \n",
       "312756          0           0          0               0.0      0.000000  \n",
       "312757          0           0          0               0.0      1.190909  \n",
       "\n",
       "[312758 rows x 19 columns]"
      ],
      "text/html": "<div>\n<style scoped>\n    .dataframe tbody tr th:only-of-type {\n        vertical-align: middle;\n    }\n\n    .dataframe tbody tr th {\n        vertical-align: top;\n    }\n\n    .dataframe thead th {\n        text-align: right;\n    }\n</style>\n<table border=\"1\" class=\"dataframe\">\n  <thead>\n    <tr style=\"text-align: right;\">\n      <th></th>\n      <th>Unnamed: 0</th>\n      <th>pt_identifier</th>\n      <th>new_date</th>\n      <th>BP1</th>\n      <th>BP2</th>\n      <th>Pulse</th>\n      <th>Temp</th>\n      <th>RR</th>\n      <th>O2Sat</th>\n      <th>Age_Number</th>\n      <th>Gender</th>\n      <th>Weight</th>\n      <th>Diag_desc</th>\n      <th>Most_responsible</th>\n      <th>pre_admit</th>\n      <th>post_admit</th>\n      <th>secondary</th>\n      <th>Lactate_adjusted</th>\n      <th>WBC_adjusted</th>\n    </tr>\n  </thead>\n  <tbody>\n    <tr>\n      <th>0</th>\n      <td>0</td>\n      <td>H1000412</td>\n      <td>0.0</td>\n      <td>125.0</td>\n      <td>79.0</td>\n      <td>96.0</td>\n      <td>37.4</td>\n      <td>13.0</td>\n      <td>96.0</td>\n      <td>81.0</td>\n      <td>F</td>\n      <td>NaN</td>\n      <td>0</td>\n      <td>0</td>\n      <td>0</td>\n      <td>0</td>\n      <td>0</td>\n      <td>0.0</td>\n      <td>0.000000</td>\n    </tr>\n    <tr>\n      <th>1</th>\n      <td>1</td>\n      <td>H1000412</td>\n      <td>23.0</td>\n      <td>NaN</td>\n      <td>NaN</td>\n      <td>NaN</td>\n      <td>NaN</td>\n      <td>NaN</td>\n      <td>NaN</td>\n      <td>81.0</td>\n      <td>F</td>\n      <td>NaN</td>\n      <td>0</td>\n      <td>0</td>\n      <td>0</td>\n      <td>0</td>\n      <td>0</td>\n      <td>0.0</td>\n      <td>0.945455</td>\n    </tr>\n    <tr>\n      <th>2</th>\n      <td>2</td>\n      <td>H1000412</td>\n      <td>450.0</td>\n      <td>138.0</td>\n      <td>76.0</td>\n      <td>98.0</td>\n      <td>36.8</td>\n      <td>16.0</td>\n      <td>98.0</td>\n      <td>81.0</td>\n      <td>F</td>\n      <td>NaN</td>\n      <td>0</td>\n      <td>0</td>\n      <td>0</td>\n      <td>0</td>\n      <td>0</td>\n      <td>0.0</td>\n      <td>0.000000</td>\n    </tr>\n    <tr>\n      <th>3</th>\n      <td>3</td>\n      <td>H1000412</td>\n      <td>467.0</td>\n      <td>NaN</td>\n      <td>NaN</td>\n      <td>NaN</td>\n      <td>NaN</td>\n      <td>NaN</td>\n      <td>NaN</td>\n      <td>81.0</td>\n      <td>F</td>\n      <td>NaN</td>\n      <td>0</td>\n      <td>0</td>\n      <td>0</td>\n      <td>0</td>\n      <td>0</td>\n      <td>0.0</td>\n      <td>1.090909</td>\n    </tr>\n    <tr>\n      <th>4</th>\n      <td>4</td>\n      <td>H1000412</td>\n      <td>531.0</td>\n      <td>116.0</td>\n      <td>84.0</td>\n      <td>88.0</td>\n      <td>36.9</td>\n      <td>17.0</td>\n      <td>97.0</td>\n      <td>81.0</td>\n      <td>F</td>\n      <td>NaN</td>\n      <td>0</td>\n      <td>0</td>\n      <td>0</td>\n      <td>0</td>\n      <td>0</td>\n      <td>0.0</td>\n      <td>0.000000</td>\n    </tr>\n    <tr>\n      <th>...</th>\n      <td>...</td>\n      <td>...</td>\n      <td>...</td>\n      <td>...</td>\n      <td>...</td>\n      <td>...</td>\n      <td>...</td>\n      <td>...</td>\n      <td>...</td>\n      <td>...</td>\n      <td>...</td>\n      <td>...</td>\n      <td>...</td>\n      <td>...</td>\n      <td>...</td>\n      <td>...</td>\n      <td>...</td>\n      <td>...</td>\n      <td>...</td>\n    </tr>\n    <tr>\n      <th>312753</th>\n      <td>312753</td>\n      <td>Z991743</td>\n      <td>129228.0</td>\n      <td>153.0</td>\n      <td>64.0</td>\n      <td>58.0</td>\n      <td>36.5</td>\n      <td>16.0</td>\n      <td>96.0</td>\n      <td>92.0</td>\n      <td>F</td>\n      <td>63.0</td>\n      <td>0</td>\n      <td>0</td>\n      <td>0</td>\n      <td>0</td>\n      <td>0</td>\n      <td>0.0</td>\n      <td>0.000000</td>\n    </tr>\n    <tr>\n      <th>312754</th>\n      <td>312754</td>\n      <td>Z991743</td>\n      <td>129238.0</td>\n      <td>NaN</td>\n      <td>NaN</td>\n      <td>NaN</td>\n      <td>NaN</td>\n      <td>NaN</td>\n      <td>NaN</td>\n      <td>92.0</td>\n      <td>F</td>\n      <td>63.0</td>\n      <td>0</td>\n      <td>0</td>\n      <td>0</td>\n      <td>0</td>\n      <td>0</td>\n      <td>0.0</td>\n      <td>0.800000</td>\n    </tr>\n    <tr>\n      <th>312755</th>\n      <td>312755</td>\n      <td>Z991743</td>\n      <td>129966.0</td>\n      <td>152.0</td>\n      <td>65.0</td>\n      <td>63.0</td>\n      <td>36.6</td>\n      <td>18.0</td>\n      <td>94.0</td>\n      <td>92.0</td>\n      <td>F</td>\n      <td>63.0</td>\n      <td>0</td>\n      <td>0</td>\n      <td>0</td>\n      <td>0</td>\n      <td>0</td>\n      <td>0.0</td>\n      <td>0.000000</td>\n    </tr>\n    <tr>\n      <th>312756</th>\n      <td>312756</td>\n      <td>Z991743</td>\n      <td>130680.0</td>\n      <td>174.0</td>\n      <td>70.0</td>\n      <td>69.0</td>\n      <td>36.7</td>\n      <td>16.0</td>\n      <td>92.0</td>\n      <td>92.0</td>\n      <td>F</td>\n      <td>63.0</td>\n      <td>0</td>\n      <td>0</td>\n      <td>0</td>\n      <td>0</td>\n      <td>0</td>\n      <td>0.0</td>\n      <td>0.000000</td>\n    </tr>\n    <tr>\n      <th>312757</th>\n      <td>312757</td>\n      <td>Z992617</td>\n      <td>0.0</td>\n      <td>NaN</td>\n      <td>NaN</td>\n      <td>NaN</td>\n      <td>NaN</td>\n      <td>NaN</td>\n      <td>NaN</td>\n      <td>NaN</td>\n      <td>NaN</td>\n      <td>NaN</td>\n      <td>0</td>\n      <td>0</td>\n      <td>0</td>\n      <td>0</td>\n      <td>0</td>\n      <td>0.0</td>\n      <td>1.190909</td>\n    </tr>\n  </tbody>\n</table>\n<p>312758 rows × 19 columns</p>\n</div>"
     },
     "metadata": {},
     "execution_count": 62
    }
   ],
   "metadata": {}
  },
  {
   "cell_type": "code",
   "execution_count": 63,
   "source": [
    "del df1[\"Unnamed: 0\"]"
   ],
   "outputs": [],
   "metadata": {}
  },
  {
   "cell_type": "code",
   "execution_count": 64,
   "source": [
    "df1"
   ],
   "outputs": [
    {
     "output_type": "execute_result",
     "data": {
      "text/plain": [
       "       pt_identifier  new_date    BP1   BP2  Pulse  Temp    RR  O2Sat  \\\n",
       "0           H1000412       0.0  125.0  79.0   96.0  37.4  13.0   96.0   \n",
       "1           H1000412      23.0    NaN   NaN    NaN   NaN   NaN    NaN   \n",
       "2           H1000412     450.0  138.0  76.0   98.0  36.8  16.0   98.0   \n",
       "3           H1000412     467.0    NaN   NaN    NaN   NaN   NaN    NaN   \n",
       "4           H1000412     531.0  116.0  84.0   88.0  36.9  17.0   97.0   \n",
       "...              ...       ...    ...   ...    ...   ...   ...    ...   \n",
       "312753       Z991743  129228.0  153.0  64.0   58.0  36.5  16.0   96.0   \n",
       "312754       Z991743  129238.0    NaN   NaN    NaN   NaN   NaN    NaN   \n",
       "312755       Z991743  129966.0  152.0  65.0   63.0  36.6  18.0   94.0   \n",
       "312756       Z991743  130680.0  174.0  70.0   69.0  36.7  16.0   92.0   \n",
       "312757       Z992617       0.0    NaN   NaN    NaN   NaN   NaN    NaN   \n",
       "\n",
       "        Age_Number Gender  Weight  Diag_desc  Most_responsible  pre_admit  \\\n",
       "0             81.0      F     NaN          0                 0          0   \n",
       "1             81.0      F     NaN          0                 0          0   \n",
       "2             81.0      F     NaN          0                 0          0   \n",
       "3             81.0      F     NaN          0                 0          0   \n",
       "4             81.0      F     NaN          0                 0          0   \n",
       "...            ...    ...     ...        ...               ...        ...   \n",
       "312753        92.0      F    63.0          0                 0          0   \n",
       "312754        92.0      F    63.0          0                 0          0   \n",
       "312755        92.0      F    63.0          0                 0          0   \n",
       "312756        92.0      F    63.0          0                 0          0   \n",
       "312757         NaN    NaN     NaN          0                 0          0   \n",
       "\n",
       "        post_admit  secondary  Lactate_adjusted  WBC_adjusted  \n",
       "0                0          0               0.0      0.000000  \n",
       "1                0          0               0.0      0.945455  \n",
       "2                0          0               0.0      0.000000  \n",
       "3                0          0               0.0      1.090909  \n",
       "4                0          0               0.0      0.000000  \n",
       "...            ...        ...               ...           ...  \n",
       "312753           0          0               0.0      0.000000  \n",
       "312754           0          0               0.0      0.800000  \n",
       "312755           0          0               0.0      0.000000  \n",
       "312756           0          0               0.0      0.000000  \n",
       "312757           0          0               0.0      1.190909  \n",
       "\n",
       "[312758 rows x 18 columns]"
      ],
      "text/html": "<div>\n<style scoped>\n    .dataframe tbody tr th:only-of-type {\n        vertical-align: middle;\n    }\n\n    .dataframe tbody tr th {\n        vertical-align: top;\n    }\n\n    .dataframe thead th {\n        text-align: right;\n    }\n</style>\n<table border=\"1\" class=\"dataframe\">\n  <thead>\n    <tr style=\"text-align: right;\">\n      <th></th>\n      <th>pt_identifier</th>\n      <th>new_date</th>\n      <th>BP1</th>\n      <th>BP2</th>\n      <th>Pulse</th>\n      <th>Temp</th>\n      <th>RR</th>\n      <th>O2Sat</th>\n      <th>Age_Number</th>\n      <th>Gender</th>\n      <th>Weight</th>\n      <th>Diag_desc</th>\n      <th>Most_responsible</th>\n      <th>pre_admit</th>\n      <th>post_admit</th>\n      <th>secondary</th>\n      <th>Lactate_adjusted</th>\n      <th>WBC_adjusted</th>\n    </tr>\n  </thead>\n  <tbody>\n    <tr>\n      <th>0</th>\n      <td>H1000412</td>\n      <td>0.0</td>\n      <td>125.0</td>\n      <td>79.0</td>\n      <td>96.0</td>\n      <td>37.4</td>\n      <td>13.0</td>\n      <td>96.0</td>\n      <td>81.0</td>\n      <td>F</td>\n      <td>NaN</td>\n      <td>0</td>\n      <td>0</td>\n      <td>0</td>\n      <td>0</td>\n      <td>0</td>\n      <td>0.0</td>\n      <td>0.000000</td>\n    </tr>\n    <tr>\n      <th>1</th>\n      <td>H1000412</td>\n      <td>23.0</td>\n      <td>NaN</td>\n      <td>NaN</td>\n      <td>NaN</td>\n      <td>NaN</td>\n      <td>NaN</td>\n      <td>NaN</td>\n      <td>81.0</td>\n      <td>F</td>\n      <td>NaN</td>\n      <td>0</td>\n      <td>0</td>\n      <td>0</td>\n      <td>0</td>\n      <td>0</td>\n      <td>0.0</td>\n      <td>0.945455</td>\n    </tr>\n    <tr>\n      <th>2</th>\n      <td>H1000412</td>\n      <td>450.0</td>\n      <td>138.0</td>\n      <td>76.0</td>\n      <td>98.0</td>\n      <td>36.8</td>\n      <td>16.0</td>\n      <td>98.0</td>\n      <td>81.0</td>\n      <td>F</td>\n      <td>NaN</td>\n      <td>0</td>\n      <td>0</td>\n      <td>0</td>\n      <td>0</td>\n      <td>0</td>\n      <td>0.0</td>\n      <td>0.000000</td>\n    </tr>\n    <tr>\n      <th>3</th>\n      <td>H1000412</td>\n      <td>467.0</td>\n      <td>NaN</td>\n      <td>NaN</td>\n      <td>NaN</td>\n      <td>NaN</td>\n      <td>NaN</td>\n      <td>NaN</td>\n      <td>81.0</td>\n      <td>F</td>\n      <td>NaN</td>\n      <td>0</td>\n      <td>0</td>\n      <td>0</td>\n      <td>0</td>\n      <td>0</td>\n      <td>0.0</td>\n      <td>1.090909</td>\n    </tr>\n    <tr>\n      <th>4</th>\n      <td>H1000412</td>\n      <td>531.0</td>\n      <td>116.0</td>\n      <td>84.0</td>\n      <td>88.0</td>\n      <td>36.9</td>\n      <td>17.0</td>\n      <td>97.0</td>\n      <td>81.0</td>\n      <td>F</td>\n      <td>NaN</td>\n      <td>0</td>\n      <td>0</td>\n      <td>0</td>\n      <td>0</td>\n      <td>0</td>\n      <td>0.0</td>\n      <td>0.000000</td>\n    </tr>\n    <tr>\n      <th>...</th>\n      <td>...</td>\n      <td>...</td>\n      <td>...</td>\n      <td>...</td>\n      <td>...</td>\n      <td>...</td>\n      <td>...</td>\n      <td>...</td>\n      <td>...</td>\n      <td>...</td>\n      <td>...</td>\n      <td>...</td>\n      <td>...</td>\n      <td>...</td>\n      <td>...</td>\n      <td>...</td>\n      <td>...</td>\n      <td>...</td>\n    </tr>\n    <tr>\n      <th>312753</th>\n      <td>Z991743</td>\n      <td>129228.0</td>\n      <td>153.0</td>\n      <td>64.0</td>\n      <td>58.0</td>\n      <td>36.5</td>\n      <td>16.0</td>\n      <td>96.0</td>\n      <td>92.0</td>\n      <td>F</td>\n      <td>63.0</td>\n      <td>0</td>\n      <td>0</td>\n      <td>0</td>\n      <td>0</td>\n      <td>0</td>\n      <td>0.0</td>\n      <td>0.000000</td>\n    </tr>\n    <tr>\n      <th>312754</th>\n      <td>Z991743</td>\n      <td>129238.0</td>\n      <td>NaN</td>\n      <td>NaN</td>\n      <td>NaN</td>\n      <td>NaN</td>\n      <td>NaN</td>\n      <td>NaN</td>\n      <td>92.0</td>\n      <td>F</td>\n      <td>63.0</td>\n      <td>0</td>\n      <td>0</td>\n      <td>0</td>\n      <td>0</td>\n      <td>0</td>\n      <td>0.0</td>\n      <td>0.800000</td>\n    </tr>\n    <tr>\n      <th>312755</th>\n      <td>Z991743</td>\n      <td>129966.0</td>\n      <td>152.0</td>\n      <td>65.0</td>\n      <td>63.0</td>\n      <td>36.6</td>\n      <td>18.0</td>\n      <td>94.0</td>\n      <td>92.0</td>\n      <td>F</td>\n      <td>63.0</td>\n      <td>0</td>\n      <td>0</td>\n      <td>0</td>\n      <td>0</td>\n      <td>0</td>\n      <td>0.0</td>\n      <td>0.000000</td>\n    </tr>\n    <tr>\n      <th>312756</th>\n      <td>Z991743</td>\n      <td>130680.0</td>\n      <td>174.0</td>\n      <td>70.0</td>\n      <td>69.0</td>\n      <td>36.7</td>\n      <td>16.0</td>\n      <td>92.0</td>\n      <td>92.0</td>\n      <td>F</td>\n      <td>63.0</td>\n      <td>0</td>\n      <td>0</td>\n      <td>0</td>\n      <td>0</td>\n      <td>0</td>\n      <td>0.0</td>\n      <td>0.000000</td>\n    </tr>\n    <tr>\n      <th>312757</th>\n      <td>Z992617</td>\n      <td>0.0</td>\n      <td>NaN</td>\n      <td>NaN</td>\n      <td>NaN</td>\n      <td>NaN</td>\n      <td>NaN</td>\n      <td>NaN</td>\n      <td>NaN</td>\n      <td>NaN</td>\n      <td>NaN</td>\n      <td>0</td>\n      <td>0</td>\n      <td>0</td>\n      <td>0</td>\n      <td>0</td>\n      <td>0.0</td>\n      <td>1.190909</td>\n    </tr>\n  </tbody>\n</table>\n<p>312758 rows × 18 columns</p>\n</div>"
     },
     "metadata": {},
     "execution_count": 64
    }
   ],
   "metadata": {}
  },
  {
   "cell_type": "code",
   "execution_count": 65,
   "source": [
    "rows = len(df1)\r\n",
    "rows"
   ],
   "outputs": [
    {
     "output_type": "execute_result",
     "data": {
      "text/plain": [
       "312758"
      ]
     },
     "metadata": {},
     "execution_count": 65
    }
   ],
   "metadata": {}
  },
  {
   "cell_type": "code",
   "execution_count": 66,
   "source": [
    "print (df1.iloc[0][1])\r\n",
    "print (type(df1iiloc05][8]))# df1.iloc[row][column]\n",
    "print (0.0 == df1.iloc[0][1])9]))\r\n"
   ],
   "outputs": [
    {
     "output_type": "stream",
     "name": "stdout",
     "text": [
      "0.0\n<class 'numpy.float64'>\nTrue\n"
     ]
    }
   ],
   "metadata": {}
  },
  {
   "cell_type": "code",
   "execution_count": 67,
   "source": [
    "i=1\r\n",
    "date_list = []\n",
    "date_list.append(df1.iloc[0][1]) []\r\n",
    "whilrows:ows:\r\n",
    "    value1 = df1.iloc]\n",
    "    value0 = df1.iloc[i-1][1] \n",
    "\n",
    "    if (value1-value0) > 10080:\n",
    "        subtracted = df1.iloc[i][1]\n",
    "        date_list.append(0.0)\n",
    "        new_idx = i+1\n",
    "\n",
    "        while df1.iloc[new_idx][1] != 0.0 and (df1.iloc[new_idx][1]-df1.iloc[new_idx-1][1])<10080:\n",
    "            changed_v = df1.iloc[new_idx][1]\n",
    "            date_list.append(changed_v - subtracted)\n",
    "            new_idx += 1\n",
    "            i += 1\n",
    "    else:\n",
    "        date_list.append(value1)\n",
    "   else:\n",
    "\n",
    "#print(date_list)\r\n",
    "        wbc_list.append(float(0))\r\n",
    "    \r\n",
    "\r\n",
    "    i+=1\r\n",
    "    \r\n"
   ],
   "outputs": [],
   "metadata": {
    "tags": []
   }
  },
  {
   "cell_type": "code",
   "execution_count": 68,
   "metadata": {},
   "outputs": [],
   "source": [
    "del df1[\"new_date\"]\n",
    "df1[\"new_date\"] = date_list"
   ]
  },
  {
   "cell_type": "code",
   "execution_count": 69,
   "source": [
    "df1 = df1[['pt_identifier', 'Diag_desc', 'new_date', 'BP1', 'BP2', 'Pulse', 'Temp', 'RR', 'O2Sat',\r\n",
    "       'Age_Number', 'Gender', 'Weight',\r\n",
    "       'Most_responsible', 'pre_admit', 'post_admit', 'secondary', 'Lactate_adjusted', 'WBC_adjusted']]"
   ],
   "outputs": [],
   "metadata": {}
  },
  {
   "cell_type": "code",
   "execution_count": 70,
   "source": [
    "df1\r\n"
   ],
   "outputs": [
    {
     "output_type": "execute_result",
     "data": {
      "text/plain": [
       "       pt_identifier  Diag_desc  new_date    BP1   BP2  Pulse  Temp    RR  \\\n",
       "0           H1000412          0       0.0  125.0  79.0   96.0  37.4  13.0   \n",
       "1           H1000412          0      23.0    NaN   NaN    NaN   NaN   NaN   \n",
       "2           H1000412          0     450.0  138.0  76.0   98.0  36.8  16.0   \n",
       "3           H1000412          0     467.0    NaN   NaN    NaN   NaN   NaN   \n",
       "4           H1000412          0     531.0  116.0  84.0   88.0  36.9  17.0   \n",
       "...              ...        ...       ...    ...   ...    ...   ...   ...   \n",
       "312753       Z991743          0    4209.0  153.0  64.0   58.0  36.5  16.0   \n",
       "312754       Z991743          0    4219.0    NaN   NaN    NaN   NaN   NaN   \n",
       "312755       Z991743          0    4947.0  152.0  65.0   63.0  36.6  18.0   \n",
       "312756       Z991743          0    5661.0  174.0  70.0   69.0  36.7  16.0   \n",
       "312757       Z992617          0       0.0    NaN   NaN    NaN   NaN   NaN   \n",
       "\n",
       "        O2Sat  Age_Number Gender  Weight  Most_responsible  pre_admit  \\\n",
       "0        96.0        81.0      F     NaN                 0          0   \n",
       "1         NaN        81.0      F     NaN                 0          0   \n",
       "2        98.0        81.0      F     NaN                 0          0   \n",
       "3         NaN        81.0      F     NaN                 0          0   \n",
       "4        97.0        81.0      F     NaN                 0          0   \n",
       "...       ...         ...    ...     ...               ...        ...   \n",
       "312753   96.0        92.0      F    63.0                 0          0   \n",
       "312754    NaN        92.0      F    63.0                 0          0   \n",
       "312755   94.0        92.0      F    63.0                 0          0   \n",
       "312756   92.0        92.0      F    63.0                 0          0   \n",
       "312757    NaN         NaN    NaN     NaN                 0          0   \n",
       "\n",
       "        post_admit  secondary  Lactate_adjusted  WBC_adjusted  \n",
       "0                0          0               0.0      0.000000  \n",
       "1                0          0               0.0      0.945455  \n",
       "2                0          0               0.0      0.000000  \n",
       "3                0          0               0.0      1.090909  \n",
       "4                0          0               0.0      0.000000  \n",
       "...            ...        ...               ...           ...  \n",
       "312753           0          0               0.0      0.000000  \n",
       "312754           0          0               0.0      0.800000  \n",
       "312755           0          0               0.0      0.000000  \n",
       "312756           0          0               0.0      0.000000  \n",
       "312757           0          0               0.0      1.190909  \n",
       "\n",
       "[312758 rows x 18 columns]"
      ],
      "text/html": "<div>\n<style scoped>\n    .dataframe tbody tr th:only-of-type {\n        vertical-align: middle;\n    }\n\n    .dataframe tbody tr th {\n        vertical-align: top;\n    }\n\n    .dataframe thead th {\n        text-align: right;\n    }\n</style>\n<table border=\"1\" class=\"dataframe\">\n  <thead>\n    <tr style=\"text-align: right;\">\n      <th></th>\n      <th>pt_identifier</th>\n      <th>Diag_desc</th>\n      <th>new_date</th>\n      <th>BP1</th>\n      <th>BP2</th>\n      <th>Pulse</th>\n      <th>Temp</th>\n      <th>RR</th>\n      <th>O2Sat</th>\n      <th>Age_Number</th>\n      <th>Gender</th>\n      <th>Weight</th>\n      <th>Most_responsible</th>\n      <th>pre_admit</th>\n      <th>post_admit</th>\n      <th>secondary</th>\n      <th>Lactate_adjusted</th>\n      <th>WBC_adjusted</th>\n    </tr>\n  </thead>\n  <tbody>\n    <tr>\n      <th>0</th>\n      <td>H1000412</td>\n      <td>0</td>\n      <td>0.0</td>\n      <td>125.0</td>\n      <td>79.0</td>\n      <td>96.0</td>\n      <td>37.4</td>\n      <td>13.0</td>\n      <td>96.0</td>\n      <td>81.0</td>\n      <td>F</td>\n      <td>NaN</td>\n      <td>0</td>\n      <td>0</td>\n      <td>0</td>\n      <td>0</td>\n      <td>0.0</td>\n      <td>0.000000</td>\n    </tr>\n    <tr>\n      <th>1</th>\n      <td>H1000412</td>\n      <td>0</td>\n      <td>23.0</td>\n      <td>NaN</td>\n      <td>NaN</td>\n      <td>NaN</td>\n      <td>NaN</td>\n      <td>NaN</td>\n      <td>NaN</td>\n      <td>81.0</td>\n      <td>F</td>\n      <td>NaN</td>\n      <td>0</td>\n      <td>0</td>\n      <td>0</td>\n      <td>0</td>\n      <td>0.0</td>\n      <td>0.945455</td>\n    </tr>\n    <tr>\n      <th>2</th>\n      <td>H1000412</td>\n      <td>0</td>\n      <td>450.0</td>\n      <td>138.0</td>\n      <td>76.0</td>\n      <td>98.0</td>\n      <td>36.8</td>\n      <td>16.0</td>\n      <td>98.0</td>\n      <td>81.0</td>\n      <td>F</td>\n      <td>NaN</td>\n      <td>0</td>\n      <td>0</td>\n      <td>0</td>\n      <td>0</td>\n      <td>0.0</td>\n      <td>0.000000</td>\n    </tr>\n    <tr>\n      <th>3</th>\n      <td>H1000412</td>\n      <td>0</td>\n      <td>467.0</td>\n      <td>NaN</td>\n      <td>NaN</td>\n      <td>NaN</td>\n      <td>NaN</td>\n      <td>NaN</td>\n      <td>NaN</td>\n      <td>81.0</td>\n      <td>F</td>\n      <td>NaN</td>\n      <td>0</td>\n      <td>0</td>\n      <td>0</td>\n      <td>0</td>\n      <td>0.0</td>\n      <td>1.090909</td>\n    </tr>\n    <tr>\n      <th>4</th>\n      <td>H1000412</td>\n      <td>0</td>\n      <td>531.0</td>\n      <td>116.0</td>\n      <td>84.0</td>\n      <td>88.0</td>\n      <td>36.9</td>\n      <td>17.0</td>\n      <td>97.0</td>\n      <td>81.0</td>\n      <td>F</td>\n      <td>NaN</td>\n      <td>0</td>\n      <td>0</td>\n      <td>0</td>\n      <td>0</td>\n      <td>0.0</td>\n      <td>0.000000</td>\n    </tr>\n    <tr>\n      <th>...</th>\n      <td>...</td>\n      <td>...</td>\n      <td>...</td>\n      <td>...</td>\n      <td>...</td>\n      <td>...</td>\n      <td>...</td>\n      <td>...</td>\n      <td>...</td>\n      <td>...</td>\n      <td>...</td>\n      <td>...</td>\n      <td>...</td>\n      <td>...</td>\n      <td>...</td>\n      <td>...</td>\n      <td>...</td>\n      <td>...</td>\n    </tr>\n    <tr>\n      <th>312753</th>\n      <td>Z991743</td>\n      <td>0</td>\n      <td>4209.0</td>\n      <td>153.0</td>\n      <td>64.0</td>\n      <td>58.0</td>\n      <td>36.5</td>\n      <td>16.0</td>\n      <td>96.0</td>\n      <td>92.0</td>\n      <td>F</td>\n      <td>63.0</td>\n      <td>0</td>\n      <td>0</td>\n      <td>0</td>\n      <td>0</td>\n      <td>0.0</td>\n      <td>0.000000</td>\n    </tr>\n    <tr>\n      <th>312754</th>\n      <td>Z991743</td>\n      <td>0</td>\n      <td>4219.0</td>\n      <td>NaN</td>\n      <td>NaN</td>\n      <td>NaN</td>\n      <td>NaN</td>\n      <td>NaN</td>\n      <td>NaN</td>\n      <td>92.0</td>\n      <td>F</td>\n      <td>63.0</td>\n      <td>0</td>\n      <td>0</td>\n      <td>0</td>\n      <td>0</td>\n      <td>0.0</td>\n      <td>0.800000</td>\n    </tr>\n    <tr>\n      <th>312755</th>\n      <td>Z991743</td>\n      <td>0</td>\n      <td>4947.0</td>\n      <td>152.0</td>\n      <td>65.0</td>\n      <td>63.0</td>\n      <td>36.6</td>\n      <td>18.0</td>\n      <td>94.0</td>\n      <td>92.0</td>\n      <td>F</td>\n      <td>63.0</td>\n      <td>0</td>\n      <td>0</td>\n      <td>0</td>\n      <td>0</td>\n      <td>0.0</td>\n      <td>0.000000</td>\n    </tr>\n    <tr>\n      <th>312756</th>\n      <td>Z991743</td>\n      <td>0</td>\n      <td>5661.0</td>\n      <td>174.0</td>\n      <td>70.0</td>\n      <td>69.0</td>\n      <td>36.7</td>\n      <td>16.0</td>\n      <td>92.0</td>\n      <td>92.0</td>\n      <td>F</td>\n      <td>63.0</td>\n      <td>0</td>\n      <td>0</td>\n      <td>0</td>\n      <td>0</td>\n      <td>0.0</td>\n      <td>0.000000</td>\n    </tr>\n    <tr>\n      <th>312757</th>\n      <td>Z992617</td>\n      <td>0</td>\n      <td>0.0</td>\n      <td>NaN</td>\n      <td>NaN</td>\n      <td>NaN</td>\n      <td>NaN</td>\n      <td>NaN</td>\n      <td>NaN</td>\n      <td>NaN</td>\n      <td>NaN</td>\n      <td>NaN</td>\n      <td>0</td>\n      <td>0</td>\n      <td>0</td>\n      <td>0</td>\n      <td>0.0</td>\n      <td>1.190909</td>\n    </tr>\n  </tbody>\n</table>\n<p>312758 rows × 18 columns</p>\n</div>"
     },
     "metadata": {},
     "execution_count": 70
    }
   ],
   "metadata": {}
  },
  {
   "cell_type": "code",
   "execution_count": 71,
   "metadata": {},
   "outputs": [
    {
     "output_type": "execute_result",
     "data": {
      "text/plain": [
       "   pt_identifier  Diag_desc  new_date    BP1   BP2  Pulse  Temp    RR  O2Sat  \\\n",
       "0       H1000412          0       0.0  125.0  79.0   96.0  37.4  13.0   96.0   \n",
       "1       H1000412          0      23.0    NaN   NaN    NaN   NaN   NaN    NaN   \n",
       "2       H1000412          0     450.0  138.0  76.0   98.0  36.8  16.0   98.0   \n",
       "3       H1000412          0     467.0    NaN   NaN    NaN   NaN   NaN    NaN   \n",
       "4       H1000412          0     531.0  116.0  84.0   88.0  36.9  17.0   97.0   \n",
       "5       H1000412          0     763.0  126.0  64.0   69.0  37.0  10.0   94.0   \n",
       "6       H1000412          0     929.0    NaN   NaN    NaN   NaN   NaN    NaN   \n",
       "7       H1002243          0       0.0    NaN   NaN    NaN   NaN   NaN    NaN   \n",
       "8       H1002243          0    1405.0    NaN   NaN    NaN   NaN   NaN    NaN   \n",
       "9       H1002797          0       0.0  166.0  90.0   58.0  36.7  18.0   99.0   \n",
       "10      H1002797          0     166.0    NaN   NaN    NaN   NaN   NaN    NaN   \n",
       "11      H1002797          0     168.0    NaN   NaN    NaN   NaN   NaN    NaN   \n",
       "12      H1002797          0    6507.0  151.0  90.0   61.0  36.0  20.0  100.0   \n",
       "13      H1002797          0    6525.0    NaN   NaN    NaN   NaN   NaN    NaN   \n",
       "14      H1002797          0    6530.0    NaN   NaN    NaN   NaN   NaN    NaN   \n",
       "15      H1002797          0    6966.0    NaN   NaN    NaN   NaN   NaN    NaN   \n",
       "16      H1002797          0    8663.0    NaN   NaN    NaN   NaN   NaN    NaN   \n",
       "17      H1002797          0    8949.0  149.0  92.0   71.0  37.1  16.0   96.0   \n",
       "18      H1002797          0    9633.0  144.0  87.0   76.0  36.9  18.0   94.0   \n",
       "19      H1002797          0    9943.0  138.0  78.0   79.0  36.6  18.0   94.0   \n",
       "20      H1002797          0   10054.0  131.0  78.0   56.0  36.9  18.0   98.0   \n",
       "21      H1002797          0   10584.0  128.0  75.0   62.0  36.9  18.0   98.0   \n",
       "22      H1002797          0   10794.0  140.0  82.0   59.0  36.9  18.0   94.0   \n",
       "23      H1002797          0       0.0  149.0  87.0   67.0  36.7  18.0  100.0   \n",
       "24      H1002797          0      41.0    NaN   NaN    NaN   NaN   NaN    NaN   \n",
       "25      H1002797          0     338.0  147.0  91.0   63.0   NaN  18.0   97.0   \n",
       "26      H1002797          0       0.0  146.0  85.0   62.0  36.5  16.0   99.0   \n",
       "27      H1002797          0      84.0  140.0  82.0   57.0  36.8  18.0   98.0   \n",
       "28      H1002797          0      90.0    NaN   NaN    NaN   NaN   NaN    NaN   \n",
       "29      H1002797          0     220.0  137.0  81.0   58.0  36.8  17.0   97.0   \n",
       "30      H1002797          0     284.0  131.0  81.0   65.0   NaN  18.0   99.0   \n",
       "31      H1002797          0       0.0    NaN   NaN    NaN   NaN   NaN    NaN   \n",
       "32      H1003037          0       0.0  102.0  53.0  108.0  36.8  22.0  100.0   \n",
       "33      H1003037          0      13.0    NaN   NaN    NaN   NaN   NaN    NaN   \n",
       "34      H1003037          0      13.0    NaN   NaN    NaN   NaN   NaN    NaN   \n",
       "35      H1003037          0       0.0   94.0  62.0   80.0  36.3  18.0  100.0   \n",
       "36      H1003037          0      43.0   99.0  63.0   98.0  36.9  16.0   97.0   \n",
       "37      H1003037          0      80.0    NaN   NaN    NaN   NaN   NaN    NaN   \n",
       "38      H1003037          0       0.0  105.0  47.0  106.0  36.4  17.0  100.0   \n",
       "39      H1003037          0     105.0   82.0  35.0   93.0   NaN  16.0  100.0   \n",
       "40      H1003037          0     110.0    NaN   NaN    NaN   NaN   NaN    NaN   \n",
       "41      H1003037          0     192.0    NaN   NaN    NaN   NaN   NaN    NaN   \n",
       "42      H1003037          0     198.0  105.0  50.0   69.0   NaN  18.0  100.0   \n",
       "43      H1003037          0     282.0  111.0  46.0   95.0   NaN  16.0  100.0   \n",
       "44      H1003037          0     322.0  134.0  58.0  104.0   NaN  16.0  100.0   \n",
       "45      H1003037          0     439.0  126.0  43.0   95.0   NaN  16.0  100.0   \n",
       "46      H1003037          0     532.0  118.0  51.0   80.0  36.7  18.0  100.0   \n",
       "47      H1003037          0     887.0  100.0  26.0   66.0   NaN  16.0   99.0   \n",
       "48      H1003037          0    1108.0    NaN   NaN    NaN   NaN   NaN    NaN   \n",
       "49      H1003037          0    1108.0    NaN   NaN    NaN   NaN   NaN    NaN   \n",
       "\n",
       "    Age_Number Gender  Weight  Most_responsible  pre_admit  post_admit  \\\n",
       "0         81.0      F     NaN                 0          0           0   \n",
       "1         81.0      F     NaN                 0          0           0   \n",
       "2         81.0      F     NaN                 0          0           0   \n",
       "3         81.0      F     NaN                 0          0           0   \n",
       "4         81.0      F     NaN                 0          0           0   \n",
       "5         81.0      F     NaN                 0          0           0   \n",
       "6         81.0      F     NaN                 0          0           0   \n",
       "7          NaN    NaN     NaN                 0          0           0   \n",
       "8          NaN    NaN     NaN                 0          0           0   \n",
       "9         66.0      F     NaN                 0          0           0   \n",
       "10        66.0      F     NaN                 0          0           0   \n",
       "11        66.0      F     NaN                 0          0           0   \n",
       "12        66.0      F     NaN                 0          0           0   \n",
       "13        66.0      F     NaN                 0          0           0   \n",
       "14        66.0      F     NaN                 0          0           0   \n",
       "15        66.0      F     NaN                 0          0           0   \n",
       "16        66.0      F     NaN                 0          0           0   \n",
       "17        66.0      F     NaN                 0          0           0   \n",
       "18        66.0      F     NaN                 0          0           0   \n",
       "19        66.0      F     NaN                 0          0           0   \n",
       "20        66.0      F     NaN                 0          0           0   \n",
       "21        66.0      F     NaN                 0          0           0   \n",
       "22        66.0      F     NaN                 0          0           0   \n",
       "23        66.0      F     NaN                 0          0           0   \n",
       "24        66.0      F     NaN                 0          0           0   \n",
       "25        66.0      F     NaN                 0          0           0   \n",
       "26        66.0      F     NaN                 0          0           0   \n",
       "27        66.0      F     NaN                 0          0           0   \n",
       "28        66.0      F     NaN                 0          0           0   \n",
       "29        66.0      F     NaN                 0          0           0   \n",
       "30        66.0      F     NaN                 0          0           0   \n",
       "31        66.0      F     NaN                 0          0           0   \n",
       "32        65.0      M    88.0                 0          0           0   \n",
       "33        65.0      M    88.0                 0          0           0   \n",
       "34        65.0      M    88.0                 0          0           0   \n",
       "35        65.0      M    88.0                 0          0           0   \n",
       "36        65.0      M    88.0                 0          0           0   \n",
       "37        65.0      M    88.0                 0          0           0   \n",
       "38        65.0      M    88.0                 0          0           0   \n",
       "39        65.0      M    88.0                 0          0           0   \n",
       "40        65.0      M    88.0                 0          0           0   \n",
       "41        65.0      M    88.0                 0          0           0   \n",
       "42        65.0      M    88.0                 0          0           0   \n",
       "43        65.0      M    88.0                 0          0           0   \n",
       "44        65.0      M    88.0                 0          0           0   \n",
       "45        65.0      M    88.0                 0          0           0   \n",
       "46        65.0      M    88.0                 0          0           0   \n",
       "47        65.0      M    88.0                 0          0           0   \n",
       "48        65.0      M    88.0                 0          0           0   \n",
       "49        65.0      M    88.0                 0          0           0   \n",
       "\n",
       "    secondary  Lactate_adjusted  WBC_adjusted  \n",
       "0           0          0.000000      0.000000  \n",
       "1           0          0.000000      0.945455  \n",
       "2           0          0.000000      0.000000  \n",
       "3           0          0.000000      1.090909  \n",
       "4           0          0.000000      0.000000  \n",
       "5           0          0.000000      0.000000  \n",
       "6           0          0.000000      1.009091  \n",
       "7           0          0.000000      0.963636  \n",
       "8           0          0.000000      1.090909  \n",
       "9           0          0.000000      0.000000  \n",
       "10          0          0.000000      0.554545  \n",
       "11          0          0.272727      0.000000  \n",
       "12          0          0.000000      0.000000  \n",
       "13          0          0.000000      0.590909  \n",
       "14          0          0.500000      0.000000  \n",
       "15          0          0.000000      0.600000  \n",
       "16          0          0.000000      0.936364  \n",
       "17          0          0.000000      0.000000  \n",
       "18          0          0.000000      0.000000  \n",
       "19          0          0.000000      0.000000  \n",
       "20          0          0.000000      0.000000  \n",
       "21          0          0.000000      0.000000  \n",
       "22          0          0.000000      0.000000  \n",
       "23          0          0.000000      0.000000  \n",
       "24          0          0.000000      0.436364  \n",
       "25          0          0.000000      0.000000  \n",
       "26          0          0.000000      0.000000  \n",
       "27          0          0.000000      0.000000  \n",
       "28          0          0.000000      0.600000  \n",
       "29          0          0.000000      0.000000  \n",
       "30          0          0.000000      0.000000  \n",
       "31          0          0.000000      0.472727  \n",
       "32          0          0.000000      0.000000  \n",
       "33          0          1.680769      0.000000  \n",
       "34          0          0.000000      0.018182  \n",
       "35          0          0.000000      0.000000  \n",
       "36          0          0.000000      0.000000  \n",
       "37          0          0.000000      0.663636  \n",
       "38          0          0.000000      0.000000  \n",
       "39          0          0.000000      0.000000  \n",
       "40          0          0.000000      0.981818  \n",
       "41          0          0.965385      0.000000  \n",
       "42          0          0.000000      0.000000  \n",
       "43          0          0.000000      0.000000  \n",
       "44          0          0.000000      0.000000  \n",
       "45          0          0.000000      0.000000  \n",
       "46          0          0.000000      0.000000  \n",
       "47          0          0.000000      0.000000  \n",
       "48          0          0.392308      0.000000  \n",
       "49          0          0.000000      0.600000  "
      ],
      "text/html": "<div>\n<style scoped>\n    .dataframe tbody tr th:only-of-type {\n        vertical-align: middle;\n    }\n\n    .dataframe tbody tr th {\n        vertical-align: top;\n    }\n\n    .dataframe thead th {\n        text-align: right;\n    }\n</style>\n<table border=\"1\" class=\"dataframe\">\n  <thead>\n    <tr style=\"text-align: right;\">\n      <th></th>\n      <th>pt_identifier</th>\n      <th>Diag_desc</th>\n      <th>new_date</th>\n      <th>BP1</th>\n      <th>BP2</th>\n      <th>Pulse</th>\n      <th>Temp</th>\n      <th>RR</th>\n      <th>O2Sat</th>\n      <th>Age_Number</th>\n      <th>Gender</th>\n      <th>Weight</th>\n      <th>Most_responsible</th>\n      <th>pre_admit</th>\n      <th>post_admit</th>\n      <th>secondary</th>\n      <th>Lactate_adjusted</th>\n      <th>WBC_adjusted</th>\n    </tr>\n  </thead>\n  <tbody>\n    <tr>\n      <th>0</th>\n      <td>H1000412</td>\n      <td>0</td>\n      <td>0.0</td>\n      <td>125.0</td>\n      <td>79.0</td>\n      <td>96.0</td>\n      <td>37.4</td>\n      <td>13.0</td>\n      <td>96.0</td>\n      <td>81.0</td>\n      <td>F</td>\n      <td>NaN</td>\n      <td>0</td>\n      <td>0</td>\n      <td>0</td>\n      <td>0</td>\n      <td>0.000000</td>\n      <td>0.000000</td>\n    </tr>\n    <tr>\n      <th>1</th>\n      <td>H1000412</td>\n      <td>0</td>\n      <td>23.0</td>\n      <td>NaN</td>\n      <td>NaN</td>\n      <td>NaN</td>\n      <td>NaN</td>\n      <td>NaN</td>\n      <td>NaN</td>\n      <td>81.0</td>\n      <td>F</td>\n      <td>NaN</td>\n      <td>0</td>\n      <td>0</td>\n      <td>0</td>\n      <td>0</td>\n      <td>0.000000</td>\n      <td>0.945455</td>\n    </tr>\n    <tr>\n      <th>2</th>\n      <td>H1000412</td>\n      <td>0</td>\n      <td>450.0</td>\n      <td>138.0</td>\n      <td>76.0</td>\n      <td>98.0</td>\n      <td>36.8</td>\n      <td>16.0</td>\n      <td>98.0</td>\n      <td>81.0</td>\n      <td>F</td>\n      <td>NaN</td>\n      <td>0</td>\n      <td>0</td>\n      <td>0</td>\n      <td>0</td>\n      <td>0.000000</td>\n      <td>0.000000</td>\n    </tr>\n    <tr>\n      <th>3</th>\n      <td>H1000412</td>\n      <td>0</td>\n      <td>467.0</td>\n      <td>NaN</td>\n      <td>NaN</td>\n      <td>NaN</td>\n      <td>NaN</td>\n      <td>NaN</td>\n      <td>NaN</td>\n      <td>81.0</td>\n      <td>F</td>\n      <td>NaN</td>\n      <td>0</td>\n      <td>0</td>\n      <td>0</td>\n      <td>0</td>\n      <td>0.000000</td>\n      <td>1.090909</td>\n    </tr>\n    <tr>\n      <th>4</th>\n      <td>H1000412</td>\n      <td>0</td>\n      <td>531.0</td>\n      <td>116.0</td>\n      <td>84.0</td>\n      <td>88.0</td>\n      <td>36.9</td>\n      <td>17.0</td>\n      <td>97.0</td>\n      <td>81.0</td>\n      <td>F</td>\n      <td>NaN</td>\n      <td>0</td>\n      <td>0</td>\n      <td>0</td>\n      <td>0</td>\n      <td>0.000000</td>\n      <td>0.000000</td>\n    </tr>\n    <tr>\n      <th>5</th>\n      <td>H1000412</td>\n      <td>0</td>\n      <td>763.0</td>\n      <td>126.0</td>\n      <td>64.0</td>\n      <td>69.0</td>\n      <td>37.0</td>\n      <td>10.0</td>\n      <td>94.0</td>\n      <td>81.0</td>\n      <td>F</td>\n      <td>NaN</td>\n      <td>0</td>\n      <td>0</td>\n      <td>0</td>\n      <td>0</td>\n      <td>0.000000</td>\n      <td>0.000000</td>\n    </tr>\n    <tr>\n      <th>6</th>\n      <td>H1000412</td>\n      <td>0</td>\n      <td>929.0</td>\n      <td>NaN</td>\n      <td>NaN</td>\n      <td>NaN</td>\n      <td>NaN</td>\n      <td>NaN</td>\n      <td>NaN</td>\n      <td>81.0</td>\n      <td>F</td>\n      <td>NaN</td>\n      <td>0</td>\n      <td>0</td>\n      <td>0</td>\n      <td>0</td>\n      <td>0.000000</td>\n      <td>1.009091</td>\n    </tr>\n    <tr>\n      <th>7</th>\n      <td>H1002243</td>\n      <td>0</td>\n      <td>0.0</td>\n      <td>NaN</td>\n      <td>NaN</td>\n      <td>NaN</td>\n      <td>NaN</td>\n      <td>NaN</td>\n      <td>NaN</td>\n      <td>NaN</td>\n      <td>NaN</td>\n      <td>NaN</td>\n      <td>0</td>\n      <td>0</td>\n      <td>0</td>\n      <td>0</td>\n      <td>0.000000</td>\n      <td>0.963636</td>\n    </tr>\n    <tr>\n      <th>8</th>\n      <td>H1002243</td>\n      <td>0</td>\n      <td>1405.0</td>\n      <td>NaN</td>\n      <td>NaN</td>\n      <td>NaN</td>\n      <td>NaN</td>\n      <td>NaN</td>\n      <td>NaN</td>\n      <td>NaN</td>\n      <td>NaN</td>\n      <td>NaN</td>\n      <td>0</td>\n      <td>0</td>\n      <td>0</td>\n      <td>0</td>\n      <td>0.000000</td>\n      <td>1.090909</td>\n    </tr>\n    <tr>\n      <th>9</th>\n      <td>H1002797</td>\n      <td>0</td>\n      <td>0.0</td>\n      <td>166.0</td>\n      <td>90.0</td>\n      <td>58.0</td>\n      <td>36.7</td>\n      <td>18.0</td>\n      <td>99.0</td>\n      <td>66.0</td>\n      <td>F</td>\n      <td>NaN</td>\n      <td>0</td>\n      <td>0</td>\n      <td>0</td>\n      <td>0</td>\n      <td>0.000000</td>\n      <td>0.000000</td>\n    </tr>\n    <tr>\n      <th>10</th>\n      <td>H1002797</td>\n      <td>0</td>\n      <td>166.0</td>\n      <td>NaN</td>\n      <td>NaN</td>\n      <td>NaN</td>\n      <td>NaN</td>\n      <td>NaN</td>\n      <td>NaN</td>\n      <td>66.0</td>\n      <td>F</td>\n      <td>NaN</td>\n      <td>0</td>\n      <td>0</td>\n      <td>0</td>\n      <td>0</td>\n      <td>0.000000</td>\n      <td>0.554545</td>\n    </tr>\n    <tr>\n      <th>11</th>\n      <td>H1002797</td>\n      <td>0</td>\n      <td>168.0</td>\n      <td>NaN</td>\n      <td>NaN</td>\n      <td>NaN</td>\n      <td>NaN</td>\n      <td>NaN</td>\n      <td>NaN</td>\n      <td>66.0</td>\n      <td>F</td>\n      <td>NaN</td>\n      <td>0</td>\n      <td>0</td>\n      <td>0</td>\n      <td>0</td>\n      <td>0.272727</td>\n      <td>0.000000</td>\n    </tr>\n    <tr>\n      <th>12</th>\n      <td>H1002797</td>\n      <td>0</td>\n      <td>6507.0</td>\n      <td>151.0</td>\n      <td>90.0</td>\n      <td>61.0</td>\n      <td>36.0</td>\n      <td>20.0</td>\n      <td>100.0</td>\n      <td>66.0</td>\n      <td>F</td>\n      <td>NaN</td>\n      <td>0</td>\n      <td>0</td>\n      <td>0</td>\n      <td>0</td>\n      <td>0.000000</td>\n      <td>0.000000</td>\n    </tr>\n    <tr>\n      <th>13</th>\n      <td>H1002797</td>\n      <td>0</td>\n      <td>6525.0</td>\n      <td>NaN</td>\n      <td>NaN</td>\n      <td>NaN</td>\n      <td>NaN</td>\n      <td>NaN</td>\n      <td>NaN</td>\n      <td>66.0</td>\n      <td>F</td>\n      <td>NaN</td>\n      <td>0</td>\n      <td>0</td>\n      <td>0</td>\n      <td>0</td>\n      <td>0.000000</td>\n      <td>0.590909</td>\n    </tr>\n    <tr>\n      <th>14</th>\n      <td>H1002797</td>\n      <td>0</td>\n      <td>6530.0</td>\n      <td>NaN</td>\n      <td>NaN</td>\n      <td>NaN</td>\n      <td>NaN</td>\n      <td>NaN</td>\n      <td>NaN</td>\n      <td>66.0</td>\n      <td>F</td>\n      <td>NaN</td>\n      <td>0</td>\n      <td>0</td>\n      <td>0</td>\n      <td>0</td>\n      <td>0.500000</td>\n      <td>0.000000</td>\n    </tr>\n    <tr>\n      <th>15</th>\n      <td>H1002797</td>\n      <td>0</td>\n      <td>6966.0</td>\n      <td>NaN</td>\n      <td>NaN</td>\n      <td>NaN</td>\n      <td>NaN</td>\n      <td>NaN</td>\n      <td>NaN</td>\n      <td>66.0</td>\n      <td>F</td>\n      <td>NaN</td>\n      <td>0</td>\n      <td>0</td>\n      <td>0</td>\n      <td>0</td>\n      <td>0.000000</td>\n      <td>0.600000</td>\n    </tr>\n    <tr>\n      <th>16</th>\n      <td>H1002797</td>\n      <td>0</td>\n      <td>8663.0</td>\n      <td>NaN</td>\n      <td>NaN</td>\n      <td>NaN</td>\n      <td>NaN</td>\n      <td>NaN</td>\n      <td>NaN</td>\n      <td>66.0</td>\n      <td>F</td>\n      <td>NaN</td>\n      <td>0</td>\n      <td>0</td>\n      <td>0</td>\n      <td>0</td>\n      <td>0.000000</td>\n      <td>0.936364</td>\n    </tr>\n    <tr>\n      <th>17</th>\n      <td>H1002797</td>\n      <td>0</td>\n      <td>8949.0</td>\n      <td>149.0</td>\n      <td>92.0</td>\n      <td>71.0</td>\n      <td>37.1</td>\n      <td>16.0</td>\n      <td>96.0</td>\n      <td>66.0</td>\n      <td>F</td>\n      <td>NaN</td>\n      <td>0</td>\n      <td>0</td>\n      <td>0</td>\n      <td>0</td>\n      <td>0.000000</td>\n      <td>0.000000</td>\n    </tr>\n    <tr>\n      <th>18</th>\n      <td>H1002797</td>\n      <td>0</td>\n      <td>9633.0</td>\n      <td>144.0</td>\n      <td>87.0</td>\n      <td>76.0</td>\n      <td>36.9</td>\n      <td>18.0</td>\n      <td>94.0</td>\n      <td>66.0</td>\n      <td>F</td>\n      <td>NaN</td>\n      <td>0</td>\n      <td>0</td>\n      <td>0</td>\n      <td>0</td>\n      <td>0.000000</td>\n      <td>0.000000</td>\n    </tr>\n    <tr>\n      <th>19</th>\n      <td>H1002797</td>\n      <td>0</td>\n      <td>9943.0</td>\n      <td>138.0</td>\n      <td>78.0</td>\n      <td>79.0</td>\n      <td>36.6</td>\n      <td>18.0</td>\n      <td>94.0</td>\n      <td>66.0</td>\n      <td>F</td>\n      <td>NaN</td>\n      <td>0</td>\n      <td>0</td>\n      <td>0</td>\n      <td>0</td>\n      <td>0.000000</td>\n      <td>0.000000</td>\n    </tr>\n    <tr>\n      <th>20</th>\n      <td>H1002797</td>\n      <td>0</td>\n      <td>10054.0</td>\n      <td>131.0</td>\n      <td>78.0</td>\n      <td>56.0</td>\n      <td>36.9</td>\n      <td>18.0</td>\n      <td>98.0</td>\n      <td>66.0</td>\n      <td>F</td>\n      <td>NaN</td>\n      <td>0</td>\n      <td>0</td>\n      <td>0</td>\n      <td>0</td>\n      <td>0.000000</td>\n      <td>0.000000</td>\n    </tr>\n    <tr>\n      <th>21</th>\n      <td>H1002797</td>\n      <td>0</td>\n      <td>10584.0</td>\n      <td>128.0</td>\n      <td>75.0</td>\n      <td>62.0</td>\n      <td>36.9</td>\n      <td>18.0</td>\n      <td>98.0</td>\n      <td>66.0</td>\n      <td>F</td>\n      <td>NaN</td>\n      <td>0</td>\n      <td>0</td>\n      <td>0</td>\n      <td>0</td>\n      <td>0.000000</td>\n      <td>0.000000</td>\n    </tr>\n    <tr>\n      <th>22</th>\n      <td>H1002797</td>\n      <td>0</td>\n      <td>10794.0</td>\n      <td>140.0</td>\n      <td>82.0</td>\n      <td>59.0</td>\n      <td>36.9</td>\n      <td>18.0</td>\n      <td>94.0</td>\n      <td>66.0</td>\n      <td>F</td>\n      <td>NaN</td>\n      <td>0</td>\n      <td>0</td>\n      <td>0</td>\n      <td>0</td>\n      <td>0.000000</td>\n      <td>0.000000</td>\n    </tr>\n    <tr>\n      <th>23</th>\n      <td>H1002797</td>\n      <td>0</td>\n      <td>0.0</td>\n      <td>149.0</td>\n      <td>87.0</td>\n      <td>67.0</td>\n      <td>36.7</td>\n      <td>18.0</td>\n      <td>100.0</td>\n      <td>66.0</td>\n      <td>F</td>\n      <td>NaN</td>\n      <td>0</td>\n      <td>0</td>\n      <td>0</td>\n      <td>0</td>\n      <td>0.000000</td>\n      <td>0.000000</td>\n    </tr>\n    <tr>\n      <th>24</th>\n      <td>H1002797</td>\n      <td>0</td>\n      <td>41.0</td>\n      <td>NaN</td>\n      <td>NaN</td>\n      <td>NaN</td>\n      <td>NaN</td>\n      <td>NaN</td>\n      <td>NaN</td>\n      <td>66.0</td>\n      <td>F</td>\n      <td>NaN</td>\n      <td>0</td>\n      <td>0</td>\n      <td>0</td>\n      <td>0</td>\n      <td>0.000000</td>\n      <td>0.436364</td>\n    </tr>\n    <tr>\n      <th>25</th>\n      <td>H1002797</td>\n      <td>0</td>\n      <td>338.0</td>\n      <td>147.0</td>\n      <td>91.0</td>\n      <td>63.0</td>\n      <td>NaN</td>\n      <td>18.0</td>\n      <td>97.0</td>\n      <td>66.0</td>\n      <td>F</td>\n      <td>NaN</td>\n      <td>0</td>\n      <td>0</td>\n      <td>0</td>\n      <td>0</td>\n      <td>0.000000</td>\n      <td>0.000000</td>\n    </tr>\n    <tr>\n      <th>26</th>\n      <td>H1002797</td>\n      <td>0</td>\n      <td>0.0</td>\n      <td>146.0</td>\n      <td>85.0</td>\n      <td>62.0</td>\n      <td>36.5</td>\n      <td>16.0</td>\n      <td>99.0</td>\n      <td>66.0</td>\n      <td>F</td>\n      <td>NaN</td>\n      <td>0</td>\n      <td>0</td>\n      <td>0</td>\n      <td>0</td>\n      <td>0.000000</td>\n      <td>0.000000</td>\n    </tr>\n    <tr>\n      <th>27</th>\n      <td>H1002797</td>\n      <td>0</td>\n      <td>84.0</td>\n      <td>140.0</td>\n      <td>82.0</td>\n      <td>57.0</td>\n      <td>36.8</td>\n      <td>18.0</td>\n      <td>98.0</td>\n      <td>66.0</td>\n      <td>F</td>\n      <td>NaN</td>\n      <td>0</td>\n      <td>0</td>\n      <td>0</td>\n      <td>0</td>\n      <td>0.000000</td>\n      <td>0.000000</td>\n    </tr>\n    <tr>\n      <th>28</th>\n      <td>H1002797</td>\n      <td>0</td>\n      <td>90.0</td>\n      <td>NaN</td>\n      <td>NaN</td>\n      <td>NaN</td>\n      <td>NaN</td>\n      <td>NaN</td>\n      <td>NaN</td>\n      <td>66.0</td>\n      <td>F</td>\n      <td>NaN</td>\n      <td>0</td>\n      <td>0</td>\n      <td>0</td>\n      <td>0</td>\n      <td>0.000000</td>\n      <td>0.600000</td>\n    </tr>\n    <tr>\n      <th>29</th>\n      <td>H1002797</td>\n      <td>0</td>\n      <td>220.0</td>\n      <td>137.0</td>\n      <td>81.0</td>\n      <td>58.0</td>\n      <td>36.8</td>\n      <td>17.0</td>\n      <td>97.0</td>\n      <td>66.0</td>\n      <td>F</td>\n      <td>NaN</td>\n      <td>0</td>\n      <td>0</td>\n      <td>0</td>\n      <td>0</td>\n      <td>0.000000</td>\n      <td>0.000000</td>\n    </tr>\n    <tr>\n      <th>30</th>\n      <td>H1002797</td>\n      <td>0</td>\n      <td>284.0</td>\n      <td>131.0</td>\n      <td>81.0</td>\n      <td>65.0</td>\n      <td>NaN</td>\n      <td>18.0</td>\n      <td>99.0</td>\n      <td>66.0</td>\n      <td>F</td>\n      <td>NaN</td>\n      <td>0</td>\n      <td>0</td>\n      <td>0</td>\n      <td>0</td>\n      <td>0.000000</td>\n      <td>0.000000</td>\n    </tr>\n    <tr>\n      <th>31</th>\n      <td>H1002797</td>\n      <td>0</td>\n      <td>0.0</td>\n      <td>NaN</td>\n      <td>NaN</td>\n      <td>NaN</td>\n      <td>NaN</td>\n      <td>NaN</td>\n      <td>NaN</td>\n      <td>66.0</td>\n      <td>F</td>\n      <td>NaN</td>\n      <td>0</td>\n      <td>0</td>\n      <td>0</td>\n      <td>0</td>\n      <td>0.000000</td>\n      <td>0.472727</td>\n    </tr>\n    <tr>\n      <th>32</th>\n      <td>H1003037</td>\n      <td>0</td>\n      <td>0.0</td>\n      <td>102.0</td>\n      <td>53.0</td>\n      <td>108.0</td>\n      <td>36.8</td>\n      <td>22.0</td>\n      <td>100.0</td>\n      <td>65.0</td>\n      <td>M</td>\n      <td>88.0</td>\n      <td>0</td>\n      <td>0</td>\n      <td>0</td>\n      <td>0</td>\n      <td>0.000000</td>\n      <td>0.000000</td>\n    </tr>\n    <tr>\n      <th>33</th>\n      <td>H1003037</td>\n      <td>0</td>\n      <td>13.0</td>\n      <td>NaN</td>\n      <td>NaN</td>\n      <td>NaN</td>\n      <td>NaN</td>\n      <td>NaN</td>\n      <td>NaN</td>\n      <td>65.0</td>\n      <td>M</td>\n      <td>88.0</td>\n      <td>0</td>\n      <td>0</td>\n      <td>0</td>\n      <td>0</td>\n      <td>1.680769</td>\n      <td>0.000000</td>\n    </tr>\n    <tr>\n      <th>34</th>\n      <td>H1003037</td>\n      <td>0</td>\n      <td>13.0</td>\n      <td>NaN</td>\n      <td>NaN</td>\n      <td>NaN</td>\n      <td>NaN</td>\n      <td>NaN</td>\n      <td>NaN</td>\n      <td>65.0</td>\n      <td>M</td>\n      <td>88.0</td>\n      <td>0</td>\n      <td>0</td>\n      <td>0</td>\n      <td>0</td>\n      <td>0.000000</td>\n      <td>0.018182</td>\n    </tr>\n    <tr>\n      <th>35</th>\n      <td>H1003037</td>\n      <td>0</td>\n      <td>0.0</td>\n      <td>94.0</td>\n      <td>62.0</td>\n      <td>80.0</td>\n      <td>36.3</td>\n      <td>18.0</td>\n      <td>100.0</td>\n      <td>65.0</td>\n      <td>M</td>\n      <td>88.0</td>\n      <td>0</td>\n      <td>0</td>\n      <td>0</td>\n      <td>0</td>\n      <td>0.000000</td>\n      <td>0.000000</td>\n    </tr>\n    <tr>\n      <th>36</th>\n      <td>H1003037</td>\n      <td>0</td>\n      <td>43.0</td>\n      <td>99.0</td>\n      <td>63.0</td>\n      <td>98.0</td>\n      <td>36.9</td>\n      <td>16.0</td>\n      <td>97.0</td>\n      <td>65.0</td>\n      <td>M</td>\n      <td>88.0</td>\n      <td>0</td>\n      <td>0</td>\n      <td>0</td>\n      <td>0</td>\n      <td>0.000000</td>\n      <td>0.000000</td>\n    </tr>\n    <tr>\n      <th>37</th>\n      <td>H1003037</td>\n      <td>0</td>\n      <td>80.0</td>\n      <td>NaN</td>\n      <td>NaN</td>\n      <td>NaN</td>\n      <td>NaN</td>\n      <td>NaN</td>\n      <td>NaN</td>\n      <td>65.0</td>\n      <td>M</td>\n      <td>88.0</td>\n      <td>0</td>\n      <td>0</td>\n      <td>0</td>\n      <td>0</td>\n      <td>0.000000</td>\n      <td>0.663636</td>\n    </tr>\n    <tr>\n      <th>38</th>\n      <td>H1003037</td>\n      <td>0</td>\n      <td>0.0</td>\n      <td>105.0</td>\n      <td>47.0</td>\n      <td>106.0</td>\n      <td>36.4</td>\n      <td>17.0</td>\n      <td>100.0</td>\n      <td>65.0</td>\n      <td>M</td>\n      <td>88.0</td>\n      <td>0</td>\n      <td>0</td>\n      <td>0</td>\n      <td>0</td>\n      <td>0.000000</td>\n      <td>0.000000</td>\n    </tr>\n    <tr>\n      <th>39</th>\n      <td>H1003037</td>\n      <td>0</td>\n      <td>105.0</td>\n      <td>82.0</td>\n      <td>35.0</td>\n      <td>93.0</td>\n      <td>NaN</td>\n      <td>16.0</td>\n      <td>100.0</td>\n      <td>65.0</td>\n      <td>M</td>\n      <td>88.0</td>\n      <td>0</td>\n      <td>0</td>\n      <td>0</td>\n      <td>0</td>\n      <td>0.000000</td>\n      <td>0.000000</td>\n    </tr>\n    <tr>\n      <th>40</th>\n      <td>H1003037</td>\n      <td>0</td>\n      <td>110.0</td>\n      <td>NaN</td>\n      <td>NaN</td>\n      <td>NaN</td>\n      <td>NaN</td>\n      <td>NaN</td>\n      <td>NaN</td>\n      <td>65.0</td>\n      <td>M</td>\n      <td>88.0</td>\n      <td>0</td>\n      <td>0</td>\n      <td>0</td>\n      <td>0</td>\n      <td>0.000000</td>\n      <td>0.981818</td>\n    </tr>\n    <tr>\n      <th>41</th>\n      <td>H1003037</td>\n      <td>0</td>\n      <td>192.0</td>\n      <td>NaN</td>\n      <td>NaN</td>\n      <td>NaN</td>\n      <td>NaN</td>\n      <td>NaN</td>\n      <td>NaN</td>\n      <td>65.0</td>\n      <td>M</td>\n      <td>88.0</td>\n      <td>0</td>\n      <td>0</td>\n      <td>0</td>\n      <td>0</td>\n      <td>0.965385</td>\n      <td>0.000000</td>\n    </tr>\n    <tr>\n      <th>42</th>\n      <td>H1003037</td>\n      <td>0</td>\n      <td>198.0</td>\n      <td>105.0</td>\n      <td>50.0</td>\n      <td>69.0</td>\n      <td>NaN</td>\n      <td>18.0</td>\n      <td>100.0</td>\n      <td>65.0</td>\n      <td>M</td>\n      <td>88.0</td>\n      <td>0</td>\n      <td>0</td>\n      <td>0</td>\n      <td>0</td>\n      <td>0.000000</td>\n      <td>0.000000</td>\n    </tr>\n    <tr>\n      <th>43</th>\n      <td>H1003037</td>\n      <td>0</td>\n      <td>282.0</td>\n      <td>111.0</td>\n      <td>46.0</td>\n      <td>95.0</td>\n      <td>NaN</td>\n      <td>16.0</td>\n      <td>100.0</td>\n      <td>65.0</td>\n      <td>M</td>\n      <td>88.0</td>\n      <td>0</td>\n      <td>0</td>\n      <td>0</td>\n      <td>0</td>\n      <td>0.000000</td>\n      <td>0.000000</td>\n    </tr>\n    <tr>\n      <th>44</th>\n      <td>H1003037</td>\n      <td>0</td>\n      <td>322.0</td>\n      <td>134.0</td>\n      <td>58.0</td>\n      <td>104.0</td>\n      <td>NaN</td>\n      <td>16.0</td>\n      <td>100.0</td>\n      <td>65.0</td>\n      <td>M</td>\n      <td>88.0</td>\n      <td>0</td>\n      <td>0</td>\n      <td>0</td>\n      <td>0</td>\n      <td>0.000000</td>\n      <td>0.000000</td>\n    </tr>\n    <tr>\n      <th>45</th>\n      <td>H1003037</td>\n      <td>0</td>\n      <td>439.0</td>\n      <td>126.0</td>\n      <td>43.0</td>\n      <td>95.0</td>\n      <td>NaN</td>\n      <td>16.0</td>\n      <td>100.0</td>\n      <td>65.0</td>\n      <td>M</td>\n      <td>88.0</td>\n      <td>0</td>\n      <td>0</td>\n      <td>0</td>\n      <td>0</td>\n      <td>0.000000</td>\n      <td>0.000000</td>\n    </tr>\n    <tr>\n      <th>46</th>\n      <td>H1003037</td>\n      <td>0</td>\n      <td>532.0</td>\n      <td>118.0</td>\n      <td>51.0</td>\n      <td>80.0</td>\n      <td>36.7</td>\n      <td>18.0</td>\n      <td>100.0</td>\n      <td>65.0</td>\n      <td>M</td>\n      <td>88.0</td>\n      <td>0</td>\n      <td>0</td>\n      <td>0</td>\n      <td>0</td>\n      <td>0.000000</td>\n      <td>0.000000</td>\n    </tr>\n    <tr>\n      <th>47</th>\n      <td>H1003037</td>\n      <td>0</td>\n      <td>887.0</td>\n      <td>100.0</td>\n      <td>26.0</td>\n      <td>66.0</td>\n      <td>NaN</td>\n      <td>16.0</td>\n      <td>99.0</td>\n      <td>65.0</td>\n      <td>M</td>\n      <td>88.0</td>\n      <td>0</td>\n      <td>0</td>\n      <td>0</td>\n      <td>0</td>\n      <td>0.000000</td>\n      <td>0.000000</td>\n    </tr>\n    <tr>\n      <th>48</th>\n      <td>H1003037</td>\n      <td>0</td>\n      <td>1108.0</td>\n      <td>NaN</td>\n      <td>NaN</td>\n      <td>NaN</td>\n      <td>NaN</td>\n      <td>NaN</td>\n      <td>NaN</td>\n      <td>65.0</td>\n      <td>M</td>\n      <td>88.0</td>\n      <td>0</td>\n      <td>0</td>\n      <td>0</td>\n      <td>0</td>\n      <td>0.392308</td>\n      <td>0.000000</td>\n    </tr>\n    <tr>\n      <th>49</th>\n      <td>H1003037</td>\n      <td>0</td>\n      <td>1108.0</td>\n      <td>NaN</td>\n      <td>NaN</td>\n      <td>NaN</td>\n      <td>NaN</td>\n      <td>NaN</td>\n      <td>NaN</td>\n      <td>65.0</td>\n      <td>M</td>\n      <td>88.0</td>\n      <td>0</td>\n      <td>0</td>\n      <td>0</td>\n      <td>0</td>\n      <td>0.000000</td>\n      <td>0.600000</td>\n    </tr>\n  </tbody>\n</table>\n</div>"
     },
     "metadata": {},
     "execution_count": 71
    }
   ],
   "source": [
    "df1.head(50)"
   ]
  },
  {
   "cell_type": "code",
   "execution_count": 72,
   "source": [
    "df1.to_csv('stage5_1c.csv')\r\n"
   ],
   "outputs": [],
   "metadata": {}
  }
 ],
 "metadata": {
  "interpreter": {
   "hash": "a43f0978b374a460123724a4b0802a237bd9db00a071aa1917346b137e167004"
  },
  "kernelspec": {
   "name": "python3",
   "display_name": "Python 3.9.6 64-bit"
  },
  "language_info": {
   "codemirror_mode": {
    "name": "ipython",
    "version": 3
   },
   "file_extension": ".py",
   "mimetype": "text/x-python",
   "name": "python",
   "nbconvert_exporter": "python",
   "pygments_lexer": "ipython3",
   "version": "3.9.6"
  },
  "metadata": {
   "interpreter": {
    "hash": "1cc4686def4f4686e288101491fcc64d903ee1a0c766a7a4df710ffbf4241b15"
   }
  }
 },
 "nbformat": 4,
 "nbformat_minor": 5
}