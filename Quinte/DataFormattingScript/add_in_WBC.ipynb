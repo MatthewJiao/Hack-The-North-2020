{
 "cells": [
  {
   "cell_type": "code",
   "execution_count": 1,
   "id": "70b70211",
   "metadata": {},
   "outputs": [],
   "source": [
    "import pandas as pd\n",
    "import numpy as np\n",
    "import math"
   ]
  },
  {
   "cell_type": "code",
   "execution_count": 2,
   "id": "ff4d2161",
   "metadata": {},
   "outputs": [
    {
     "output_type": "stream",
     "name": "stderr",
     "text": [
      "C:\\Users\\Adam Lam\\AppData\\Roaming\\Python\\Python38\\site-packages\\IPython\\core\\interactiveshell.py:3169: DtypeWarning: Columns (3,18,20,21,22) have mixed types.Specify dtype option on import or set low_memory=False.\n  has_raised = await self.run_ast_nodes(code_ast.body, cell_name,\n"
     ]
    }
   ],
   "source": [
    "df1 = pd.read_csv(\n",
    "     '../FormattedData/vitals_info_lactate.csv',\n",
    ")"
   ]
  },
  {
   "cell_type": "code",
   "execution_count": 3,
   "id": "f3c100a9",
   "metadata": {},
   "outputs": [
    {
     "output_type": "execute_result",
     "data": {
      "text/plain": [
       "        Unnamed: 0 pt_identifier      Date    Time    BP1   BP2  Pulse  Temp  \\\n",
       "0                0      H1000412  31/12/20  2359.0  116.0  84.0   88.0  36.9   \n",
       "1                1      H1000412  01/01/21   351.0  126.0  64.0   69.0  37.0   \n",
       "2                2      H1002797  08/12/20  1725.0  147.0  91.0   63.0   NaN   \n",
       "3                3      H1002797  11/01/21  1635.0  140.0  82.0   57.0  36.8   \n",
       "4                4      H1002797  11/01/21  1851.0  137.0  81.0   58.0  36.8   \n",
       "...            ...           ...       ...     ...    ...   ...    ...   ...   \n",
       "279034      279034      Z1163454  27/03/21    1630    NaN   NaN    NaN   NaN   \n",
       "279035      279035       Z358846  31/01/21    1546    NaN   NaN    NaN   NaN   \n",
       "279036      279036       Z682423  14/11/20    1415    NaN   NaN    NaN   NaN   \n",
       "279037      279037      H2102217  15/03/21    2010    NaN   NaN    NaN   NaN   \n",
       "279038      279038      H2102217  15/03/21    2217    NaN   NaN    NaN   NaN   \n",
       "\n",
       "          RR  O2Sat  ... Age_Number Gender Weight  Diag_Code Diag_desc  \\\n",
       "0       17.0   97.0  ...       81.0      F    NaN        NaN       NaN   \n",
       "1       10.0   94.0  ...       81.0      F    NaN        NaN       NaN   \n",
       "2       18.0   97.0  ...       66.0      F    NaN        NaN       NaN   \n",
       "3       18.0   98.0  ...       66.0      F    NaN        NaN       NaN   \n",
       "4       17.0   97.0  ...       66.0      F    NaN        NaN       NaN   \n",
       "...      ...    ...  ...        ...    ...    ...        ...       ...   \n",
       "279034   NaN    NaN  ...        NaN    NaN    NaN        NaN       NaN   \n",
       "279035   NaN    NaN  ...        NaN    NaN    NaN        NaN       NaN   \n",
       "279036   NaN    NaN  ...        NaN    NaN    NaN        NaN       NaN   \n",
       "279037   NaN    NaN  ...        NaN    NaN    NaN        NaN       NaN   \n",
       "279038   NaN    NaN  ...        NaN    NaN    NaN        NaN       NaN   \n",
       "\n",
       "        Diag_prefix Diag_type Lactate_Value Lactate_High_Low Lactate_Ref_Range  \n",
       "0               NaN       NaN           NaN              NaN               NaN  \n",
       "1               NaN       NaN           NaN              NaN               NaN  \n",
       "2               NaN       NaN           NaN              NaN               NaN  \n",
       "3               NaN       NaN           NaN              NaN               NaN  \n",
       "4               NaN       NaN           NaN              NaN               NaN  \n",
       "...             ...       ...           ...              ...               ...  \n",
       "279034          NaN       NaN        > 10.0                H           0.5-2.2  \n",
       "279035          NaN       NaN        > 10.0                H           0.5-2.2  \n",
       "279036          NaN       NaN        > 10.0                H           0.5-2.2  \n",
       "279037          NaN       NaN          > 30                H           0.7-2.4  \n",
       "279038          NaN       NaN          > 30                H           0.7-2.4  \n",
       "\n",
       "[279039 rows x 23 columns]"
      ],
      "text/html": "<div>\n<style scoped>\n    .dataframe tbody tr th:only-of-type {\n        vertical-align: middle;\n    }\n\n    .dataframe tbody tr th {\n        vertical-align: top;\n    }\n\n    .dataframe thead th {\n        text-align: right;\n    }\n</style>\n<table border=\"1\" class=\"dataframe\">\n  <thead>\n    <tr style=\"text-align: right;\">\n      <th></th>\n      <th>Unnamed: 0</th>\n      <th>pt_identifier</th>\n      <th>Date</th>\n      <th>Time</th>\n      <th>BP1</th>\n      <th>BP2</th>\n      <th>Pulse</th>\n      <th>Temp</th>\n      <th>RR</th>\n      <th>O2Sat</th>\n      <th>...</th>\n      <th>Age_Number</th>\n      <th>Gender</th>\n      <th>Weight</th>\n      <th>Diag_Code</th>\n      <th>Diag_desc</th>\n      <th>Diag_prefix</th>\n      <th>Diag_type</th>\n      <th>Lactate_Value</th>\n      <th>Lactate_High_Low</th>\n      <th>Lactate_Ref_Range</th>\n    </tr>\n  </thead>\n  <tbody>\n    <tr>\n      <th>0</th>\n      <td>0</td>\n      <td>H1000412</td>\n      <td>31/12/20</td>\n      <td>2359.0</td>\n      <td>116.0</td>\n      <td>84.0</td>\n      <td>88.0</td>\n      <td>36.9</td>\n      <td>17.0</td>\n      <td>97.0</td>\n      <td>...</td>\n      <td>81.0</td>\n      <td>F</td>\n      <td>NaN</td>\n      <td>NaN</td>\n      <td>NaN</td>\n      <td>NaN</td>\n      <td>NaN</td>\n      <td>NaN</td>\n      <td>NaN</td>\n      <td>NaN</td>\n    </tr>\n    <tr>\n      <th>1</th>\n      <td>1</td>\n      <td>H1000412</td>\n      <td>01/01/21</td>\n      <td>351.0</td>\n      <td>126.0</td>\n      <td>64.0</td>\n      <td>69.0</td>\n      <td>37.0</td>\n      <td>10.0</td>\n      <td>94.0</td>\n      <td>...</td>\n      <td>81.0</td>\n      <td>F</td>\n      <td>NaN</td>\n      <td>NaN</td>\n      <td>NaN</td>\n      <td>NaN</td>\n      <td>NaN</td>\n      <td>NaN</td>\n      <td>NaN</td>\n      <td>NaN</td>\n    </tr>\n    <tr>\n      <th>2</th>\n      <td>2</td>\n      <td>H1002797</td>\n      <td>08/12/20</td>\n      <td>1725.0</td>\n      <td>147.0</td>\n      <td>91.0</td>\n      <td>63.0</td>\n      <td>NaN</td>\n      <td>18.0</td>\n      <td>97.0</td>\n      <td>...</td>\n      <td>66.0</td>\n      <td>F</td>\n      <td>NaN</td>\n      <td>NaN</td>\n      <td>NaN</td>\n      <td>NaN</td>\n      <td>NaN</td>\n      <td>NaN</td>\n      <td>NaN</td>\n      <td>NaN</td>\n    </tr>\n    <tr>\n      <th>3</th>\n      <td>3</td>\n      <td>H1002797</td>\n      <td>11/01/21</td>\n      <td>1635.0</td>\n      <td>140.0</td>\n      <td>82.0</td>\n      <td>57.0</td>\n      <td>36.8</td>\n      <td>18.0</td>\n      <td>98.0</td>\n      <td>...</td>\n      <td>66.0</td>\n      <td>F</td>\n      <td>NaN</td>\n      <td>NaN</td>\n      <td>NaN</td>\n      <td>NaN</td>\n      <td>NaN</td>\n      <td>NaN</td>\n      <td>NaN</td>\n      <td>NaN</td>\n    </tr>\n    <tr>\n      <th>4</th>\n      <td>4</td>\n      <td>H1002797</td>\n      <td>11/01/21</td>\n      <td>1851.0</td>\n      <td>137.0</td>\n      <td>81.0</td>\n      <td>58.0</td>\n      <td>36.8</td>\n      <td>17.0</td>\n      <td>97.0</td>\n      <td>...</td>\n      <td>66.0</td>\n      <td>F</td>\n      <td>NaN</td>\n      <td>NaN</td>\n      <td>NaN</td>\n      <td>NaN</td>\n      <td>NaN</td>\n      <td>NaN</td>\n      <td>NaN</td>\n      <td>NaN</td>\n    </tr>\n    <tr>\n      <th>...</th>\n      <td>...</td>\n      <td>...</td>\n      <td>...</td>\n      <td>...</td>\n      <td>...</td>\n      <td>...</td>\n      <td>...</td>\n      <td>...</td>\n      <td>...</td>\n      <td>...</td>\n      <td>...</td>\n      <td>...</td>\n      <td>...</td>\n      <td>...</td>\n      <td>...</td>\n      <td>...</td>\n      <td>...</td>\n      <td>...</td>\n      <td>...</td>\n      <td>...</td>\n      <td>...</td>\n    </tr>\n    <tr>\n      <th>279034</th>\n      <td>279034</td>\n      <td>Z1163454</td>\n      <td>27/03/21</td>\n      <td>1630</td>\n      <td>NaN</td>\n      <td>NaN</td>\n      <td>NaN</td>\n      <td>NaN</td>\n      <td>NaN</td>\n      <td>NaN</td>\n      <td>...</td>\n      <td>NaN</td>\n      <td>NaN</td>\n      <td>NaN</td>\n      <td>NaN</td>\n      <td>NaN</td>\n      <td>NaN</td>\n      <td>NaN</td>\n      <td>&gt; 10.0</td>\n      <td>H</td>\n      <td>0.5-2.2</td>\n    </tr>\n    <tr>\n      <th>279035</th>\n      <td>279035</td>\n      <td>Z358846</td>\n      <td>31/01/21</td>\n      <td>1546</td>\n      <td>NaN</td>\n      <td>NaN</td>\n      <td>NaN</td>\n      <td>NaN</td>\n      <td>NaN</td>\n      <td>NaN</td>\n      <td>...</td>\n      <td>NaN</td>\n      <td>NaN</td>\n      <td>NaN</td>\n      <td>NaN</td>\n      <td>NaN</td>\n      <td>NaN</td>\n      <td>NaN</td>\n      <td>&gt; 10.0</td>\n      <td>H</td>\n      <td>0.5-2.2</td>\n    </tr>\n    <tr>\n      <th>279036</th>\n      <td>279036</td>\n      <td>Z682423</td>\n      <td>14/11/20</td>\n      <td>1415</td>\n      <td>NaN</td>\n      <td>NaN</td>\n      <td>NaN</td>\n      <td>NaN</td>\n      <td>NaN</td>\n      <td>NaN</td>\n      <td>...</td>\n      <td>NaN</td>\n      <td>NaN</td>\n      <td>NaN</td>\n      <td>NaN</td>\n      <td>NaN</td>\n      <td>NaN</td>\n      <td>NaN</td>\n      <td>&gt; 10.0</td>\n      <td>H</td>\n      <td>0.5-2.2</td>\n    </tr>\n    <tr>\n      <th>279037</th>\n      <td>279037</td>\n      <td>H2102217</td>\n      <td>15/03/21</td>\n      <td>2010</td>\n      <td>NaN</td>\n      <td>NaN</td>\n      <td>NaN</td>\n      <td>NaN</td>\n      <td>NaN</td>\n      <td>NaN</td>\n      <td>...</td>\n      <td>NaN</td>\n      <td>NaN</td>\n      <td>NaN</td>\n      <td>NaN</td>\n      <td>NaN</td>\n      <td>NaN</td>\n      <td>NaN</td>\n      <td>&gt; 30</td>\n      <td>H</td>\n      <td>0.7-2.4</td>\n    </tr>\n    <tr>\n      <th>279038</th>\n      <td>279038</td>\n      <td>H2102217</td>\n      <td>15/03/21</td>\n      <td>2217</td>\n      <td>NaN</td>\n      <td>NaN</td>\n      <td>NaN</td>\n      <td>NaN</td>\n      <td>NaN</td>\n      <td>NaN</td>\n      <td>...</td>\n      <td>NaN</td>\n      <td>NaN</td>\n      <td>NaN</td>\n      <td>NaN</td>\n      <td>NaN</td>\n      <td>NaN</td>\n      <td>NaN</td>\n      <td>&gt; 30</td>\n      <td>H</td>\n      <td>0.7-2.4</td>\n    </tr>\n  </tbody>\n</table>\n<p>279039 rows × 23 columns</p>\n</div>"
     },
     "metadata": {},
     "execution_count": 3
    }
   ],
   "source": [
    "df1"
   ]
  },
  {
   "cell_type": "code",
   "execution_count": 4,
   "id": "5d2071ed",
   "metadata": {},
   "outputs": [],
   "source": [
    "df2 = pd.read_excel(\n",
    "     '../MF_lact_WC_Diag.xlsx',\n",
    "     engine='openpyxl', sheet_name = 'WC'\n",
    ")"
   ]
  },
  {
   "cell_type": "code",
   "execution_count": 5,
   "id": "6ec7ad73",
   "metadata": {},
   "outputs": [
    {
     "output_type": "execute_result",
     "data": {
      "text/plain": [
       "      pt_identifier      date  time status        test_desc result L_H_VL_VH  \\\n",
       "0          H1755605  14/11/20  2032   COMP  LEUKOCYTE COUNT    0.2        VL   \n",
       "1          H1755605  16/11/20  0706   COMP  LEUKOCYTE COUNT    0.2        VL   \n",
       "2          H1755605  16/11/20  1502   COMP  LEUKOCYTE COUNT    0.2        VL   \n",
       "3          H1755605  17/11/20  0610   COMP  LEUKOCYTE COUNT    0.2        VL   \n",
       "4          H2163401  12/01/21  2100   COMP  LEUKOCYTE COUNT    0.2        VL   \n",
       "...             ...       ...   ...    ...              ...    ...       ...   \n",
       "33792      H2163401  02/11/20  0630   COMP  LEUKOCYTE COUNT  < 0.2        VL   \n",
       "33793      H2379968  13/02/21  1033   COMP  LEUKOCYTE COUNT  < 0.2        VL   \n",
       "33794      H2379968  14/02/21  0548   COMP  LEUKOCYTE COUNT  < 0.2        VL   \n",
       "33795      H2379968  14/02/21  0612   COMP  LEUKOCYTE COUNT  < 0.2        VL   \n",
       "33796      H2379968  12/02/21  2255   COMP  LEUKOCYTE COUNT  < 0.2        VL   \n",
       "\n",
       "      ref_range ref_range2  test  \n",
       "0      4.0-11.0    X10E9/L  CLKC  \n",
       "1      4.0-11.0    X10E9/L  CLKC  \n",
       "2      4.0-11.0    X10E9/L  CLKC  \n",
       "3      4.0-11.0    X10E9/L  CLKC  \n",
       "4      4.0-11.0    X10E9/L  CLKC  \n",
       "...         ...        ...   ...  \n",
       "33792  4.0-11.0    X10E9/L  CLKC  \n",
       "33793  4.0-11.0    X10E9/L  CLKC  \n",
       "33794  4.0-11.0    X10E9/L  CLKC  \n",
       "33795  4.0-11.0    X10E9/L  CLKC  \n",
       "33796  4.0-11.0    X10E9/L  CLKC  \n",
       "\n",
       "[33797 rows x 10 columns]"
      ],
      "text/html": "<div>\n<style scoped>\n    .dataframe tbody tr th:only-of-type {\n        vertical-align: middle;\n    }\n\n    .dataframe tbody tr th {\n        vertical-align: top;\n    }\n\n    .dataframe thead th {\n        text-align: right;\n    }\n</style>\n<table border=\"1\" class=\"dataframe\">\n  <thead>\n    <tr style=\"text-align: right;\">\n      <th></th>\n      <th>pt_identifier</th>\n      <th>date</th>\n      <th>time</th>\n      <th>status</th>\n      <th>test_desc</th>\n      <th>result</th>\n      <th>L_H_VL_VH</th>\n      <th>ref_range</th>\n      <th>ref_range2</th>\n      <th>test</th>\n    </tr>\n  </thead>\n  <tbody>\n    <tr>\n      <th>0</th>\n      <td>H1755605</td>\n      <td>14/11/20</td>\n      <td>2032</td>\n      <td>COMP</td>\n      <td>LEUKOCYTE COUNT</td>\n      <td>0.2</td>\n      <td>VL</td>\n      <td>4.0-11.0</td>\n      <td>X10E9/L</td>\n      <td>CLKC</td>\n    </tr>\n    <tr>\n      <th>1</th>\n      <td>H1755605</td>\n      <td>16/11/20</td>\n      <td>0706</td>\n      <td>COMP</td>\n      <td>LEUKOCYTE COUNT</td>\n      <td>0.2</td>\n      <td>VL</td>\n      <td>4.0-11.0</td>\n      <td>X10E9/L</td>\n      <td>CLKC</td>\n    </tr>\n    <tr>\n      <th>2</th>\n      <td>H1755605</td>\n      <td>16/11/20</td>\n      <td>1502</td>\n      <td>COMP</td>\n      <td>LEUKOCYTE COUNT</td>\n      <td>0.2</td>\n      <td>VL</td>\n      <td>4.0-11.0</td>\n      <td>X10E9/L</td>\n      <td>CLKC</td>\n    </tr>\n    <tr>\n      <th>3</th>\n      <td>H1755605</td>\n      <td>17/11/20</td>\n      <td>0610</td>\n      <td>COMP</td>\n      <td>LEUKOCYTE COUNT</td>\n      <td>0.2</td>\n      <td>VL</td>\n      <td>4.0-11.0</td>\n      <td>X10E9/L</td>\n      <td>CLKC</td>\n    </tr>\n    <tr>\n      <th>4</th>\n      <td>H2163401</td>\n      <td>12/01/21</td>\n      <td>2100</td>\n      <td>COMP</td>\n      <td>LEUKOCYTE COUNT</td>\n      <td>0.2</td>\n      <td>VL</td>\n      <td>4.0-11.0</td>\n      <td>X10E9/L</td>\n      <td>CLKC</td>\n    </tr>\n    <tr>\n      <th>...</th>\n      <td>...</td>\n      <td>...</td>\n      <td>...</td>\n      <td>...</td>\n      <td>...</td>\n      <td>...</td>\n      <td>...</td>\n      <td>...</td>\n      <td>...</td>\n      <td>...</td>\n    </tr>\n    <tr>\n      <th>33792</th>\n      <td>H2163401</td>\n      <td>02/11/20</td>\n      <td>0630</td>\n      <td>COMP</td>\n      <td>LEUKOCYTE COUNT</td>\n      <td>&lt; 0.2</td>\n      <td>VL</td>\n      <td>4.0-11.0</td>\n      <td>X10E9/L</td>\n      <td>CLKC</td>\n    </tr>\n    <tr>\n      <th>33793</th>\n      <td>H2379968</td>\n      <td>13/02/21</td>\n      <td>1033</td>\n      <td>COMP</td>\n      <td>LEUKOCYTE COUNT</td>\n      <td>&lt; 0.2</td>\n      <td>VL</td>\n      <td>4.0-11.0</td>\n      <td>X10E9/L</td>\n      <td>CLKC</td>\n    </tr>\n    <tr>\n      <th>33794</th>\n      <td>H2379968</td>\n      <td>14/02/21</td>\n      <td>0548</td>\n      <td>COMP</td>\n      <td>LEUKOCYTE COUNT</td>\n      <td>&lt; 0.2</td>\n      <td>VL</td>\n      <td>4.0-11.0</td>\n      <td>X10E9/L</td>\n      <td>CLKC</td>\n    </tr>\n    <tr>\n      <th>33795</th>\n      <td>H2379968</td>\n      <td>14/02/21</td>\n      <td>0612</td>\n      <td>COMP</td>\n      <td>LEUKOCYTE COUNT</td>\n      <td>&lt; 0.2</td>\n      <td>VL</td>\n      <td>4.0-11.0</td>\n      <td>X10E9/L</td>\n      <td>CLKC</td>\n    </tr>\n    <tr>\n      <th>33796</th>\n      <td>H2379968</td>\n      <td>12/02/21</td>\n      <td>2255</td>\n      <td>COMP</td>\n      <td>LEUKOCYTE COUNT</td>\n      <td>&lt; 0.2</td>\n      <td>VL</td>\n      <td>4.0-11.0</td>\n      <td>X10E9/L</td>\n      <td>CLKC</td>\n    </tr>\n  </tbody>\n</table>\n<p>33797 rows × 10 columns</p>\n</div>"
     },
     "metadata": {},
     "execution_count": 5
    }
   ],
   "source": [
    "df2"
   ]
  },
  {
   "cell_type": "code",
   "execution_count": 6,
   "id": "2dc35749",
   "metadata": {},
   "outputs": [],
   "source": [
    "del df2[\"status\"]\n",
    "del df2[\"test_desc\"]\n",
    "del df2[\"test\"]\n",
    "del df2[\"ref_range2\"]"
   ]
  },
  {
   "cell_type": "code",
   "execution_count": 7,
   "id": "1ff9de56",
   "metadata": {},
   "outputs": [
    {
     "output_type": "execute_result",
     "data": {
      "text/plain": [
       "      pt_identifier      date  time result L_H_VL_VH ref_range\n",
       "0          H1755605  14/11/20  2032    0.2        VL  4.0-11.0\n",
       "1          H1755605  16/11/20  0706    0.2        VL  4.0-11.0\n",
       "2          H1755605  16/11/20  1502    0.2        VL  4.0-11.0\n",
       "3          H1755605  17/11/20  0610    0.2        VL  4.0-11.0\n",
       "4          H2163401  12/01/21  2100    0.2        VL  4.0-11.0\n",
       "...             ...       ...   ...    ...       ...       ...\n",
       "33792      H2163401  02/11/20  0630  < 0.2        VL  4.0-11.0\n",
       "33793      H2379968  13/02/21  1033  < 0.2        VL  4.0-11.0\n",
       "33794      H2379968  14/02/21  0548  < 0.2        VL  4.0-11.0\n",
       "33795      H2379968  14/02/21  0612  < 0.2        VL  4.0-11.0\n",
       "33796      H2379968  12/02/21  2255  < 0.2        VL  4.0-11.0\n",
       "\n",
       "[33797 rows x 6 columns]"
      ],
      "text/html": "<div>\n<style scoped>\n    .dataframe tbody tr th:only-of-type {\n        vertical-align: middle;\n    }\n\n    .dataframe tbody tr th {\n        vertical-align: top;\n    }\n\n    .dataframe thead th {\n        text-align: right;\n    }\n</style>\n<table border=\"1\" class=\"dataframe\">\n  <thead>\n    <tr style=\"text-align: right;\">\n      <th></th>\n      <th>pt_identifier</th>\n      <th>date</th>\n      <th>time</th>\n      <th>result</th>\n      <th>L_H_VL_VH</th>\n      <th>ref_range</th>\n    </tr>\n  </thead>\n  <tbody>\n    <tr>\n      <th>0</th>\n      <td>H1755605</td>\n      <td>14/11/20</td>\n      <td>2032</td>\n      <td>0.2</td>\n      <td>VL</td>\n      <td>4.0-11.0</td>\n    </tr>\n    <tr>\n      <th>1</th>\n      <td>H1755605</td>\n      <td>16/11/20</td>\n      <td>0706</td>\n      <td>0.2</td>\n      <td>VL</td>\n      <td>4.0-11.0</td>\n    </tr>\n    <tr>\n      <th>2</th>\n      <td>H1755605</td>\n      <td>16/11/20</td>\n      <td>1502</td>\n      <td>0.2</td>\n      <td>VL</td>\n      <td>4.0-11.0</td>\n    </tr>\n    <tr>\n      <th>3</th>\n      <td>H1755605</td>\n      <td>17/11/20</td>\n      <td>0610</td>\n      <td>0.2</td>\n      <td>VL</td>\n      <td>4.0-11.0</td>\n    </tr>\n    <tr>\n      <th>4</th>\n      <td>H2163401</td>\n      <td>12/01/21</td>\n      <td>2100</td>\n      <td>0.2</td>\n      <td>VL</td>\n      <td>4.0-11.0</td>\n    </tr>\n    <tr>\n      <th>...</th>\n      <td>...</td>\n      <td>...</td>\n      <td>...</td>\n      <td>...</td>\n      <td>...</td>\n      <td>...</td>\n    </tr>\n    <tr>\n      <th>33792</th>\n      <td>H2163401</td>\n      <td>02/11/20</td>\n      <td>0630</td>\n      <td>&lt; 0.2</td>\n      <td>VL</td>\n      <td>4.0-11.0</td>\n    </tr>\n    <tr>\n      <th>33793</th>\n      <td>H2379968</td>\n      <td>13/02/21</td>\n      <td>1033</td>\n      <td>&lt; 0.2</td>\n      <td>VL</td>\n      <td>4.0-11.0</td>\n    </tr>\n    <tr>\n      <th>33794</th>\n      <td>H2379968</td>\n      <td>14/02/21</td>\n      <td>0548</td>\n      <td>&lt; 0.2</td>\n      <td>VL</td>\n      <td>4.0-11.0</td>\n    </tr>\n    <tr>\n      <th>33795</th>\n      <td>H2379968</td>\n      <td>14/02/21</td>\n      <td>0612</td>\n      <td>&lt; 0.2</td>\n      <td>VL</td>\n      <td>4.0-11.0</td>\n    </tr>\n    <tr>\n      <th>33796</th>\n      <td>H2379968</td>\n      <td>12/02/21</td>\n      <td>2255</td>\n      <td>&lt; 0.2</td>\n      <td>VL</td>\n      <td>4.0-11.0</td>\n    </tr>\n  </tbody>\n</table>\n<p>33797 rows × 6 columns</p>\n</div>"
     },
     "metadata": {},
     "execution_count": 7
    }
   ],
   "source": [
    "df2"
   ]
  },
  {
   "cell_type": "code",
   "execution_count": 8,
   "metadata": {},
   "outputs": [],
   "source": [
    "df2 = df2.rename(columns = {\"date\": \"Date\", \"time\": \"Time\"})"
   ]
  },
  {
   "cell_type": "code",
   "execution_count": 9,
   "metadata": {},
   "outputs": [],
   "source": [
    "df2 = df2.rename(columns = {\"result\":\"WBC_Value\", \"L_H_VL_VH\":\"WBC_High_Low\", \"ref_range\": \"WBC_Ref_Range\"})"
   ]
  },
  {
   "cell_type": "code",
   "execution_count": 10,
   "metadata": {},
   "outputs": [
    {
     "output_type": "execute_result",
     "data": {
      "text/plain": [
       "      pt_identifier      Date  Time WBC_Value WBC_High_Low WBC_Ref_Range\n",
       "0          H1755605  14/11/20  2032       0.2           VL      4.0-11.0\n",
       "1          H1755605  16/11/20  0706       0.2           VL      4.0-11.0\n",
       "2          H1755605  16/11/20  1502       0.2           VL      4.0-11.0\n",
       "3          H1755605  17/11/20  0610       0.2           VL      4.0-11.0\n",
       "4          H2163401  12/01/21  2100       0.2           VL      4.0-11.0\n",
       "...             ...       ...   ...       ...          ...           ...\n",
       "33792      H2163401  02/11/20  0630     < 0.2           VL      4.0-11.0\n",
       "33793      H2379968  13/02/21  1033     < 0.2           VL      4.0-11.0\n",
       "33794      H2379968  14/02/21  0548     < 0.2           VL      4.0-11.0\n",
       "33795      H2379968  14/02/21  0612     < 0.2           VL      4.0-11.0\n",
       "33796      H2379968  12/02/21  2255     < 0.2           VL      4.0-11.0\n",
       "\n",
       "[33797 rows x 6 columns]"
      ],
      "text/html": "<div>\n<style scoped>\n    .dataframe tbody tr th:only-of-type {\n        vertical-align: middle;\n    }\n\n    .dataframe tbody tr th {\n        vertical-align: top;\n    }\n\n    .dataframe thead th {\n        text-align: right;\n    }\n</style>\n<table border=\"1\" class=\"dataframe\">\n  <thead>\n    <tr style=\"text-align: right;\">\n      <th></th>\n      <th>pt_identifier</th>\n      <th>Date</th>\n      <th>Time</th>\n      <th>WBC_Value</th>\n      <th>WBC_High_Low</th>\n      <th>WBC_Ref_Range</th>\n    </tr>\n  </thead>\n  <tbody>\n    <tr>\n      <th>0</th>\n      <td>H1755605</td>\n      <td>14/11/20</td>\n      <td>2032</td>\n      <td>0.2</td>\n      <td>VL</td>\n      <td>4.0-11.0</td>\n    </tr>\n    <tr>\n      <th>1</th>\n      <td>H1755605</td>\n      <td>16/11/20</td>\n      <td>0706</td>\n      <td>0.2</td>\n      <td>VL</td>\n      <td>4.0-11.0</td>\n    </tr>\n    <tr>\n      <th>2</th>\n      <td>H1755605</td>\n      <td>16/11/20</td>\n      <td>1502</td>\n      <td>0.2</td>\n      <td>VL</td>\n      <td>4.0-11.0</td>\n    </tr>\n    <tr>\n      <th>3</th>\n      <td>H1755605</td>\n      <td>17/11/20</td>\n      <td>0610</td>\n      <td>0.2</td>\n      <td>VL</td>\n      <td>4.0-11.0</td>\n    </tr>\n    <tr>\n      <th>4</th>\n      <td>H2163401</td>\n      <td>12/01/21</td>\n      <td>2100</td>\n      <td>0.2</td>\n      <td>VL</td>\n      <td>4.0-11.0</td>\n    </tr>\n    <tr>\n      <th>...</th>\n      <td>...</td>\n      <td>...</td>\n      <td>...</td>\n      <td>...</td>\n      <td>...</td>\n      <td>...</td>\n    </tr>\n    <tr>\n      <th>33792</th>\n      <td>H2163401</td>\n      <td>02/11/20</td>\n      <td>0630</td>\n      <td>&lt; 0.2</td>\n      <td>VL</td>\n      <td>4.0-11.0</td>\n    </tr>\n    <tr>\n      <th>33793</th>\n      <td>H2379968</td>\n      <td>13/02/21</td>\n      <td>1033</td>\n      <td>&lt; 0.2</td>\n      <td>VL</td>\n      <td>4.0-11.0</td>\n    </tr>\n    <tr>\n      <th>33794</th>\n      <td>H2379968</td>\n      <td>14/02/21</td>\n      <td>0548</td>\n      <td>&lt; 0.2</td>\n      <td>VL</td>\n      <td>4.0-11.0</td>\n    </tr>\n    <tr>\n      <th>33795</th>\n      <td>H2379968</td>\n      <td>14/02/21</td>\n      <td>0612</td>\n      <td>&lt; 0.2</td>\n      <td>VL</td>\n      <td>4.0-11.0</td>\n    </tr>\n    <tr>\n      <th>33796</th>\n      <td>H2379968</td>\n      <td>12/02/21</td>\n      <td>2255</td>\n      <td>&lt; 0.2</td>\n      <td>VL</td>\n      <td>4.0-11.0</td>\n    </tr>\n  </tbody>\n</table>\n<p>33797 rows × 6 columns</p>\n</div>"
     },
     "metadata": {},
     "execution_count": 10
    }
   ],
   "source": [
    "df2"
   ]
  },
  {
   "cell_type": "code",
   "execution_count": 11,
   "metadata": {},
   "outputs": [],
   "source": [
    "df1[\"WBC_Value\"] = np.nan\n",
    "df1[\"WBC_High_Low\"] = np.nan\n",
    "df1[\"WBC_Ref_Range\"] = np.nan\n"
   ]
  },
  {
   "cell_type": "code",
   "execution_count": 12,
   "metadata": {},
   "outputs": [
    {
     "output_type": "execute_result",
     "data": {
      "text/plain": [
       "        Unnamed: 0 pt_identifier      Date    Time    BP1   BP2  Pulse  Temp  \\\n",
       "0                0      H1000412  31/12/20  2359.0  116.0  84.0   88.0  36.9   \n",
       "1                1      H1000412  01/01/21   351.0  126.0  64.0   69.0  37.0   \n",
       "2                2      H1002797  08/12/20  1725.0  147.0  91.0   63.0   NaN   \n",
       "3                3      H1002797  11/01/21  1635.0  140.0  82.0   57.0  36.8   \n",
       "4                4      H1002797  11/01/21  1851.0  137.0  81.0   58.0  36.8   \n",
       "...            ...           ...       ...     ...    ...   ...    ...   ...   \n",
       "279034      279034      Z1163454  27/03/21    1630    NaN   NaN    NaN   NaN   \n",
       "279035      279035       Z358846  31/01/21    1546    NaN   NaN    NaN   NaN   \n",
       "279036      279036       Z682423  14/11/20    1415    NaN   NaN    NaN   NaN   \n",
       "279037      279037      H2102217  15/03/21    2010    NaN   NaN    NaN   NaN   \n",
       "279038      279038      H2102217  15/03/21    2217    NaN   NaN    NaN   NaN   \n",
       "\n",
       "          RR  O2Sat  ... Diag_Code Diag_desc Diag_prefix  Diag_type  \\\n",
       "0       17.0   97.0  ...       NaN       NaN         NaN        NaN   \n",
       "1       10.0   94.0  ...       NaN       NaN         NaN        NaN   \n",
       "2       18.0   97.0  ...       NaN       NaN         NaN        NaN   \n",
       "3       18.0   98.0  ...       NaN       NaN         NaN        NaN   \n",
       "4       17.0   97.0  ...       NaN       NaN         NaN        NaN   \n",
       "...      ...    ...  ...       ...       ...         ...        ...   \n",
       "279034   NaN    NaN  ...       NaN       NaN         NaN        NaN   \n",
       "279035   NaN    NaN  ...       NaN       NaN         NaN        NaN   \n",
       "279036   NaN    NaN  ...       NaN       NaN         NaN        NaN   \n",
       "279037   NaN    NaN  ...       NaN       NaN         NaN        NaN   \n",
       "279038   NaN    NaN  ...       NaN       NaN         NaN        NaN   \n",
       "\n",
       "       Lactate_Value  Lactate_High_Low Lactate_Ref_Range WBC_Value  \\\n",
       "0                NaN               NaN               NaN       NaN   \n",
       "1                NaN               NaN               NaN       NaN   \n",
       "2                NaN               NaN               NaN       NaN   \n",
       "3                NaN               NaN               NaN       NaN   \n",
       "4                NaN               NaN               NaN       NaN   \n",
       "...              ...               ...               ...       ...   \n",
       "279034        > 10.0                 H           0.5-2.2       NaN   \n",
       "279035        > 10.0                 H           0.5-2.2       NaN   \n",
       "279036        > 10.0                 H           0.5-2.2       NaN   \n",
       "279037          > 30                 H           0.7-2.4       NaN   \n",
       "279038          > 30                 H           0.7-2.4       NaN   \n",
       "\n",
       "       WBC_High_Low WBC_Ref_Range  \n",
       "0               NaN           NaN  \n",
       "1               NaN           NaN  \n",
       "2               NaN           NaN  \n",
       "3               NaN           NaN  \n",
       "4               NaN           NaN  \n",
       "...             ...           ...  \n",
       "279034          NaN           NaN  \n",
       "279035          NaN           NaN  \n",
       "279036          NaN           NaN  \n",
       "279037          NaN           NaN  \n",
       "279038          NaN           NaN  \n",
       "\n",
       "[279039 rows x 26 columns]"
      ],
      "text/html": "<div>\n<style scoped>\n    .dataframe tbody tr th:only-of-type {\n        vertical-align: middle;\n    }\n\n    .dataframe tbody tr th {\n        vertical-align: top;\n    }\n\n    .dataframe thead th {\n        text-align: right;\n    }\n</style>\n<table border=\"1\" class=\"dataframe\">\n  <thead>\n    <tr style=\"text-align: right;\">\n      <th></th>\n      <th>Unnamed: 0</th>\n      <th>pt_identifier</th>\n      <th>Date</th>\n      <th>Time</th>\n      <th>BP1</th>\n      <th>BP2</th>\n      <th>Pulse</th>\n      <th>Temp</th>\n      <th>RR</th>\n      <th>O2Sat</th>\n      <th>...</th>\n      <th>Diag_Code</th>\n      <th>Diag_desc</th>\n      <th>Diag_prefix</th>\n      <th>Diag_type</th>\n      <th>Lactate_Value</th>\n      <th>Lactate_High_Low</th>\n      <th>Lactate_Ref_Range</th>\n      <th>WBC_Value</th>\n      <th>WBC_High_Low</th>\n      <th>WBC_Ref_Range</th>\n    </tr>\n  </thead>\n  <tbody>\n    <tr>\n      <th>0</th>\n      <td>0</td>\n      <td>H1000412</td>\n      <td>31/12/20</td>\n      <td>2359.0</td>\n      <td>116.0</td>\n      <td>84.0</td>\n      <td>88.0</td>\n      <td>36.9</td>\n      <td>17.0</td>\n      <td>97.0</td>\n      <td>...</td>\n      <td>NaN</td>\n      <td>NaN</td>\n      <td>NaN</td>\n      <td>NaN</td>\n      <td>NaN</td>\n      <td>NaN</td>\n      <td>NaN</td>\n      <td>NaN</td>\n      <td>NaN</td>\n      <td>NaN</td>\n    </tr>\n    <tr>\n      <th>1</th>\n      <td>1</td>\n      <td>H1000412</td>\n      <td>01/01/21</td>\n      <td>351.0</td>\n      <td>126.0</td>\n      <td>64.0</td>\n      <td>69.0</td>\n      <td>37.0</td>\n      <td>10.0</td>\n      <td>94.0</td>\n      <td>...</td>\n      <td>NaN</td>\n      <td>NaN</td>\n      <td>NaN</td>\n      <td>NaN</td>\n      <td>NaN</td>\n      <td>NaN</td>\n      <td>NaN</td>\n      <td>NaN</td>\n      <td>NaN</td>\n      <td>NaN</td>\n    </tr>\n    <tr>\n      <th>2</th>\n      <td>2</td>\n      <td>H1002797</td>\n      <td>08/12/20</td>\n      <td>1725.0</td>\n      <td>147.0</td>\n      <td>91.0</td>\n      <td>63.0</td>\n      <td>NaN</td>\n      <td>18.0</td>\n      <td>97.0</td>\n      <td>...</td>\n      <td>NaN</td>\n      <td>NaN</td>\n      <td>NaN</td>\n      <td>NaN</td>\n      <td>NaN</td>\n      <td>NaN</td>\n      <td>NaN</td>\n      <td>NaN</td>\n      <td>NaN</td>\n      <td>NaN</td>\n    </tr>\n    <tr>\n      <th>3</th>\n      <td>3</td>\n      <td>H1002797</td>\n      <td>11/01/21</td>\n      <td>1635.0</td>\n      <td>140.0</td>\n      <td>82.0</td>\n      <td>57.0</td>\n      <td>36.8</td>\n      <td>18.0</td>\n      <td>98.0</td>\n      <td>...</td>\n      <td>NaN</td>\n      <td>NaN</td>\n      <td>NaN</td>\n      <td>NaN</td>\n      <td>NaN</td>\n      <td>NaN</td>\n      <td>NaN</td>\n      <td>NaN</td>\n      <td>NaN</td>\n      <td>NaN</td>\n    </tr>\n    <tr>\n      <th>4</th>\n      <td>4</td>\n      <td>H1002797</td>\n      <td>11/01/21</td>\n      <td>1851.0</td>\n      <td>137.0</td>\n      <td>81.0</td>\n      <td>58.0</td>\n      <td>36.8</td>\n      <td>17.0</td>\n      <td>97.0</td>\n      <td>...</td>\n      <td>NaN</td>\n      <td>NaN</td>\n      <td>NaN</td>\n      <td>NaN</td>\n      <td>NaN</td>\n      <td>NaN</td>\n      <td>NaN</td>\n      <td>NaN</td>\n      <td>NaN</td>\n      <td>NaN</td>\n    </tr>\n    <tr>\n      <th>...</th>\n      <td>...</td>\n      <td>...</td>\n      <td>...</td>\n      <td>...</td>\n      <td>...</td>\n      <td>...</td>\n      <td>...</td>\n      <td>...</td>\n      <td>...</td>\n      <td>...</td>\n      <td>...</td>\n      <td>...</td>\n      <td>...</td>\n      <td>...</td>\n      <td>...</td>\n      <td>...</td>\n      <td>...</td>\n      <td>...</td>\n      <td>...</td>\n      <td>...</td>\n      <td>...</td>\n    </tr>\n    <tr>\n      <th>279034</th>\n      <td>279034</td>\n      <td>Z1163454</td>\n      <td>27/03/21</td>\n      <td>1630</td>\n      <td>NaN</td>\n      <td>NaN</td>\n      <td>NaN</td>\n      <td>NaN</td>\n      <td>NaN</td>\n      <td>NaN</td>\n      <td>...</td>\n      <td>NaN</td>\n      <td>NaN</td>\n      <td>NaN</td>\n      <td>NaN</td>\n      <td>&gt; 10.0</td>\n      <td>H</td>\n      <td>0.5-2.2</td>\n      <td>NaN</td>\n      <td>NaN</td>\n      <td>NaN</td>\n    </tr>\n    <tr>\n      <th>279035</th>\n      <td>279035</td>\n      <td>Z358846</td>\n      <td>31/01/21</td>\n      <td>1546</td>\n      <td>NaN</td>\n      <td>NaN</td>\n      <td>NaN</td>\n      <td>NaN</td>\n      <td>NaN</td>\n      <td>NaN</td>\n      <td>...</td>\n      <td>NaN</td>\n      <td>NaN</td>\n      <td>NaN</td>\n      <td>NaN</td>\n      <td>&gt; 10.0</td>\n      <td>H</td>\n      <td>0.5-2.2</td>\n      <td>NaN</td>\n      <td>NaN</td>\n      <td>NaN</td>\n    </tr>\n    <tr>\n      <th>279036</th>\n      <td>279036</td>\n      <td>Z682423</td>\n      <td>14/11/20</td>\n      <td>1415</td>\n      <td>NaN</td>\n      <td>NaN</td>\n      <td>NaN</td>\n      <td>NaN</td>\n      <td>NaN</td>\n      <td>NaN</td>\n      <td>...</td>\n      <td>NaN</td>\n      <td>NaN</td>\n      <td>NaN</td>\n      <td>NaN</td>\n      <td>&gt; 10.0</td>\n      <td>H</td>\n      <td>0.5-2.2</td>\n      <td>NaN</td>\n      <td>NaN</td>\n      <td>NaN</td>\n    </tr>\n    <tr>\n      <th>279037</th>\n      <td>279037</td>\n      <td>H2102217</td>\n      <td>15/03/21</td>\n      <td>2010</td>\n      <td>NaN</td>\n      <td>NaN</td>\n      <td>NaN</td>\n      <td>NaN</td>\n      <td>NaN</td>\n      <td>NaN</td>\n      <td>...</td>\n      <td>NaN</td>\n      <td>NaN</td>\n      <td>NaN</td>\n      <td>NaN</td>\n      <td>&gt; 30</td>\n      <td>H</td>\n      <td>0.7-2.4</td>\n      <td>NaN</td>\n      <td>NaN</td>\n      <td>NaN</td>\n    </tr>\n    <tr>\n      <th>279038</th>\n      <td>279038</td>\n      <td>H2102217</td>\n      <td>15/03/21</td>\n      <td>2217</td>\n      <td>NaN</td>\n      <td>NaN</td>\n      <td>NaN</td>\n      <td>NaN</td>\n      <td>NaN</td>\n      <td>NaN</td>\n      <td>...</td>\n      <td>NaN</td>\n      <td>NaN</td>\n      <td>NaN</td>\n      <td>NaN</td>\n      <td>&gt; 30</td>\n      <td>H</td>\n      <td>0.7-2.4</td>\n      <td>NaN</td>\n      <td>NaN</td>\n      <td>NaN</td>\n    </tr>\n  </tbody>\n</table>\n<p>279039 rows × 26 columns</p>\n</div>"
     },
     "metadata": {},
     "execution_count": 12
    }
   ],
   "source": [
    "df1"
   ]
  },
  {
   "cell_type": "code",
   "execution_count": 13,
   "metadata": {},
   "outputs": [],
   "source": [
    "del df1[\"Unnamed: 0\"]"
   ]
  },
  {
   "cell_type": "code",
   "execution_count": 14,
   "metadata": {},
   "outputs": [
    {
     "output_type": "execute_result",
     "data": {
      "text/plain": [
       "       pt_identifier      Date    Time    BP1   BP2  Pulse  Temp    RR  O2Sat  \\\n",
       "0           H1000412  31/12/20  2359.0  116.0  84.0   88.0  36.9  17.0   97.0   \n",
       "1           H1000412  01/01/21   351.0  126.0  64.0   69.0  37.0  10.0   94.0   \n",
       "2           H1002797  08/12/20  1725.0  147.0  91.0   63.0   NaN  18.0   97.0   \n",
       "3           H1002797  11/01/21  1635.0  140.0  82.0   57.0  36.8  18.0   98.0   \n",
       "4           H1002797  11/01/21  1851.0  137.0  81.0   58.0  36.8  17.0   97.0   \n",
       "...              ...       ...     ...    ...   ...    ...   ...   ...    ...   \n",
       "279034      Z1163454  27/03/21    1630    NaN   NaN    NaN   NaN   NaN    NaN   \n",
       "279035       Z358846  31/01/21    1546    NaN   NaN    NaN   NaN   NaN    NaN   \n",
       "279036       Z682423  14/11/20    1415    NaN   NaN    NaN   NaN   NaN    NaN   \n",
       "279037      H2102217  15/03/21    2010    NaN   NaN    NaN   NaN   NaN    NaN   \n",
       "279038      H2102217  15/03/21    2217    NaN   NaN    NaN   NaN   NaN    NaN   \n",
       "\n",
       "             Admission_Date  ... Diag_Code Diag_desc  Diag_prefix Diag_type  \\\n",
       "0       2020-12-31 00:00:00  ...       NaN       NaN          NaN       NaN   \n",
       "1       2020-12-31 00:00:00  ...       NaN       NaN          NaN       NaN   \n",
       "2       2020-11-18 00:00:00  ...       NaN       NaN          NaN       NaN   \n",
       "3       2020-11-18 00:00:00  ...       NaN       NaN          NaN       NaN   \n",
       "4       2020-11-18 00:00:00  ...       NaN       NaN          NaN       NaN   \n",
       "...                     ...  ...       ...       ...          ...       ...   \n",
       "279034                  NaN  ...       NaN       NaN          NaN       NaN   \n",
       "279035                  NaN  ...       NaN       NaN          NaN       NaN   \n",
       "279036                  NaN  ...       NaN       NaN          NaN       NaN   \n",
       "279037                  NaN  ...       NaN       NaN          NaN       NaN   \n",
       "279038                  NaN  ...       NaN       NaN          NaN       NaN   \n",
       "\n",
       "        Lactate_Value Lactate_High_Low Lactate_Ref_Range WBC_Value  \\\n",
       "0                 NaN              NaN               NaN       NaN   \n",
       "1                 NaN              NaN               NaN       NaN   \n",
       "2                 NaN              NaN               NaN       NaN   \n",
       "3                 NaN              NaN               NaN       NaN   \n",
       "4                 NaN              NaN               NaN       NaN   \n",
       "...               ...              ...               ...       ...   \n",
       "279034         > 10.0                H           0.5-2.2       NaN   \n",
       "279035         > 10.0                H           0.5-2.2       NaN   \n",
       "279036         > 10.0                H           0.5-2.2       NaN   \n",
       "279037           > 30                H           0.7-2.4       NaN   \n",
       "279038           > 30                H           0.7-2.4       NaN   \n",
       "\n",
       "       WBC_High_Low WBC_Ref_Range  \n",
       "0               NaN           NaN  \n",
       "1               NaN           NaN  \n",
       "2               NaN           NaN  \n",
       "3               NaN           NaN  \n",
       "4               NaN           NaN  \n",
       "...             ...           ...  \n",
       "279034          NaN           NaN  \n",
       "279035          NaN           NaN  \n",
       "279036          NaN           NaN  \n",
       "279037          NaN           NaN  \n",
       "279038          NaN           NaN  \n",
       "\n",
       "[279039 rows x 25 columns]"
      ],
      "text/html": "<div>\n<style scoped>\n    .dataframe tbody tr th:only-of-type {\n        vertical-align: middle;\n    }\n\n    .dataframe tbody tr th {\n        vertical-align: top;\n    }\n\n    .dataframe thead th {\n        text-align: right;\n    }\n</style>\n<table border=\"1\" class=\"dataframe\">\n  <thead>\n    <tr style=\"text-align: right;\">\n      <th></th>\n      <th>pt_identifier</th>\n      <th>Date</th>\n      <th>Time</th>\n      <th>BP1</th>\n      <th>BP2</th>\n      <th>Pulse</th>\n      <th>Temp</th>\n      <th>RR</th>\n      <th>O2Sat</th>\n      <th>Admission_Date</th>\n      <th>...</th>\n      <th>Diag_Code</th>\n      <th>Diag_desc</th>\n      <th>Diag_prefix</th>\n      <th>Diag_type</th>\n      <th>Lactate_Value</th>\n      <th>Lactate_High_Low</th>\n      <th>Lactate_Ref_Range</th>\n      <th>WBC_Value</th>\n      <th>WBC_High_Low</th>\n      <th>WBC_Ref_Range</th>\n    </tr>\n  </thead>\n  <tbody>\n    <tr>\n      <th>0</th>\n      <td>H1000412</td>\n      <td>31/12/20</td>\n      <td>2359.0</td>\n      <td>116.0</td>\n      <td>84.0</td>\n      <td>88.0</td>\n      <td>36.9</td>\n      <td>17.0</td>\n      <td>97.0</td>\n      <td>2020-12-31 00:00:00</td>\n      <td>...</td>\n      <td>NaN</td>\n      <td>NaN</td>\n      <td>NaN</td>\n      <td>NaN</td>\n      <td>NaN</td>\n      <td>NaN</td>\n      <td>NaN</td>\n      <td>NaN</td>\n      <td>NaN</td>\n      <td>NaN</td>\n    </tr>\n    <tr>\n      <th>1</th>\n      <td>H1000412</td>\n      <td>01/01/21</td>\n      <td>351.0</td>\n      <td>126.0</td>\n      <td>64.0</td>\n      <td>69.0</td>\n      <td>37.0</td>\n      <td>10.0</td>\n      <td>94.0</td>\n      <td>2020-12-31 00:00:00</td>\n      <td>...</td>\n      <td>NaN</td>\n      <td>NaN</td>\n      <td>NaN</td>\n      <td>NaN</td>\n      <td>NaN</td>\n      <td>NaN</td>\n      <td>NaN</td>\n      <td>NaN</td>\n      <td>NaN</td>\n      <td>NaN</td>\n    </tr>\n    <tr>\n      <th>2</th>\n      <td>H1002797</td>\n      <td>08/12/20</td>\n      <td>1725.0</td>\n      <td>147.0</td>\n      <td>91.0</td>\n      <td>63.0</td>\n      <td>NaN</td>\n      <td>18.0</td>\n      <td>97.0</td>\n      <td>2020-11-18 00:00:00</td>\n      <td>...</td>\n      <td>NaN</td>\n      <td>NaN</td>\n      <td>NaN</td>\n      <td>NaN</td>\n      <td>NaN</td>\n      <td>NaN</td>\n      <td>NaN</td>\n      <td>NaN</td>\n      <td>NaN</td>\n      <td>NaN</td>\n    </tr>\n    <tr>\n      <th>3</th>\n      <td>H1002797</td>\n      <td>11/01/21</td>\n      <td>1635.0</td>\n      <td>140.0</td>\n      <td>82.0</td>\n      <td>57.0</td>\n      <td>36.8</td>\n      <td>18.0</td>\n      <td>98.0</td>\n      <td>2020-11-18 00:00:00</td>\n      <td>...</td>\n      <td>NaN</td>\n      <td>NaN</td>\n      <td>NaN</td>\n      <td>NaN</td>\n      <td>NaN</td>\n      <td>NaN</td>\n      <td>NaN</td>\n      <td>NaN</td>\n      <td>NaN</td>\n      <td>NaN</td>\n    </tr>\n    <tr>\n      <th>4</th>\n      <td>H1002797</td>\n      <td>11/01/21</td>\n      <td>1851.0</td>\n      <td>137.0</td>\n      <td>81.0</td>\n      <td>58.0</td>\n      <td>36.8</td>\n      <td>17.0</td>\n      <td>97.0</td>\n      <td>2020-11-18 00:00:00</td>\n      <td>...</td>\n      <td>NaN</td>\n      <td>NaN</td>\n      <td>NaN</td>\n      <td>NaN</td>\n      <td>NaN</td>\n      <td>NaN</td>\n      <td>NaN</td>\n      <td>NaN</td>\n      <td>NaN</td>\n      <td>NaN</td>\n    </tr>\n    <tr>\n      <th>...</th>\n      <td>...</td>\n      <td>...</td>\n      <td>...</td>\n      <td>...</td>\n      <td>...</td>\n      <td>...</td>\n      <td>...</td>\n      <td>...</td>\n      <td>...</td>\n      <td>...</td>\n      <td>...</td>\n      <td>...</td>\n      <td>...</td>\n      <td>...</td>\n      <td>...</td>\n      <td>...</td>\n      <td>...</td>\n      <td>...</td>\n      <td>...</td>\n      <td>...</td>\n      <td>...</td>\n    </tr>\n    <tr>\n      <th>279034</th>\n      <td>Z1163454</td>\n      <td>27/03/21</td>\n      <td>1630</td>\n      <td>NaN</td>\n      <td>NaN</td>\n      <td>NaN</td>\n      <td>NaN</td>\n      <td>NaN</td>\n      <td>NaN</td>\n      <td>NaN</td>\n      <td>...</td>\n      <td>NaN</td>\n      <td>NaN</td>\n      <td>NaN</td>\n      <td>NaN</td>\n      <td>&gt; 10.0</td>\n      <td>H</td>\n      <td>0.5-2.2</td>\n      <td>NaN</td>\n      <td>NaN</td>\n      <td>NaN</td>\n    </tr>\n    <tr>\n      <th>279035</th>\n      <td>Z358846</td>\n      <td>31/01/21</td>\n      <td>1546</td>\n      <td>NaN</td>\n      <td>NaN</td>\n      <td>NaN</td>\n      <td>NaN</td>\n      <td>NaN</td>\n      <td>NaN</td>\n      <td>NaN</td>\n      <td>...</td>\n      <td>NaN</td>\n      <td>NaN</td>\n      <td>NaN</td>\n      <td>NaN</td>\n      <td>&gt; 10.0</td>\n      <td>H</td>\n      <td>0.5-2.2</td>\n      <td>NaN</td>\n      <td>NaN</td>\n      <td>NaN</td>\n    </tr>\n    <tr>\n      <th>279036</th>\n      <td>Z682423</td>\n      <td>14/11/20</td>\n      <td>1415</td>\n      <td>NaN</td>\n      <td>NaN</td>\n      <td>NaN</td>\n      <td>NaN</td>\n      <td>NaN</td>\n      <td>NaN</td>\n      <td>NaN</td>\n      <td>...</td>\n      <td>NaN</td>\n      <td>NaN</td>\n      <td>NaN</td>\n      <td>NaN</td>\n      <td>&gt; 10.0</td>\n      <td>H</td>\n      <td>0.5-2.2</td>\n      <td>NaN</td>\n      <td>NaN</td>\n      <td>NaN</td>\n    </tr>\n    <tr>\n      <th>279037</th>\n      <td>H2102217</td>\n      <td>15/03/21</td>\n      <td>2010</td>\n      <td>NaN</td>\n      <td>NaN</td>\n      <td>NaN</td>\n      <td>NaN</td>\n      <td>NaN</td>\n      <td>NaN</td>\n      <td>NaN</td>\n      <td>...</td>\n      <td>NaN</td>\n      <td>NaN</td>\n      <td>NaN</td>\n      <td>NaN</td>\n      <td>&gt; 30</td>\n      <td>H</td>\n      <td>0.7-2.4</td>\n      <td>NaN</td>\n      <td>NaN</td>\n      <td>NaN</td>\n    </tr>\n    <tr>\n      <th>279038</th>\n      <td>H2102217</td>\n      <td>15/03/21</td>\n      <td>2217</td>\n      <td>NaN</td>\n      <td>NaN</td>\n      <td>NaN</td>\n      <td>NaN</td>\n      <td>NaN</td>\n      <td>NaN</td>\n      <td>NaN</td>\n      <td>...</td>\n      <td>NaN</td>\n      <td>NaN</td>\n      <td>NaN</td>\n      <td>NaN</td>\n      <td>&gt; 30</td>\n      <td>H</td>\n      <td>0.7-2.4</td>\n      <td>NaN</td>\n      <td>NaN</td>\n      <td>NaN</td>\n    </tr>\n  </tbody>\n</table>\n<p>279039 rows × 25 columns</p>\n</div>"
     },
     "metadata": {},
     "execution_count": 14
    }
   ],
   "source": [
    "df1"
   ]
  },
  {
   "cell_type": "code",
   "execution_count": 15,
   "metadata": {},
   "outputs": [],
   "source": [
    "df1_df2 = df1.append(df2, sort=False, ignore_index=True)"
   ]
  },
  {
   "cell_type": "code",
   "execution_count": 16,
   "metadata": {},
   "outputs": [
    {
     "output_type": "execute_result",
     "data": {
      "text/plain": [
       "       pt_identifier      Date    Time    BP1   BP2  Pulse  Temp    RR  O2Sat  \\\n",
       "0           H1000412  31/12/20  2359.0  116.0  84.0   88.0  36.9  17.0   97.0   \n",
       "1           H1000412  01/01/21   351.0  126.0  64.0   69.0  37.0  10.0   94.0   \n",
       "2           H1002797  08/12/20  1725.0  147.0  91.0   63.0   NaN  18.0   97.0   \n",
       "3           H1002797  11/01/21  1635.0  140.0  82.0   57.0  36.8  18.0   98.0   \n",
       "4           H1002797  11/01/21  1851.0  137.0  81.0   58.0  36.8  17.0   97.0   \n",
       "...              ...       ...     ...    ...   ...    ...   ...   ...    ...   \n",
       "312831      H2163401  02/11/20    0630    NaN   NaN    NaN   NaN   NaN    NaN   \n",
       "312832      H2379968  13/02/21    1033    NaN   NaN    NaN   NaN   NaN    NaN   \n",
       "312833      H2379968  14/02/21    0548    NaN   NaN    NaN   NaN   NaN    NaN   \n",
       "312834      H2379968  14/02/21    0612    NaN   NaN    NaN   NaN   NaN    NaN   \n",
       "312835      H2379968  12/02/21    2255    NaN   NaN    NaN   NaN   NaN    NaN   \n",
       "\n",
       "             Admission_Date  ... Diag_Code Diag_desc  Diag_prefix Diag_type  \\\n",
       "0       2020-12-31 00:00:00  ...       NaN       NaN          NaN       NaN   \n",
       "1       2020-12-31 00:00:00  ...       NaN       NaN          NaN       NaN   \n",
       "2       2020-11-18 00:00:00  ...       NaN       NaN          NaN       NaN   \n",
       "3       2020-11-18 00:00:00  ...       NaN       NaN          NaN       NaN   \n",
       "4       2020-11-18 00:00:00  ...       NaN       NaN          NaN       NaN   \n",
       "...                     ...  ...       ...       ...          ...       ...   \n",
       "312831                  NaN  ...       NaN       NaN          NaN       NaN   \n",
       "312832                  NaN  ...       NaN       NaN          NaN       NaN   \n",
       "312833                  NaN  ...       NaN       NaN          NaN       NaN   \n",
       "312834                  NaN  ...       NaN       NaN          NaN       NaN   \n",
       "312835                  NaN  ...       NaN       NaN          NaN       NaN   \n",
       "\n",
       "        Lactate_Value Lactate_High_Low Lactate_Ref_Range WBC_Value  \\\n",
       "0                 NaN              NaN               NaN       NaN   \n",
       "1                 NaN              NaN               NaN       NaN   \n",
       "2                 NaN              NaN               NaN       NaN   \n",
       "3                 NaN              NaN               NaN       NaN   \n",
       "4                 NaN              NaN               NaN       NaN   \n",
       "...               ...              ...               ...       ...   \n",
       "312831            NaN              NaN               NaN     < 0.2   \n",
       "312832            NaN              NaN               NaN     < 0.2   \n",
       "312833            NaN              NaN               NaN     < 0.2   \n",
       "312834            NaN              NaN               NaN     < 0.2   \n",
       "312835            NaN              NaN               NaN     < 0.2   \n",
       "\n",
       "       WBC_High_Low WBC_Ref_Range  \n",
       "0               NaN           NaN  \n",
       "1               NaN           NaN  \n",
       "2               NaN           NaN  \n",
       "3               NaN           NaN  \n",
       "4               NaN           NaN  \n",
       "...             ...           ...  \n",
       "312831           VL      4.0-11.0  \n",
       "312832           VL      4.0-11.0  \n",
       "312833           VL      4.0-11.0  \n",
       "312834           VL      4.0-11.0  \n",
       "312835           VL      4.0-11.0  \n",
       "\n",
       "[312836 rows x 25 columns]"
      ],
      "text/html": "<div>\n<style scoped>\n    .dataframe tbody tr th:only-of-type {\n        vertical-align: middle;\n    }\n\n    .dataframe tbody tr th {\n        vertical-align: top;\n    }\n\n    .dataframe thead th {\n        text-align: right;\n    }\n</style>\n<table border=\"1\" class=\"dataframe\">\n  <thead>\n    <tr style=\"text-align: right;\">\n      <th></th>\n      <th>pt_identifier</th>\n      <th>Date</th>\n      <th>Time</th>\n      <th>BP1</th>\n      <th>BP2</th>\n      <th>Pulse</th>\n      <th>Temp</th>\n      <th>RR</th>\n      <th>O2Sat</th>\n      <th>Admission_Date</th>\n      <th>...</th>\n      <th>Diag_Code</th>\n      <th>Diag_desc</th>\n      <th>Diag_prefix</th>\n      <th>Diag_type</th>\n      <th>Lactate_Value</th>\n      <th>Lactate_High_Low</th>\n      <th>Lactate_Ref_Range</th>\n      <th>WBC_Value</th>\n      <th>WBC_High_Low</th>\n      <th>WBC_Ref_Range</th>\n    </tr>\n  </thead>\n  <tbody>\n    <tr>\n      <th>0</th>\n      <td>H1000412</td>\n      <td>31/12/20</td>\n      <td>2359.0</td>\n      <td>116.0</td>\n      <td>84.0</td>\n      <td>88.0</td>\n      <td>36.9</td>\n      <td>17.0</td>\n      <td>97.0</td>\n      <td>2020-12-31 00:00:00</td>\n      <td>...</td>\n      <td>NaN</td>\n      <td>NaN</td>\n      <td>NaN</td>\n      <td>NaN</td>\n      <td>NaN</td>\n      <td>NaN</td>\n      <td>NaN</td>\n      <td>NaN</td>\n      <td>NaN</td>\n      <td>NaN</td>\n    </tr>\n    <tr>\n      <th>1</th>\n      <td>H1000412</td>\n      <td>01/01/21</td>\n      <td>351.0</td>\n      <td>126.0</td>\n      <td>64.0</td>\n      <td>69.0</td>\n      <td>37.0</td>\n      <td>10.0</td>\n      <td>94.0</td>\n      <td>2020-12-31 00:00:00</td>\n      <td>...</td>\n      <td>NaN</td>\n      <td>NaN</td>\n      <td>NaN</td>\n      <td>NaN</td>\n      <td>NaN</td>\n      <td>NaN</td>\n      <td>NaN</td>\n      <td>NaN</td>\n      <td>NaN</td>\n      <td>NaN</td>\n    </tr>\n    <tr>\n      <th>2</th>\n      <td>H1002797</td>\n      <td>08/12/20</td>\n      <td>1725.0</td>\n      <td>147.0</td>\n      <td>91.0</td>\n      <td>63.0</td>\n      <td>NaN</td>\n      <td>18.0</td>\n      <td>97.0</td>\n      <td>2020-11-18 00:00:00</td>\n      <td>...</td>\n      <td>NaN</td>\n      <td>NaN</td>\n      <td>NaN</td>\n      <td>NaN</td>\n      <td>NaN</td>\n      <td>NaN</td>\n      <td>NaN</td>\n      <td>NaN</td>\n      <td>NaN</td>\n      <td>NaN</td>\n    </tr>\n    <tr>\n      <th>3</th>\n      <td>H1002797</td>\n      <td>11/01/21</td>\n      <td>1635.0</td>\n      <td>140.0</td>\n      <td>82.0</td>\n      <td>57.0</td>\n      <td>36.8</td>\n      <td>18.0</td>\n      <td>98.0</td>\n      <td>2020-11-18 00:00:00</td>\n      <td>...</td>\n      <td>NaN</td>\n      <td>NaN</td>\n      <td>NaN</td>\n      <td>NaN</td>\n      <td>NaN</td>\n      <td>NaN</td>\n      <td>NaN</td>\n      <td>NaN</td>\n      <td>NaN</td>\n      <td>NaN</td>\n    </tr>\n    <tr>\n      <th>4</th>\n      <td>H1002797</td>\n      <td>11/01/21</td>\n      <td>1851.0</td>\n      <td>137.0</td>\n      <td>81.0</td>\n      <td>58.0</td>\n      <td>36.8</td>\n      <td>17.0</td>\n      <td>97.0</td>\n      <td>2020-11-18 00:00:00</td>\n      <td>...</td>\n      <td>NaN</td>\n      <td>NaN</td>\n      <td>NaN</td>\n      <td>NaN</td>\n      <td>NaN</td>\n      <td>NaN</td>\n      <td>NaN</td>\n      <td>NaN</td>\n      <td>NaN</td>\n      <td>NaN</td>\n    </tr>\n    <tr>\n      <th>...</th>\n      <td>...</td>\n      <td>...</td>\n      <td>...</td>\n      <td>...</td>\n      <td>...</td>\n      <td>...</td>\n      <td>...</td>\n      <td>...</td>\n      <td>...</td>\n      <td>...</td>\n      <td>...</td>\n      <td>...</td>\n      <td>...</td>\n      <td>...</td>\n      <td>...</td>\n      <td>...</td>\n      <td>...</td>\n      <td>...</td>\n      <td>...</td>\n      <td>...</td>\n      <td>...</td>\n    </tr>\n    <tr>\n      <th>312831</th>\n      <td>H2163401</td>\n      <td>02/11/20</td>\n      <td>0630</td>\n      <td>NaN</td>\n      <td>NaN</td>\n      <td>NaN</td>\n      <td>NaN</td>\n      <td>NaN</td>\n      <td>NaN</td>\n      <td>NaN</td>\n      <td>...</td>\n      <td>NaN</td>\n      <td>NaN</td>\n      <td>NaN</td>\n      <td>NaN</td>\n      <td>NaN</td>\n      <td>NaN</td>\n      <td>NaN</td>\n      <td>&lt; 0.2</td>\n      <td>VL</td>\n      <td>4.0-11.0</td>\n    </tr>\n    <tr>\n      <th>312832</th>\n      <td>H2379968</td>\n      <td>13/02/21</td>\n      <td>1033</td>\n      <td>NaN</td>\n      <td>NaN</td>\n      <td>NaN</td>\n      <td>NaN</td>\n      <td>NaN</td>\n      <td>NaN</td>\n      <td>NaN</td>\n      <td>...</td>\n      <td>NaN</td>\n      <td>NaN</td>\n      <td>NaN</td>\n      <td>NaN</td>\n      <td>NaN</td>\n      <td>NaN</td>\n      <td>NaN</td>\n      <td>&lt; 0.2</td>\n      <td>VL</td>\n      <td>4.0-11.0</td>\n    </tr>\n    <tr>\n      <th>312833</th>\n      <td>H2379968</td>\n      <td>14/02/21</td>\n      <td>0548</td>\n      <td>NaN</td>\n      <td>NaN</td>\n      <td>NaN</td>\n      <td>NaN</td>\n      <td>NaN</td>\n      <td>NaN</td>\n      <td>NaN</td>\n      <td>...</td>\n      <td>NaN</td>\n      <td>NaN</td>\n      <td>NaN</td>\n      <td>NaN</td>\n      <td>NaN</td>\n      <td>NaN</td>\n      <td>NaN</td>\n      <td>&lt; 0.2</td>\n      <td>VL</td>\n      <td>4.0-11.0</td>\n    </tr>\n    <tr>\n      <th>312834</th>\n      <td>H2379968</td>\n      <td>14/02/21</td>\n      <td>0612</td>\n      <td>NaN</td>\n      <td>NaN</td>\n      <td>NaN</td>\n      <td>NaN</td>\n      <td>NaN</td>\n      <td>NaN</td>\n      <td>NaN</td>\n      <td>...</td>\n      <td>NaN</td>\n      <td>NaN</td>\n      <td>NaN</td>\n      <td>NaN</td>\n      <td>NaN</td>\n      <td>NaN</td>\n      <td>NaN</td>\n      <td>&lt; 0.2</td>\n      <td>VL</td>\n      <td>4.0-11.0</td>\n    </tr>\n    <tr>\n      <th>312835</th>\n      <td>H2379968</td>\n      <td>12/02/21</td>\n      <td>2255</td>\n      <td>NaN</td>\n      <td>NaN</td>\n      <td>NaN</td>\n      <td>NaN</td>\n      <td>NaN</td>\n      <td>NaN</td>\n      <td>NaN</td>\n      <td>...</td>\n      <td>NaN</td>\n      <td>NaN</td>\n      <td>NaN</td>\n      <td>NaN</td>\n      <td>NaN</td>\n      <td>NaN</td>\n      <td>NaN</td>\n      <td>&lt; 0.2</td>\n      <td>VL</td>\n      <td>4.0-11.0</td>\n    </tr>\n  </tbody>\n</table>\n<p>312836 rows × 25 columns</p>\n</div>"
     },
     "metadata": {},
     "execution_count": 16
    }
   ],
   "source": [
    "df1_df2"
   ]
  },
  {
   "cell_type": "code",
   "execution_count": 17,
   "id": "ca9473b9",
   "metadata": {},
   "outputs": [],
   "source": [
    "df1_df2.to_csv('vitals_info_lactate_WBC.csv')\n"
   ]
  }
 ],
 "metadata": {
  "kernelspec": {
   "name": "python3",
   "display_name": "Python 3.8.6 64-bit"
  },
  "language_info": {
   "codemirror_mode": {
    "name": "ipython",
    "version": 3
   },
   "file_extension": ".py",
   "mimetype": "text/x-python",
   "name": "python",
   "nbconvert_exporter": "python",
   "pygments_lexer": "ipython3",
   "version": "3.8.6"
  },
  "metadata": {
   "interpreter": {
    "hash": "1cc4686def4f4686e288101491fcc64d903ee1a0c766a7a4df710ffbf4241b15"
   }
  },
  "interpreter": {
   "hash": "1cc4686def4f4686e288101491fcc64d903ee1a0c766a7a4df710ffbf4241b15"
  }
 },
 "nbformat": 4,
 "nbformat_minor": 5
}