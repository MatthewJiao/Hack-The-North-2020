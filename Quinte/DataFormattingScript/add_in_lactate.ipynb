{
 "cells": [
  {
   "cell_type": "code",
   "execution_count": 1,
   "id": "70b70211",
   "metadata": {},
   "outputs": [],
   "source": [
    "import pandas as pd\n",
    "import numpy as np\n",
    "import math"
   ]
  },
  {
   "cell_type": "code",
   "execution_count": 2,
   "id": "ff4d2161",
   "metadata": {},
   "outputs": [
    {
     "output_type": "stream",
     "name": "stderr",
     "text": [
      "C:\\Users\\Adam Lam\\AppData\\Roaming\\Python\\Python38\\site-packages\\IPython\\core\\interactiveshell.py:3169: DtypeWarning: Columns (18) have mixed types.Specify dtype option on import or set low_memory=False.\n  has_raised = await self.run_ast_nodes(code_ast.body, cell_name,\n"
     ]
    }
   ],
   "source": [
    "df1 = pd.read_csv(\n",
    "     '../FormattedData/all_vitals_info_diag.csv',\n",
    ")"
   ]
  },
  {
   "cell_type": "code",
   "execution_count": 3,
   "id": "f3c100a9",
   "metadata": {},
   "outputs": [
    {
     "output_type": "execute_result",
     "data": {
      "text/plain": [
       "        Unnamed: 0 pt_identifier      Date    Time    BP1   BP2  Pulse  Temp  \\\n",
       "0                0      H1000412  31/12/20  2359.0  116.0  84.0   88.0  36.9   \n",
       "1                1      H1000412  01/01/21   351.0  126.0  64.0   69.0  37.0   \n",
       "2                2      H1002797  08/12/20  1725.0  147.0  91.0   63.0   NaN   \n",
       "3                3      H1002797  11/01/21  1635.0  140.0  82.0   57.0  36.8   \n",
       "4                4      H1002797  11/01/21  1851.0  137.0  81.0   58.0  36.8   \n",
       "...            ...           ...       ...     ...    ...   ...    ...   ...   \n",
       "262650      262650      H4049693  21/11/20  1832.0    NaN   NaN    NaN  36.2   \n",
       "262651      262651      H1778774  07/12/20  1650.0    NaN   NaN    NaN  36.7   \n",
       "262652      262652      H4073700  23/02/21  1324.0    NaN   NaN    NaN  36.7   \n",
       "262653      262653      H3705405  27/01/21  1804.0    NaN   NaN    NaN  37.2   \n",
       "262654      262654      Z1751922  19/02/21  1831.0    NaN   NaN    NaN  38.9   \n",
       "\n",
       "          RR  O2Sat       Admission_Date       Discharge_Date Age_Code  \\\n",
       "0       17.0   97.0  2020-12-31 00:00:00  2021-01-01 00:00:00        Y   \n",
       "1       10.0   94.0  2020-12-31 00:00:00  2021-01-01 00:00:00        Y   \n",
       "2       18.0   97.0  2020-11-18 00:00:00  2020-11-20 00:00:00        Y   \n",
       "3       18.0   98.0  2020-11-18 00:00:00  2020-11-20 00:00:00        Y   \n",
       "4       17.0   97.0  2020-11-18 00:00:00  2020-11-20 00:00:00        Y   \n",
       "...      ...    ...                  ...                  ...      ...   \n",
       "262650  40.0    NaN  2020-11-14 00:00:00  2020-11-15 00:00:00        D   \n",
       "262651   NaN    NaN  2020-10-23 00:00:00  2020-10-29 00:00:00        Y   \n",
       "262652  28.0   99.0  2021-02-02 00:00:00  2021-02-04 00:00:00        D   \n",
       "262653  22.0  100.0  2021-02-03 00:00:00  2021-02-04 00:00:00        Y   \n",
       "262654   NaN    NaN  2021-02-20 00:00:00  2021-02-23 00:00:00        Y   \n",
       "\n",
       "        Age_Number Gender  Weight Diag_Code Diag_desc Diag_prefix Diag_type  \n",
       "0             81.0      F     NaN       NaN       NaN         NaN       NaN  \n",
       "1             81.0      F     NaN       NaN       NaN         NaN       NaN  \n",
       "2             66.0      F     NaN       NaN       NaN         NaN       NaN  \n",
       "3             66.0      F     NaN       NaN       NaN         NaN       NaN  \n",
       "4             66.0      F     NaN       NaN       NaN         NaN       NaN  \n",
       "...            ...    ...     ...       ...       ...         ...       ...  \n",
       "262650         0.0      M   4.235       NaN       NaN         NaN       NaN  \n",
       "262651        48.0      F  65.450       NaN       NaN         NaN       NaN  \n",
       "262652         0.0      M   3.190       NaN       NaN         NaN       NaN  \n",
       "262653         4.0      F  17.000       NaN       NaN         NaN       NaN  \n",
       "262654         2.0      F  18.000       NaN       NaN         NaN       NaN  \n",
       "\n",
       "[262655 rows x 20 columns]"
      ],
      "text/html": "<div>\n<style scoped>\n    .dataframe tbody tr th:only-of-type {\n        vertical-align: middle;\n    }\n\n    .dataframe tbody tr th {\n        vertical-align: top;\n    }\n\n    .dataframe thead th {\n        text-align: right;\n    }\n</style>\n<table border=\"1\" class=\"dataframe\">\n  <thead>\n    <tr style=\"text-align: right;\">\n      <th></th>\n      <th>Unnamed: 0</th>\n      <th>pt_identifier</th>\n      <th>Date</th>\n      <th>Time</th>\n      <th>BP1</th>\n      <th>BP2</th>\n      <th>Pulse</th>\n      <th>Temp</th>\n      <th>RR</th>\n      <th>O2Sat</th>\n      <th>Admission_Date</th>\n      <th>Discharge_Date</th>\n      <th>Age_Code</th>\n      <th>Age_Number</th>\n      <th>Gender</th>\n      <th>Weight</th>\n      <th>Diag_Code</th>\n      <th>Diag_desc</th>\n      <th>Diag_prefix</th>\n      <th>Diag_type</th>\n    </tr>\n  </thead>\n  <tbody>\n    <tr>\n      <th>0</th>\n      <td>0</td>\n      <td>H1000412</td>\n      <td>31/12/20</td>\n      <td>2359.0</td>\n      <td>116.0</td>\n      <td>84.0</td>\n      <td>88.0</td>\n      <td>36.9</td>\n      <td>17.0</td>\n      <td>97.0</td>\n      <td>2020-12-31 00:00:00</td>\n      <td>2021-01-01 00:00:00</td>\n      <td>Y</td>\n      <td>81.0</td>\n      <td>F</td>\n      <td>NaN</td>\n      <td>NaN</td>\n      <td>NaN</td>\n      <td>NaN</td>\n      <td>NaN</td>\n    </tr>\n    <tr>\n      <th>1</th>\n      <td>1</td>\n      <td>H1000412</td>\n      <td>01/01/21</td>\n      <td>351.0</td>\n      <td>126.0</td>\n      <td>64.0</td>\n      <td>69.0</td>\n      <td>37.0</td>\n      <td>10.0</td>\n      <td>94.0</td>\n      <td>2020-12-31 00:00:00</td>\n      <td>2021-01-01 00:00:00</td>\n      <td>Y</td>\n      <td>81.0</td>\n      <td>F</td>\n      <td>NaN</td>\n      <td>NaN</td>\n      <td>NaN</td>\n      <td>NaN</td>\n      <td>NaN</td>\n    </tr>\n    <tr>\n      <th>2</th>\n      <td>2</td>\n      <td>H1002797</td>\n      <td>08/12/20</td>\n      <td>1725.0</td>\n      <td>147.0</td>\n      <td>91.0</td>\n      <td>63.0</td>\n      <td>NaN</td>\n      <td>18.0</td>\n      <td>97.0</td>\n      <td>2020-11-18 00:00:00</td>\n      <td>2020-11-20 00:00:00</td>\n      <td>Y</td>\n      <td>66.0</td>\n      <td>F</td>\n      <td>NaN</td>\n      <td>NaN</td>\n      <td>NaN</td>\n      <td>NaN</td>\n      <td>NaN</td>\n    </tr>\n    <tr>\n      <th>3</th>\n      <td>3</td>\n      <td>H1002797</td>\n      <td>11/01/21</td>\n      <td>1635.0</td>\n      <td>140.0</td>\n      <td>82.0</td>\n      <td>57.0</td>\n      <td>36.8</td>\n      <td>18.0</td>\n      <td>98.0</td>\n      <td>2020-11-18 00:00:00</td>\n      <td>2020-11-20 00:00:00</td>\n      <td>Y</td>\n      <td>66.0</td>\n      <td>F</td>\n      <td>NaN</td>\n      <td>NaN</td>\n      <td>NaN</td>\n      <td>NaN</td>\n      <td>NaN</td>\n    </tr>\n    <tr>\n      <th>4</th>\n      <td>4</td>\n      <td>H1002797</td>\n      <td>11/01/21</td>\n      <td>1851.0</td>\n      <td>137.0</td>\n      <td>81.0</td>\n      <td>58.0</td>\n      <td>36.8</td>\n      <td>17.0</td>\n      <td>97.0</td>\n      <td>2020-11-18 00:00:00</td>\n      <td>2020-11-20 00:00:00</td>\n      <td>Y</td>\n      <td>66.0</td>\n      <td>F</td>\n      <td>NaN</td>\n      <td>NaN</td>\n      <td>NaN</td>\n      <td>NaN</td>\n      <td>NaN</td>\n    </tr>\n    <tr>\n      <th>...</th>\n      <td>...</td>\n      <td>...</td>\n      <td>...</td>\n      <td>...</td>\n      <td>...</td>\n      <td>...</td>\n      <td>...</td>\n      <td>...</td>\n      <td>...</td>\n      <td>...</td>\n      <td>...</td>\n      <td>...</td>\n      <td>...</td>\n      <td>...</td>\n      <td>...</td>\n      <td>...</td>\n      <td>...</td>\n      <td>...</td>\n      <td>...</td>\n      <td>...</td>\n    </tr>\n    <tr>\n      <th>262650</th>\n      <td>262650</td>\n      <td>H4049693</td>\n      <td>21/11/20</td>\n      <td>1832.0</td>\n      <td>NaN</td>\n      <td>NaN</td>\n      <td>NaN</td>\n      <td>36.2</td>\n      <td>40.0</td>\n      <td>NaN</td>\n      <td>2020-11-14 00:00:00</td>\n      <td>2020-11-15 00:00:00</td>\n      <td>D</td>\n      <td>0.0</td>\n      <td>M</td>\n      <td>4.235</td>\n      <td>NaN</td>\n      <td>NaN</td>\n      <td>NaN</td>\n      <td>NaN</td>\n    </tr>\n    <tr>\n      <th>262651</th>\n      <td>262651</td>\n      <td>H1778774</td>\n      <td>07/12/20</td>\n      <td>1650.0</td>\n      <td>NaN</td>\n      <td>NaN</td>\n      <td>NaN</td>\n      <td>36.7</td>\n      <td>NaN</td>\n      <td>NaN</td>\n      <td>2020-10-23 00:00:00</td>\n      <td>2020-10-29 00:00:00</td>\n      <td>Y</td>\n      <td>48.0</td>\n      <td>F</td>\n      <td>65.450</td>\n      <td>NaN</td>\n      <td>NaN</td>\n      <td>NaN</td>\n      <td>NaN</td>\n    </tr>\n    <tr>\n      <th>262652</th>\n      <td>262652</td>\n      <td>H4073700</td>\n      <td>23/02/21</td>\n      <td>1324.0</td>\n      <td>NaN</td>\n      <td>NaN</td>\n      <td>NaN</td>\n      <td>36.7</td>\n      <td>28.0</td>\n      <td>99.0</td>\n      <td>2021-02-02 00:00:00</td>\n      <td>2021-02-04 00:00:00</td>\n      <td>D</td>\n      <td>0.0</td>\n      <td>M</td>\n      <td>3.190</td>\n      <td>NaN</td>\n      <td>NaN</td>\n      <td>NaN</td>\n      <td>NaN</td>\n    </tr>\n    <tr>\n      <th>262653</th>\n      <td>262653</td>\n      <td>H3705405</td>\n      <td>27/01/21</td>\n      <td>1804.0</td>\n      <td>NaN</td>\n      <td>NaN</td>\n      <td>NaN</td>\n      <td>37.2</td>\n      <td>22.0</td>\n      <td>100.0</td>\n      <td>2021-02-03 00:00:00</td>\n      <td>2021-02-04 00:00:00</td>\n      <td>Y</td>\n      <td>4.0</td>\n      <td>F</td>\n      <td>17.000</td>\n      <td>NaN</td>\n      <td>NaN</td>\n      <td>NaN</td>\n      <td>NaN</td>\n    </tr>\n    <tr>\n      <th>262654</th>\n      <td>262654</td>\n      <td>Z1751922</td>\n      <td>19/02/21</td>\n      <td>1831.0</td>\n      <td>NaN</td>\n      <td>NaN</td>\n      <td>NaN</td>\n      <td>38.9</td>\n      <td>NaN</td>\n      <td>NaN</td>\n      <td>2021-02-20 00:00:00</td>\n      <td>2021-02-23 00:00:00</td>\n      <td>Y</td>\n      <td>2.0</td>\n      <td>F</td>\n      <td>18.000</td>\n      <td>NaN</td>\n      <td>NaN</td>\n      <td>NaN</td>\n      <td>NaN</td>\n    </tr>\n  </tbody>\n</table>\n<p>262655 rows × 20 columns</p>\n</div>"
     },
     "metadata": {},
     "execution_count": 3
    }
   ],
   "source": [
    "df1"
   ]
  },
  {
   "cell_type": "code",
   "execution_count": 4,
   "id": "5d2071ed",
   "metadata": {},
   "outputs": [],
   "source": [
    "df2 = pd.read_excel(\n",
    "     '../MF_lact_WC_Diag.xlsx',\n",
    "     engine='openpyxl', sheet_name = 'lactate'\n",
    ")"
   ]
  },
  {
   "cell_type": "code",
   "execution_count": 5,
   "id": "6ec7ad73",
   "metadata": {},
   "outputs": [
    {
     "output_type": "execute_result",
     "data": {
      "text/plain": [
       "      pt_identifier      date  time status                    test_desc  \\\n",
       "0           H717061  26/02/21  0517   COMP  LACTATE(LACTIC ACID) VENOUS   \n",
       "1           Z483469  11/02/21  0629   COMP  LACTATE(LACTIC ACID) VENOUS   \n",
       "2          H1579921  28/10/20  0613   COMP         LACTATE(LACTIC ACID)   \n",
       "3          H2340349  03/02/21  0327   COMP         LACTATE(LACTIC ACID)   \n",
       "4          H2340349  03/02/21  0634   COMP         LACTATE(LACTIC ACID)   \n",
       "...             ...       ...   ...    ...                          ...   \n",
       "23336           NaN       NaN   NaN    NaN                          NaN   \n",
       "23337           NaN       NaN   NaN    NaN                          NaN   \n",
       "23338           NaN       NaN   NaN    NaN                          NaN   \n",
       "23339           NaN       NaN   NaN    NaN                          NaN   \n",
       "23340           NaN       NaN   NaN    NaN                          NaN   \n",
       "\n",
       "      result L_H_VL_VH ref_range ref_range2     test  Unnamed: 10  \n",
       "0       0.26         L   0.9-2.6     mmol/L  LACTVEN          NaN  \n",
       "1       0.28         L   0.9-2.6     mmol/L  LACTVEN          NaN  \n",
       "2        0.3         L   0.5-2.2     mmol/L   LACPOC          NaN  \n",
       "3        0.3         L   0.5-2.2     mmol/L   LACPOC          NaN  \n",
       "4        0.3         L   0.5-2.2     mmol/L   LACPOC          NaN  \n",
       "...      ...       ...       ...        ...      ...          ...  \n",
       "23336    NaN       NaN       NaN        NaN      NaN          NaN  \n",
       "23337    NaN       NaN       NaN        NaN      NaN          NaN  \n",
       "23338    NaN       NaN       NaN        NaN      NaN          NaN  \n",
       "23339    NaN       NaN       NaN        NaN      NaN          NaN  \n",
       "23340    NaN       NaN       NaN        NaN      NaN          NaN  \n",
       "\n",
       "[23341 rows x 11 columns]"
      ],
      "text/html": "<div>\n<style scoped>\n    .dataframe tbody tr th:only-of-type {\n        vertical-align: middle;\n    }\n\n    .dataframe tbody tr th {\n        vertical-align: top;\n    }\n\n    .dataframe thead th {\n        text-align: right;\n    }\n</style>\n<table border=\"1\" class=\"dataframe\">\n  <thead>\n    <tr style=\"text-align: right;\">\n      <th></th>\n      <th>pt_identifier</th>\n      <th>date</th>\n      <th>time</th>\n      <th>status</th>\n      <th>test_desc</th>\n      <th>result</th>\n      <th>L_H_VL_VH</th>\n      <th>ref_range</th>\n      <th>ref_range2</th>\n      <th>test</th>\n      <th>Unnamed: 10</th>\n    </tr>\n  </thead>\n  <tbody>\n    <tr>\n      <th>0</th>\n      <td>H717061</td>\n      <td>26/02/21</td>\n      <td>0517</td>\n      <td>COMP</td>\n      <td>LACTATE(LACTIC ACID) VENOUS</td>\n      <td>0.26</td>\n      <td>L</td>\n      <td>0.9-2.6</td>\n      <td>mmol/L</td>\n      <td>LACTVEN</td>\n      <td>NaN</td>\n    </tr>\n    <tr>\n      <th>1</th>\n      <td>Z483469</td>\n      <td>11/02/21</td>\n      <td>0629</td>\n      <td>COMP</td>\n      <td>LACTATE(LACTIC ACID) VENOUS</td>\n      <td>0.28</td>\n      <td>L</td>\n      <td>0.9-2.6</td>\n      <td>mmol/L</td>\n      <td>LACTVEN</td>\n      <td>NaN</td>\n    </tr>\n    <tr>\n      <th>2</th>\n      <td>H1579921</td>\n      <td>28/10/20</td>\n      <td>0613</td>\n      <td>COMP</td>\n      <td>LACTATE(LACTIC ACID)</td>\n      <td>0.3</td>\n      <td>L</td>\n      <td>0.5-2.2</td>\n      <td>mmol/L</td>\n      <td>LACPOC</td>\n      <td>NaN</td>\n    </tr>\n    <tr>\n      <th>3</th>\n      <td>H2340349</td>\n      <td>03/02/21</td>\n      <td>0327</td>\n      <td>COMP</td>\n      <td>LACTATE(LACTIC ACID)</td>\n      <td>0.3</td>\n      <td>L</td>\n      <td>0.5-2.2</td>\n      <td>mmol/L</td>\n      <td>LACPOC</td>\n      <td>NaN</td>\n    </tr>\n    <tr>\n      <th>4</th>\n      <td>H2340349</td>\n      <td>03/02/21</td>\n      <td>0634</td>\n      <td>COMP</td>\n      <td>LACTATE(LACTIC ACID)</td>\n      <td>0.3</td>\n      <td>L</td>\n      <td>0.5-2.2</td>\n      <td>mmol/L</td>\n      <td>LACPOC</td>\n      <td>NaN</td>\n    </tr>\n    <tr>\n      <th>...</th>\n      <td>...</td>\n      <td>...</td>\n      <td>...</td>\n      <td>...</td>\n      <td>...</td>\n      <td>...</td>\n      <td>...</td>\n      <td>...</td>\n      <td>...</td>\n      <td>...</td>\n      <td>...</td>\n    </tr>\n    <tr>\n      <th>23336</th>\n      <td>NaN</td>\n      <td>NaN</td>\n      <td>NaN</td>\n      <td>NaN</td>\n      <td>NaN</td>\n      <td>NaN</td>\n      <td>NaN</td>\n      <td>NaN</td>\n      <td>NaN</td>\n      <td>NaN</td>\n      <td>NaN</td>\n    </tr>\n    <tr>\n      <th>23337</th>\n      <td>NaN</td>\n      <td>NaN</td>\n      <td>NaN</td>\n      <td>NaN</td>\n      <td>NaN</td>\n      <td>NaN</td>\n      <td>NaN</td>\n      <td>NaN</td>\n      <td>NaN</td>\n      <td>NaN</td>\n      <td>NaN</td>\n    </tr>\n    <tr>\n      <th>23338</th>\n      <td>NaN</td>\n      <td>NaN</td>\n      <td>NaN</td>\n      <td>NaN</td>\n      <td>NaN</td>\n      <td>NaN</td>\n      <td>NaN</td>\n      <td>NaN</td>\n      <td>NaN</td>\n      <td>NaN</td>\n      <td>NaN</td>\n    </tr>\n    <tr>\n      <th>23339</th>\n      <td>NaN</td>\n      <td>NaN</td>\n      <td>NaN</td>\n      <td>NaN</td>\n      <td>NaN</td>\n      <td>NaN</td>\n      <td>NaN</td>\n      <td>NaN</td>\n      <td>NaN</td>\n      <td>NaN</td>\n      <td>NaN</td>\n    </tr>\n    <tr>\n      <th>23340</th>\n      <td>NaN</td>\n      <td>NaN</td>\n      <td>NaN</td>\n      <td>NaN</td>\n      <td>NaN</td>\n      <td>NaN</td>\n      <td>NaN</td>\n      <td>NaN</td>\n      <td>NaN</td>\n      <td>NaN</td>\n      <td>NaN</td>\n    </tr>\n  </tbody>\n</table>\n<p>23341 rows × 11 columns</p>\n</div>"
     },
     "metadata": {},
     "execution_count": 5
    }
   ],
   "source": [
    "df2"
   ]
  },
  {
   "cell_type": "code",
   "execution_count": 7,
   "id": "2dc35749",
   "metadata": {},
   "outputs": [],
   "source": [
    "del df2[\"status\"]\n",
    "del df2[\"test_desc\"]\n",
    "del df2[\"test\"]\n",
    "del df2[\"Unnamed: 10\"]"
   ]
  },
  {
   "cell_type": "code",
   "execution_count": 8,
   "id": "1ff9de56",
   "metadata": {},
   "outputs": [
    {
     "output_type": "execute_result",
     "data": {
      "text/plain": [
       "      pt_identifier      date  time result L_H_VL_VH ref_range ref_range2\n",
       "0           H717061  26/02/21  0517   0.26         L   0.9-2.6     mmol/L\n",
       "1           Z483469  11/02/21  0629   0.28         L   0.9-2.6     mmol/L\n",
       "2          H1579921  28/10/20  0613    0.3         L   0.5-2.2     mmol/L\n",
       "3          H2340349  03/02/21  0327    0.3         L   0.5-2.2     mmol/L\n",
       "4          H2340349  03/02/21  0634    0.3         L   0.5-2.2     mmol/L\n",
       "...             ...       ...   ...    ...       ...       ...        ...\n",
       "23336           NaN       NaN   NaN    NaN       NaN       NaN        NaN\n",
       "23337           NaN       NaN   NaN    NaN       NaN       NaN        NaN\n",
       "23338           NaN       NaN   NaN    NaN       NaN       NaN        NaN\n",
       "23339           NaN       NaN   NaN    NaN       NaN       NaN        NaN\n",
       "23340           NaN       NaN   NaN    NaN       NaN       NaN        NaN\n",
       "\n",
       "[23341 rows x 7 columns]"
      ],
      "text/html": "<div>\n<style scoped>\n    .dataframe tbody tr th:only-of-type {\n        vertical-align: middle;\n    }\n\n    .dataframe tbody tr th {\n        vertical-align: top;\n    }\n\n    .dataframe thead th {\n        text-align: right;\n    }\n</style>\n<table border=\"1\" class=\"dataframe\">\n  <thead>\n    <tr style=\"text-align: right;\">\n      <th></th>\n      <th>pt_identifier</th>\n      <th>date</th>\n      <th>time</th>\n      <th>result</th>\n      <th>L_H_VL_VH</th>\n      <th>ref_range</th>\n      <th>ref_range2</th>\n    </tr>\n  </thead>\n  <tbody>\n    <tr>\n      <th>0</th>\n      <td>H717061</td>\n      <td>26/02/21</td>\n      <td>0517</td>\n      <td>0.26</td>\n      <td>L</td>\n      <td>0.9-2.6</td>\n      <td>mmol/L</td>\n    </tr>\n    <tr>\n      <th>1</th>\n      <td>Z483469</td>\n      <td>11/02/21</td>\n      <td>0629</td>\n      <td>0.28</td>\n      <td>L</td>\n      <td>0.9-2.6</td>\n      <td>mmol/L</td>\n    </tr>\n    <tr>\n      <th>2</th>\n      <td>H1579921</td>\n      <td>28/10/20</td>\n      <td>0613</td>\n      <td>0.3</td>\n      <td>L</td>\n      <td>0.5-2.2</td>\n      <td>mmol/L</td>\n    </tr>\n    <tr>\n      <th>3</th>\n      <td>H2340349</td>\n      <td>03/02/21</td>\n      <td>0327</td>\n      <td>0.3</td>\n      <td>L</td>\n      <td>0.5-2.2</td>\n      <td>mmol/L</td>\n    </tr>\n    <tr>\n      <th>4</th>\n      <td>H2340349</td>\n      <td>03/02/21</td>\n      <td>0634</td>\n      <td>0.3</td>\n      <td>L</td>\n      <td>0.5-2.2</td>\n      <td>mmol/L</td>\n    </tr>\n    <tr>\n      <th>...</th>\n      <td>...</td>\n      <td>...</td>\n      <td>...</td>\n      <td>...</td>\n      <td>...</td>\n      <td>...</td>\n      <td>...</td>\n    </tr>\n    <tr>\n      <th>23336</th>\n      <td>NaN</td>\n      <td>NaN</td>\n      <td>NaN</td>\n      <td>NaN</td>\n      <td>NaN</td>\n      <td>NaN</td>\n      <td>NaN</td>\n    </tr>\n    <tr>\n      <th>23337</th>\n      <td>NaN</td>\n      <td>NaN</td>\n      <td>NaN</td>\n      <td>NaN</td>\n      <td>NaN</td>\n      <td>NaN</td>\n      <td>NaN</td>\n    </tr>\n    <tr>\n      <th>23338</th>\n      <td>NaN</td>\n      <td>NaN</td>\n      <td>NaN</td>\n      <td>NaN</td>\n      <td>NaN</td>\n      <td>NaN</td>\n      <td>NaN</td>\n    </tr>\n    <tr>\n      <th>23339</th>\n      <td>NaN</td>\n      <td>NaN</td>\n      <td>NaN</td>\n      <td>NaN</td>\n      <td>NaN</td>\n      <td>NaN</td>\n      <td>NaN</td>\n    </tr>\n    <tr>\n      <th>23340</th>\n      <td>NaN</td>\n      <td>NaN</td>\n      <td>NaN</td>\n      <td>NaN</td>\n      <td>NaN</td>\n      <td>NaN</td>\n      <td>NaN</td>\n    </tr>\n  </tbody>\n</table>\n<p>23341 rows × 7 columns</p>\n</div>"
     },
     "metadata": {},
     "execution_count": 8
    }
   ],
   "source": [
    "df2"
   ]
  },
  {
   "cell_type": "code",
   "execution_count": 22,
   "metadata": {},
   "outputs": [],
   "source": [
    "df2 = df2.rename(columns = {\"date\": \"Date\", \"time\": \"Time\"})"
   ]
  },
  {
   "cell_type": "code",
   "execution_count": 17,
   "metadata": {},
   "outputs": [
    {
     "output_type": "execute_result",
     "data": {
      "text/plain": [
       "      pt_identifier      date  time Lactate_Value Lactate_High_Low  \\\n",
       "0           H717061  26/02/21  0517          0.26                L   \n",
       "1           Z483469  11/02/21  0629          0.28                L   \n",
       "2          H1579921  28/10/20  0613           0.3                L   \n",
       "3          H2340349  03/02/21  0327           0.3                L   \n",
       "4          H2340349  03/02/21  0634           0.3                L   \n",
       "...             ...       ...   ...           ...              ...   \n",
       "16379      Z1163454  27/03/21  1630        > 10.0                H   \n",
       "16380       Z358846  31/01/21  1546        > 10.0                H   \n",
       "16381       Z682423  14/11/20  1415        > 10.0                H   \n",
       "16382      H2102217  15/03/21  2010          > 30                H   \n",
       "16383      H2102217  15/03/21  2217          > 30                H   \n",
       "\n",
       "      Lactate_Ref_Range  \n",
       "0               0.9-2.6  \n",
       "1               0.9-2.6  \n",
       "2               0.5-2.2  \n",
       "3               0.5-2.2  \n",
       "4               0.5-2.2  \n",
       "...                 ...  \n",
       "16379           0.5-2.2  \n",
       "16380           0.5-2.2  \n",
       "16381           0.5-2.2  \n",
       "16382           0.7-2.4  \n",
       "16383           0.7-2.4  \n",
       "\n",
       "[16384 rows x 6 columns]"
      ],
      "text/html": "<div>\n<style scoped>\n    .dataframe tbody tr th:only-of-type {\n        vertical-align: middle;\n    }\n\n    .dataframe tbody tr th {\n        vertical-align: top;\n    }\n\n    .dataframe thead th {\n        text-align: right;\n    }\n</style>\n<table border=\"1\" class=\"dataframe\">\n  <thead>\n    <tr style=\"text-align: right;\">\n      <th></th>\n      <th>pt_identifier</th>\n      <th>date</th>\n      <th>time</th>\n      <th>Lactate_Value</th>\n      <th>Lactate_High_Low</th>\n      <th>Lactate_Ref_Range</th>\n    </tr>\n  </thead>\n  <tbody>\n    <tr>\n      <th>0</th>\n      <td>H717061</td>\n      <td>26/02/21</td>\n      <td>0517</td>\n      <td>0.26</td>\n      <td>L</td>\n      <td>0.9-2.6</td>\n    </tr>\n    <tr>\n      <th>1</th>\n      <td>Z483469</td>\n      <td>11/02/21</td>\n      <td>0629</td>\n      <td>0.28</td>\n      <td>L</td>\n      <td>0.9-2.6</td>\n    </tr>\n    <tr>\n      <th>2</th>\n      <td>H1579921</td>\n      <td>28/10/20</td>\n      <td>0613</td>\n      <td>0.3</td>\n      <td>L</td>\n      <td>0.5-2.2</td>\n    </tr>\n    <tr>\n      <th>3</th>\n      <td>H2340349</td>\n      <td>03/02/21</td>\n      <td>0327</td>\n      <td>0.3</td>\n      <td>L</td>\n      <td>0.5-2.2</td>\n    </tr>\n    <tr>\n      <th>4</th>\n      <td>H2340349</td>\n      <td>03/02/21</td>\n      <td>0634</td>\n      <td>0.3</td>\n      <td>L</td>\n      <td>0.5-2.2</td>\n    </tr>\n    <tr>\n      <th>...</th>\n      <td>...</td>\n      <td>...</td>\n      <td>...</td>\n      <td>...</td>\n      <td>...</td>\n      <td>...</td>\n    </tr>\n    <tr>\n      <th>16379</th>\n      <td>Z1163454</td>\n      <td>27/03/21</td>\n      <td>1630</td>\n      <td>&gt; 10.0</td>\n      <td>H</td>\n      <td>0.5-2.2</td>\n    </tr>\n    <tr>\n      <th>16380</th>\n      <td>Z358846</td>\n      <td>31/01/21</td>\n      <td>1546</td>\n      <td>&gt; 10.0</td>\n      <td>H</td>\n      <td>0.5-2.2</td>\n    </tr>\n    <tr>\n      <th>16381</th>\n      <td>Z682423</td>\n      <td>14/11/20</td>\n      <td>1415</td>\n      <td>&gt; 10.0</td>\n      <td>H</td>\n      <td>0.5-2.2</td>\n    </tr>\n    <tr>\n      <th>16382</th>\n      <td>H2102217</td>\n      <td>15/03/21</td>\n      <td>2010</td>\n      <td>&gt; 30</td>\n      <td>H</td>\n      <td>0.7-2.4</td>\n    </tr>\n    <tr>\n      <th>16383</th>\n      <td>H2102217</td>\n      <td>15/03/21</td>\n      <td>2217</td>\n      <td>&gt; 30</td>\n      <td>H</td>\n      <td>0.7-2.4</td>\n    </tr>\n  </tbody>\n</table>\n<p>16384 rows × 6 columns</p>\n</div>"
     },
     "metadata": {},
     "execution_count": 17
    }
   ],
   "source": [
    "df2 = df2.rename(columns = {\"result\":\"Lactate_Value\", \"L_H_VL_VH\":\"Lactate_High_Low\", \"ref_range\": \"Lactate_Ref_Range\"})"
   ]
  },
  {
   "cell_type": "code",
   "execution_count": 11,
   "metadata": {},
   "outputs": [],
   "source": [
    "del df2[\"ref_range2\"]"
   ]
  },
  {
   "cell_type": "code",
   "execution_count": 12,
   "metadata": {},
   "outputs": [
    {
     "output_type": "execute_result",
     "data": {
      "text/plain": [
       "      pt_identifier      date  time result L_H_VL_VH ref_range\n",
       "0           H717061  26/02/21  0517   0.26         L   0.9-2.6\n",
       "1           Z483469  11/02/21  0629   0.28         L   0.9-2.6\n",
       "2          H1579921  28/10/20  0613    0.3         L   0.5-2.2\n",
       "3          H2340349  03/02/21  0327    0.3         L   0.5-2.2\n",
       "4          H2340349  03/02/21  0634    0.3         L   0.5-2.2\n",
       "...             ...       ...   ...    ...       ...       ...\n",
       "23336           NaN       NaN   NaN    NaN       NaN       NaN\n",
       "23337           NaN       NaN   NaN    NaN       NaN       NaN\n",
       "23338           NaN       NaN   NaN    NaN       NaN       NaN\n",
       "23339           NaN       NaN   NaN    NaN       NaN       NaN\n",
       "23340           NaN       NaN   NaN    NaN       NaN       NaN\n",
       "\n",
       "[23341 rows x 6 columns]"
      ],
      "text/html": "<div>\n<style scoped>\n    .dataframe tbody tr th:only-of-type {\n        vertical-align: middle;\n    }\n\n    .dataframe tbody tr th {\n        vertical-align: top;\n    }\n\n    .dataframe thead th {\n        text-align: right;\n    }\n</style>\n<table border=\"1\" class=\"dataframe\">\n  <thead>\n    <tr style=\"text-align: right;\">\n      <th></th>\n      <th>pt_identifier</th>\n      <th>date</th>\n      <th>time</th>\n      <th>result</th>\n      <th>L_H_VL_VH</th>\n      <th>ref_range</th>\n    </tr>\n  </thead>\n  <tbody>\n    <tr>\n      <th>0</th>\n      <td>H717061</td>\n      <td>26/02/21</td>\n      <td>0517</td>\n      <td>0.26</td>\n      <td>L</td>\n      <td>0.9-2.6</td>\n    </tr>\n    <tr>\n      <th>1</th>\n      <td>Z483469</td>\n      <td>11/02/21</td>\n      <td>0629</td>\n      <td>0.28</td>\n      <td>L</td>\n      <td>0.9-2.6</td>\n    </tr>\n    <tr>\n      <th>2</th>\n      <td>H1579921</td>\n      <td>28/10/20</td>\n      <td>0613</td>\n      <td>0.3</td>\n      <td>L</td>\n      <td>0.5-2.2</td>\n    </tr>\n    <tr>\n      <th>3</th>\n      <td>H2340349</td>\n      <td>03/02/21</td>\n      <td>0327</td>\n      <td>0.3</td>\n      <td>L</td>\n      <td>0.5-2.2</td>\n    </tr>\n    <tr>\n      <th>4</th>\n      <td>H2340349</td>\n      <td>03/02/21</td>\n      <td>0634</td>\n      <td>0.3</td>\n      <td>L</td>\n      <td>0.5-2.2</td>\n    </tr>\n    <tr>\n      <th>...</th>\n      <td>...</td>\n      <td>...</td>\n      <td>...</td>\n      <td>...</td>\n      <td>...</td>\n      <td>...</td>\n    </tr>\n    <tr>\n      <th>23336</th>\n      <td>NaN</td>\n      <td>NaN</td>\n      <td>NaN</td>\n      <td>NaN</td>\n      <td>NaN</td>\n      <td>NaN</td>\n    </tr>\n    <tr>\n      <th>23337</th>\n      <td>NaN</td>\n      <td>NaN</td>\n      <td>NaN</td>\n      <td>NaN</td>\n      <td>NaN</td>\n      <td>NaN</td>\n    </tr>\n    <tr>\n      <th>23338</th>\n      <td>NaN</td>\n      <td>NaN</td>\n      <td>NaN</td>\n      <td>NaN</td>\n      <td>NaN</td>\n      <td>NaN</td>\n    </tr>\n    <tr>\n      <th>23339</th>\n      <td>NaN</td>\n      <td>NaN</td>\n      <td>NaN</td>\n      <td>NaN</td>\n      <td>NaN</td>\n      <td>NaN</td>\n    </tr>\n    <tr>\n      <th>23340</th>\n      <td>NaN</td>\n      <td>NaN</td>\n      <td>NaN</td>\n      <td>NaN</td>\n      <td>NaN</td>\n      <td>NaN</td>\n    </tr>\n  </tbody>\n</table>\n<p>23341 rows × 6 columns</p>\n</div>"
     },
     "metadata": {},
     "execution_count": 12
    }
   ],
   "source": [
    "df2"
   ]
  },
  {
   "cell_type": "code",
   "execution_count": 15,
   "metadata": {},
   "outputs": [],
   "source": [
    "df2 = df2.drop(df2.index[16384:])"
   ]
  },
  {
   "cell_type": "code",
   "execution_count": 20,
   "metadata": {},
   "outputs": [],
   "source": [
    "df2 = df2.rename(columns = {\"result\":\"Lactate_Value\", \"L_H_VL_VH\":\"Lactate_High_Low\", \"ref_range\": \"Lactate_Ref_Range\"})"
   ]
  },
  {
   "cell_type": "code",
   "execution_count": 23,
   "metadata": {},
   "outputs": [
    {
     "output_type": "execute_result",
     "data": {
      "text/plain": [
       "      pt_identifier      Date  Time Lactate_Value Lactate_High_Low  \\\n",
       "0           H717061  26/02/21  0517          0.26                L   \n",
       "1           Z483469  11/02/21  0629          0.28                L   \n",
       "2          H1579921  28/10/20  0613           0.3                L   \n",
       "3          H2340349  03/02/21  0327           0.3                L   \n",
       "4          H2340349  03/02/21  0634           0.3                L   \n",
       "...             ...       ...   ...           ...              ...   \n",
       "16379      Z1163454  27/03/21  1630        > 10.0                H   \n",
       "16380       Z358846  31/01/21  1546        > 10.0                H   \n",
       "16381       Z682423  14/11/20  1415        > 10.0                H   \n",
       "16382      H2102217  15/03/21  2010          > 30                H   \n",
       "16383      H2102217  15/03/21  2217          > 30                H   \n",
       "\n",
       "      Lactate_Ref_Range  \n",
       "0               0.9-2.6  \n",
       "1               0.9-2.6  \n",
       "2               0.5-2.2  \n",
       "3               0.5-2.2  \n",
       "4               0.5-2.2  \n",
       "...                 ...  \n",
       "16379           0.5-2.2  \n",
       "16380           0.5-2.2  \n",
       "16381           0.5-2.2  \n",
       "16382           0.7-2.4  \n",
       "16383           0.7-2.4  \n",
       "\n",
       "[16384 rows x 6 columns]"
      ],
      "text/html": "<div>\n<style scoped>\n    .dataframe tbody tr th:only-of-type {\n        vertical-align: middle;\n    }\n\n    .dataframe tbody tr th {\n        vertical-align: top;\n    }\n\n    .dataframe thead th {\n        text-align: right;\n    }\n</style>\n<table border=\"1\" class=\"dataframe\">\n  <thead>\n    <tr style=\"text-align: right;\">\n      <th></th>\n      <th>pt_identifier</th>\n      <th>Date</th>\n      <th>Time</th>\n      <th>Lactate_Value</th>\n      <th>Lactate_High_Low</th>\n      <th>Lactate_Ref_Range</th>\n    </tr>\n  </thead>\n  <tbody>\n    <tr>\n      <th>0</th>\n      <td>H717061</td>\n      <td>26/02/21</td>\n      <td>0517</td>\n      <td>0.26</td>\n      <td>L</td>\n      <td>0.9-2.6</td>\n    </tr>\n    <tr>\n      <th>1</th>\n      <td>Z483469</td>\n      <td>11/02/21</td>\n      <td>0629</td>\n      <td>0.28</td>\n      <td>L</td>\n      <td>0.9-2.6</td>\n    </tr>\n    <tr>\n      <th>2</th>\n      <td>H1579921</td>\n      <td>28/10/20</td>\n      <td>0613</td>\n      <td>0.3</td>\n      <td>L</td>\n      <td>0.5-2.2</td>\n    </tr>\n    <tr>\n      <th>3</th>\n      <td>H2340349</td>\n      <td>03/02/21</td>\n      <td>0327</td>\n      <td>0.3</td>\n      <td>L</td>\n      <td>0.5-2.2</td>\n    </tr>\n    <tr>\n      <th>4</th>\n      <td>H2340349</td>\n      <td>03/02/21</td>\n      <td>0634</td>\n      <td>0.3</td>\n      <td>L</td>\n      <td>0.5-2.2</td>\n    </tr>\n    <tr>\n      <th>...</th>\n      <td>...</td>\n      <td>...</td>\n      <td>...</td>\n      <td>...</td>\n      <td>...</td>\n      <td>...</td>\n    </tr>\n    <tr>\n      <th>16379</th>\n      <td>Z1163454</td>\n      <td>27/03/21</td>\n      <td>1630</td>\n      <td>&gt; 10.0</td>\n      <td>H</td>\n      <td>0.5-2.2</td>\n    </tr>\n    <tr>\n      <th>16380</th>\n      <td>Z358846</td>\n      <td>31/01/21</td>\n      <td>1546</td>\n      <td>&gt; 10.0</td>\n      <td>H</td>\n      <td>0.5-2.2</td>\n    </tr>\n    <tr>\n      <th>16381</th>\n      <td>Z682423</td>\n      <td>14/11/20</td>\n      <td>1415</td>\n      <td>&gt; 10.0</td>\n      <td>H</td>\n      <td>0.5-2.2</td>\n    </tr>\n    <tr>\n      <th>16382</th>\n      <td>H2102217</td>\n      <td>15/03/21</td>\n      <td>2010</td>\n      <td>&gt; 30</td>\n      <td>H</td>\n      <td>0.7-2.4</td>\n    </tr>\n    <tr>\n      <th>16383</th>\n      <td>H2102217</td>\n      <td>15/03/21</td>\n      <td>2217</td>\n      <td>&gt; 30</td>\n      <td>H</td>\n      <td>0.7-2.4</td>\n    </tr>\n  </tbody>\n</table>\n<p>16384 rows × 6 columns</p>\n</div>"
     },
     "metadata": {},
     "execution_count": 23
    }
   ],
   "source": [
    "df2"
   ]
  },
  {
   "cell_type": "code",
   "execution_count": 24,
   "metadata": {},
   "outputs": [],
   "source": [
    "df1[\"Lactate_Value\"] = np.nan\n",
    "df1[\"Lactate_High_Low\"] = np.nan\n",
    "df1[\"Lactate_Ref_Range\"] = np.nan\n"
   ]
  },
  {
   "cell_type": "code",
   "execution_count": 28,
   "metadata": {},
   "outputs": [],
   "source": [
    "df1_df2 = df1.append(df2, sort=False, ignore_index=True)"
   ]
  },
  {
   "cell_type": "code",
   "execution_count": 29,
   "metadata": {},
   "outputs": [
    {
     "output_type": "execute_result",
     "data": {
      "text/plain": [
       "        Unnamed: 0 pt_identifier      Date    Time    BP1   BP2  Pulse  Temp  \\\n",
       "0              0.0      H1000412  31/12/20  2359.0  116.0  84.0   88.0  36.9   \n",
       "1              1.0      H1000412  01/01/21   351.0  126.0  64.0   69.0  37.0   \n",
       "2              2.0      H1002797  08/12/20  1725.0  147.0  91.0   63.0   NaN   \n",
       "3              3.0      H1002797  11/01/21  1635.0  140.0  82.0   57.0  36.8   \n",
       "4              4.0      H1002797  11/01/21  1851.0  137.0  81.0   58.0  36.8   \n",
       "...            ...           ...       ...     ...    ...   ...    ...   ...   \n",
       "279034         NaN      Z1163454  27/03/21    1630    NaN   NaN    NaN   NaN   \n",
       "279035         NaN       Z358846  31/01/21    1546    NaN   NaN    NaN   NaN   \n",
       "279036         NaN       Z682423  14/11/20    1415    NaN   NaN    NaN   NaN   \n",
       "279037         NaN      H2102217  15/03/21    2010    NaN   NaN    NaN   NaN   \n",
       "279038         NaN      H2102217  15/03/21    2217    NaN   NaN    NaN   NaN   \n",
       "\n",
       "          RR  O2Sat  ... Age_Number Gender Weight  Diag_Code Diag_desc  \\\n",
       "0       17.0   97.0  ...       81.0      F    NaN        NaN       NaN   \n",
       "1       10.0   94.0  ...       81.0      F    NaN        NaN       NaN   \n",
       "2       18.0   97.0  ...       66.0      F    NaN        NaN       NaN   \n",
       "3       18.0   98.0  ...       66.0      F    NaN        NaN       NaN   \n",
       "4       17.0   97.0  ...       66.0      F    NaN        NaN       NaN   \n",
       "...      ...    ...  ...        ...    ...    ...        ...       ...   \n",
       "279034   NaN    NaN  ...        NaN    NaN    NaN        NaN       NaN   \n",
       "279035   NaN    NaN  ...        NaN    NaN    NaN        NaN       NaN   \n",
       "279036   NaN    NaN  ...        NaN    NaN    NaN        NaN       NaN   \n",
       "279037   NaN    NaN  ...        NaN    NaN    NaN        NaN       NaN   \n",
       "279038   NaN    NaN  ...        NaN    NaN    NaN        NaN       NaN   \n",
       "\n",
       "        Diag_prefix Diag_type Lactate_Value Lactate_High_Low Lactate_Ref_Range  \n",
       "0               NaN       NaN           NaN              NaN               NaN  \n",
       "1               NaN       NaN           NaN              NaN               NaN  \n",
       "2               NaN       NaN           NaN              NaN               NaN  \n",
       "3               NaN       NaN           NaN              NaN               NaN  \n",
       "4               NaN       NaN           NaN              NaN               NaN  \n",
       "...             ...       ...           ...              ...               ...  \n",
       "279034          NaN       NaN        > 10.0                H           0.5-2.2  \n",
       "279035          NaN       NaN        > 10.0                H           0.5-2.2  \n",
       "279036          NaN       NaN        > 10.0                H           0.5-2.2  \n",
       "279037          NaN       NaN          > 30                H           0.7-2.4  \n",
       "279038          NaN       NaN          > 30                H           0.7-2.4  \n",
       "\n",
       "[279039 rows x 23 columns]"
      ],
      "text/html": "<div>\n<style scoped>\n    .dataframe tbody tr th:only-of-type {\n        vertical-align: middle;\n    }\n\n    .dataframe tbody tr th {\n        vertical-align: top;\n    }\n\n    .dataframe thead th {\n        text-align: right;\n    }\n</style>\n<table border=\"1\" class=\"dataframe\">\n  <thead>\n    <tr style=\"text-align: right;\">\n      <th></th>\n      <th>Unnamed: 0</th>\n      <th>pt_identifier</th>\n      <th>Date</th>\n      <th>Time</th>\n      <th>BP1</th>\n      <th>BP2</th>\n      <th>Pulse</th>\n      <th>Temp</th>\n      <th>RR</th>\n      <th>O2Sat</th>\n      <th>...</th>\n      <th>Age_Number</th>\n      <th>Gender</th>\n      <th>Weight</th>\n      <th>Diag_Code</th>\n      <th>Diag_desc</th>\n      <th>Diag_prefix</th>\n      <th>Diag_type</th>\n      <th>Lactate_Value</th>\n      <th>Lactate_High_Low</th>\n      <th>Lactate_Ref_Range</th>\n    </tr>\n  </thead>\n  <tbody>\n    <tr>\n      <th>0</th>\n      <td>0.0</td>\n      <td>H1000412</td>\n      <td>31/12/20</td>\n      <td>2359.0</td>\n      <td>116.0</td>\n      <td>84.0</td>\n      <td>88.0</td>\n      <td>36.9</td>\n      <td>17.0</td>\n      <td>97.0</td>\n      <td>...</td>\n      <td>81.0</td>\n      <td>F</td>\n      <td>NaN</td>\n      <td>NaN</td>\n      <td>NaN</td>\n      <td>NaN</td>\n      <td>NaN</td>\n      <td>NaN</td>\n      <td>NaN</td>\n      <td>NaN</td>\n    </tr>\n    <tr>\n      <th>1</th>\n      <td>1.0</td>\n      <td>H1000412</td>\n      <td>01/01/21</td>\n      <td>351.0</td>\n      <td>126.0</td>\n      <td>64.0</td>\n      <td>69.0</td>\n      <td>37.0</td>\n      <td>10.0</td>\n      <td>94.0</td>\n      <td>...</td>\n      <td>81.0</td>\n      <td>F</td>\n      <td>NaN</td>\n      <td>NaN</td>\n      <td>NaN</td>\n      <td>NaN</td>\n      <td>NaN</td>\n      <td>NaN</td>\n      <td>NaN</td>\n      <td>NaN</td>\n    </tr>\n    <tr>\n      <th>2</th>\n      <td>2.0</td>\n      <td>H1002797</td>\n      <td>08/12/20</td>\n      <td>1725.0</td>\n      <td>147.0</td>\n      <td>91.0</td>\n      <td>63.0</td>\n      <td>NaN</td>\n      <td>18.0</td>\n      <td>97.0</td>\n      <td>...</td>\n      <td>66.0</td>\n      <td>F</td>\n      <td>NaN</td>\n      <td>NaN</td>\n      <td>NaN</td>\n      <td>NaN</td>\n      <td>NaN</td>\n      <td>NaN</td>\n      <td>NaN</td>\n      <td>NaN</td>\n    </tr>\n    <tr>\n      <th>3</th>\n      <td>3.0</td>\n      <td>H1002797</td>\n      <td>11/01/21</td>\n      <td>1635.0</td>\n      <td>140.0</td>\n      <td>82.0</td>\n      <td>57.0</td>\n      <td>36.8</td>\n      <td>18.0</td>\n      <td>98.0</td>\n      <td>...</td>\n      <td>66.0</td>\n      <td>F</td>\n      <td>NaN</td>\n      <td>NaN</td>\n      <td>NaN</td>\n      <td>NaN</td>\n      <td>NaN</td>\n      <td>NaN</td>\n      <td>NaN</td>\n      <td>NaN</td>\n    </tr>\n    <tr>\n      <th>4</th>\n      <td>4.0</td>\n      <td>H1002797</td>\n      <td>11/01/21</td>\n      <td>1851.0</td>\n      <td>137.0</td>\n      <td>81.0</td>\n      <td>58.0</td>\n      <td>36.8</td>\n      <td>17.0</td>\n      <td>97.0</td>\n      <td>...</td>\n      <td>66.0</td>\n      <td>F</td>\n      <td>NaN</td>\n      <td>NaN</td>\n      <td>NaN</td>\n      <td>NaN</td>\n      <td>NaN</td>\n      <td>NaN</td>\n      <td>NaN</td>\n      <td>NaN</td>\n    </tr>\n    <tr>\n      <th>...</th>\n      <td>...</td>\n      <td>...</td>\n      <td>...</td>\n      <td>...</td>\n      <td>...</td>\n      <td>...</td>\n      <td>...</td>\n      <td>...</td>\n      <td>...</td>\n      <td>...</td>\n      <td>...</td>\n      <td>...</td>\n      <td>...</td>\n      <td>...</td>\n      <td>...</td>\n      <td>...</td>\n      <td>...</td>\n      <td>...</td>\n      <td>...</td>\n      <td>...</td>\n      <td>...</td>\n    </tr>\n    <tr>\n      <th>279034</th>\n      <td>NaN</td>\n      <td>Z1163454</td>\n      <td>27/03/21</td>\n      <td>1630</td>\n      <td>NaN</td>\n      <td>NaN</td>\n      <td>NaN</td>\n      <td>NaN</td>\n      <td>NaN</td>\n      <td>NaN</td>\n      <td>...</td>\n      <td>NaN</td>\n      <td>NaN</td>\n      <td>NaN</td>\n      <td>NaN</td>\n      <td>NaN</td>\n      <td>NaN</td>\n      <td>NaN</td>\n      <td>&gt; 10.0</td>\n      <td>H</td>\n      <td>0.5-2.2</td>\n    </tr>\n    <tr>\n      <th>279035</th>\n      <td>NaN</td>\n      <td>Z358846</td>\n      <td>31/01/21</td>\n      <td>1546</td>\n      <td>NaN</td>\n      <td>NaN</td>\n      <td>NaN</td>\n      <td>NaN</td>\n      <td>NaN</td>\n      <td>NaN</td>\n      <td>...</td>\n      <td>NaN</td>\n      <td>NaN</td>\n      <td>NaN</td>\n      <td>NaN</td>\n      <td>NaN</td>\n      <td>NaN</td>\n      <td>NaN</td>\n      <td>&gt; 10.0</td>\n      <td>H</td>\n      <td>0.5-2.2</td>\n    </tr>\n    <tr>\n      <th>279036</th>\n      <td>NaN</td>\n      <td>Z682423</td>\n      <td>14/11/20</td>\n      <td>1415</td>\n      <td>NaN</td>\n      <td>NaN</td>\n      <td>NaN</td>\n      <td>NaN</td>\n      <td>NaN</td>\n      <td>NaN</td>\n      <td>...</td>\n      <td>NaN</td>\n      <td>NaN</td>\n      <td>NaN</td>\n      <td>NaN</td>\n      <td>NaN</td>\n      <td>NaN</td>\n      <td>NaN</td>\n      <td>&gt; 10.0</td>\n      <td>H</td>\n      <td>0.5-2.2</td>\n    </tr>\n    <tr>\n      <th>279037</th>\n      <td>NaN</td>\n      <td>H2102217</td>\n      <td>15/03/21</td>\n      <td>2010</td>\n      <td>NaN</td>\n      <td>NaN</td>\n      <td>NaN</td>\n      <td>NaN</td>\n      <td>NaN</td>\n      <td>NaN</td>\n      <td>...</td>\n      <td>NaN</td>\n      <td>NaN</td>\n      <td>NaN</td>\n      <td>NaN</td>\n      <td>NaN</td>\n      <td>NaN</td>\n      <td>NaN</td>\n      <td>&gt; 30</td>\n      <td>H</td>\n      <td>0.7-2.4</td>\n    </tr>\n    <tr>\n      <th>279038</th>\n      <td>NaN</td>\n      <td>H2102217</td>\n      <td>15/03/21</td>\n      <td>2217</td>\n      <td>NaN</td>\n      <td>NaN</td>\n      <td>NaN</td>\n      <td>NaN</td>\n      <td>NaN</td>\n      <td>NaN</td>\n      <td>...</td>\n      <td>NaN</td>\n      <td>NaN</td>\n      <td>NaN</td>\n      <td>NaN</td>\n      <td>NaN</td>\n      <td>NaN</td>\n      <td>NaN</td>\n      <td>&gt; 30</td>\n      <td>H</td>\n      <td>0.7-2.4</td>\n    </tr>\n  </tbody>\n</table>\n<p>279039 rows × 23 columns</p>\n</div>"
     },
     "metadata": {},
     "execution_count": 29
    }
   ],
   "source": [
    "df1_df2"
   ]
  },
  {
   "cell_type": "code",
   "execution_count": 33,
   "metadata": {},
   "outputs": [],
   "source": [
    "del df1_df2[\"Unnamed: 0\"]"
   ]
  },
  {
   "cell_type": "code",
   "execution_count": 34,
   "metadata": {},
   "outputs": [
    {
     "output_type": "execute_result",
     "data": {
      "text/plain": [
       "       pt_identifier      Date    Time    BP1   BP2  Pulse  Temp    RR  O2Sat  \\\n",
       "0           H1000412  31/12/20  2359.0  116.0  84.0   88.0  36.9  17.0   97.0   \n",
       "1           H1000412  01/01/21   351.0  126.0  64.0   69.0  37.0  10.0   94.0   \n",
       "2           H1002797  08/12/20  1725.0  147.0  91.0   63.0   NaN  18.0   97.0   \n",
       "3           H1002797  11/01/21  1635.0  140.0  82.0   57.0  36.8  18.0   98.0   \n",
       "4           H1002797  11/01/21  1851.0  137.0  81.0   58.0  36.8  17.0   97.0   \n",
       "...              ...       ...     ...    ...   ...    ...   ...   ...    ...   \n",
       "279034      Z1163454  27/03/21    1630    NaN   NaN    NaN   NaN   NaN    NaN   \n",
       "279035       Z358846  31/01/21    1546    NaN   NaN    NaN   NaN   NaN    NaN   \n",
       "279036       Z682423  14/11/20    1415    NaN   NaN    NaN   NaN   NaN    NaN   \n",
       "279037      H2102217  15/03/21    2010    NaN   NaN    NaN   NaN   NaN    NaN   \n",
       "279038      H2102217  15/03/21    2217    NaN   NaN    NaN   NaN   NaN    NaN   \n",
       "\n",
       "             Admission_Date  ... Age_Number Gender  Weight Diag_Code  \\\n",
       "0       2020-12-31 00:00:00  ...       81.0      F     NaN       NaN   \n",
       "1       2020-12-31 00:00:00  ...       81.0      F     NaN       NaN   \n",
       "2       2020-11-18 00:00:00  ...       66.0      F     NaN       NaN   \n",
       "3       2020-11-18 00:00:00  ...       66.0      F     NaN       NaN   \n",
       "4       2020-11-18 00:00:00  ...       66.0      F     NaN       NaN   \n",
       "...                     ...  ...        ...    ...     ...       ...   \n",
       "279034                  NaN  ...        NaN    NaN     NaN       NaN   \n",
       "279035                  NaN  ...        NaN    NaN     NaN       NaN   \n",
       "279036                  NaN  ...        NaN    NaN     NaN       NaN   \n",
       "279037                  NaN  ...        NaN    NaN     NaN       NaN   \n",
       "279038                  NaN  ...        NaN    NaN     NaN       NaN   \n",
       "\n",
       "        Diag_desc Diag_prefix Diag_type Lactate_Value Lactate_High_Low  \\\n",
       "0             NaN         NaN       NaN           NaN              NaN   \n",
       "1             NaN         NaN       NaN           NaN              NaN   \n",
       "2             NaN         NaN       NaN           NaN              NaN   \n",
       "3             NaN         NaN       NaN           NaN              NaN   \n",
       "4             NaN         NaN       NaN           NaN              NaN   \n",
       "...           ...         ...       ...           ...              ...   \n",
       "279034        NaN         NaN       NaN        > 10.0                H   \n",
       "279035        NaN         NaN       NaN        > 10.0                H   \n",
       "279036        NaN         NaN       NaN        > 10.0                H   \n",
       "279037        NaN         NaN       NaN          > 30                H   \n",
       "279038        NaN         NaN       NaN          > 30                H   \n",
       "\n",
       "       Lactate_Ref_Range  \n",
       "0                    NaN  \n",
       "1                    NaN  \n",
       "2                    NaN  \n",
       "3                    NaN  \n",
       "4                    NaN  \n",
       "...                  ...  \n",
       "279034           0.5-2.2  \n",
       "279035           0.5-2.2  \n",
       "279036           0.5-2.2  \n",
       "279037           0.7-2.4  \n",
       "279038           0.7-2.4  \n",
       "\n",
       "[279039 rows x 22 columns]"
      ],
      "text/html": "<div>\n<style scoped>\n    .dataframe tbody tr th:only-of-type {\n        vertical-align: middle;\n    }\n\n    .dataframe tbody tr th {\n        vertical-align: top;\n    }\n\n    .dataframe thead th {\n        text-align: right;\n    }\n</style>\n<table border=\"1\" class=\"dataframe\">\n  <thead>\n    <tr style=\"text-align: right;\">\n      <th></th>\n      <th>pt_identifier</th>\n      <th>Date</th>\n      <th>Time</th>\n      <th>BP1</th>\n      <th>BP2</th>\n      <th>Pulse</th>\n      <th>Temp</th>\n      <th>RR</th>\n      <th>O2Sat</th>\n      <th>Admission_Date</th>\n      <th>...</th>\n      <th>Age_Number</th>\n      <th>Gender</th>\n      <th>Weight</th>\n      <th>Diag_Code</th>\n      <th>Diag_desc</th>\n      <th>Diag_prefix</th>\n      <th>Diag_type</th>\n      <th>Lactate_Value</th>\n      <th>Lactate_High_Low</th>\n      <th>Lactate_Ref_Range</th>\n    </tr>\n  </thead>\n  <tbody>\n    <tr>\n      <th>0</th>\n      <td>H1000412</td>\n      <td>31/12/20</td>\n      <td>2359.0</td>\n      <td>116.0</td>\n      <td>84.0</td>\n      <td>88.0</td>\n      <td>36.9</td>\n      <td>17.0</td>\n      <td>97.0</td>\n      <td>2020-12-31 00:00:00</td>\n      <td>...</td>\n      <td>81.0</td>\n      <td>F</td>\n      <td>NaN</td>\n      <td>NaN</td>\n      <td>NaN</td>\n      <td>NaN</td>\n      <td>NaN</td>\n      <td>NaN</td>\n      <td>NaN</td>\n      <td>NaN</td>\n    </tr>\n    <tr>\n      <th>1</th>\n      <td>H1000412</td>\n      <td>01/01/21</td>\n      <td>351.0</td>\n      <td>126.0</td>\n      <td>64.0</td>\n      <td>69.0</td>\n      <td>37.0</td>\n      <td>10.0</td>\n      <td>94.0</td>\n      <td>2020-12-31 00:00:00</td>\n      <td>...</td>\n      <td>81.0</td>\n      <td>F</td>\n      <td>NaN</td>\n      <td>NaN</td>\n      <td>NaN</td>\n      <td>NaN</td>\n      <td>NaN</td>\n      <td>NaN</td>\n      <td>NaN</td>\n      <td>NaN</td>\n    </tr>\n    <tr>\n      <th>2</th>\n      <td>H1002797</td>\n      <td>08/12/20</td>\n      <td>1725.0</td>\n      <td>147.0</td>\n      <td>91.0</td>\n      <td>63.0</td>\n      <td>NaN</td>\n      <td>18.0</td>\n      <td>97.0</td>\n      <td>2020-11-18 00:00:00</td>\n      <td>...</td>\n      <td>66.0</td>\n      <td>F</td>\n      <td>NaN</td>\n      <td>NaN</td>\n      <td>NaN</td>\n      <td>NaN</td>\n      <td>NaN</td>\n      <td>NaN</td>\n      <td>NaN</td>\n      <td>NaN</td>\n    </tr>\n    <tr>\n      <th>3</th>\n      <td>H1002797</td>\n      <td>11/01/21</td>\n      <td>1635.0</td>\n      <td>140.0</td>\n      <td>82.0</td>\n      <td>57.0</td>\n      <td>36.8</td>\n      <td>18.0</td>\n      <td>98.0</td>\n      <td>2020-11-18 00:00:00</td>\n      <td>...</td>\n      <td>66.0</td>\n      <td>F</td>\n      <td>NaN</td>\n      <td>NaN</td>\n      <td>NaN</td>\n      <td>NaN</td>\n      <td>NaN</td>\n      <td>NaN</td>\n      <td>NaN</td>\n      <td>NaN</td>\n    </tr>\n    <tr>\n      <th>4</th>\n      <td>H1002797</td>\n      <td>11/01/21</td>\n      <td>1851.0</td>\n      <td>137.0</td>\n      <td>81.0</td>\n      <td>58.0</td>\n      <td>36.8</td>\n      <td>17.0</td>\n      <td>97.0</td>\n      <td>2020-11-18 00:00:00</td>\n      <td>...</td>\n      <td>66.0</td>\n      <td>F</td>\n      <td>NaN</td>\n      <td>NaN</td>\n      <td>NaN</td>\n      <td>NaN</td>\n      <td>NaN</td>\n      <td>NaN</td>\n      <td>NaN</td>\n      <td>NaN</td>\n    </tr>\n    <tr>\n      <th>...</th>\n      <td>...</td>\n      <td>...</td>\n      <td>...</td>\n      <td>...</td>\n      <td>...</td>\n      <td>...</td>\n      <td>...</td>\n      <td>...</td>\n      <td>...</td>\n      <td>...</td>\n      <td>...</td>\n      <td>...</td>\n      <td>...</td>\n      <td>...</td>\n      <td>...</td>\n      <td>...</td>\n      <td>...</td>\n      <td>...</td>\n      <td>...</td>\n      <td>...</td>\n      <td>...</td>\n    </tr>\n    <tr>\n      <th>279034</th>\n      <td>Z1163454</td>\n      <td>27/03/21</td>\n      <td>1630</td>\n      <td>NaN</td>\n      <td>NaN</td>\n      <td>NaN</td>\n      <td>NaN</td>\n      <td>NaN</td>\n      <td>NaN</td>\n      <td>NaN</td>\n      <td>...</td>\n      <td>NaN</td>\n      <td>NaN</td>\n      <td>NaN</td>\n      <td>NaN</td>\n      <td>NaN</td>\n      <td>NaN</td>\n      <td>NaN</td>\n      <td>&gt; 10.0</td>\n      <td>H</td>\n      <td>0.5-2.2</td>\n    </tr>\n    <tr>\n      <th>279035</th>\n      <td>Z358846</td>\n      <td>31/01/21</td>\n      <td>1546</td>\n      <td>NaN</td>\n      <td>NaN</td>\n      <td>NaN</td>\n      <td>NaN</td>\n      <td>NaN</td>\n      <td>NaN</td>\n      <td>NaN</td>\n      <td>...</td>\n      <td>NaN</td>\n      <td>NaN</td>\n      <td>NaN</td>\n      <td>NaN</td>\n      <td>NaN</td>\n      <td>NaN</td>\n      <td>NaN</td>\n      <td>&gt; 10.0</td>\n      <td>H</td>\n      <td>0.5-2.2</td>\n    </tr>\n    <tr>\n      <th>279036</th>\n      <td>Z682423</td>\n      <td>14/11/20</td>\n      <td>1415</td>\n      <td>NaN</td>\n      <td>NaN</td>\n      <td>NaN</td>\n      <td>NaN</td>\n      <td>NaN</td>\n      <td>NaN</td>\n      <td>NaN</td>\n      <td>...</td>\n      <td>NaN</td>\n      <td>NaN</td>\n      <td>NaN</td>\n      <td>NaN</td>\n      <td>NaN</td>\n      <td>NaN</td>\n      <td>NaN</td>\n      <td>&gt; 10.0</td>\n      <td>H</td>\n      <td>0.5-2.2</td>\n    </tr>\n    <tr>\n      <th>279037</th>\n      <td>H2102217</td>\n      <td>15/03/21</td>\n      <td>2010</td>\n      <td>NaN</td>\n      <td>NaN</td>\n      <td>NaN</td>\n      <td>NaN</td>\n      <td>NaN</td>\n      <td>NaN</td>\n      <td>NaN</td>\n      <td>...</td>\n      <td>NaN</td>\n      <td>NaN</td>\n      <td>NaN</td>\n      <td>NaN</td>\n      <td>NaN</td>\n      <td>NaN</td>\n      <td>NaN</td>\n      <td>&gt; 30</td>\n      <td>H</td>\n      <td>0.7-2.4</td>\n    </tr>\n    <tr>\n      <th>279038</th>\n      <td>H2102217</td>\n      <td>15/03/21</td>\n      <td>2217</td>\n      <td>NaN</td>\n      <td>NaN</td>\n      <td>NaN</td>\n      <td>NaN</td>\n      <td>NaN</td>\n      <td>NaN</td>\n      <td>NaN</td>\n      <td>...</td>\n      <td>NaN</td>\n      <td>NaN</td>\n      <td>NaN</td>\n      <td>NaN</td>\n      <td>NaN</td>\n      <td>NaN</td>\n      <td>NaN</td>\n      <td>&gt; 30</td>\n      <td>H</td>\n      <td>0.7-2.4</td>\n    </tr>\n  </tbody>\n</table>\n<p>279039 rows × 22 columns</p>\n</div>"
     },
     "metadata": {},
     "execution_count": 34
    }
   ],
   "source": [
    "df1_df2"
   ]
  },
  {
   "cell_type": "code",
   "execution_count": 56,
   "id": "ca9473b9",
   "metadata": {},
   "outputs": [],
   "source": [
    "df1_df2.to_csv('vitals_info_lactate.csv')\n"
   ]
  }
 ],
 "metadata": {
  "kernelspec": {
   "name": "python3",
   "display_name": "Python 3.8.6 64-bit"
  },
  "language_info": {
   "codemirror_mode": {
    "name": "ipython",
    "version": 3
   },
   "file_extension": ".py",
   "mimetype": "text/x-python",
   "name": "python",
   "nbconvert_exporter": "python",
   "pygments_lexer": "ipython3",
   "version": "3.8.6"
  },
  "metadata": {
   "interpreter": {
    "hash": "1cc4686def4f4686e288101491fcc64d903ee1a0c766a7a4df710ffbf4241b15"
   }
  },
  "interpreter": {
   "hash": "1cc4686def4f4686e288101491fcc64d903ee1a0c766a7a4df710ffbf4241b15"
  }
 },
 "nbformat": 4,
 "nbformat_minor": 5
}