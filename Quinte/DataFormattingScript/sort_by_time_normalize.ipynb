{
 "cells": [
  {
   "cell_type": "code",
   "execution_count": 1,
   "id": "70b70211",
   "metadata": {},
   "outputs": [],
   "source": [
    "import pandas as pd\n",
    "import numpy as np\n",
    "import math"
   ]
  },
  {
   "cell_type": "code",
   "execution_count": 2,
   "id": "ff4d2161",
   "metadata": {},
   "outputs": [
    {
     "output_type": "stream",
     "name": "stderr",
     "text": [
      "C:\\Users\\Adam Lam\\AppData\\Roaming\\Python\\Python38\\site-packages\\IPython\\core\\interactiveshell.py:3169: DtypeWarning: Columns (18,20,23) have mixed types.Specify dtype option on import or set low_memory=False.\n  has_raised = await self.run_ast_nodes(code_ast.body, cell_name,\n"
     ]
    }
   ],
   "source": [
    "df1 = pd.read_csv(\n",
    "     '../FormattedData/vitals_info_lactate_WBC_sorted_pt.csv',\n",
    ")"
   ]
  },
  {
   "cell_type": "code",
   "execution_count": 3,
   "id": "f3c100a9",
   "metadata": {},
   "outputs": [
    {
     "output_type": "execute_result",
     "data": {
      "text/plain": [
       "        Unnamed: 0 pt_identifier      Date    Time    BP1   BP2  Pulse  Temp  \\\n",
       "0                0      H1000412  31/12/20  2359.0  116.0  84.0   88.0  36.9   \n",
       "1                1      H1000412  31/12/20  2238.0  138.0  76.0   98.0  36.8   \n",
       "2                2      H1000412  01/01/21    0637    NaN   NaN    NaN   NaN   \n",
       "3                3      H1000412  31/12/20    1531    NaN   NaN    NaN   NaN   \n",
       "4                4      H1000412  31/12/20    2255    NaN   NaN    NaN   NaN   \n",
       "...            ...           ...       ...     ...    ...   ...    ...   ...   \n",
       "312830      312831       Z991743  04/02/21  2000.0  152.0  65.0   63.0  36.6   \n",
       "312831      312832       Z991743  02/02/21  2000.0  152.0  77.0   67.0  36.6   \n",
       "312832      312833       Z991743  01/02/21    1850    NaN   NaN    NaN   NaN   \n",
       "312833      312834       Z991743  03/02/21    0729    NaN   NaN    NaN   NaN   \n",
       "312834      312835       Z992617  13/03/21    0800    NaN   NaN    NaN   NaN   \n",
       "\n",
       "          RR  O2Sat  ... Diag_Code Diag_desc Diag_prefix  Diag_type  \\\n",
       "0       17.0   97.0  ...       NaN       NaN         NaN        NaN   \n",
       "1       16.0   98.0  ...       NaN       NaN         NaN        NaN   \n",
       "2        NaN    NaN  ...       NaN       NaN         NaN        NaN   \n",
       "3        NaN    NaN  ...       NaN       NaN         NaN        NaN   \n",
       "4        NaN    NaN  ...       NaN       NaN         NaN        NaN   \n",
       "...      ...    ...  ...       ...       ...         ...        ...   \n",
       "312830  18.0   94.0  ...       NaN       NaN         NaN        NaN   \n",
       "312831  16.0   93.0  ...       NaN       NaN         NaN        NaN   \n",
       "312832   NaN    NaN  ...       NaN       NaN         NaN        NaN   \n",
       "312833   NaN    NaN  ...       NaN       NaN         NaN        NaN   \n",
       "312834   NaN    NaN  ...       NaN       NaN         NaN        NaN   \n",
       "\n",
       "       Lactate_Value  Lactate_High_Low Lactate_Ref_Range  WBC_Value  \\\n",
       "0                NaN               NaN               NaN        NaN   \n",
       "1                NaN               NaN               NaN        NaN   \n",
       "2                NaN               NaN               NaN       11.1   \n",
       "3                NaN               NaN               NaN       10.4   \n",
       "4                NaN               NaN               NaN       12.0   \n",
       "...              ...               ...               ...        ...   \n",
       "312830           NaN               NaN               NaN        NaN   \n",
       "312831           NaN               NaN               NaN        NaN   \n",
       "312832           NaN               NaN               NaN   9.700000   \n",
       "312833           NaN               NaN               NaN  14.100000   \n",
       "312834           NaN               NaN               NaN  13.100000   \n",
       "\n",
       "       WBC_High_Low WBC_Ref_Range  \n",
       "0               NaN           NaN  \n",
       "1               NaN           NaN  \n",
       "2                 H      4.0-11.0  \n",
       "3               NaN      4.0-11.0  \n",
       "4                 H      4.0-11.0  \n",
       "...             ...           ...  \n",
       "312830          NaN           NaN  \n",
       "312831          NaN           NaN  \n",
       "312832          NaN      4.0-11.0  \n",
       "312833            H      4.0-11.0  \n",
       "312834            H      4.0-11.0  \n",
       "\n",
       "[312835 rows x 26 columns]"
      ],
      "text/html": "<div>\n<style scoped>\n    .dataframe tbody tr th:only-of-type {\n        vertical-align: middle;\n    }\n\n    .dataframe tbody tr th {\n        vertical-align: top;\n    }\n\n    .dataframe thead th {\n        text-align: right;\n    }\n</style>\n<table border=\"1\" class=\"dataframe\">\n  <thead>\n    <tr style=\"text-align: right;\">\n      <th></th>\n      <th>Unnamed: 0</th>\n      <th>pt_identifier</th>\n      <th>Date</th>\n      <th>Time</th>\n      <th>BP1</th>\n      <th>BP2</th>\n      <th>Pulse</th>\n      <th>Temp</th>\n      <th>RR</th>\n      <th>O2Sat</th>\n      <th>...</th>\n      <th>Diag_Code</th>\n      <th>Diag_desc</th>\n      <th>Diag_prefix</th>\n      <th>Diag_type</th>\n      <th>Lactate_Value</th>\n      <th>Lactate_High_Low</th>\n      <th>Lactate_Ref_Range</th>\n      <th>WBC_Value</th>\n      <th>WBC_High_Low</th>\n      <th>WBC_Ref_Range</th>\n    </tr>\n  </thead>\n  <tbody>\n    <tr>\n      <th>0</th>\n      <td>0</td>\n      <td>H1000412</td>\n      <td>31/12/20</td>\n      <td>2359.0</td>\n      <td>116.0</td>\n      <td>84.0</td>\n      <td>88.0</td>\n      <td>36.9</td>\n      <td>17.0</td>\n      <td>97.0</td>\n      <td>...</td>\n      <td>NaN</td>\n      <td>NaN</td>\n      <td>NaN</td>\n      <td>NaN</td>\n      <td>NaN</td>\n      <td>NaN</td>\n      <td>NaN</td>\n      <td>NaN</td>\n      <td>NaN</td>\n      <td>NaN</td>\n    </tr>\n    <tr>\n      <th>1</th>\n      <td>1</td>\n      <td>H1000412</td>\n      <td>31/12/20</td>\n      <td>2238.0</td>\n      <td>138.0</td>\n      <td>76.0</td>\n      <td>98.0</td>\n      <td>36.8</td>\n      <td>16.0</td>\n      <td>98.0</td>\n      <td>...</td>\n      <td>NaN</td>\n      <td>NaN</td>\n      <td>NaN</td>\n      <td>NaN</td>\n      <td>NaN</td>\n      <td>NaN</td>\n      <td>NaN</td>\n      <td>NaN</td>\n      <td>NaN</td>\n      <td>NaN</td>\n    </tr>\n    <tr>\n      <th>2</th>\n      <td>2</td>\n      <td>H1000412</td>\n      <td>01/01/21</td>\n      <td>0637</td>\n      <td>NaN</td>\n      <td>NaN</td>\n      <td>NaN</td>\n      <td>NaN</td>\n      <td>NaN</td>\n      <td>NaN</td>\n      <td>...</td>\n      <td>NaN</td>\n      <td>NaN</td>\n      <td>NaN</td>\n      <td>NaN</td>\n      <td>NaN</td>\n      <td>NaN</td>\n      <td>NaN</td>\n      <td>11.1</td>\n      <td>H</td>\n      <td>4.0-11.0</td>\n    </tr>\n    <tr>\n      <th>3</th>\n      <td>3</td>\n      <td>H1000412</td>\n      <td>31/12/20</td>\n      <td>1531</td>\n      <td>NaN</td>\n      <td>NaN</td>\n      <td>NaN</td>\n      <td>NaN</td>\n      <td>NaN</td>\n      <td>NaN</td>\n      <td>...</td>\n      <td>NaN</td>\n      <td>NaN</td>\n      <td>NaN</td>\n      <td>NaN</td>\n      <td>NaN</td>\n      <td>NaN</td>\n      <td>NaN</td>\n      <td>10.4</td>\n      <td>NaN</td>\n      <td>4.0-11.0</td>\n    </tr>\n    <tr>\n      <th>4</th>\n      <td>4</td>\n      <td>H1000412</td>\n      <td>31/12/20</td>\n      <td>2255</td>\n      <td>NaN</td>\n      <td>NaN</td>\n      <td>NaN</td>\n      <td>NaN</td>\n      <td>NaN</td>\n      <td>NaN</td>\n      <td>...</td>\n      <td>NaN</td>\n      <td>NaN</td>\n      <td>NaN</td>\n      <td>NaN</td>\n      <td>NaN</td>\n      <td>NaN</td>\n      <td>NaN</td>\n      <td>12.0</td>\n      <td>H</td>\n      <td>4.0-11.0</td>\n    </tr>\n    <tr>\n      <th>...</th>\n      <td>...</td>\n      <td>...</td>\n      <td>...</td>\n      <td>...</td>\n      <td>...</td>\n      <td>...</td>\n      <td>...</td>\n      <td>...</td>\n      <td>...</td>\n      <td>...</td>\n      <td>...</td>\n      <td>...</td>\n      <td>...</td>\n      <td>...</td>\n      <td>...</td>\n      <td>...</td>\n      <td>...</td>\n      <td>...</td>\n      <td>...</td>\n      <td>...</td>\n      <td>...</td>\n    </tr>\n    <tr>\n      <th>312830</th>\n      <td>312831</td>\n      <td>Z991743</td>\n      <td>04/02/21</td>\n      <td>2000.0</td>\n      <td>152.0</td>\n      <td>65.0</td>\n      <td>63.0</td>\n      <td>36.6</td>\n      <td>18.0</td>\n      <td>94.0</td>\n      <td>...</td>\n      <td>NaN</td>\n      <td>NaN</td>\n      <td>NaN</td>\n      <td>NaN</td>\n      <td>NaN</td>\n      <td>NaN</td>\n      <td>NaN</td>\n      <td>NaN</td>\n      <td>NaN</td>\n      <td>NaN</td>\n    </tr>\n    <tr>\n      <th>312831</th>\n      <td>312832</td>\n      <td>Z991743</td>\n      <td>02/02/21</td>\n      <td>2000.0</td>\n      <td>152.0</td>\n      <td>77.0</td>\n      <td>67.0</td>\n      <td>36.6</td>\n      <td>16.0</td>\n      <td>93.0</td>\n      <td>...</td>\n      <td>NaN</td>\n      <td>NaN</td>\n      <td>NaN</td>\n      <td>NaN</td>\n      <td>NaN</td>\n      <td>NaN</td>\n      <td>NaN</td>\n      <td>NaN</td>\n      <td>NaN</td>\n      <td>NaN</td>\n    </tr>\n    <tr>\n      <th>312832</th>\n      <td>312833</td>\n      <td>Z991743</td>\n      <td>01/02/21</td>\n      <td>1850</td>\n      <td>NaN</td>\n      <td>NaN</td>\n      <td>NaN</td>\n      <td>NaN</td>\n      <td>NaN</td>\n      <td>NaN</td>\n      <td>...</td>\n      <td>NaN</td>\n      <td>NaN</td>\n      <td>NaN</td>\n      <td>NaN</td>\n      <td>NaN</td>\n      <td>NaN</td>\n      <td>NaN</td>\n      <td>9.700000</td>\n      <td>NaN</td>\n      <td>4.0-11.0</td>\n    </tr>\n    <tr>\n      <th>312833</th>\n      <td>312834</td>\n      <td>Z991743</td>\n      <td>03/02/21</td>\n      <td>0729</td>\n      <td>NaN</td>\n      <td>NaN</td>\n      <td>NaN</td>\n      <td>NaN</td>\n      <td>NaN</td>\n      <td>NaN</td>\n      <td>...</td>\n      <td>NaN</td>\n      <td>NaN</td>\n      <td>NaN</td>\n      <td>NaN</td>\n      <td>NaN</td>\n      <td>NaN</td>\n      <td>NaN</td>\n      <td>14.100000</td>\n      <td>H</td>\n      <td>4.0-11.0</td>\n    </tr>\n    <tr>\n      <th>312834</th>\n      <td>312835</td>\n      <td>Z992617</td>\n      <td>13/03/21</td>\n      <td>0800</td>\n      <td>NaN</td>\n      <td>NaN</td>\n      <td>NaN</td>\n      <td>NaN</td>\n      <td>NaN</td>\n      <td>NaN</td>\n      <td>...</td>\n      <td>NaN</td>\n      <td>NaN</td>\n      <td>NaN</td>\n      <td>NaN</td>\n      <td>NaN</td>\n      <td>NaN</td>\n      <td>NaN</td>\n      <td>13.100000</td>\n      <td>H</td>\n      <td>4.0-11.0</td>\n    </tr>\n  </tbody>\n</table>\n<p>312835 rows × 26 columns</p>\n</div>"
     },
     "metadata": {},
     "execution_count": 3
    }
   ],
   "source": [
    "df1"
   ]
  },
  {
   "cell_type": "code",
   "execution_count": 4,
   "metadata": {},
   "outputs": [],
   "source": [
    "del df1[\"Unnamed: 0\"]"
   ]
  },
  {
   "cell_type": "code",
   "execution_count": 5,
   "metadata": {},
   "outputs": [
    {
     "output_type": "execute_result",
     "data": {
      "text/plain": [
       "       pt_identifier      Date    Time    BP1   BP2  Pulse  Temp    RR  O2Sat  \\\n",
       "0           H1000412  31/12/20  2359.0  116.0  84.0   88.0  36.9  17.0   97.0   \n",
       "1           H1000412  31/12/20  2238.0  138.0  76.0   98.0  36.8  16.0   98.0   \n",
       "2           H1000412  01/01/21    0637    NaN   NaN    NaN   NaN   NaN    NaN   \n",
       "3           H1000412  31/12/20    1531    NaN   NaN    NaN   NaN   NaN    NaN   \n",
       "4           H1000412  31/12/20    2255    NaN   NaN    NaN   NaN   NaN    NaN   \n",
       "...              ...       ...     ...    ...   ...    ...   ...   ...    ...   \n",
       "312830       Z991743  04/02/21  2000.0  152.0  65.0   63.0  36.6  18.0   94.0   \n",
       "312831       Z991743  02/02/21  2000.0  152.0  77.0   67.0  36.6  16.0   93.0   \n",
       "312832       Z991743  01/02/21    1850    NaN   NaN    NaN   NaN   NaN    NaN   \n",
       "312833       Z991743  03/02/21    0729    NaN   NaN    NaN   NaN   NaN    NaN   \n",
       "312834       Z992617  13/03/21    0800    NaN   NaN    NaN   NaN   NaN    NaN   \n",
       "\n",
       "             Admission_Date  ... Diag_Code Diag_desc  Diag_prefix Diag_type  \\\n",
       "0       2020-12-31 00:00:00  ...       NaN       NaN          NaN       NaN   \n",
       "1       2020-12-31 00:00:00  ...       NaN       NaN          NaN       NaN   \n",
       "2                       NaN  ...       NaN       NaN          NaN       NaN   \n",
       "3                       NaN  ...       NaN       NaN          NaN       NaN   \n",
       "4                       NaN  ...       NaN       NaN          NaN       NaN   \n",
       "...                     ...  ...       ...       ...          ...       ...   \n",
       "312830  2021-02-01 00:00:00  ...       NaN       NaN          NaN       NaN   \n",
       "312831  2021-02-01 00:00:00  ...       NaN       NaN          NaN       NaN   \n",
       "312832                  NaN  ...       NaN       NaN          NaN       NaN   \n",
       "312833                  NaN  ...       NaN       NaN          NaN       NaN   \n",
       "312834                  NaN  ...       NaN       NaN          NaN       NaN   \n",
       "\n",
       "        Lactate_Value Lactate_High_Low Lactate_Ref_Range  WBC_Value  \\\n",
       "0                 NaN              NaN               NaN        NaN   \n",
       "1                 NaN              NaN               NaN        NaN   \n",
       "2                 NaN              NaN               NaN       11.1   \n",
       "3                 NaN              NaN               NaN       10.4   \n",
       "4                 NaN              NaN               NaN       12.0   \n",
       "...               ...              ...               ...        ...   \n",
       "312830            NaN              NaN               NaN        NaN   \n",
       "312831            NaN              NaN               NaN        NaN   \n",
       "312832            NaN              NaN               NaN   9.700000   \n",
       "312833            NaN              NaN               NaN  14.100000   \n",
       "312834            NaN              NaN               NaN  13.100000   \n",
       "\n",
       "       WBC_High_Low WBC_Ref_Range  \n",
       "0               NaN           NaN  \n",
       "1               NaN           NaN  \n",
       "2                 H      4.0-11.0  \n",
       "3               NaN      4.0-11.0  \n",
       "4                 H      4.0-11.0  \n",
       "...             ...           ...  \n",
       "312830          NaN           NaN  \n",
       "312831          NaN           NaN  \n",
       "312832          NaN      4.0-11.0  \n",
       "312833            H      4.0-11.0  \n",
       "312834            H      4.0-11.0  \n",
       "\n",
       "[312835 rows x 25 columns]"
      ],
      "text/html": "<div>\n<style scoped>\n    .dataframe tbody tr th:only-of-type {\n        vertical-align: middle;\n    }\n\n    .dataframe tbody tr th {\n        vertical-align: top;\n    }\n\n    .dataframe thead th {\n        text-align: right;\n    }\n</style>\n<table border=\"1\" class=\"dataframe\">\n  <thead>\n    <tr style=\"text-align: right;\">\n      <th></th>\n      <th>pt_identifier</th>\n      <th>Date</th>\n      <th>Time</th>\n      <th>BP1</th>\n      <th>BP2</th>\n      <th>Pulse</th>\n      <th>Temp</th>\n      <th>RR</th>\n      <th>O2Sat</th>\n      <th>Admission_Date</th>\n      <th>...</th>\n      <th>Diag_Code</th>\n      <th>Diag_desc</th>\n      <th>Diag_prefix</th>\n      <th>Diag_type</th>\n      <th>Lactate_Value</th>\n      <th>Lactate_High_Low</th>\n      <th>Lactate_Ref_Range</th>\n      <th>WBC_Value</th>\n      <th>WBC_High_Low</th>\n      <th>WBC_Ref_Range</th>\n    </tr>\n  </thead>\n  <tbody>\n    <tr>\n      <th>0</th>\n      <td>H1000412</td>\n      <td>31/12/20</td>\n      <td>2359.0</td>\n      <td>116.0</td>\n      <td>84.0</td>\n      <td>88.0</td>\n      <td>36.9</td>\n      <td>17.0</td>\n      <td>97.0</td>\n      <td>2020-12-31 00:00:00</td>\n      <td>...</td>\n      <td>NaN</td>\n      <td>NaN</td>\n      <td>NaN</td>\n      <td>NaN</td>\n      <td>NaN</td>\n      <td>NaN</td>\n      <td>NaN</td>\n      <td>NaN</td>\n      <td>NaN</td>\n      <td>NaN</td>\n    </tr>\n    <tr>\n      <th>1</th>\n      <td>H1000412</td>\n      <td>31/12/20</td>\n      <td>2238.0</td>\n      <td>138.0</td>\n      <td>76.0</td>\n      <td>98.0</td>\n      <td>36.8</td>\n      <td>16.0</td>\n      <td>98.0</td>\n      <td>2020-12-31 00:00:00</td>\n      <td>...</td>\n      <td>NaN</td>\n      <td>NaN</td>\n      <td>NaN</td>\n      <td>NaN</td>\n      <td>NaN</td>\n      <td>NaN</td>\n      <td>NaN</td>\n      <td>NaN</td>\n      <td>NaN</td>\n      <td>NaN</td>\n    </tr>\n    <tr>\n      <th>2</th>\n      <td>H1000412</td>\n      <td>01/01/21</td>\n      <td>0637</td>\n      <td>NaN</td>\n      <td>NaN</td>\n      <td>NaN</td>\n      <td>NaN</td>\n      <td>NaN</td>\n      <td>NaN</td>\n      <td>NaN</td>\n      <td>...</td>\n      <td>NaN</td>\n      <td>NaN</td>\n      <td>NaN</td>\n      <td>NaN</td>\n      <td>NaN</td>\n      <td>NaN</td>\n      <td>NaN</td>\n      <td>11.1</td>\n      <td>H</td>\n      <td>4.0-11.0</td>\n    </tr>\n    <tr>\n      <th>3</th>\n      <td>H1000412</td>\n      <td>31/12/20</td>\n      <td>1531</td>\n      <td>NaN</td>\n      <td>NaN</td>\n      <td>NaN</td>\n      <td>NaN</td>\n      <td>NaN</td>\n      <td>NaN</td>\n      <td>NaN</td>\n      <td>...</td>\n      <td>NaN</td>\n      <td>NaN</td>\n      <td>NaN</td>\n      <td>NaN</td>\n      <td>NaN</td>\n      <td>NaN</td>\n      <td>NaN</td>\n      <td>10.4</td>\n      <td>NaN</td>\n      <td>4.0-11.0</td>\n    </tr>\n    <tr>\n      <th>4</th>\n      <td>H1000412</td>\n      <td>31/12/20</td>\n      <td>2255</td>\n      <td>NaN</td>\n      <td>NaN</td>\n      <td>NaN</td>\n      <td>NaN</td>\n      <td>NaN</td>\n      <td>NaN</td>\n      <td>NaN</td>\n      <td>...</td>\n      <td>NaN</td>\n      <td>NaN</td>\n      <td>NaN</td>\n      <td>NaN</td>\n      <td>NaN</td>\n      <td>NaN</td>\n      <td>NaN</td>\n      <td>12.0</td>\n      <td>H</td>\n      <td>4.0-11.0</td>\n    </tr>\n    <tr>\n      <th>...</th>\n      <td>...</td>\n      <td>...</td>\n      <td>...</td>\n      <td>...</td>\n      <td>...</td>\n      <td>...</td>\n      <td>...</td>\n      <td>...</td>\n      <td>...</td>\n      <td>...</td>\n      <td>...</td>\n      <td>...</td>\n      <td>...</td>\n      <td>...</td>\n      <td>...</td>\n      <td>...</td>\n      <td>...</td>\n      <td>...</td>\n      <td>...</td>\n      <td>...</td>\n      <td>...</td>\n    </tr>\n    <tr>\n      <th>312830</th>\n      <td>Z991743</td>\n      <td>04/02/21</td>\n      <td>2000.0</td>\n      <td>152.0</td>\n      <td>65.0</td>\n      <td>63.0</td>\n      <td>36.6</td>\n      <td>18.0</td>\n      <td>94.0</td>\n      <td>2021-02-01 00:00:00</td>\n      <td>...</td>\n      <td>NaN</td>\n      <td>NaN</td>\n      <td>NaN</td>\n      <td>NaN</td>\n      <td>NaN</td>\n      <td>NaN</td>\n      <td>NaN</td>\n      <td>NaN</td>\n      <td>NaN</td>\n      <td>NaN</td>\n    </tr>\n    <tr>\n      <th>312831</th>\n      <td>Z991743</td>\n      <td>02/02/21</td>\n      <td>2000.0</td>\n      <td>152.0</td>\n      <td>77.0</td>\n      <td>67.0</td>\n      <td>36.6</td>\n      <td>16.0</td>\n      <td>93.0</td>\n      <td>2021-02-01 00:00:00</td>\n      <td>...</td>\n      <td>NaN</td>\n      <td>NaN</td>\n      <td>NaN</td>\n      <td>NaN</td>\n      <td>NaN</td>\n      <td>NaN</td>\n      <td>NaN</td>\n      <td>NaN</td>\n      <td>NaN</td>\n      <td>NaN</td>\n    </tr>\n    <tr>\n      <th>312832</th>\n      <td>Z991743</td>\n      <td>01/02/21</td>\n      <td>1850</td>\n      <td>NaN</td>\n      <td>NaN</td>\n      <td>NaN</td>\n      <td>NaN</td>\n      <td>NaN</td>\n      <td>NaN</td>\n      <td>NaN</td>\n      <td>...</td>\n      <td>NaN</td>\n      <td>NaN</td>\n      <td>NaN</td>\n      <td>NaN</td>\n      <td>NaN</td>\n      <td>NaN</td>\n      <td>NaN</td>\n      <td>9.700000</td>\n      <td>NaN</td>\n      <td>4.0-11.0</td>\n    </tr>\n    <tr>\n      <th>312833</th>\n      <td>Z991743</td>\n      <td>03/02/21</td>\n      <td>0729</td>\n      <td>NaN</td>\n      <td>NaN</td>\n      <td>NaN</td>\n      <td>NaN</td>\n      <td>NaN</td>\n      <td>NaN</td>\n      <td>NaN</td>\n      <td>...</td>\n      <td>NaN</td>\n      <td>NaN</td>\n      <td>NaN</td>\n      <td>NaN</td>\n      <td>NaN</td>\n      <td>NaN</td>\n      <td>NaN</td>\n      <td>14.100000</td>\n      <td>H</td>\n      <td>4.0-11.0</td>\n    </tr>\n    <tr>\n      <th>312834</th>\n      <td>Z992617</td>\n      <td>13/03/21</td>\n      <td>0800</td>\n      <td>NaN</td>\n      <td>NaN</td>\n      <td>NaN</td>\n      <td>NaN</td>\n      <td>NaN</td>\n      <td>NaN</td>\n      <td>NaN</td>\n      <td>...</td>\n      <td>NaN</td>\n      <td>NaN</td>\n      <td>NaN</td>\n      <td>NaN</td>\n      <td>NaN</td>\n      <td>NaN</td>\n      <td>NaN</td>\n      <td>13.100000</td>\n      <td>H</td>\n      <td>4.0-11.0</td>\n    </tr>\n  </tbody>\n</table>\n<p>312835 rows × 25 columns</p>\n</div>"
     },
     "metadata": {},
     "execution_count": 5
    }
   ],
   "source": [
    "df1"
   ]
  },
  {
   "cell_type": "code",
   "execution_count": 6,
   "metadata": {},
   "outputs": [
    {
     "output_type": "execute_result",
     "data": {
      "text/plain": [
       "       pt_identifier      Date    Time    BP1   BP2  Pulse  Temp    RR  O2Sat  \\\n",
       "0           H1000412  31/12/20  2359.0  116.0  84.0   88.0  36.9  17.0   97.0   \n",
       "1           H1000412  31/12/20  2238.0  138.0  76.0   98.0  36.8  16.0   98.0   \n",
       "2           H1000412  01/01/21    0637    NaN   NaN    NaN   NaN   NaN    NaN   \n",
       "3           H1000412  31/12/20    1531    NaN   NaN    NaN   NaN   NaN    NaN   \n",
       "4           H1000412  31/12/20    2255    NaN   NaN    NaN   NaN   NaN    NaN   \n",
       "...              ...       ...     ...    ...   ...    ...   ...   ...    ...   \n",
       "312830       Z991743  04/02/21  2000.0  152.0  65.0   63.0  36.6  18.0   94.0   \n",
       "312831       Z991743  02/02/21  2000.0  152.0  77.0   67.0  36.6  16.0   93.0   \n",
       "312832       Z991743  01/02/21    1850    NaN   NaN    NaN   NaN   NaN    NaN   \n",
       "312833       Z991743  03/02/21    0729    NaN   NaN    NaN   NaN   NaN    NaN   \n",
       "312834       Z992617  13/03/21    0800    NaN   NaN    NaN   NaN   NaN    NaN   \n",
       "\n",
       "       Age_Code  ...  Diag_Code Diag_desc  Diag_prefix Diag_type  \\\n",
       "0             Y  ...        NaN       NaN          NaN       NaN   \n",
       "1             Y  ...        NaN       NaN          NaN       NaN   \n",
       "2           NaN  ...        NaN       NaN          NaN       NaN   \n",
       "3           NaN  ...        NaN       NaN          NaN       NaN   \n",
       "4           NaN  ...        NaN       NaN          NaN       NaN   \n",
       "...         ...  ...        ...       ...          ...       ...   \n",
       "312830        Y  ...        NaN       NaN          NaN       NaN   \n",
       "312831        Y  ...        NaN       NaN          NaN       NaN   \n",
       "312832      NaN  ...        NaN       NaN          NaN       NaN   \n",
       "312833      NaN  ...        NaN       NaN          NaN       NaN   \n",
       "312834      NaN  ...        NaN       NaN          NaN       NaN   \n",
       "\n",
       "       Lactate_Value Lactate_High_Low Lactate_Ref_Range  WBC_Value  \\\n",
       "0                NaN              NaN               NaN        NaN   \n",
       "1                NaN              NaN               NaN        NaN   \n",
       "2                NaN              NaN               NaN       11.1   \n",
       "3                NaN              NaN               NaN       10.4   \n",
       "4                NaN              NaN               NaN       12.0   \n",
       "...              ...              ...               ...        ...   \n",
       "312830           NaN              NaN               NaN        NaN   \n",
       "312831           NaN              NaN               NaN        NaN   \n",
       "312832           NaN              NaN               NaN   9.700000   \n",
       "312833           NaN              NaN               NaN  14.100000   \n",
       "312834           NaN              NaN               NaN  13.100000   \n",
       "\n",
       "       WBC_High_Low WBC_Ref_Range  \n",
       "0               NaN           NaN  \n",
       "1               NaN           NaN  \n",
       "2                 H      4.0-11.0  \n",
       "3               NaN      4.0-11.0  \n",
       "4                 H      4.0-11.0  \n",
       "...             ...           ...  \n",
       "312830          NaN           NaN  \n",
       "312831          NaN           NaN  \n",
       "312832          NaN      4.0-11.0  \n",
       "312833            H      4.0-11.0  \n",
       "312834            H      4.0-11.0  \n",
       "\n",
       "[312835 rows x 23 columns]"
      ],
      "text/html": "<div>\n<style scoped>\n    .dataframe tbody tr th:only-of-type {\n        vertical-align: middle;\n    }\n\n    .dataframe tbody tr th {\n        vertical-align: top;\n    }\n\n    .dataframe thead th {\n        text-align: right;\n    }\n</style>\n<table border=\"1\" class=\"dataframe\">\n  <thead>\n    <tr style=\"text-align: right;\">\n      <th></th>\n      <th>pt_identifier</th>\n      <th>Date</th>\n      <th>Time</th>\n      <th>BP1</th>\n      <th>BP2</th>\n      <th>Pulse</th>\n      <th>Temp</th>\n      <th>RR</th>\n      <th>O2Sat</th>\n      <th>Age_Code</th>\n      <th>...</th>\n      <th>Diag_Code</th>\n      <th>Diag_desc</th>\n      <th>Diag_prefix</th>\n      <th>Diag_type</th>\n      <th>Lactate_Value</th>\n      <th>Lactate_High_Low</th>\n      <th>Lactate_Ref_Range</th>\n      <th>WBC_Value</th>\n      <th>WBC_High_Low</th>\n      <th>WBC_Ref_Range</th>\n    </tr>\n  </thead>\n  <tbody>\n    <tr>\n      <th>0</th>\n      <td>H1000412</td>\n      <td>31/12/20</td>\n      <td>2359.0</td>\n      <td>116.0</td>\n      <td>84.0</td>\n      <td>88.0</td>\n      <td>36.9</td>\n      <td>17.0</td>\n      <td>97.0</td>\n      <td>Y</td>\n      <td>...</td>\n      <td>NaN</td>\n      <td>NaN</td>\n      <td>NaN</td>\n      <td>NaN</td>\n      <td>NaN</td>\n      <td>NaN</td>\n      <td>NaN</td>\n      <td>NaN</td>\n      <td>NaN</td>\n      <td>NaN</td>\n    </tr>\n    <tr>\n      <th>1</th>\n      <td>H1000412</td>\n      <td>31/12/20</td>\n      <td>2238.0</td>\n      <td>138.0</td>\n      <td>76.0</td>\n      <td>98.0</td>\n      <td>36.8</td>\n      <td>16.0</td>\n      <td>98.0</td>\n      <td>Y</td>\n      <td>...</td>\n      <td>NaN</td>\n      <td>NaN</td>\n      <td>NaN</td>\n      <td>NaN</td>\n      <td>NaN</td>\n      <td>NaN</td>\n      <td>NaN</td>\n      <td>NaN</td>\n      <td>NaN</td>\n      <td>NaN</td>\n    </tr>\n    <tr>\n      <th>2</th>\n      <td>H1000412</td>\n      <td>01/01/21</td>\n      <td>0637</td>\n      <td>NaN</td>\n      <td>NaN</td>\n      <td>NaN</td>\n      <td>NaN</td>\n      <td>NaN</td>\n      <td>NaN</td>\n      <td>NaN</td>\n      <td>...</td>\n      <td>NaN</td>\n      <td>NaN</td>\n      <td>NaN</td>\n      <td>NaN</td>\n      <td>NaN</td>\n      <td>NaN</td>\n      <td>NaN</td>\n      <td>11.1</td>\n      <td>H</td>\n      <td>4.0-11.0</td>\n    </tr>\n    <tr>\n      <th>3</th>\n      <td>H1000412</td>\n      <td>31/12/20</td>\n      <td>1531</td>\n      <td>NaN</td>\n      <td>NaN</td>\n      <td>NaN</td>\n      <td>NaN</td>\n      <td>NaN</td>\n      <td>NaN</td>\n      <td>NaN</td>\n      <td>...</td>\n      <td>NaN</td>\n      <td>NaN</td>\n      <td>NaN</td>\n      <td>NaN</td>\n      <td>NaN</td>\n      <td>NaN</td>\n      <td>NaN</td>\n      <td>10.4</td>\n      <td>NaN</td>\n      <td>4.0-11.0</td>\n    </tr>\n    <tr>\n      <th>4</th>\n      <td>H1000412</td>\n      <td>31/12/20</td>\n      <td>2255</td>\n      <td>NaN</td>\n      <td>NaN</td>\n      <td>NaN</td>\n      <td>NaN</td>\n      <td>NaN</td>\n      <td>NaN</td>\n      <td>NaN</td>\n      <td>...</td>\n      <td>NaN</td>\n      <td>NaN</td>\n      <td>NaN</td>\n      <td>NaN</td>\n      <td>NaN</td>\n      <td>NaN</td>\n      <td>NaN</td>\n      <td>12.0</td>\n      <td>H</td>\n      <td>4.0-11.0</td>\n    </tr>\n    <tr>\n      <th>...</th>\n      <td>...</td>\n      <td>...</td>\n      <td>...</td>\n      <td>...</td>\n      <td>...</td>\n      <td>...</td>\n      <td>...</td>\n      <td>...</td>\n      <td>...</td>\n      <td>...</td>\n      <td>...</td>\n      <td>...</td>\n      <td>...</td>\n      <td>...</td>\n      <td>...</td>\n      <td>...</td>\n      <td>...</td>\n      <td>...</td>\n      <td>...</td>\n      <td>...</td>\n      <td>...</td>\n    </tr>\n    <tr>\n      <th>312830</th>\n      <td>Z991743</td>\n      <td>04/02/21</td>\n      <td>2000.0</td>\n      <td>152.0</td>\n      <td>65.0</td>\n      <td>63.0</td>\n      <td>36.6</td>\n      <td>18.0</td>\n      <td>94.0</td>\n      <td>Y</td>\n      <td>...</td>\n      <td>NaN</td>\n      <td>NaN</td>\n      <td>NaN</td>\n      <td>NaN</td>\n      <td>NaN</td>\n      <td>NaN</td>\n      <td>NaN</td>\n      <td>NaN</td>\n      <td>NaN</td>\n      <td>NaN</td>\n    </tr>\n    <tr>\n      <th>312831</th>\n      <td>Z991743</td>\n      <td>02/02/21</td>\n      <td>2000.0</td>\n      <td>152.0</td>\n      <td>77.0</td>\n      <td>67.0</td>\n      <td>36.6</td>\n      <td>16.0</td>\n      <td>93.0</td>\n      <td>Y</td>\n      <td>...</td>\n      <td>NaN</td>\n      <td>NaN</td>\n      <td>NaN</td>\n      <td>NaN</td>\n      <td>NaN</td>\n      <td>NaN</td>\n      <td>NaN</td>\n      <td>NaN</td>\n      <td>NaN</td>\n      <td>NaN</td>\n    </tr>\n    <tr>\n      <th>312832</th>\n      <td>Z991743</td>\n      <td>01/02/21</td>\n      <td>1850</td>\n      <td>NaN</td>\n      <td>NaN</td>\n      <td>NaN</td>\n      <td>NaN</td>\n      <td>NaN</td>\n      <td>NaN</td>\n      <td>NaN</td>\n      <td>...</td>\n      <td>NaN</td>\n      <td>NaN</td>\n      <td>NaN</td>\n      <td>NaN</td>\n      <td>NaN</td>\n      <td>NaN</td>\n      <td>NaN</td>\n      <td>9.700000</td>\n      <td>NaN</td>\n      <td>4.0-11.0</td>\n    </tr>\n    <tr>\n      <th>312833</th>\n      <td>Z991743</td>\n      <td>03/02/21</td>\n      <td>0729</td>\n      <td>NaN</td>\n      <td>NaN</td>\n      <td>NaN</td>\n      <td>NaN</td>\n      <td>NaN</td>\n      <td>NaN</td>\n      <td>NaN</td>\n      <td>...</td>\n      <td>NaN</td>\n      <td>NaN</td>\n      <td>NaN</td>\n      <td>NaN</td>\n      <td>NaN</td>\n      <td>NaN</td>\n      <td>NaN</td>\n      <td>14.100000</td>\n      <td>H</td>\n      <td>4.0-11.0</td>\n    </tr>\n    <tr>\n      <th>312834</th>\n      <td>Z992617</td>\n      <td>13/03/21</td>\n      <td>0800</td>\n      <td>NaN</td>\n      <td>NaN</td>\n      <td>NaN</td>\n      <td>NaN</td>\n      <td>NaN</td>\n      <td>NaN</td>\n      <td>NaN</td>\n      <td>...</td>\n      <td>NaN</td>\n      <td>NaN</td>\n      <td>NaN</td>\n      <td>NaN</td>\n      <td>NaN</td>\n      <td>NaN</td>\n      <td>NaN</td>\n      <td>13.100000</td>\n      <td>H</td>\n      <td>4.0-11.0</td>\n    </tr>\n  </tbody>\n</table>\n<p>312835 rows × 23 columns</p>\n</div>"
     },
     "metadata": {},
     "execution_count": 6
    }
   ],
   "source": [
    "del df1[\"Admission_Date\"]\n",
    "del df1[\"Discharge_Date\"]\n",
    "df1"
   ]
  },
  {
   "cell_type": "code",
   "execution_count": 7,
   "metadata": {},
   "outputs": [
    {
     "output_type": "execute_result",
     "data": {
      "text/plain": [
       "str"
      ]
     },
     "metadata": {},
     "execution_count": 7
    }
   ],
   "source": [
    "type(df1.iloc[0][1])"
   ]
  },
  {
   "cell_type": "code",
   "execution_count": null,
   "metadata": {},
   "outputs": [],
   "source": [
    "num_rows = 0\n",
    "counter = 0\n",
    "while counter<77:\n",
    "    if df1.iloc[num_rows][2] == \"UNK\":\n",
    "        df1.drop(df1.index[num_rows], inplace = True)\n",
    "        #print(num_rows)\n",
    "        counter+=1\n",
    "    num_rows+=1\n",
    "\n",
    "df1"
   ]
  },
  {
   "cell_type": "code",
   "execution_count": null,
   "metadata": {},
   "outputs": [],
   "source": [
    "df1.reset_index(inplace = True, drop = True)"
   ]
  },
  {
   "cell_type": "code",
   "execution_count": null,
   "metadata": {},
   "outputs": [],
   "source": [
    "df1"
   ]
  },
  {
   "cell_type": "code",
   "execution_count": null,
   "metadata": {},
   "outputs": [],
   "source": [
    "df1.iloc[2698][2]"
   ]
  },
  {
   "cell_type": "code",
   "execution_count": null,
   "metadata": {},
   "outputs": [],
   "source": [
    "rows = len(df1.index)\n",
    "rows"
   ]
  },
  {
   "cell_type": "code",
   "execution_count": null,
   "metadata": {},
   "outputs": [],
   "source": [
    "import datetime"
   ]
  },
  {
   "cell_type": "code",
   "execution_count": null,
   "metadata": {},
   "outputs": [],
   "source": [
    "df1.iloc[312757][1]"
   ]
  },
  {
   "cell_type": "code",
   "execution_count": null,
   "id": "5d2071ed",
   "metadata": {},
   "outputs": [],
   "source": [
    "#get date and time into lists per patient;\n",
    "#do NOT change order\n",
    "#find lowest date in that list\n",
    "#make another list with same indexing of relative time (lowest is 0)(units in minutes --> 0, 10, 20, 70, 100)\n",
    "#combine all these lists (append to main)\n",
    "#put it in df unsorted\n",
    "#sort df\n",
    "def date_to_number(df1, i, consecutive):\n",
    "    current_row = i\n",
    "    date_list = []\n",
    "    time_list = []\n",
    "\n",
    "    for x in range(consecutive):\n",
    "        date_list.append(df1.iloc[current_row][1])\n",
    "        time_list.append(df1.iloc[current_row][2])\n",
    "        current_row+=1\n",
    "    \n",
    "    date_num_list = []\n",
    "\n",
    "    for y in range(len(date_list)):\n",
    "        #print(date_list[y])\n",
    "        x = (str(date_list[y])).split(\"/\")\n",
    "        date_int = [int(x[0]), int(x[1]), int(x[2])]\n",
    "        date_num_list.append(date_int)\n",
    "\n",
    "    time_num_list = []\n",
    "    for z in range(len(time_list)):\n",
    "        #print(time_list[z])\n",
    "        a = float(time_list[z])\n",
    "        b = int(a)\n",
    "\n",
    "        if b<100:\n",
    "            time_num_list.append([0,b])\n",
    "\n",
    "        elif b<=1000 and b>100:\n",
    "            c = b%100\n",
    "            d = int(str(b)[0])\n",
    "            time_num_list.append([d,c])\n",
    "        \n",
    "        else:\n",
    "            e = b%100\n",
    "            f = int(str(b)[0:2])\n",
    "            time_num_list.append([f,e])\n",
    "    \n",
    "    # print(len(date_num_list))\n",
    "    # print(len(time_num_list))\n",
    "    date_time_list = []\n",
    "    for xy in range(consecutive):\n",
    "        new_date = datetime.datetime(date_num_list[xy][2], date_num_list[xy][1], date_num_list[xy][0], time_num_list[xy][0], time_num_list[xy][1])\n",
    "        date_time_list.append(new_date)\n",
    "        \n",
    "    #print(datetime.datetime(2020, 5, 17))\n",
    "    min = date_time_list[0]\n",
    "    low_index = 0\n",
    "\n",
    "    for yz in range(1, len(date_time_list)):\n",
    "        if date_time_list[yz]<min:\n",
    "            min = date_time_list[yz]\n",
    "            low_index = yz\n",
    "    \n",
    "    normalized_time = []\n",
    "\n",
    "    for xyz in range(len(date_time_list)):\n",
    "        date1 = date_time_list[xyz]\n",
    "        date0 = date_time_list[low_index]\n",
    "        result_days = int( (date1-date0).days)\n",
    "        result_seconds = int( (date1-date0).seconds)\n",
    "        good_result = float( (((86400*result_days)+result_seconds)/60) )\n",
    "        normalized_time.append(good_result)\n",
    "\n",
    "    return normalized_time\n",
    "\n"
   ]
  },
  {
   "cell_type": "code",
   "execution_count": null,
   "metadata": {},
   "outputs": [],
   "source": [
    "def count_consecutive(df1, i, last_idx):\n",
    "    count = 1\n",
    "\n",
    "    while i<rows-1 and df1.iloc[i][0] == df1.iloc[i+1][0] :\n",
    "        count += 1\n",
    "        i += 1\n",
    "        print(i)\n",
    "        if i == last_idx:\n",
    "            print(\"hiiiiiiiii\")\n",
    "            break\n",
    "    \n",
    "    return count    "
   ]
  },
  {
   "cell_type": "code",
   "execution_count": null,
   "metadata": {},
   "outputs": [],
   "source": [
    "rows"
   ]
  },
  {
   "cell_type": "code",
   "execution_count": null,
   "id": "6ec7ad73",
   "metadata": {
    "tags": []
   },
   "outputs": [],
   "source": [
    "final_array = []\n",
    "i=0\n",
    "while i<rows:\n",
    "    consecutive = count_consecutive(df1, i, rows-1)\n",
    "    #print(i)\n",
    "    each_array = date_to_number(df1, i, consecutive)\n",
    "    for t in each_array:\n",
    "        final_array.append(t)\n",
    "    i+=consecutive\n",
    "    \n"
   ]
  },
  {
   "cell_type": "code",
   "execution_count": null,
   "metadata": {},
   "outputs": [],
   "source": [
    "len(final_array)\n",
    "df1[\"new_date\"] = final_array\n",
    "df1"
   ]
  },
  {
   "cell_type": "code",
   "execution_count": null,
   "metadata": {},
   "outputs": [],
   "source": [
    "#df1.sort_values(by=[\"new_date\"], inplace = True)"
   ]
  },
  {
   "cell_type": "code",
   "execution_count": null,
   "id": "2dc35749",
   "metadata": {},
   "outputs": [],
   "source": [
    "df1.reset_index(inplace = True, drop = True)"
   ]
  },
  {
   "cell_type": "code",
   "execution_count": null,
   "metadata": {},
   "outputs": [],
   "source": [
    "df1.columns"
   ]
  },
  {
   "cell_type": "code",
   "execution_count": null,
   "id": "1ff9de56",
   "metadata": {},
   "outputs": [],
   "source": [
    "df1"
   ]
  },
  {
   "cell_type": "code",
   "execution_count": null,
   "metadata": {},
   "outputs": [],
   "source": [
    "del df1[\"Date\"]\n",
    "del df1[\"Time\"]\n"
   ]
  },
  {
   "cell_type": "code",
   "execution_count": null,
   "metadata": {},
   "outputs": [],
   "source": [
    "df1 = df1[['pt_identifier', 'new_date', 'BP1', 'BP2', 'Pulse', 'Temp', 'RR', 'O2Sat',\n",
    "       'Age_Code', 'Age_Number', 'Gender', 'Weight', 'Diag_Code', 'Diag_desc',\n",
    "       'Diag_prefix', 'Diag_type', 'Lactate_Value', 'Lactate_High_Low',\n",
    "       'Lactate_Ref_Range', 'WBC_Value', 'WBC_High_Low', 'WBC_Ref_Range']]"
   ]
  },
  {
   "cell_type": "code",
   "execution_count": null,
   "metadata": {},
   "outputs": [],
   "source": [
    "df1"
   ]
  },
  {
   "cell_type": "code",
   "execution_count": null,
   "id": "ca9473b9",
   "metadata": {},
   "outputs": [],
   "source": [
    "df1.to_csv('vitals_info_lactate_WBC_sorted_pt_and_time.csv')\n"
   ]
  }
 ],
 "metadata": {
  "kernelspec": {
   "name": "python3",
   "display_name": "Python 3.8.6 64-bit"
  },
  "language_info": {
   "codemirror_mode": {
    "name": "ipython",
    "version": 3
   },
   "file_extension": ".py",
   "mimetype": "text/x-python",
   "name": "python",
   "nbconvert_exporter": "python",
   "pygments_lexer": "ipython3",
   "version": "3.8.6"
  },
  "metadata": {
   "interpreter": {
    "hash": "1cc4686def4f4686e288101491fcc64d903ee1a0c766a7a4df710ffbf4241b15"
   }
  },
  "interpreter": {
   "hash": "1cc4686def4f4686e288101491fcc64d903ee1a0c766a7a4df710ffbf4241b15"
  }
 },
 "nbformat": 4,
 "nbformat_minor": 5
}